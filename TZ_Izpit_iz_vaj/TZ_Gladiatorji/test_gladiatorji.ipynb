{
 "cells": [
  {
   "cell_type": "markdown",
   "metadata": {},
   "source": [
    "### Naloga 1 *(15 T)*\n",
    "\n",
    "V dataframe preberite vse štiri datoteke s podatki: `gladiator_personal_data.csv`, `gladiator_statistics.csv`, `gladiator_skills.xlsx` in `gladiator_status.txt`. Vse prebrane podatke iz datotek nato združite v en dataframe, glede na ime gladiatorja. Indeks stolpec naj bo poimenovan *GLADIATOR*.\n",
    "\n",
    "- Na **dva**(!) različna načina izpišite **prve 3 vrstice** tega združenega datafram-a.\n",
    "- izpišite koliko **stolpcev in vrstic** je v združenem datafram-u.\n",
    "- Izpišite **podatkovne tipe** za stolpce od drugega do (vključno) petega.\n",
    "- Izpišite koliko je posameznih **unikatnih vrednosti** v stolpcu Equipment Quality.\n",
    "- Izpišite vse podatke za gladiatorja \"Nero Menenius\".\n",
    "- Zapišite število gladiatorjev, ki so doživeli 4 ali 5 porazov (Losses). Rezultat poizvedbe mora biti številka!"
   ]
  },
  {
   "cell_type": "code",
   "execution_count": 26,
   "metadata": {},
   "outputs": [
    {
     "name": "stdout",
     "output_type": "stream",
     "text": [
      "                 Survived Equipment Quality Injury History Tactical Knowledge  \\\n",
      "Name                                                                            \n",
      "Acilius Acilius        No          Standard           High       Intermediate   \n",
      "Acilius Agrippa       Yes          Superior            Low           Advanced   \n",
      "Acilius Albinius      Yes          Superior           High           Advanced   \n",
      "Acilius Albinius      Yes          Standard            Low             Expert   \n",
      "Acilius Albinius      Yes          Superior           High           Advanced   \n",
      "...                   ...               ...            ...                ...   \n",
      "Zeno Vitus             No             Basic            Low             Expert   \n",
      "Zeno Zeno             Yes             Basic            Low       Intermediate   \n",
      "Zeno Zeno             Yes          Superior            Low             Expert   \n",
      "Zeno Zeno             Yes             Basic            Low       Intermediate   \n",
      "Zeno Zeno             Yes          Superior            Low             Expert   \n",
      "\n",
      "                 Health Status Personal Motivation Previous Occupation  \\\n",
      "Name                                                                     \n",
      "Acilius Acilius           Good             Freedom             Laborer   \n",
      "Acilius Agrippa      Excellent           Vengeance         Entertainer   \n",
      "Acilius Albinius          Good           Vengeance         Entertainer   \n",
      "Acilius Albinius     Excellent            Survival             Soldier   \n",
      "Acilius Albinius          Good           Vengeance         Entertainer   \n",
      "...                        ...                 ...                 ...   \n",
      "Zeno Vitus                Good           Vengeance             Laborer   \n",
      "Zeno Zeno            Excellent             Freedom            Criminal   \n",
      "Zeno Zeno                 Good               Glory             Laborer   \n",
      "Zeno Zeno            Excellent             Freedom            Criminal   \n",
      "Zeno Zeno                 Good               Glory             Laborer   \n",
      "\n",
      "                 Battle Strategy Crowd Appeal Techniques  \n",
      "Name                                                      \n",
      "Acilius Acilius         Balanced            Intimidating  \n",
      "Acilius Agrippa         Balanced             Charismatic  \n",
      "Acilius Albinius        Balanced                  Humble  \n",
      "Acilius Albinius        Balanced            Intimidating  \n",
      "Acilius Albinius        Balanced                  Humble  \n",
      "...                          ...                     ...  \n",
      "Zeno Vitus              Balanced            Intimidating  \n",
      "Zeno Zeno               Balanced                  Humble  \n",
      "Zeno Zeno             Aggressive                  Humble  \n",
      "Zeno Zeno               Balanced                  Humble  \n",
      "Zeno Zeno             Aggressive                  Humble  \n",
      "\n",
      "[327437 rows x 9 columns]\n",
      "                 Survived Equipment Quality Injury History Tactical Knowledge  \\\n",
      "Name                                                                            \n",
      "Acilius Acilius        No          Standard           High       Intermediate   \n",
      "Acilius Agrippa       Yes          Superior            Low           Advanced   \n",
      "Acilius Albinius      Yes          Superior           High           Advanced   \n",
      "Acilius Albinius      Yes          Superior           High           Advanced   \n",
      "Acilius Albinius      Yes          Standard            Low             Expert   \n",
      "...                   ...               ...            ...                ...   \n",
      "Zeno Zeno             Yes          Superior            Low             Expert   \n",
      "Zeno Zeno             Yes             Basic            Low       Intermediate   \n",
      "Zeno Zeno             Yes             Basic            Low       Intermediate   \n",
      "Zeno Zeno             Yes          Superior            Low             Expert   \n",
      "Zeno Zeno             Yes          Superior            Low             Expert   \n",
      "\n",
      "                 Health Status Personal Motivation Previous Occupation  \\\n",
      "Name                                                                     \n",
      "Acilius Acilius           Good             Freedom             Laborer   \n",
      "Acilius Agrippa      Excellent           Vengeance         Entertainer   \n",
      "Acilius Albinius          Good           Vengeance         Entertainer   \n",
      "Acilius Albinius          Good           Vengeance         Entertainer   \n",
      "Acilius Albinius     Excellent            Survival             Soldier   \n",
      "...                        ...                 ...                 ...   \n",
      "Zeno Zeno                 Good               Glory             Laborer   \n",
      "Zeno Zeno            Excellent             Freedom            Criminal   \n",
      "Zeno Zeno            Excellent             Freedom            Criminal   \n",
      "Zeno Zeno                 Good               Glory             Laborer   \n",
      "Zeno Zeno                 Good               Glory             Laborer   \n",
      "\n",
      "                 Battle Strategy Crowd Appeal Techniques  Wins  Losses  \\\n",
      "Name                                                                     \n",
      "Acilius Acilius         Balanced            Intimidating     6       4   \n",
      "Acilius Agrippa         Balanced             Charismatic     5       1   \n",
      "Acilius Albinius        Balanced                  Humble    12       5   \n",
      "Acilius Albinius        Balanced                  Humble     5       2   \n",
      "Acilius Albinius        Balanced            Intimidating    12       5   \n",
      "...                          ...                     ...   ...     ...   \n",
      "Zeno Zeno             Aggressive                  Humble    13       1   \n",
      "Zeno Zeno               Balanced                  Humble    10       1   \n",
      "Zeno Zeno               Balanced                  Humble    13       1   \n",
      "Zeno Zeno             Aggressive                  Humble    10       1   \n",
      "Zeno Zeno             Aggressive                  Humble    13       1   \n",
      "\n",
      "                  Public Favor  Mental Resilience  Battle Experience  \n",
      "Name                                                                  \n",
      "Acilius Acilius       0.577528           2.404240               10.0  \n",
      "Acilius Agrippa       0.584773           8.185433                6.0  \n",
      "Acilius Albinius      0.783059           3.676155               17.0  \n",
      "Acilius Albinius      0.574900           6.859276                7.0  \n",
      "Acilius Albinius      0.783059           3.676155               17.0  \n",
      "...                        ...                ...                ...  \n",
      "Zeno Zeno             0.893344           4.306268               14.0  \n",
      "Zeno Zeno             1.000309           1.628445               11.0  \n",
      "Zeno Zeno             0.893344           4.306268               14.0  \n",
      "Zeno Zeno             1.000309           1.628445               11.0  \n",
      "Zeno Zeno             0.893344           4.306268               14.0  \n",
      "\n",
      "[975293 rows x 14 columns]\n",
      "                 Survived Equipment Quality Injury History Tactical Knowledge  \\\n",
      "Name                                                                            \n",
      "Acilius Acilius        No          Standard           High       Intermediate   \n",
      "Acilius Agrippa       Yes          Superior            Low           Advanced   \n",
      "Acilius Albinius      Yes          Superior           High           Advanced   \n",
      "Acilius Albinius      Yes          Superior           High           Advanced   \n",
      "Acilius Albinius      Yes          Superior           High           Advanced   \n",
      "...                   ...               ...            ...                ...   \n",
      "Zeno Zeno             Yes             Basic            Low       Intermediate   \n",
      "Zeno Zeno             Yes          Superior            Low             Expert   \n",
      "Zeno Zeno             Yes          Superior            Low             Expert   \n",
      "Zeno Zeno             Yes          Superior            Low             Expert   \n",
      "Zeno Zeno             Yes          Superior            Low             Expert   \n",
      "\n",
      "                 Health Status Personal Motivation Previous Occupation  \\\n",
      "Name                                                                     \n",
      "Acilius Acilius           Good             Freedom             Laborer   \n",
      "Acilius Agrippa      Excellent           Vengeance         Entertainer   \n",
      "Acilius Albinius          Good           Vengeance         Entertainer   \n",
      "Acilius Albinius          Good           Vengeance         Entertainer   \n",
      "Acilius Albinius          Good           Vengeance         Entertainer   \n",
      "...                        ...                 ...                 ...   \n",
      "Zeno Zeno            Excellent             Freedom            Criminal   \n",
      "Zeno Zeno                 Good               Glory             Laborer   \n",
      "Zeno Zeno                 Good               Glory             Laborer   \n",
      "Zeno Zeno                 Good               Glory             Laborer   \n",
      "Zeno Zeno                 Good               Glory             Laborer   \n",
      "\n",
      "                 Battle Strategy Crowd Appeal Techniques  Wins  Losses  \\\n",
      "Name                                                                     \n",
      "Acilius Acilius         Balanced            Intimidating     6       4   \n",
      "Acilius Agrippa         Balanced             Charismatic     5       1   \n",
      "Acilius Albinius        Balanced                  Humble    12       5   \n",
      "Acilius Albinius        Balanced                  Humble    12       5   \n",
      "Acilius Albinius        Balanced                  Humble     5       2   \n",
      "...                          ...                     ...   ...     ...   \n",
      "Zeno Zeno               Balanced                  Humble    13       1   \n",
      "Zeno Zeno             Aggressive                  Humble    10       1   \n",
      "Zeno Zeno             Aggressive                  Humble    10       1   \n",
      "Zeno Zeno             Aggressive                  Humble    13       1   \n",
      "Zeno Zeno             Aggressive                  Humble    13       1   \n",
      "\n",
      "                  Public Favor  Mental Resilience  Battle Experience  Age  \\\n",
      "Name                                                                        \n",
      "Acilius Acilius       0.577528           2.404240               10.0   27   \n",
      "Acilius Agrippa       0.584773           8.185433                6.0   28   \n",
      "Acilius Albinius      0.783059           3.676155               17.0   31   \n",
      "Acilius Albinius      0.783059           3.676155               17.0   20   \n",
      "Acilius Albinius      0.574900           6.859276                7.0   31   \n",
      "...                        ...                ...                ...  ...   \n",
      "Zeno Zeno             0.893344           4.306268               14.0   42   \n",
      "Zeno Zeno             1.000309           1.628445               11.0   30   \n",
      "Zeno Zeno             1.000309           1.628445               11.0   42   \n",
      "Zeno Zeno             0.893344           4.306268               14.0   30   \n",
      "Zeno Zeno             0.893344           4.306268               14.0   42   \n",
      "\n",
      "                    Origin  Height  Weight  \n",
      "Name                                        \n",
      "Acilius Acilius       Rome     169    78.0  \n",
      "Acilius Agrippa   Germania     165    85.0  \n",
      "Acilius Albinius      Gaul     182    77.0  \n",
      "Acilius Albinius    Greece     155   107.0  \n",
      "Acilius Albinius      Gaul     182    77.0  \n",
      "...                    ...     ...     ...  \n",
      "Zeno Zeno             Gaul     164    94.0  \n",
      "Zeno Zeno           Thrace     168    86.0  \n",
      "Zeno Zeno             Gaul     164    94.0  \n",
      "Zeno Zeno           Thrace     168    86.0  \n",
      "Zeno Zeno             Gaul     164    94.0  \n",
      "\n",
      "[3524609 rows x 18 columns]\n"
     ]
    }
   ],
   "source": [
    "import pandas as pd \n",
    "personal=pd.read_csv(\"gladiator_personal_data.csv\",index_col=0,sep=\"\t\")\n",
    "statistics=pd.read_csv(\"gladiator_statistics.csv\",index_col=0,sep=\";\",decimal=\",\")\n",
    "skills=pd.read_excel(\"gladiator_skills.xlsx\",index_col=0,sheet_name=0)\n",
    "status=pd.read_csv(\"gladiator_status.txt\",index_col=0,sep=\" \")\n",
    "\n",
    "data=pd.merge(status,skills,left_index=True,right_index=True)\n",
    "print(data)\n",
    "data=pd.merge(data,statistics,left_index=True,right_index=True)\n",
    "print(data)\n",
    "data=pd.merge(data,personal,left_index=True,right_index=True)\n",
    "print(data)"
   ]
  },
  {
   "cell_type": "code",
   "execution_count": 27,
   "metadata": {},
   "outputs": [
    {
     "name": "stdout",
     "output_type": "stream",
     "text": [
      "                 Survived Equipment Quality Injury History Tactical Knowledge  \\\n",
      "GLADIATOR                                                                       \n",
      "Acilius Acilius        No          Standard           High       Intermediate   \n",
      "Acilius Agrippa       Yes          Superior            Low           Advanced   \n",
      "Acilius Albinius      Yes          Superior           High           Advanced   \n",
      "Acilius Albinius      Yes          Superior           High           Advanced   \n",
      "Acilius Albinius      Yes          Superior           High           Advanced   \n",
      "...                   ...               ...            ...                ...   \n",
      "Zeno Zeno             Yes             Basic            Low       Intermediate   \n",
      "Zeno Zeno             Yes          Superior            Low             Expert   \n",
      "Zeno Zeno             Yes          Superior            Low             Expert   \n",
      "Zeno Zeno             Yes          Superior            Low             Expert   \n",
      "Zeno Zeno             Yes          Superior            Low             Expert   \n",
      "\n",
      "                 Health Status Personal Motivation Previous Occupation  \\\n",
      "GLADIATOR                                                                \n",
      "Acilius Acilius           Good             Freedom             Laborer   \n",
      "Acilius Agrippa      Excellent           Vengeance         Entertainer   \n",
      "Acilius Albinius          Good           Vengeance         Entertainer   \n",
      "Acilius Albinius          Good           Vengeance         Entertainer   \n",
      "Acilius Albinius          Good           Vengeance         Entertainer   \n",
      "...                        ...                 ...                 ...   \n",
      "Zeno Zeno            Excellent             Freedom            Criminal   \n",
      "Zeno Zeno                 Good               Glory             Laborer   \n",
      "Zeno Zeno                 Good               Glory             Laborer   \n",
      "Zeno Zeno                 Good               Glory             Laborer   \n",
      "Zeno Zeno                 Good               Glory             Laborer   \n",
      "\n",
      "                 Battle Strategy Crowd Appeal Techniques  Wins  Losses  \\\n",
      "GLADIATOR                                                                \n",
      "Acilius Acilius         Balanced            Intimidating     6       4   \n",
      "Acilius Agrippa         Balanced             Charismatic     5       1   \n",
      "Acilius Albinius        Balanced                  Humble    12       5   \n",
      "Acilius Albinius        Balanced                  Humble    12       5   \n",
      "Acilius Albinius        Balanced                  Humble     5       2   \n",
      "...                          ...                     ...   ...     ...   \n",
      "Zeno Zeno               Balanced                  Humble    13       1   \n",
      "Zeno Zeno             Aggressive                  Humble    10       1   \n",
      "Zeno Zeno             Aggressive                  Humble    10       1   \n",
      "Zeno Zeno             Aggressive                  Humble    13       1   \n",
      "Zeno Zeno             Aggressive                  Humble    13       1   \n",
      "\n",
      "                  Public Favor  Mental Resilience  Battle Experience  Age  \\\n",
      "GLADIATOR                                                                   \n",
      "Acilius Acilius       0.577528           2.404240               10.0   27   \n",
      "Acilius Agrippa       0.584773           8.185433                6.0   28   \n",
      "Acilius Albinius      0.783059           3.676155               17.0   31   \n",
      "Acilius Albinius      0.783059           3.676155               17.0   20   \n",
      "Acilius Albinius      0.574900           6.859276                7.0   31   \n",
      "...                        ...                ...                ...  ...   \n",
      "Zeno Zeno             0.893344           4.306268               14.0   42   \n",
      "Zeno Zeno             1.000309           1.628445               11.0   30   \n",
      "Zeno Zeno             1.000309           1.628445               11.0   42   \n",
      "Zeno Zeno             0.893344           4.306268               14.0   30   \n",
      "Zeno Zeno             0.893344           4.306268               14.0   42   \n",
      "\n",
      "                    Origin  Height  Weight  \n",
      "GLADIATOR                                   \n",
      "Acilius Acilius       Rome     169    78.0  \n",
      "Acilius Agrippa   Germania     165    85.0  \n",
      "Acilius Albinius      Gaul     182    77.0  \n",
      "Acilius Albinius    Greece     155   107.0  \n",
      "Acilius Albinius      Gaul     182    77.0  \n",
      "...                    ...     ...     ...  \n",
      "Zeno Zeno             Gaul     164    94.0  \n",
      "Zeno Zeno           Thrace     168    86.0  \n",
      "Zeno Zeno             Gaul     164    94.0  \n",
      "Zeno Zeno           Thrace     168    86.0  \n",
      "Zeno Zeno             Gaul     164    94.0  \n",
      "\n",
      "[3524609 rows x 18 columns]\n"
     ]
    }
   ],
   "source": [
    "data.index.name=\"GLADIATOR\"\n",
    "print(data)"
   ]
  },
  {
   "cell_type": "markdown",
   "metadata": {},
   "source": [
    "- Na **dva**(!) različna načina izpišite **prve 3 vrstice** tega združenega datafram-a.\n",
    "- izpišite koliko **stolpcev in vrstic** je v združenem datafram-u.\n",
    "- Izpišite **podatkovne tipe** za stolpce od drugega do (vključno) petega.\n",
    "- Izpišite koliko je posameznih **unikatnih vrednosti** v stolpcu Equipment Quality.\n",
    "- Izpišite vse podatke za gladiatorja \"Nero Menenius\".\n",
    "- Zapišite število gladiatorjev, ki so doživeli 4 ali 5 porazov (Losses). Rezultat poizvedbe mora biti številka!"
   ]
  },
  {
   "cell_type": "code",
   "execution_count": 28,
   "metadata": {},
   "outputs": [
    {
     "data": {
      "text/html": [
       "<div>\n",
       "<style scoped>\n",
       "    .dataframe tbody tr th:only-of-type {\n",
       "        vertical-align: middle;\n",
       "    }\n",
       "\n",
       "    .dataframe tbody tr th {\n",
       "        vertical-align: top;\n",
       "    }\n",
       "\n",
       "    .dataframe thead th {\n",
       "        text-align: right;\n",
       "    }\n",
       "</style>\n",
       "<table border=\"1\" class=\"dataframe\">\n",
       "  <thead>\n",
       "    <tr style=\"text-align: right;\">\n",
       "      <th></th>\n",
       "      <th>Survived</th>\n",
       "      <th>Equipment Quality</th>\n",
       "      <th>Injury History</th>\n",
       "      <th>Tactical Knowledge</th>\n",
       "      <th>Health Status</th>\n",
       "      <th>Personal Motivation</th>\n",
       "      <th>Previous Occupation</th>\n",
       "      <th>Battle Strategy</th>\n",
       "      <th>Crowd Appeal Techniques</th>\n",
       "      <th>Wins</th>\n",
       "      <th>Losses</th>\n",
       "      <th>Public Favor</th>\n",
       "      <th>Mental Resilience</th>\n",
       "      <th>Battle Experience</th>\n",
       "      <th>Age</th>\n",
       "      <th>Origin</th>\n",
       "      <th>Height</th>\n",
       "      <th>Weight</th>\n",
       "    </tr>\n",
       "    <tr>\n",
       "      <th>GLADIATOR</th>\n",
       "      <th></th>\n",
       "      <th></th>\n",
       "      <th></th>\n",
       "      <th></th>\n",
       "      <th></th>\n",
       "      <th></th>\n",
       "      <th></th>\n",
       "      <th></th>\n",
       "      <th></th>\n",
       "      <th></th>\n",
       "      <th></th>\n",
       "      <th></th>\n",
       "      <th></th>\n",
       "      <th></th>\n",
       "      <th></th>\n",
       "      <th></th>\n",
       "      <th></th>\n",
       "      <th></th>\n",
       "    </tr>\n",
       "  </thead>\n",
       "  <tbody>\n",
       "    <tr>\n",
       "      <th>Acilius Acilius</th>\n",
       "      <td>No</td>\n",
       "      <td>Standard</td>\n",
       "      <td>High</td>\n",
       "      <td>Intermediate</td>\n",
       "      <td>Good</td>\n",
       "      <td>Freedom</td>\n",
       "      <td>Laborer</td>\n",
       "      <td>Balanced</td>\n",
       "      <td>Intimidating</td>\n",
       "      <td>6</td>\n",
       "      <td>4</td>\n",
       "      <td>0.577528</td>\n",
       "      <td>2.404240</td>\n",
       "      <td>10.0</td>\n",
       "      <td>27</td>\n",
       "      <td>Rome</td>\n",
       "      <td>169</td>\n",
       "      <td>78.0</td>\n",
       "    </tr>\n",
       "    <tr>\n",
       "      <th>Acilius Agrippa</th>\n",
       "      <td>Yes</td>\n",
       "      <td>Superior</td>\n",
       "      <td>Low</td>\n",
       "      <td>Advanced</td>\n",
       "      <td>Excellent</td>\n",
       "      <td>Vengeance</td>\n",
       "      <td>Entertainer</td>\n",
       "      <td>Balanced</td>\n",
       "      <td>Charismatic</td>\n",
       "      <td>5</td>\n",
       "      <td>1</td>\n",
       "      <td>0.584773</td>\n",
       "      <td>8.185433</td>\n",
       "      <td>6.0</td>\n",
       "      <td>28</td>\n",
       "      <td>Germania</td>\n",
       "      <td>165</td>\n",
       "      <td>85.0</td>\n",
       "    </tr>\n",
       "    <tr>\n",
       "      <th>Acilius Albinius</th>\n",
       "      <td>Yes</td>\n",
       "      <td>Superior</td>\n",
       "      <td>High</td>\n",
       "      <td>Advanced</td>\n",
       "      <td>Good</td>\n",
       "      <td>Vengeance</td>\n",
       "      <td>Entertainer</td>\n",
       "      <td>Balanced</td>\n",
       "      <td>Humble</td>\n",
       "      <td>12</td>\n",
       "      <td>5</td>\n",
       "      <td>0.783059</td>\n",
       "      <td>3.676155</td>\n",
       "      <td>17.0</td>\n",
       "      <td>31</td>\n",
       "      <td>Gaul</td>\n",
       "      <td>182</td>\n",
       "      <td>77.0</td>\n",
       "    </tr>\n",
       "  </tbody>\n",
       "</table>\n",
       "</div>"
      ],
      "text/plain": [
       "                 Survived Equipment Quality Injury History Tactical Knowledge  \\\n",
       "GLADIATOR                                                                       \n",
       "Acilius Acilius        No          Standard           High       Intermediate   \n",
       "Acilius Agrippa       Yes          Superior            Low           Advanced   \n",
       "Acilius Albinius      Yes          Superior           High           Advanced   \n",
       "\n",
       "                 Health Status Personal Motivation Previous Occupation  \\\n",
       "GLADIATOR                                                                \n",
       "Acilius Acilius           Good             Freedom             Laborer   \n",
       "Acilius Agrippa      Excellent           Vengeance         Entertainer   \n",
       "Acilius Albinius          Good           Vengeance         Entertainer   \n",
       "\n",
       "                 Battle Strategy Crowd Appeal Techniques  Wins  Losses  \\\n",
       "GLADIATOR                                                                \n",
       "Acilius Acilius         Balanced            Intimidating     6       4   \n",
       "Acilius Agrippa         Balanced             Charismatic     5       1   \n",
       "Acilius Albinius        Balanced                  Humble    12       5   \n",
       "\n",
       "                  Public Favor  Mental Resilience  Battle Experience  Age  \\\n",
       "GLADIATOR                                                                   \n",
       "Acilius Acilius       0.577528           2.404240               10.0   27   \n",
       "Acilius Agrippa       0.584773           8.185433                6.0   28   \n",
       "Acilius Albinius      0.783059           3.676155               17.0   31   \n",
       "\n",
       "                    Origin  Height  Weight  \n",
       "GLADIATOR                                   \n",
       "Acilius Acilius       Rome     169    78.0  \n",
       "Acilius Agrippa   Germania     165    85.0  \n",
       "Acilius Albinius      Gaul     182    77.0  "
      ]
     },
     "execution_count": 28,
     "metadata": {},
     "output_type": "execute_result"
    }
   ],
   "source": [
    "data.head(3)\n",
    "data.iloc[0:3]"
   ]
  },
  {
   "cell_type": "code",
   "execution_count": 29,
   "metadata": {},
   "outputs": [
    {
     "data": {
      "text/plain": [
       "(3524609, 18)"
      ]
     },
     "execution_count": 29,
     "metadata": {},
     "output_type": "execute_result"
    }
   ],
   "source": [
    "data.shape"
   ]
  },
  {
   "cell_type": "code",
   "execution_count": 30,
   "metadata": {},
   "outputs": [
    {
     "data": {
      "text/plain": [
       "Equipment Quality      object\n",
       "Injury History         object\n",
       "Tactical Knowledge     object\n",
       "Health Status          object\n",
       "Personal Motivation    object\n",
       "dtype: object"
      ]
     },
     "execution_count": 30,
     "metadata": {},
     "output_type": "execute_result"
    }
   ],
   "source": [
    "data.iloc[:,1:6].dtypes"
   ]
  },
  {
   "cell_type": "code",
   "execution_count": 31,
   "metadata": {},
   "outputs": [
    {
     "data": {
      "text/plain": [
       "array(['Standard', 'Superior', 'Basic'], dtype=object)"
      ]
     },
     "execution_count": 31,
     "metadata": {},
     "output_type": "execute_result"
    }
   ],
   "source": [
    "data[\"Equipment Quality\"].nunique()\n",
    "data[\"Equipment Quality\"].unique()"
   ]
  },
  {
   "cell_type": "code",
   "execution_count": 32,
   "metadata": {},
   "outputs": [
    {
     "data": {
      "text/html": [
       "<div>\n",
       "<style scoped>\n",
       "    .dataframe tbody tr th:only-of-type {\n",
       "        vertical-align: middle;\n",
       "    }\n",
       "\n",
       "    .dataframe tbody tr th {\n",
       "        vertical-align: top;\n",
       "    }\n",
       "\n",
       "    .dataframe thead th {\n",
       "        text-align: right;\n",
       "    }\n",
       "</style>\n",
       "<table border=\"1\" class=\"dataframe\">\n",
       "  <thead>\n",
       "    <tr style=\"text-align: right;\">\n",
       "      <th></th>\n",
       "      <th>Survived</th>\n",
       "      <th>Equipment Quality</th>\n",
       "      <th>Injury History</th>\n",
       "      <th>Tactical Knowledge</th>\n",
       "      <th>Health Status</th>\n",
       "      <th>Personal Motivation</th>\n",
       "      <th>Previous Occupation</th>\n",
       "      <th>Battle Strategy</th>\n",
       "      <th>Crowd Appeal Techniques</th>\n",
       "      <th>Wins</th>\n",
       "      <th>Losses</th>\n",
       "      <th>Public Favor</th>\n",
       "      <th>Mental Resilience</th>\n",
       "      <th>Battle Experience</th>\n",
       "      <th>Age</th>\n",
       "      <th>Origin</th>\n",
       "      <th>Height</th>\n",
       "      <th>Weight</th>\n",
       "    </tr>\n",
       "    <tr>\n",
       "      <th>GLADIATOR</th>\n",
       "      <th></th>\n",
       "      <th></th>\n",
       "      <th></th>\n",
       "      <th></th>\n",
       "      <th></th>\n",
       "      <th></th>\n",
       "      <th></th>\n",
       "      <th></th>\n",
       "      <th></th>\n",
       "      <th></th>\n",
       "      <th></th>\n",
       "      <th></th>\n",
       "      <th></th>\n",
       "      <th></th>\n",
       "      <th></th>\n",
       "      <th></th>\n",
       "      <th></th>\n",
       "      <th></th>\n",
       "    </tr>\n",
       "  </thead>\n",
       "  <tbody>\n",
       "    <tr>\n",
       "      <th>Nero Menenius</th>\n",
       "      <td>No</td>\n",
       "      <td>Superior</td>\n",
       "      <td>High</td>\n",
       "      <td>Basic</td>\n",
       "      <td>Good</td>\n",
       "      <td>Glory</td>\n",
       "      <td>Laborer</td>\n",
       "      <td>Balanced</td>\n",
       "      <td>Intimidating</td>\n",
       "      <td>10</td>\n",
       "      <td>2</td>\n",
       "      <td>0.831285</td>\n",
       "      <td>3.764396</td>\n",
       "      <td>12.0</td>\n",
       "      <td>38</td>\n",
       "      <td>Greece</td>\n",
       "      <td>169</td>\n",
       "      <td>78.0</td>\n",
       "    </tr>\n",
       "  </tbody>\n",
       "</table>\n",
       "</div>"
      ],
      "text/plain": [
       "              Survived Equipment Quality Injury History Tactical Knowledge  \\\n",
       "GLADIATOR                                                                    \n",
       "Nero Menenius       No          Superior           High              Basic   \n",
       "\n",
       "              Health Status Personal Motivation Previous Occupation  \\\n",
       "GLADIATOR                                                             \n",
       "Nero Menenius          Good               Glory             Laborer   \n",
       "\n",
       "              Battle Strategy Crowd Appeal Techniques  Wins  Losses  \\\n",
       "GLADIATOR                                                             \n",
       "Nero Menenius        Balanced            Intimidating    10       2   \n",
       "\n",
       "               Public Favor  Mental Resilience  Battle Experience  Age  \\\n",
       "GLADIATOR                                                                \n",
       "Nero Menenius      0.831285           3.764396               12.0   38   \n",
       "\n",
       "               Origin  Height  Weight  \n",
       "GLADIATOR                              \n",
       "Nero Menenius  Greece     169    78.0  "
      ]
     },
     "execution_count": 32,
     "metadata": {},
     "output_type": "execute_result"
    }
   ],
   "source": [
    "data.loc[[\"Nero Menenius\"]]"
   ]
  },
  {
   "cell_type": "code",
   "execution_count": 33,
   "metadata": {},
   "outputs": [
    {
     "name": "stdout",
     "output_type": "stream",
     "text": [
      "365037\n"
     ]
    }
   ],
   "source": [
    "izbrani_porazi=data[(data[\"Losses\"]==4)|(data[\"Losses\"]==5)].shape[0]\n",
    "print(izbrani_porazi)"
   ]
  },
  {
   "cell_type": "markdown",
   "metadata": {},
   "source": [
    "Naloga 2 (20 T)\n",
    "Izrišite graf, ki bo prikazoval povprečno starost gladiatorjev, ki so umrli, glede na dejavnost s katero so se ukvarjali preden so postali gladiatorji (Previous Occupation).\n",
    "Izrišite graf, iz katerega bo razvidna mediana ter največje in najmanjše število zmag, ki so jih dosegli gladiatorji.\n",
    "Izrišite graf raztrosa (s črto), ki bo prikazoval višino gladiatorja glede na poljubno vrednost (izmed stolpcev sami izberite vrednost, ki bo dala smiseln rezultat), ločeno glede na zdravstveno stanje gladiatorja. Za vsako zdravstveno stanje naj bo prikazan ločen podgraf.\n",
    "V naraščajočem vrstnem redu izpišite povprečno težo gladiatorjev (zaokroženo na dve decimalki) glede na njihovo primarno izbrano bojno strategijo. Upoštevajte samo tiste gladiatorje, ki tekmujejo zaradi tega da bi si zagotovili svobodo ali preživetje (Personal Motivation).\n",
    "Koliko je takšnih gladatorjev, ki se na agresiven način (Battle Strategy) borijo zaradi maščevanja (Personal Motivation)?"
   ]
  },
  {
   "cell_type": "code",
   "execution_count": 5,
   "metadata": {},
   "outputs": [
    {
     "ename": "NameError",
     "evalue": "name 'data' is not defined",
     "output_type": "error",
     "traceback": [
      "\u001b[1;31m---------------------------------------------------------------------------\u001b[0m",
      "\u001b[1;31mNameError\u001b[0m                                 Traceback (most recent call last)",
      "Cell \u001b[1;32mIn[5], line 4\u001b[0m\n\u001b[0;32m      2\u001b[0m \u001b[38;5;28;01mimport\u001b[39;00m \u001b[38;5;21;01mmatplotlib\u001b[39;00m\u001b[38;5;21;01m.\u001b[39;00m\u001b[38;5;21;01mpyplot\u001b[39;00m \u001b[38;5;28;01mas\u001b[39;00m \u001b[38;5;21;01mplt\u001b[39;00m\n\u001b[0;32m      3\u001b[0m \u001b[38;5;28;01mimport\u001b[39;00m \u001b[38;5;21;01mseaborn\u001b[39;00m \u001b[38;5;28;01mas\u001b[39;00m \u001b[38;5;21;01msns\u001b[39;00m\n\u001b[1;32m----> 4\u001b[0m df\u001b[38;5;241m=\u001b[39mdata\u001b[38;5;241m.\u001b[39mcopy()\n\u001b[0;32m      5\u001b[0m \u001b[38;5;66;03m# Predpostavimo, da je df vaš DataFrame\u001b[39;00m\n\u001b[0;32m      6\u001b[0m \u001b[38;5;66;03m# Filtriramo podatke za umrle gladiatorje\u001b[39;00m\n\u001b[0;32m      7\u001b[0m dead_gladiators \u001b[38;5;241m=\u001b[39m df[df[\u001b[38;5;124m'\u001b[39m\u001b[38;5;124mSurvived\u001b[39m\u001b[38;5;124m'\u001b[39m] \u001b[38;5;241m==\u001b[39m \u001b[38;5;124m'\u001b[39m\u001b[38;5;124mNo\u001b[39m\u001b[38;5;124m'\u001b[39m]\n",
      "\u001b[1;31mNameError\u001b[0m: name 'data' is not defined"
     ]
    }
   ],
   "source": [
    "import pandas as pd\n",
    "import matplotlib.pyplot as plt\n",
    "import seaborn as sns\n",
    "df=data.copy()\n",
    "\n",
    "dead_gladiators = df[df['Survived'] == 'No']\n",
    "\n",
    "\n",
    "average_age = dead_gladiators.groupby('Previous Occupation')['Age'].mean()\n",
    "\n",
    "plt.figure(figsize=(10, 6))\n",
    "average_age.plot(kind='bar', color='skyblue')\n",
    "plt.title('Povprečna starost umrlih gladiatorjev glede na prejšnjo dejavnost')\n",
    "\n",
    "plt.xticks(rotation=45)\n",
    "plt.grid(True)\n",
    "plt.show()\n"
   ]
  },
  {
   "cell_type": "code",
   "execution_count": null,
   "metadata": {},
   "outputs": [],
   "source": [
    "\n",
    "wins_stats = df['Wins'].agg(['median', 'min', 'max'])\n",
    "\n",
    "\n",
    "plt.figure(figsize=(8, 5))\n",
    "plt.bar(['Mediana', 'Minimum', 'Maksimum'], wins_stats, color='green')\n",
    "plt.title('Statistike zmag gladiatorjev')\n",
    "plt.ylabel('Število zmag')\n",
    "plt.grid(True, linestyle='--', alpha=0.6)\n",
    "plt.show()\n"
   ]
  },
  {
   "cell_type": "code",
   "execution_count": null,
   "metadata": {},
   "outputs": [],
   "source": [
    "\n",
    "import numpy as np\n",
    "\n",
    "\n",
    "plt.figure(figsize=(12, 7))\n",
    "for status, group_data in df.groupby('Health Status'):\n",
    "    plt.scatter(group_data['Height'], group_data['Weight'], label=status, alpha=0.6)\n",
    "\n",
    "    z = np.polyfit(group_data['Height'], group_data['Weight'], 1)\n",
    "    p = np.poly1d(z)\n",
    "    plt.plot(group_data['Height'], p(group_data['Height']), \"r--\")\n",
    "\n",
    "plt.title('Višina gladiatorjev glede na težo, razvrščeno po zdravstvenem stanju')\n",
    "plt.xlabel('Višina (cm)')\n",
    "plt.ylabel('Teža (kg)')\n",
    "plt.legend(title='Zdravstveno stanje')\n",
    "plt.grid(True)\n",
    "plt.show()\n"
   ]
  },
  {
   "cell_type": "code",
   "execution_count": null,
   "metadata": {},
   "outputs": [],
   "source": [
    "\n",
    "filtered_df = df[df['Personal Motivation'].isin(['Freedom', 'Survival'])]\n",
    "\n",
    "\n",
    "average_weight = filtered_df.groupby('Battle Strategy')['Weight'].mean().sort_values()\n",
    "print(average_weight.round(2))\n"
   ]
  },
  {
   "cell_type": "code",
   "execution_count": null,
   "metadata": {},
   "outputs": [],
   "source": [
    "\n",
    "vengeful_aggressive = df[(df['Personal Motivation'] == 'Revenge') & (df['Battle Strategy'] == 'Aggressive')]\n",
    "count_vengeful_aggressive = vengeful_aggressive.shape[0]\n",
    "print(\"Število gladiatorjev, ki se agresivno borijo zaradi maščevanja:\", count_vengeful_aggressive)\n"
   ]
  },
  {
   "cell_type": "markdown",
   "metadata": {},
   "source": [
    "Naloga 3 (5 T)\n",
    "Izpišite koliko je manjkajočih podatkov v posameznih stolpcih.\n",
    "Nato manjkajoče podatke iz stolpcev zapolnite s sledečo strategijo:\n",
    "Weight zapolnite tako, da od višine specifičnega gladiatorja odštejete vrednost 100 (w=h-100),\n",
    "Mental Resilience in Public Favor zapolnite s povprečno vrednostjo stolpca,\n",
    "Previous Occupation zapolnite z vrednostjo “Criminal”,\n",
    "Crowd Appeal Techniques z najpogosteje pojavljeno vrednostjo stolpca,\n",
    "ostale vrstice z manjkajočimi vrednostmi izbrišite.\n",
    "Ponovno izpišite koliko je manjkajočih vrednosti za stolpce Weight, Mental Resilience, Public Favor, Previous Occupation in Crowd Appeal Techniques."
   ]
  },
  {
   "cell_type": "code",
   "execution_count": 34,
   "metadata": {},
   "outputs": [
    {
     "data": {
      "text/plain": [
       "Survived                      8\n",
       "Equipment Quality             0\n",
       "Injury History                8\n",
       "Tactical Knowledge            8\n",
       "Health Status                 8\n",
       "Personal Motivation           8\n",
       "Previous Occupation         574\n",
       "Battle Strategy               8\n",
       "Crowd Appeal Techniques    2234\n",
       "Wins                          0\n",
       "Losses                        0\n",
       "Public Favor                292\n",
       "Mental Resilience           252\n",
       "Battle Experience             8\n",
       "Age                           0\n",
       "Origin                        0\n",
       "Height                        0\n",
       "Weight                      187\n",
       "dtype: int64"
      ]
     },
     "execution_count": 34,
     "metadata": {},
     "output_type": "execute_result"
    }
   ],
   "source": [
    "data.isna().sum()"
   ]
  },
  {
   "cell_type": "markdown",
   "metadata": {},
   "source": [
    "Nato manjkajoče podatke iz stolpcev zapolnite s sledečo strategijo:\n",
    "Weight zapolnite tako, da od višine specifičnega gladiatorja odštejete vrednost 100 (w=h-100),\n",
    "Mental Resilience in Public Favor zapolnite s povprečno vrednostjo stolpca,\n",
    "Previous Occupation zapolnite z vrednostjo “Criminal”,\n",
    "Crowd Appeal Techniques z najpogosteje pojavljeno vrednostjo stolpca,\n",
    "ostale vrstice z manjkajočimi vrednostmi izbrišite.\n",
    "Ponovno izpišite koliko je manjkajočih vrednosti za stolpce Weight, Mental Resilience, Public Favor, Previous Occupation in Crowd Appeal Techniques."
   ]
  },
  {
   "cell_type": "code",
   "execution_count": 36,
   "metadata": {},
   "outputs": [
    {
     "data": {
      "text/plain": [
       "Survived                   0\n",
       "Equipment Quality          0\n",
       "Injury History             0\n",
       "Tactical Knowledge         0\n",
       "Health Status              0\n",
       "Personal Motivation        0\n",
       "Previous Occupation        0\n",
       "Battle Strategy            0\n",
       "Crowd Appeal Techniques    0\n",
       "Wins                       0\n",
       "Losses                     0\n",
       "Public Favor               0\n",
       "Mental Resilience          0\n",
       "Battle Experience          0\n",
       "Age                        0\n",
       "Origin                     0\n",
       "Height                     0\n",
       "Weight                     0\n",
       "dtype: int64"
      ]
     },
     "execution_count": 36,
     "metadata": {},
     "output_type": "execute_result"
    }
   ],
   "source": [
    "data[\"Weight\"].fillna(data[\"Height\"]-100,inplace=True)\n",
    "data[\"Mental Resilience\"].fillna(data[\"Mental Resilience\"].mean(),inplace=True)\n",
    "data[\"Public Favor\"].fillna(data[\"Public Favor\"].mean(),inplace=True)\n",
    "data[\"Previous Occupation\"].fillna(\"Criminal\",inplace=True)\n",
    "data[\"Crowd Appeal Techniques\"].fillna(data[\"Crowd Appeal Techniques\"].mode()[0],inplace=True)\n",
    "data.dropna(inplace=True)\n",
    "data.isna().sum()"
   ]
  },
  {
   "cell_type": "markdown",
   "metadata": {},
   "source": [
    "Naloga 4 (10 T)\n",
    "Ustvarite dve kopiji datafram-a dfRegresija in dfKlasifikacija:\n",
    "dfKlasifikacija je dataframe, ki ga boste uporabili za klasifikacijo, in sicer boste napovedovali ali bo določen gladiator preživel boje (Survived).\n",
    "dfRegresija je dataframe, ki ga boste uporabili za regresijo, in sicer boste napovedovali število zmag gladiatorja (Wins).\n",
    "Podatke v obeh dataframih ustrezno predprocesirajte(!) - kategorične vrednosti pretvorite z LabelEncoderjem, številske vrednosti pa morajo biti standardizirane.\n",
    "Izpišite zadnjih 5 vrstic iz vsakega dataframa."
   ]
  },
  {
   "cell_type": "code",
   "execution_count": 76,
   "metadata": {},
   "outputs": [
    {
     "name": "stdout",
     "output_type": "stream",
     "text": [
      "                 Survived Equipment Quality Injury History Tactical Knowledge  \\\n",
      "GLADIATOR                                                                       \n",
      "Acilius Acilius        No          Standard           High       Intermediate   \n",
      "Acilius Agrippa       Yes          Superior            Low           Advanced   \n",
      "Acilius Albinius      Yes          Superior           High           Advanced   \n",
      "Acilius Albinius      Yes          Superior           High           Advanced   \n",
      "Acilius Albinius      Yes          Superior           High           Advanced   \n",
      "...                   ...               ...            ...                ...   \n",
      "Zeno Zeno             Yes             Basic            Low       Intermediate   \n",
      "Zeno Zeno             Yes          Superior            Low             Expert   \n",
      "Zeno Zeno             Yes          Superior            Low             Expert   \n",
      "Zeno Zeno             Yes          Superior            Low             Expert   \n",
      "Zeno Zeno             Yes          Superior            Low             Expert   \n",
      "\n",
      "                 Health Status Personal Motivation Previous Occupation  \\\n",
      "GLADIATOR                                                                \n",
      "Acilius Acilius           Good             Freedom             Laborer   \n",
      "Acilius Agrippa      Excellent           Vengeance         Entertainer   \n",
      "Acilius Albinius          Good           Vengeance         Entertainer   \n",
      "Acilius Albinius          Good           Vengeance         Entertainer   \n",
      "Acilius Albinius          Good           Vengeance         Entertainer   \n",
      "...                        ...                 ...                 ...   \n",
      "Zeno Zeno            Excellent             Freedom            Criminal   \n",
      "Zeno Zeno                 Good               Glory             Laborer   \n",
      "Zeno Zeno                 Good               Glory             Laborer   \n",
      "Zeno Zeno                 Good               Glory             Laborer   \n",
      "Zeno Zeno                 Good               Glory             Laborer   \n",
      "\n",
      "                 Battle Strategy Crowd Appeal Techniques  Wins  Losses  \\\n",
      "GLADIATOR                                                                \n",
      "Acilius Acilius         Balanced            Intimidating     6       4   \n",
      "Acilius Agrippa         Balanced             Charismatic     5       1   \n",
      "Acilius Albinius        Balanced                  Humble    12       5   \n",
      "Acilius Albinius        Balanced                  Humble    12       5   \n",
      "Acilius Albinius        Balanced                  Humble     5       2   \n",
      "...                          ...                     ...   ...     ...   \n",
      "Zeno Zeno               Balanced                  Humble    13       1   \n",
      "Zeno Zeno             Aggressive                  Humble    10       1   \n",
      "Zeno Zeno             Aggressive                  Humble    10       1   \n",
      "Zeno Zeno             Aggressive                  Humble    13       1   \n",
      "Zeno Zeno             Aggressive                  Humble    13       1   \n",
      "\n",
      "                  Public Favor  Mental Resilience  Battle Experience  Age  \\\n",
      "GLADIATOR                                                                   \n",
      "Acilius Acilius       0.577528           2.404240               10.0   27   \n",
      "Acilius Agrippa       0.584773           8.185433                6.0   28   \n",
      "Acilius Albinius      0.783059           3.676155               17.0   31   \n",
      "Acilius Albinius      0.783059           3.676155               17.0   20   \n",
      "Acilius Albinius      0.574900           6.859276                7.0   31   \n",
      "...                        ...                ...                ...  ...   \n",
      "Zeno Zeno             0.893344           4.306268               14.0   42   \n",
      "Zeno Zeno             1.000309           1.628445               11.0   30   \n",
      "Zeno Zeno             1.000309           1.628445               11.0   42   \n",
      "Zeno Zeno             0.893344           4.306268               14.0   30   \n",
      "Zeno Zeno             0.893344           4.306268               14.0   42   \n",
      "\n",
      "                    Origin  Height  Weight  \n",
      "GLADIATOR                                   \n",
      "Acilius Acilius       Rome     169    78.0  \n",
      "Acilius Agrippa   Germania     165    85.0  \n",
      "Acilius Albinius      Gaul     182    77.0  \n",
      "Acilius Albinius    Greece     155   107.0  \n",
      "Acilius Albinius      Gaul     182    77.0  \n",
      "...                    ...     ...     ...  \n",
      "Zeno Zeno             Gaul     164    94.0  \n",
      "Zeno Zeno           Thrace     168    86.0  \n",
      "Zeno Zeno             Gaul     164    94.0  \n",
      "Zeno Zeno           Thrace     168    86.0  \n",
      "Zeno Zeno             Gaul     164    94.0  \n",
      "\n",
      "[1704789 rows x 18 columns]\n"
     ]
    }
   ],
   "source": [
    "data.dtypes\n",
    "\n",
    "data=data.drop_duplicates()\n",
    "print(data)"
   ]
  },
  {
   "cell_type": "code",
   "execution_count": 78,
   "metadata": {},
   "outputs": [
    {
     "data": {
      "text/plain": [
       "Survived                   0\n",
       "Equipment Quality          0\n",
       "Injury History             0\n",
       "Tactical Knowledge         0\n",
       "Health Status              0\n",
       "Personal Motivation        0\n",
       "Previous Occupation        0\n",
       "Battle Strategy            0\n",
       "Crowd Appeal Techniques    0\n",
       "Wins                       0\n",
       "Losses                     0\n",
       "Public Favor               0\n",
       "Mental Resilience          0\n",
       "Battle Experience          0\n",
       "Age                        0\n",
       "Origin                     0\n",
       "Height                     0\n",
       "Weight                     0\n",
       "dtype: int64"
      ]
     },
     "execution_count": 78,
     "metadata": {},
     "output_type": "execute_result"
    }
   ],
   "source": [
    "data.isna().sum()"
   ]
  },
  {
   "cell_type": "code",
   "execution_count": 77,
   "metadata": {},
   "outputs": [
    {
     "data": {
      "text/plain": [
       "Survived                    object\n",
       "Equipment Quality           object\n",
       "Injury History              object\n",
       "Tactical Knowledge          object\n",
       "Health Status               object\n",
       "Personal Motivation         object\n",
       "Previous Occupation         object\n",
       "Battle Strategy             object\n",
       "Crowd Appeal Techniques     object\n",
       "Wins                         int64\n",
       "Losses                       int64\n",
       "Public Favor               float64\n",
       "Mental Resilience          float64\n",
       "Battle Experience          float64\n",
       "Age                          int64\n",
       "Origin                      object\n",
       "Height                       int64\n",
       "Weight                     float64\n",
       "dtype: object"
      ]
     },
     "execution_count": 77,
     "metadata": {},
     "output_type": "execute_result"
    }
   ],
   "source": [
    "data.dtypes"
   ]
  },
  {
   "cell_type": "code",
   "execution_count": 61,
   "metadata": {},
   "outputs": [],
   "source": [
    "from sklearn.preprocessing import StandardScaler, LabelEncoder\n",
    "\n",
    "dfKlasifikacijja=data.copy()\n",
    "kat=dfKlasifikacijja.select_dtypes(include=[\"object\",\"string\"]).columns\n",
    "st=dfKlasifikacijja.select_dtypes(include=[\"float64\",\"int64\"]).columns\n",
    "\n",
    "label_encoder=LabelEncoder()\n",
    "for col in kat:\n",
    "\n",
    "    dfKlasifikacijja[col]=label_encoder.fit_transform(dfKlasifikacijja[col])\n",
    "\n",
    "scaler=StandardScaler()\n",
    "dfKlasifikacijja[st]=pd.DataFrame(scaler.fit_transform(dfKlasifikacijja[st]))"
   ]
  },
  {
   "cell_type": "code",
   "execution_count": 59,
   "metadata": {},
   "outputs": [
    {
     "name": "stdout",
     "output_type": "stream",
     "text": [
      "           Survived  Equipment Quality  Injury History  Tactical Knowledge  \\\n",
      "GLADIATOR                                                                    \n",
      "Zeno Zeno         1                  0               1                   3   \n",
      "Zeno Zeno         1                  2               1                   2   \n",
      "Zeno Zeno         1                  2               1                   2   \n",
      "Zeno Zeno         1                  2               1                   2   \n",
      "Zeno Zeno         1                  2               1                   2   \n",
      "\n",
      "           Health Status  Personal Motivation  Previous Occupation  \\\n",
      "GLADIATOR                                                            \n",
      "Zeno Zeno              0                    0                    0   \n",
      "Zeno Zeno              2                    1                    2   \n",
      "Zeno Zeno              2                    1                    2   \n",
      "Zeno Zeno              2                    1                    2   \n",
      "Zeno Zeno              2                    1                    2   \n",
      "\n",
      "           Battle Strategy  Crowd Appeal Techniques  Wins  Losses  \\\n",
      "GLADIATOR                                                           \n",
      "Zeno Zeno                1                        2   NaN     NaN   \n",
      "Zeno Zeno                0                        2   NaN     NaN   \n",
      "Zeno Zeno                0                        2   NaN     NaN   \n",
      "Zeno Zeno                0                        2   NaN     NaN   \n",
      "Zeno Zeno                0                        2   NaN     NaN   \n",
      "\n",
      "           Public Favor  Mental Resilience  Battle Experience  Age  Origin  \\\n",
      "GLADIATOR                                                                    \n",
      "Zeno Zeno           NaN                NaN                NaN  NaN       0   \n",
      "Zeno Zeno           NaN                NaN                NaN  NaN       5   \n",
      "Zeno Zeno           NaN                NaN                NaN  NaN       0   \n",
      "Zeno Zeno           NaN                NaN                NaN  NaN       5   \n",
      "Zeno Zeno           NaN                NaN                NaN  NaN       0   \n",
      "\n",
      "           Height  Weight  \n",
      "GLADIATOR                  \n",
      "Zeno Zeno     NaN     NaN  \n",
      "Zeno Zeno     NaN     NaN  \n",
      "Zeno Zeno     NaN     NaN  \n",
      "Zeno Zeno     NaN     NaN  \n",
      "Zeno Zeno     NaN     NaN  \n"
     ]
    }
   ],
   "source": [
    "print(dfKlasifikacijja.tail(5))"
   ]
  },
  {
   "cell_type": "code",
   "execution_count": 64,
   "metadata": {},
   "outputs": [],
   "source": [
    "dfRegresija=data.copy()\n",
    "\n",
    "for col in kat:\n",
    "    dfRegresija[col]=label_encoder.fit_transform(dfRegresija[col])\n",
    "\n",
    "dfRegresija[st]=pd.DataFrame(scaler.fit_transform(dfRegresija[st]))\n"
   ]
  },
  {
   "cell_type": "code",
   "execution_count": 51,
   "metadata": {},
   "outputs": [
    {
     "name": "stdout",
     "output_type": "stream",
     "text": [
      "                  Survived  Equipment Quality  Injury History  \\\n",
      "GLADIATOR                                                       \n",
      "Acilius Acilius          0                  1               0   \n",
      "Acilius Agrippa          1                  2               1   \n",
      "Acilius Albinius         1                  2               0   \n",
      "Acilius Albinius         1                  2               0   \n",
      "Acilius Albinius         1                  1               1   \n",
      "...                    ...                ...             ...   \n",
      "Zeno Valentinian         0                  1               1   \n",
      "Zeno Valentinian         1                  1               1   \n",
      "Zeno Varian              1                  0               1   \n",
      "Zeno Verecundus          1                  2               1   \n",
      "Zeno Verecundus          0                  2               1   \n",
      "\n",
      "                  Tactical Knowledge  Health Status  Personal Motivation  \\\n",
      "GLADIATOR                                                                  \n",
      "Acilius Acilius                    3              2                    0   \n",
      "Acilius Agrippa                    0              0                    3   \n",
      "Acilius Albinius                   0              2                    3   \n",
      "Acilius Albinius                   0              2                    3   \n",
      "Acilius Albinius                   2              0                    2   \n",
      "...                              ...            ...                  ...   \n",
      "Zeno Valentinian                   0              2                    1   \n",
      "Zeno Valentinian                   0              2                    1   \n",
      "Zeno Varian                        2              2                    3   \n",
      "Zeno Verecundus                    2              2                    2   \n",
      "Zeno Verecundus                    2              2                    2   \n",
      "\n",
      "                  Previous Occupation  Battle Strategy  \\\n",
      "GLADIATOR                                                \n",
      "Acilius Acilius                     2                1   \n",
      "Acilius Agrippa                     1                1   \n",
      "Acilius Albinius                    1                1   \n",
      "Acilius Albinius                    1                1   \n",
      "Acilius Albinius                    3                1   \n",
      "...                               ...              ...   \n",
      "Zeno Valentinian                    2                2   \n",
      "Zeno Valentinian                    2                2   \n",
      "Zeno Varian                         0                1   \n",
      "Zeno Verecundus                     4                2   \n",
      "Zeno Verecundus                     4                2   \n",
      "\n",
      "                  Crowd Appeal Techniques  Wins  Losses  Public Favor  \\\n",
      "GLADIATOR                                                               \n",
      "Acilius Acilius                         3   NaN     NaN           NaN   \n",
      "Acilius Agrippa                         0   NaN     NaN           NaN   \n",
      "Acilius Albinius                        2   NaN     NaN           NaN   \n",
      "Acilius Albinius                        2   NaN     NaN           NaN   \n",
      "Acilius Albinius                        3   NaN     NaN           NaN   \n",
      "...                                   ...   ...     ...           ...   \n",
      "Zeno Valentinian                        3   NaN     NaN           NaN   \n",
      "Zeno Valentinian                        3   NaN     NaN           NaN   \n",
      "Zeno Varian                             0   NaN     NaN           NaN   \n",
      "Zeno Verecundus                         3   NaN     NaN           NaN   \n",
      "Zeno Verecundus                         3   NaN     NaN           NaN   \n",
      "\n",
      "                  Mental Resilience  Battle Experience  Age  Origin  Height  \\\n",
      "GLADIATOR                                                                     \n",
      "Acilius Acilius                 NaN                NaN  NaN       4     NaN   \n",
      "Acilius Agrippa                 NaN                NaN  NaN       1     NaN   \n",
      "Acilius Albinius                NaN                NaN  NaN       0     NaN   \n",
      "Acilius Albinius                NaN                NaN  NaN       2     NaN   \n",
      "Acilius Albinius                NaN                NaN  NaN       0     NaN   \n",
      "...                             ...                ...  ...     ...     ...   \n",
      "Zeno Valentinian                NaN                NaN  NaN       3     NaN   \n",
      "Zeno Valentinian                NaN                NaN  NaN       3     NaN   \n",
      "Zeno Varian                     NaN                NaN  NaN       2     NaN   \n",
      "Zeno Verecundus                 NaN                NaN  NaN       5     NaN   \n",
      "Zeno Verecundus                 NaN                NaN  NaN       5     NaN   \n",
      "\n",
      "                  Weight  \n",
      "GLADIATOR                 \n",
      "Acilius Acilius      NaN  \n",
      "Acilius Agrippa      NaN  \n",
      "Acilius Albinius     NaN  \n",
      "Acilius Albinius     NaN  \n",
      "Acilius Albinius     NaN  \n",
      "...                  ...  \n",
      "Zeno Valentinian     NaN  \n",
      "Zeno Valentinian     NaN  \n",
      "Zeno Varian          NaN  \n",
      "Zeno Verecundus      NaN  \n",
      "Zeno Verecundus      NaN  \n",
      "\n",
      "[109185 rows x 18 columns]\n"
     ]
    }
   ],
   "source": [
    "print(dfKlasifikacijja.drop_duplicates())"
   ]
  },
  {
   "cell_type": "markdown",
   "metadata": {},
   "source": [
    "Naloga 5 (10 T)\n",
    "S pomočjo regresija poskusite napovedati koliko zmag bo dosegel posamezni gladiator (Wins). Za podatke uporabite predprocesiran dataframe dfRegresija. Iz vhodnih podatkov izpustite tudi podatek Losses. Velikost učne množice naj bo 75%. Na naključno stanje uporabite 789. Za regresor uporabite regresijsko drevo.\n",
    "Kako dobro se je naučil model ocenite s povprečno absolutno napako in r2 score. Oboje zaokrožite na eno decimalko."
   ]
  },
  {
   "cell_type": "code",
   "execution_count": 68,
   "metadata": {},
   "outputs": [
    {
     "name": "stdout",
     "output_type": "stream",
     "text": [
      "Index(['Survived', 'Equipment Quality', 'Injury History', 'Tactical Knowledge',\n",
      "       'Health Status', 'Personal Motivation', 'Previous Occupation',\n",
      "       'Battle Strategy', 'Crowd Appeal Techniques', 'Wins', 'Losses',\n",
      "       'Public Favor', 'Mental Resilience', 'Battle Experience', 'Age',\n",
      "       'Origin', 'Height', 'Weight'],\n",
      "      dtype='object')\n"
     ]
    }
   ],
   "source": [
    "print(dfRegresija.columns)"
   ]
  },
  {
   "cell_type": "code",
   "execution_count": 84,
   "metadata": {},
   "outputs": [
    {
     "name": "stdout",
     "output_type": "stream",
     "text": [
      "           Survived  Equipment Quality  Injury History  Tactical Knowledge  \\\n",
      "GLADIATOR                                                                    \n",
      "Zeno Zeno         1                  0               1                   3   \n",
      "Zeno Zeno         1                  2               1                   2   \n",
      "Zeno Zeno         1                  2               1                   2   \n",
      "Zeno Zeno         1                  2               1                   2   \n",
      "Zeno Zeno         1                  2               1                   2   \n",
      "\n",
      "           Health Status  Personal Motivation  Previous Occupation  \\\n",
      "GLADIATOR                                                            \n",
      "Zeno Zeno              0                    0                    0   \n",
      "Zeno Zeno              2                    1                    2   \n",
      "Zeno Zeno              2                    1                    2   \n",
      "Zeno Zeno              2                    1                    2   \n",
      "Zeno Zeno              2                    1                    2   \n",
      "\n",
      "           Battle Strategy  Crowd Appeal Techniques      Wins    Losses  \\\n",
      "GLADIATOR                                                                 \n",
      "Zeno Zeno                1                        2  1.477500 -0.433496   \n",
      "Zeno Zeno                0                        2  0.613875 -0.433496   \n",
      "Zeno Zeno                0                        2  0.613875 -0.433496   \n",
      "Zeno Zeno                0                        2  1.477500 -0.433496   \n",
      "Zeno Zeno                0                        2  1.477500 -0.433496   \n",
      "\n",
      "           Public Favor  Mental Resilience  Battle Experience       Age  \\\n",
      "GLADIATOR                                                                 \n",
      "Zeno Zeno      1.426537          -0.093093           0.942370  1.300770   \n",
      "Zeno Zeno      2.205229          -1.243014           0.298869 -0.186097   \n",
      "Zeno Zeno      2.205229          -1.243014           0.298869  1.300770   \n",
      "Zeno Zeno      1.426537          -0.093093           0.942370 -0.186097   \n",
      "Zeno Zeno      1.426537          -0.093093           0.942370  1.300770   \n",
      "\n",
      "           Origin    Height    Weight  \n",
      "GLADIATOR                              \n",
      "Zeno Zeno       0 -1.117537  0.755757  \n",
      "Zeno Zeno       5 -0.725023  0.255816  \n",
      "Zeno Zeno       0 -1.117537  0.755757  \n",
      "Zeno Zeno       5 -0.725023  0.255816  \n",
      "Zeno Zeno       0 -1.117537  0.755757  \n",
      "           Survived  Equipment Quality  Injury History  Tactical Knowledge  \\\n",
      "GLADIATOR                                                                    \n",
      "Zeno Zeno         1                  0               1                   3   \n",
      "Zeno Zeno         1                  2               1                   2   \n",
      "Zeno Zeno         1                  2               1                   2   \n",
      "Zeno Zeno         1                  2               1                   2   \n",
      "Zeno Zeno         1                  2               1                   2   \n",
      "\n",
      "           Health Status  Personal Motivation  Previous Occupation  \\\n",
      "GLADIATOR                                                            \n",
      "Zeno Zeno              0                    0                    0   \n",
      "Zeno Zeno              2                    1                    2   \n",
      "Zeno Zeno              2                    1                    2   \n",
      "Zeno Zeno              2                    1                    2   \n",
      "Zeno Zeno              2                    1                    2   \n",
      "\n",
      "           Battle Strategy  Crowd Appeal Techniques      Wins    Losses  \\\n",
      "GLADIATOR                                                                 \n",
      "Zeno Zeno                1                        2  1.477500 -0.433496   \n",
      "Zeno Zeno                0                        2  0.613875 -0.433496   \n",
      "Zeno Zeno                0                        2  0.613875 -0.433496   \n",
      "Zeno Zeno                0                        2  1.477500 -0.433496   \n",
      "Zeno Zeno                0                        2  1.477500 -0.433496   \n",
      "\n",
      "           Public Favor  Mental Resilience  Battle Experience       Age  \\\n",
      "GLADIATOR                                                                 \n",
      "Zeno Zeno      1.426537          -0.093093           0.942370  1.300770   \n",
      "Zeno Zeno      2.205229          -1.243014           0.298869 -0.186097   \n",
      "Zeno Zeno      2.205229          -1.243014           0.298869  1.300770   \n",
      "Zeno Zeno      1.426537          -0.093093           0.942370 -0.186097   \n",
      "Zeno Zeno      1.426537          -0.093093           0.942370  1.300770   \n",
      "\n",
      "           Origin    Height    Weight  \n",
      "GLADIATOR                              \n",
      "Zeno Zeno       0 -1.117537  0.755757  \n",
      "Zeno Zeno       5 -0.725023  0.255816  \n",
      "Zeno Zeno       0 -1.117537  0.755757  \n",
      "Zeno Zeno       5 -0.725023  0.255816  \n",
      "Zeno Zeno       0 -1.117537  0.755757  \n"
     ]
    }
   ],
   "source": [
    "import pandas as pd\n",
    "from sklearn.preprocessing import StandardScaler, LabelEncoder\n",
    "\n",
    "# Kopija podatkov\n",
    "dfKlasifikacija = data.copy()\n",
    "dfRegresija=data.copy()\n",
    "\"\"\"\n",
    "# Preverjanje NaN vrednosti\n",
    "print(dfKlasifikacija.isna().sum())\n",
    "\n",
    "# Odstranjevanje ali imputacija NaN vrednosti (primer imputacije z mediano)\n",
    "for col in dfKlasifikacija.columns:\n",
    "    if dfKlasifikacija[col].dtype in ['float64', 'int64']:  # Numeric columns\n",
    "        median_val = dfKlasifikacija[col].median()\n",
    "        dfKlasifikacija[col].fillna(median_val, inplace=True)\n",
    "\"\"\"\n",
    "# Kodiranje kategoričnih spremenljivk\n",
    "kat = dfKlasifikacija.select_dtypes(include=[\"object\", \"string\"]).columns\n",
    "label_encoder = LabelEncoder()\n",
    "for col in kat:\n",
    "    dfKlasifikacija[col] = label_encoder.fit_transform(dfKlasifikacija[col])\n",
    "    dfRegresija[col]=label_encoder.fit_transform(dfRegresija[col])\n",
    "\n",
    "# Standardizacija številskih spremenljivk\n",
    "st = dfKlasifikacija.select_dtypes(include=[\"float64\", \"int64\"]).columns\n",
    "scaler = StandardScaler()\n",
    "dfKlasifikacija[st] = scaler.fit_transform(dfKlasifikacija[st])\n",
    "dfRegresija[st]=scaler.fit_transform(dfRegresija[st])\n",
    "\n",
    "# Preverjanje rezultata\n",
    "print(dfKlasifikacija.tail())\n",
    "print(dfRegresija.tail())\n"
   ]
  },
  {
   "cell_type": "code",
   "execution_count": 85,
   "metadata": {},
   "outputs": [
    {
     "name": "stdout",
     "output_type": "stream",
     "text": [
      "R2: 0.996903264711941 MAE: 0.02708365595333624\n"
     ]
    }
   ],
   "source": [
    "from sklearn.metrics import mean_absolute_error, r2_score\n",
    "from sklearn.model_selection import train_test_split\n",
    "from sklearn.tree import DecisionTreeRegressor\n",
    "\n",
    "\n",
    "x=dfRegresija.drop([\"Wins\",\"Losses\"], axis=1)\n",
    "\n",
    "y=data[\"Wins\"]\n",
    "\n",
    "x_train,x_test,y_tran,y_test=train_test_split(x,y,test_size=0.25,random_state=789)\n",
    "\n",
    "model=DecisionTreeRegressor()\n",
    "\n",
    "model.fit(x_train,y_tran)\n",
    "\n",
    "pred=model.predict(x_test)\n",
    "\n",
    "print(f\"R2: {r2_score(y_test,pred)} MAE: {mean_absolute_error(y_test,pred)}\")"
   ]
  },
  {
   "cell_type": "markdown",
   "metadata": {},
   "source": [
    "Naloga 6 (20 T)\n",
    "S pomočjo klasifikacije napovejte ali bo gladiator preživel spopade ali ne (Survived). Iz vhodnih podatkov odstranite še stolpec Wins in Losses. Podatke iz predprocesiranega dfKlasifikacija delite na učne in testne in sicer s pomočjo stratificirane delitve na 6 foldov.\n",
    "Nad podatki preizkusite dva klasifikatorja - naključni gozd in logistično regresijo. Ker želimo doseči najvišjo možno točnost klasifikacije to izvedite s pomočjo iskanja najboljših nastavitev parametrov po principu naključnega iskanja (RandomizedSearchCV). Omejite ga na 5 iteracij.\n",
    "Za nakjučni gozd preizkusite:\n",
    "naključna število dreves med 5 in 10,\n",
    "kriterij “gini” in “entropy”.\n",
    "Za logistično regresijo pa:\n",
    "penalty “l2” ali None.\n",
    "Najboljše izračunane vrednosti točnosti za oba klasifkatorja prikažite v stolpičnem grafu."
   ]
  },
  {
   "cell_type": "markdown",
   "metadata": {},
   "source": []
  },
  {
   "cell_type": "code",
   "execution_count": 89,
   "metadata": {},
   "outputs": [
    {
     "name": "stderr",
     "output_type": "stream",
     "text": [
      "c:\\Users\\jasar\\ANACONDA3\\Lib\\site-packages\\sklearn\\model_selection\\_search.py:305: UserWarning: The total space of parameters 4 is smaller than n_iter=5. Running 4 iterations. For exhaustive searches, use GridSearchCV.\n",
      "  warnings.warn(\n",
      "c:\\Users\\jasar\\ANACONDA3\\Lib\\site-packages\\sklearn\\model_selection\\_search.py:305: UserWarning: The total space of parameters 2 is smaller than n_iter=5. Running 2 iterations. For exhaustive searches, use GridSearchCV.\n",
      "  warnings.warn(\n"
     ]
    },
    {
     "name": "stdout",
     "output_type": "stream",
     "text": [
      "0.5415579284709583\n",
      "0.5197041980094552\n"
     ]
    },
    {
     "data": {
      "text/plain": [
       "<Axes: >"
      ]
     },
     "execution_count": 89,
     "metadata": {},
     "output_type": "execute_result"
    },
    {
     "data": {
      "image/png": "[encoded data removed]",
      "text/plain": [
       "<Figure size 640x480 with 1 Axes>"
      ]
     },
     "metadata": {},
     "output_type": "display_data"
    }
   ],
   "source": [
    "from sklearn.linear_model import LogisticRegression\n",
    "from sklearn.ensemble import RandomForestClassifier\n",
    "from sklearn.model_selection import GridSearchCV, RandomizedSearchCV, StratifiedKFold\n",
    "import seaborn as sns\n",
    "\n",
    "x=dfKlasifikacija.drop([\"Wins\",\"Losses\",\"Survived\"], axis=1)\n",
    "y=dfKlasifikacija[\"Survived\"]\n",
    "\n",
    "fold=StratifiedKFold(n_splits=6)\n",
    "rf=RandomForestClassifier()\n",
    "lr=LogisticRegression()\n",
    "rf_param={\"n_estimators\":[5,10],\n",
    "          \"criterion\":[\"gini\",\"entropy\"]}\n",
    "lr_param={\"penalty\":[\"l2\",None]}\n",
    "rid_rf=RandomizedSearchCV(RandomForestClassifier(),param_distributions=rf_param,cv=fold,scoring=\"accuracy\", n_iter=5)\n",
    "rid_lr=RandomizedSearchCV(LogisticRegression(),param_distributions=lr_param,cv=fold,scoring=\"accuracy\",n_iter=5)\n",
    "\n",
    "rid_rf.fit(x,y)\n",
    "rid_lr.fit(x,y)\n",
    "\n",
    "print(rid_lr.best_score_)\n",
    "print(rid_rf.best_score_)\n",
    "\n",
    "imena=[\"RF\",\"LR\"]\n",
    "score=[rid_lr.best_score_,rid_rf.best_score_]\n",
    "sns.barplot(x=imena,y=score)"
   ]
  },
  {
   "cell_type": "markdown",
   "metadata": {},
   "source": [
    "Naloga 7 (10 T)\n",
    "Za konec naredite še gručenje nad enakim datasetom, kot ste ga uporabili za regresijo. Podatke transformirajte s pomočjo FastICA dekompozicije. Kot algoritem gručenja uporabite KMeans.\n",
    "Da boste vedeli koliko je najbolj optimalno število gruč na katere je smiselno deliti podatke pred gručenjem izrišite graf z izračunanimi inerciami za od 1 do (vključno) 8 gruč, nad transformiranimi podatki. Po pravilu komolca iz grafa preberite najbolj optimalno število gruč in ga uporabite v algoritmu.\n",
    "Izrišite graf, v katerem prikažete transformirane podatke, ki so obarvani glede na gručo, v katero so razvrščeni."
   ]
  },
  {
   "cell_type": "code",
   "execution_count": 92,
   "metadata": {},
   "outputs": [
    {
     "name": "stderr",
     "output_type": "stream",
     "text": [
      "c:\\Users\\jasar\\ANACONDA3\\Lib\\site-packages\\sklearn\\decomposition\\_fastica.py:542: FutureWarning: Starting in v1.3, whiten='unit-variance' will be used by default.\n",
      "  warnings.warn(\n"
     ]
    },
    {
     "name": "stdout",
     "output_type": "stream",
     "text": [
      "{1: 18.000570912866092, 2: 18.000570912866092, 3: 18.000570912866092, 4: 18.000570912866092, 5: 18.000570912866092, 6: 18.000570912866092, 7: 18.000570912866092, 8: 18.000570912866092}\n"
     ]
    },
    {
     "data": {
      "text/plain": [
       "<Axes: >"
      ]
     },
     "execution_count": 92,
     "metadata": {},
     "output_type": "execute_result"
    },
    {
     "data": {
      "image/png": "[encoded data removed]",
      "text/plain": [
       "<Figure size 640x480 with 1 Axes>"
      ]
     },
     "metadata": {},
     "output_type": "display_data"
    }
   ],
   "source": [
    "from sklearn.decomposition import FastICA\n",
    "from sklearn.cluster import KMeans\n",
    "import matplotlib.pyplot as plt\n",
    "\n",
    "v_in={}\n",
    "ica=FastICA()\n",
    "df_ica=ica.fit_transform(dfRegresija)\n",
    "for i in range(1,9):\n",
    "    kmeans=KMeans(n_clusters=1,random_state=0,n_init=\"auto\").fit(df_ica)\n",
    "    v_in[i]=kmeans.inertia_\n",
    "print(v_in)\n",
    "km2=KMeans(n_clusters=2,random_state=0,n_init=\"auto\").fit(df_ica)\n",
    "sns.lineplot(x=v_in.keys(),y=v_in.values())\n"
   ]
  },
  {
   "cell_type": "code",
   "execution_count": 91,
   "metadata": {},
   "outputs": [
    {
     "data": {
      "text/plain": [
       "<Axes: >"
      ]
     },
     "execution_count": 91,
     "metadata": {},
     "output_type": "execute_result"
    },
    {
     "data": {
      "image/png": "[encoded data removed]",
      "text/plain": [
       "<Figure size 640x480 with 1 Axes>"
      ]
     },
     "metadata": {},
     "output_type": "display_data"
    }
   ],
   "source": [
    "sns.scatterplot(x=df_ica[:,0],y=df_ica[:,1],hue=km2.labels_)"
   ]
  }
 ],
 "metadata": {
  "kernelspec": {
   "display_name": "Python 3",
   "language": "python",
   "name": "python3"
  },
  "language_info": {
   "codemirror_mode": {
    "name": "ipython",
    "version": 3
   },
   "file_extension": ".py",
   "mimetype": "text/x-python",
   "name": "python",
   "nbconvert_exporter": "python",
   "pygments_lexer": "ipython3",
   "version": "3.11.5"
  }
 },
 "nbformat": 4,
 "nbformat_minor": 2
}
