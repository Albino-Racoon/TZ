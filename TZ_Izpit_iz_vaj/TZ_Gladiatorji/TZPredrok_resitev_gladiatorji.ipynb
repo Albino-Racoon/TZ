{
 "cells": [
  {
   "cell_type": "markdown",
   "id": "7e6a01703dd99fcb",
   "metadata": {
    "collapsed": false
   },
   "source": [
    "# Izpit iz vaj (16. 1. 2024)\n",
    "\n",
    "### Tematika podatkov: Gladiatorske igre\n",
    "\n",
    "Tokrat se boste srečali s tematiko, ki se navezuje na rimske čase in sicer na gladiatorske boje. To so bili boji, ki so se pretežno izvjali v arenah in so takrat predstavljali glavno zabavo ljudi. Gladiatorji so bili bojevniki, ki so se z orožjem pomerili med sabo. Večinoma so bili to sužnji ali pa sinovi propadlih družin. Glede na njihove karakteristike boste poskusili napovedati kdo izmed teh bojevnikov bo preživel.\n",
    "\n",
    "### Podatki\n",
    "\n",
    "V štirih datotekah (`gladiator_personal_data.csv`, `gladiator_statistics.csv`,`gladiator_skills.xlsx`, `gladiator_status.txt`) se nahajajo podatki o gladiatorjih, njihovi bojni statistiki in veščinah. Prva datoteka vsebuje *splošne podatke o gladiatorju*, druga datoteka vsebuje *statistiko njegovih dosedanjih bojev*, tretja *podatke o njegovih lastnostih* in zadnja *podatke o tem ali je preživel ali ne*.\n",
    "\n",
    "#### V pomoč pri razumevanju posameznih spremenljivk so vam lahko naslednji opisi ter vrsta podatkov (številski/kategorični podatek):\n",
    "- Age - starost gladiatorja. *številski*\n",
    "- Origin - od kod gladiator prihaja. *kategoričen*\n",
    "- Height - višina gladiatorja. *številski*\n",
    "- Weigh - teža gladiatorja. *številski*\n",
    "- Wins - število do sedaj doseženih zmag. *številski*\n",
    "- Losses - število porazov, ki jih je do sedaj doživel. *številski*\n",
    "- Equipment Quality - kakovost njegove opreme (basic, superior, ...). *kategoričen*\n",
    "- Public Favor - stopnja popularnosti gladiatorja med publiko. *številski*\n",
    "- Injury History - zgodovina poškodb (low, high). *kategoričen*\n",
    "- Mental Resilience - stopnja sposobnost gladiatorja, da prenese stres in psihološke pritiske. *številski*\n",
    "- Tactical Knowledge - poznavanje bojnih taktik (advanced, expert, ...). *kategoričen*\n",
    "- Battle Experience - koliko let bojevanja ima za sabo. *številski*\n",
    "- Health Status - zdravstevno stanje (excellent, good, ...). *kategoričen*\n",
    "- Personal Motivation - glavna motivacija za bojevanje (glory, survival, ...). *kategoričen*\n",
    "- Previous Occupation - dejavnost s katero se je ukvarjal, preden je postal gladiator (laborer, criminal, soldier, ... ). *kategoričen*\n",
    "- Battle Strategy - prednostna strategija, ki jo gladiator uporablja v boju (balanced, aggressive, ...). *kategoričen*\n",
    "- Crowd Appeal Techniques - tehnike, ki jih uporablja gladiator, da pritegne občinstvo (intimidating, humble, ...). *kategoričen*\n",
    "- Survived - ali je gladiator preživel boje (yes, no). *kategoričen*"
   ]
  },
  {
   "cell_type": "markdown",
   "id": "fc221a6bbccd3beb",
   "metadata": {
    "collapsed": false
   },
   "source": [
    "### Naloga 1 *(15 T)*\n",
    "\n",
    "V dataframe preberite vse štiri datoteke s podatki: `gladiator_personal_data.csv`, `gladiator_statistics.csv`, `gladiator_skills.xlsx` in `gladiator_status.txt`. Vse prebrane podatke iz datotek nato združite v en dataframe, glede na ime gladiatorja. Indeks stolpec naj bo poimenovan *GLADIATOR*.\n",
    "\n",
    "- Na **dva**(!) različna načina izpišite **prve 3 vrstice** tega združenega datafram-a.\n",
    "- izpišite koliko **stolpcev in vrstic** je v združenem datafram-u.\n",
    "- Izpišite **podatkovne tipe** za stolpce od drugega do (vključno) petega.\n",
    "- Izpišite koliko je posameznih **unikatnih vrednosti** v stolpcu Equipment Quality.\n",
    "- Izpišite vse podatke za gladiatorja \"Nero Menenius\".\n",
    "- Zapišite število gladiatorjev, ki so doživeli 4 ali 5 porazov (Losses). Rezultat poizvedbe mora biti številka!\n"
   ]
  },
  {
   "cell_type": "code",
   "execution_count": 1,
   "id": "initial_id",
   "metadata": {
    "ExecuteTime": {
     "end_time": "2024-03-06T12:04:59.559122200Z",
     "start_time": "2024-03-06T12:04:23.382312300Z"
    },
    "collapsed": true
   },
   "outputs": [
    {
     "name": "stdout",
     "output_type": "stream",
     "text": [
      "                 Equipment Quality Injury History Tactical Knowledge  \\\n",
      "GLADIATOR                                                              \n",
      "Acilius Acilius           Standard           High       Intermediate   \n",
      "Acilius Agrippa           Superior            Low           Advanced   \n",
      "Acilius Albinius          Superior           High           Advanced   \n",
      "Acilius Albinius          Superior           High           Advanced   \n",
      "Acilius Albinius          Superior           High           Advanced   \n",
      "...                            ...            ...                ...   \n",
      "Zeno Zeno                 Superior            Low             Expert   \n",
      "Zeno Zeno                 Superior            Low             Expert   \n",
      "Zeno Zeno                 Superior            Low             Expert   \n",
      "Zeno Zeno                 Superior            Low             Expert   \n",
      "Zeno Zeno                 Superior            Low             Expert   \n",
      "\n",
      "                 Health Status Personal Motivation Previous Occupation  \\\n",
      "GLADIATOR                                                                \n",
      "Acilius Acilius           Good             Freedom             Laborer   \n",
      "Acilius Agrippa      Excellent           Vengeance         Entertainer   \n",
      "Acilius Albinius          Good           Vengeance         Entertainer   \n",
      "Acilius Albinius          Good           Vengeance         Entertainer   \n",
      "Acilius Albinius          Good           Vengeance         Entertainer   \n",
      "...                        ...                 ...                 ...   \n",
      "Zeno Zeno                 Good               Glory             Laborer   \n",
      "Zeno Zeno                 Good               Glory             Laborer   \n",
      "Zeno Zeno                 Good               Glory             Laborer   \n",
      "Zeno Zeno                 Good               Glory             Laborer   \n",
      "Zeno Zeno                 Good               Glory             Laborer   \n",
      "\n",
      "                 Battle Strategy Crowd Appeal Techniques  Age    Origin  \\\n",
      "GLADIATOR                                                                 \n",
      "Acilius Acilius         Balanced            Intimidating   27      Rome   \n",
      "Acilius Agrippa         Balanced             Charismatic   28  Germania   \n",
      "Acilius Albinius        Balanced                  Humble   31      Gaul   \n",
      "Acilius Albinius        Balanced                  Humble   31      Gaul   \n",
      "Acilius Albinius        Balanced                  Humble   31      Gaul   \n",
      "...                          ...                     ...  ...       ...   \n",
      "Zeno Zeno             Aggressive                  Humble   30    Thrace   \n",
      "Zeno Zeno             Aggressive                  Humble   42      Gaul   \n",
      "Zeno Zeno             Aggressive                  Humble   42      Gaul   \n",
      "Zeno Zeno             Aggressive                  Humble   42      Gaul   \n",
      "Zeno Zeno             Aggressive                  Humble   42      Gaul   \n",
      "\n",
      "                  Height  Weight Survived  Wins  Losses        Public Favor  \\\n",
      "GLADIATOR                                                                     \n",
      "Acilius Acilius      169    78.0       No     6       4   0,577527615349577   \n",
      "Acilius Agrippa      165    85.0      Yes     5       1  0,5847727520421839   \n",
      "Acilius Albinius     182    77.0      Yes    12       5   0,783058673119471   \n",
      "Acilius Albinius     182    77.0      Yes     5       2  0,5749002835630204   \n",
      "Acilius Albinius     182    77.0      Yes    12       5   0,783058673119471   \n",
      "...                  ...     ...      ...   ...     ...                 ...   \n",
      "Zeno Zeno            168    86.0      Yes    13       1  0,8933440235770094   \n",
      "Zeno Zeno            164    94.0      Yes    10       1  1,0003092415243269   \n",
      "Zeno Zeno            164    94.0      Yes    13       1  0,8933440235770094   \n",
      "Zeno Zeno            164    94.0      Yes    10       1  1,0003092415243269   \n",
      "Zeno Zeno            164    94.0      Yes    13       1  0,8933440235770094   \n",
      "\n",
      "                   Mental Resilience Battle Experience  \n",
      "GLADIATOR                                               \n",
      "Acilius Acilius    2,404240460558081              10,0  \n",
      "Acilius Agrippa    8,185433054539818               6,0  \n",
      "Acilius Albinius   3,676154590490071              17,0  \n",
      "Acilius Albinius   6,859275689177089               7,0  \n",
      "Acilius Albinius   3,676154590490071              17,0  \n",
      "...                              ...               ...  \n",
      "Zeno Zeno           4,30626835289031              14,0  \n",
      "Zeno Zeno         1,6284450636813852              11,0  \n",
      "Zeno Zeno           4,30626835289031              14,0  \n",
      "Zeno Zeno         1,6284450636813852              11,0  \n",
      "Zeno Zeno           4,30626835289031              14,0  \n",
      "\n",
      "[3524609 rows x 18 columns]\n"
     ]
    }
   ],
   "source": [
    "import pandas as pd\n",
    "\n",
    "df_gladiator_personal=pd.read_csv(\"gladiator_personal_data.csv\",sep=\"\t\",index_col=0)\n",
    "df_gladiator_stat=pd.read_csv(\"gladiator_statistics.csv\",sep=\";\",index_col=0)\n",
    "df_gladiator_status=pd.read_csv(\"gladiator_status.txt\",sep=\" \",index_col=0)\n",
    "df_gladiator_skils=pd.read_excel(\"gladiator_skills.xlsx\",index_col=0)\n",
    "\n",
    "data=pd.merge(df_gladiator_skils,df_gladiator_personal,left_index=True,right_index=True)\n",
    "data=pd.merge(data,df_gladiator_status,left_index=True,right_index=True)\n",
    "data=pd.merge(data,df_gladiator_stat,left_index=True,right_index=True)\n",
    "\n",
    "data.index.name=\"GLADIATOR\"\n",
    "print(data)"
   ]
  },
  {
   "cell_type": "code",
   "execution_count": 2,
   "id": "af691ffd7cdb1517",
   "metadata": {
    "ExecuteTime": {
     "end_time": "2024-03-06T12:04:59.621745700Z",
     "start_time": "2024-03-06T12:04:59.563775100Z"
    },
    "collapsed": false
   },
   "outputs": [
    {
     "data": {
      "text/html": [
       "<div>\n",
       "<style scoped>\n",
       "    .dataframe tbody tr th:only-of-type {\n",
       "        vertical-align: middle;\n",
       "    }\n",
       "\n",
       "    .dataframe tbody tr th {\n",
       "        vertical-align: top;\n",
       "    }\n",
       "\n",
       "    .dataframe thead th {\n",
       "        text-align: right;\n",
       "    }\n",
       "</style>\n",
       "<table border=\"1\" class=\"dataframe\">\n",
       "  <thead>\n",
       "    <tr style=\"text-align: right;\">\n",
       "      <th></th>\n",
       "      <th>Equipment Quality</th>\n",
       "      <th>Injury History</th>\n",
       "      <th>Tactical Knowledge</th>\n",
       "      <th>Health Status</th>\n",
       "      <th>Personal Motivation</th>\n",
       "      <th>Previous Occupation</th>\n",
       "      <th>Battle Strategy</th>\n",
       "      <th>Crowd Appeal Techniques</th>\n",
       "      <th>Age</th>\n",
       "      <th>Origin</th>\n",
       "      <th>Height</th>\n",
       "      <th>Weight</th>\n",
       "      <th>Survived</th>\n",
       "      <th>Wins</th>\n",
       "      <th>Losses</th>\n",
       "      <th>Public Favor</th>\n",
       "      <th>Mental Resilience</th>\n",
       "      <th>Battle Experience</th>\n",
       "    </tr>\n",
       "    <tr>\n",
       "      <th>GLADIATOR</th>\n",
       "      <th></th>\n",
       "      <th></th>\n",
       "      <th></th>\n",
       "      <th></th>\n",
       "      <th></th>\n",
       "      <th></th>\n",
       "      <th></th>\n",
       "      <th></th>\n",
       "      <th></th>\n",
       "      <th></th>\n",
       "      <th></th>\n",
       "      <th></th>\n",
       "      <th></th>\n",
       "      <th></th>\n",
       "      <th></th>\n",
       "      <th></th>\n",
       "      <th></th>\n",
       "      <th></th>\n",
       "    </tr>\n",
       "  </thead>\n",
       "  <tbody>\n",
       "    <tr>\n",
       "      <th>Acilius Acilius</th>\n",
       "      <td>Standard</td>\n",
       "      <td>High</td>\n",
       "      <td>Intermediate</td>\n",
       "      <td>Good</td>\n",
       "      <td>Freedom</td>\n",
       "      <td>Laborer</td>\n",
       "      <td>Balanced</td>\n",
       "      <td>Intimidating</td>\n",
       "      <td>27</td>\n",
       "      <td>Rome</td>\n",
       "      <td>169</td>\n",
       "      <td>78.0</td>\n",
       "      <td>No</td>\n",
       "      <td>6</td>\n",
       "      <td>4</td>\n",
       "      <td>0,577527615349577</td>\n",
       "      <td>2,404240460558081</td>\n",
       "      <td>10,0</td>\n",
       "    </tr>\n",
       "    <tr>\n",
       "      <th>Acilius Agrippa</th>\n",
       "      <td>Superior</td>\n",
       "      <td>Low</td>\n",
       "      <td>Advanced</td>\n",
       "      <td>Excellent</td>\n",
       "      <td>Vengeance</td>\n",
       "      <td>Entertainer</td>\n",
       "      <td>Balanced</td>\n",
       "      <td>Charismatic</td>\n",
       "      <td>28</td>\n",
       "      <td>Germania</td>\n",
       "      <td>165</td>\n",
       "      <td>85.0</td>\n",
       "      <td>Yes</td>\n",
       "      <td>5</td>\n",
       "      <td>1</td>\n",
       "      <td>0,5847727520421839</td>\n",
       "      <td>8,185433054539818</td>\n",
       "      <td>6,0</td>\n",
       "    </tr>\n",
       "    <tr>\n",
       "      <th>Acilius Albinius</th>\n",
       "      <td>Superior</td>\n",
       "      <td>High</td>\n",
       "      <td>Advanced</td>\n",
       "      <td>Good</td>\n",
       "      <td>Vengeance</td>\n",
       "      <td>Entertainer</td>\n",
       "      <td>Balanced</td>\n",
       "      <td>Humble</td>\n",
       "      <td>31</td>\n",
       "      <td>Gaul</td>\n",
       "      <td>182</td>\n",
       "      <td>77.0</td>\n",
       "      <td>Yes</td>\n",
       "      <td>12</td>\n",
       "      <td>5</td>\n",
       "      <td>0,783058673119471</td>\n",
       "      <td>3,676154590490071</td>\n",
       "      <td>17,0</td>\n",
       "    </tr>\n",
       "  </tbody>\n",
       "</table>\n",
       "</div>"
      ],
      "text/plain": [
       "                 Equipment Quality Injury History Tactical Knowledge  \\\n",
       "GLADIATOR                                                              \n",
       "Acilius Acilius           Standard           High       Intermediate   \n",
       "Acilius Agrippa           Superior            Low           Advanced   \n",
       "Acilius Albinius          Superior           High           Advanced   \n",
       "\n",
       "                 Health Status Personal Motivation Previous Occupation  \\\n",
       "GLADIATOR                                                                \n",
       "Acilius Acilius           Good             Freedom             Laborer   \n",
       "Acilius Agrippa      Excellent           Vengeance         Entertainer   \n",
       "Acilius Albinius          Good           Vengeance         Entertainer   \n",
       "\n",
       "                 Battle Strategy Crowd Appeal Techniques  Age    Origin  \\\n",
       "GLADIATOR                                                                 \n",
       "Acilius Acilius         Balanced            Intimidating   27      Rome   \n",
       "Acilius Agrippa         Balanced             Charismatic   28  Germania   \n",
       "Acilius Albinius        Balanced                  Humble   31      Gaul   \n",
       "\n",
       "                  Height  Weight Survived  Wins  Losses        Public Favor  \\\n",
       "GLADIATOR                                                                     \n",
       "Acilius Acilius      169    78.0       No     6       4   0,577527615349577   \n",
       "Acilius Agrippa      165    85.0      Yes     5       1  0,5847727520421839   \n",
       "Acilius Albinius     182    77.0      Yes    12       5   0,783058673119471   \n",
       "\n",
       "                  Mental Resilience Battle Experience  \n",
       "GLADIATOR                                              \n",
       "Acilius Acilius   2,404240460558081              10,0  \n",
       "Acilius Agrippa   8,185433054539818               6,0  \n",
       "Acilius Albinius  3,676154590490071              17,0  "
      ]
     },
     "execution_count": 2,
     "metadata": {},
     "output_type": "execute_result"
    }
   ],
   "source": [
    "data.head(3)\n"
   ]
  },
  {
   "cell_type": "code",
   "execution_count": 3,
   "id": "1d1cb6566a583ab7",
   "metadata": {
    "ExecuteTime": {
     "end_time": "2024-03-06T12:04:59.625739200Z",
     "start_time": "2024-03-06T12:04:59.593827600Z"
    },
    "collapsed": false
   },
   "outputs": [
    {
     "data": {
      "text/html": [
       "<div>\n",
       "<style scoped>\n",
       "    .dataframe tbody tr th:only-of-type {\n",
       "        vertical-align: middle;\n",
       "    }\n",
       "\n",
       "    .dataframe tbody tr th {\n",
       "        vertical-align: top;\n",
       "    }\n",
       "\n",
       "    .dataframe thead th {\n",
       "        text-align: right;\n",
       "    }\n",
       "</style>\n",
       "<table border=\"1\" class=\"dataframe\">\n",
       "  <thead>\n",
       "    <tr style=\"text-align: right;\">\n",
       "      <th></th>\n",
       "      <th>Equipment Quality</th>\n",
       "      <th>Injury History</th>\n",
       "      <th>Tactical Knowledge</th>\n",
       "      <th>Health Status</th>\n",
       "      <th>Personal Motivation</th>\n",
       "      <th>Previous Occupation</th>\n",
       "      <th>Battle Strategy</th>\n",
       "      <th>Crowd Appeal Techniques</th>\n",
       "      <th>Age</th>\n",
       "      <th>Origin</th>\n",
       "      <th>Height</th>\n",
       "      <th>Weight</th>\n",
       "      <th>Survived</th>\n",
       "      <th>Wins</th>\n",
       "      <th>Losses</th>\n",
       "      <th>Public Favor</th>\n",
       "      <th>Mental Resilience</th>\n",
       "      <th>Battle Experience</th>\n",
       "    </tr>\n",
       "    <tr>\n",
       "      <th>GLADIATOR</th>\n",
       "      <th></th>\n",
       "      <th></th>\n",
       "      <th></th>\n",
       "      <th></th>\n",
       "      <th></th>\n",
       "      <th></th>\n",
       "      <th></th>\n",
       "      <th></th>\n",
       "      <th></th>\n",
       "      <th></th>\n",
       "      <th></th>\n",
       "      <th></th>\n",
       "      <th></th>\n",
       "      <th></th>\n",
       "      <th></th>\n",
       "      <th></th>\n",
       "      <th></th>\n",
       "      <th></th>\n",
       "    </tr>\n",
       "  </thead>\n",
       "  <tbody>\n",
       "    <tr>\n",
       "      <th>Acilius Acilius</th>\n",
       "      <td>Standard</td>\n",
       "      <td>High</td>\n",
       "      <td>Intermediate</td>\n",
       "      <td>Good</td>\n",
       "      <td>Freedom</td>\n",
       "      <td>Laborer</td>\n",
       "      <td>Balanced</td>\n",
       "      <td>Intimidating</td>\n",
       "      <td>27</td>\n",
       "      <td>Rome</td>\n",
       "      <td>169</td>\n",
       "      <td>78.0</td>\n",
       "      <td>No</td>\n",
       "      <td>6</td>\n",
       "      <td>4</td>\n",
       "      <td>0,577527615349577</td>\n",
       "      <td>2,404240460558081</td>\n",
       "      <td>10,0</td>\n",
       "    </tr>\n",
       "    <tr>\n",
       "      <th>Acilius Agrippa</th>\n",
       "      <td>Superior</td>\n",
       "      <td>Low</td>\n",
       "      <td>Advanced</td>\n",
       "      <td>Excellent</td>\n",
       "      <td>Vengeance</td>\n",
       "      <td>Entertainer</td>\n",
       "      <td>Balanced</td>\n",
       "      <td>Charismatic</td>\n",
       "      <td>28</td>\n",
       "      <td>Germania</td>\n",
       "      <td>165</td>\n",
       "      <td>85.0</td>\n",
       "      <td>Yes</td>\n",
       "      <td>5</td>\n",
       "      <td>1</td>\n",
       "      <td>0,5847727520421839</td>\n",
       "      <td>8,185433054539818</td>\n",
       "      <td>6,0</td>\n",
       "    </tr>\n",
       "    <tr>\n",
       "      <th>Acilius Albinius</th>\n",
       "      <td>Superior</td>\n",
       "      <td>High</td>\n",
       "      <td>Advanced</td>\n",
       "      <td>Good</td>\n",
       "      <td>Vengeance</td>\n",
       "      <td>Entertainer</td>\n",
       "      <td>Balanced</td>\n",
       "      <td>Humble</td>\n",
       "      <td>31</td>\n",
       "      <td>Gaul</td>\n",
       "      <td>182</td>\n",
       "      <td>77.0</td>\n",
       "      <td>Yes</td>\n",
       "      <td>12</td>\n",
       "      <td>5</td>\n",
       "      <td>0,783058673119471</td>\n",
       "      <td>3,676154590490071</td>\n",
       "      <td>17,0</td>\n",
       "    </tr>\n",
       "  </tbody>\n",
       "</table>\n",
       "</div>"
      ],
      "text/plain": [
       "                 Equipment Quality Injury History Tactical Knowledge  \\\n",
       "GLADIATOR                                                              \n",
       "Acilius Acilius           Standard           High       Intermediate   \n",
       "Acilius Agrippa           Superior            Low           Advanced   \n",
       "Acilius Albinius          Superior           High           Advanced   \n",
       "\n",
       "                 Health Status Personal Motivation Previous Occupation  \\\n",
       "GLADIATOR                                                                \n",
       "Acilius Acilius           Good             Freedom             Laborer   \n",
       "Acilius Agrippa      Excellent           Vengeance         Entertainer   \n",
       "Acilius Albinius          Good           Vengeance         Entertainer   \n",
       "\n",
       "                 Battle Strategy Crowd Appeal Techniques  Age    Origin  \\\n",
       "GLADIATOR                                                                 \n",
       "Acilius Acilius         Balanced            Intimidating   27      Rome   \n",
       "Acilius Agrippa         Balanced             Charismatic   28  Germania   \n",
       "Acilius Albinius        Balanced                  Humble   31      Gaul   \n",
       "\n",
       "                  Height  Weight Survived  Wins  Losses        Public Favor  \\\n",
       "GLADIATOR                                                                     \n",
       "Acilius Acilius      169    78.0       No     6       4   0,577527615349577   \n",
       "Acilius Agrippa      165    85.0      Yes     5       1  0,5847727520421839   \n",
       "Acilius Albinius     182    77.0      Yes    12       5   0,783058673119471   \n",
       "\n",
       "                  Mental Resilience Battle Experience  \n",
       "GLADIATOR                                              \n",
       "Acilius Acilius   2,404240460558081              10,0  \n",
       "Acilius Agrippa   8,185433054539818               6,0  \n",
       "Acilius Albinius  3,676154590490071              17,0  "
      ]
     },
     "execution_count": 3,
     "metadata": {},
     "output_type": "execute_result"
    }
   ],
   "source": [
    "data.iloc[0:3]"
   ]
  },
  {
   "cell_type": "code",
   "execution_count": 4,
   "id": "ca3476022273d6f5",
   "metadata": {
    "ExecuteTime": {
     "end_time": "2024-03-06T12:04:59.717494300Z",
     "start_time": "2024-03-06T12:04:59.625739200Z"
    },
    "collapsed": false
   },
   "outputs": [
    {
     "data": {
      "text/plain": [
       "(3524609, 18)"
      ]
     },
     "execution_count": 4,
     "metadata": {},
     "output_type": "execute_result"
    }
   ],
   "source": [
    "df=pd.DataFrame(data)\n",
    "data.shape"
   ]
  },
  {
   "cell_type": "markdown",
   "id": "187779421d699c50",
   "metadata": {
    "collapsed": false
   },
   "source": [
    "- Izpišite **podatkovne tipe** za stolpce od drugega do (vključno) petega.\n",
    "- Izpišite koliko je posameznih **unikatnih vrednosti** v stolpcu Equipment Quality.\n",
    "- Izpišite vse podatke za gladiatorja \"Nero Menenius\".\n",
    "- Zapišite število gladiatorjev, ki so doživeli 4 ali 5 porazov (Losses). Rezultat poizvedbe mora biti številka!"
   ]
  },
  {
   "cell_type": "code",
   "execution_count": 5,
   "id": "b4849ec707323342",
   "metadata": {
    "ExecuteTime": {
     "end_time": "2024-03-06T12:05:00.261896200Z",
     "start_time": "2024-03-06T12:04:59.643500700Z"
    },
    "collapsed": false
   },
   "outputs": [
    {
     "name": "stdout",
     "output_type": "stream",
     "text": [
      "Injury History         object\n",
      "Tactical Knowledge     object\n",
      "Health Status          object\n",
      "Personal Motivation    object\n",
      "dtype: object\n"
     ]
    }
   ],
   "source": [
    "# Imena stolpcev od drugega do petega\n",
    "column_names = df.columns[1:5]  # Indeksi se začnejo z 0, Python sledi pravilu \"vključno od, izključno do\"\n",
    "\n",
    "# Podatkovni tipi teh stolpcev\n",
    "data_types = df[column_names].dtypes\n",
    "\n",
    "print(data_types)"
   ]
  },
  {
   "cell_type": "code",
   "execution_count": 6,
   "id": "8d699a8b38efd1ce",
   "metadata": {
    "ExecuteTime": {
     "end_time": "2024-03-06T12:05:00.413248700Z",
     "start_time": "2024-03-06T12:04:59.890363600Z"
    },
    "collapsed": false
   },
   "outputs": [
    {
     "data": {
      "text/plain": [
       "array(['Standard', 'Superior', 'Basic'], dtype=object)"
      ]
     },
     "execution_count": 6,
     "metadata": {},
     "output_type": "execute_result"
    }
   ],
   "source": [
    "data[\"Equipment Quality\"].nunique()\n",
    "data[\"Equipment Quality\"].unique()"
   ]
  },
  {
   "cell_type": "code",
   "execution_count": 7,
   "id": "ca6a9afaf5ec140e",
   "metadata": {
    "ExecuteTime": {
     "end_time": "2024-03-06T12:05:01.110291900Z",
     "start_time": "2024-03-06T12:05:01.098560600Z"
    },
    "collapsed": false
   },
   "outputs": [
    {
     "data": {
      "text/html": [
       "<div>\n",
       "<style scoped>\n",
       "    .dataframe tbody tr th:only-of-type {\n",
       "        vertical-align: middle;\n",
       "    }\n",
       "\n",
       "    .dataframe tbody tr th {\n",
       "        vertical-align: top;\n",
       "    }\n",
       "\n",
       "    .dataframe thead th {\n",
       "        text-align: right;\n",
       "    }\n",
       "</style>\n",
       "<table border=\"1\" class=\"dataframe\">\n",
       "  <thead>\n",
       "    <tr style=\"text-align: right;\">\n",
       "      <th></th>\n",
       "      <th>Equipment Quality</th>\n",
       "      <th>Injury History</th>\n",
       "      <th>Tactical Knowledge</th>\n",
       "      <th>Health Status</th>\n",
       "      <th>Personal Motivation</th>\n",
       "      <th>Previous Occupation</th>\n",
       "      <th>Battle Strategy</th>\n",
       "      <th>Crowd Appeal Techniques</th>\n",
       "      <th>Age</th>\n",
       "      <th>Origin</th>\n",
       "      <th>Height</th>\n",
       "      <th>Weight</th>\n",
       "      <th>Survived</th>\n",
       "      <th>Wins</th>\n",
       "      <th>Losses</th>\n",
       "      <th>Public Favor</th>\n",
       "      <th>Mental Resilience</th>\n",
       "      <th>Battle Experience</th>\n",
       "    </tr>\n",
       "    <tr>\n",
       "      <th>GLADIATOR</th>\n",
       "      <th></th>\n",
       "      <th></th>\n",
       "      <th></th>\n",
       "      <th></th>\n",
       "      <th></th>\n",
       "      <th></th>\n",
       "      <th></th>\n",
       "      <th></th>\n",
       "      <th></th>\n",
       "      <th></th>\n",
       "      <th></th>\n",
       "      <th></th>\n",
       "      <th></th>\n",
       "      <th></th>\n",
       "      <th></th>\n",
       "      <th></th>\n",
       "      <th></th>\n",
       "      <th></th>\n",
       "    </tr>\n",
       "  </thead>\n",
       "  <tbody>\n",
       "    <tr>\n",
       "      <th>Nero Menenius</th>\n",
       "      <td>Superior</td>\n",
       "      <td>High</td>\n",
       "      <td>Basic</td>\n",
       "      <td>Good</td>\n",
       "      <td>Glory</td>\n",
       "      <td>Laborer</td>\n",
       "      <td>Balanced</td>\n",
       "      <td>Intimidating</td>\n",
       "      <td>38</td>\n",
       "      <td>Greece</td>\n",
       "      <td>169</td>\n",
       "      <td>78.0</td>\n",
       "      <td>No</td>\n",
       "      <td>10</td>\n",
       "      <td>2</td>\n",
       "      <td>0,8312852648996849</td>\n",
       "      <td>3,764396142170564</td>\n",
       "      <td>12,0</td>\n",
       "    </tr>\n",
       "  </tbody>\n",
       "</table>\n",
       "</div>"
      ],
      "text/plain": [
       "              Equipment Quality Injury History Tactical Knowledge  \\\n",
       "GLADIATOR                                                           \n",
       "Nero Menenius          Superior           High              Basic   \n",
       "\n",
       "              Health Status Personal Motivation Previous Occupation  \\\n",
       "GLADIATOR                                                             \n",
       "Nero Menenius          Good               Glory             Laborer   \n",
       "\n",
       "              Battle Strategy Crowd Appeal Techniques  Age  Origin  Height  \\\n",
       "GLADIATOR                                                                    \n",
       "Nero Menenius        Balanced            Intimidating   38  Greece     169   \n",
       "\n",
       "               Weight Survived  Wins  Losses        Public Favor  \\\n",
       "GLADIATOR                                                          \n",
       "Nero Menenius    78.0       No    10       2  0,8312852648996849   \n",
       "\n",
       "               Mental Resilience Battle Experience  \n",
       "GLADIATOR                                           \n",
       "Nero Menenius  3,764396142170564              12,0  "
      ]
     },
     "execution_count": 7,
     "metadata": {},
     "output_type": "execute_result"
    }
   ],
   "source": [
    "data.loc[[\"Nero Menenius\"]]"
   ]
  },
  {
   "cell_type": "code",
   "execution_count": 8,
   "id": "4c8da3c1f62d12fb",
   "metadata": {
    "ExecuteTime": {
     "end_time": "2024-03-06T12:05:01.383753900Z",
     "start_time": "2024-03-06T12:05:01.111919700Z"
    },
    "collapsed": false
   },
   "outputs": [
    {
     "name": "stdout",
     "output_type": "stream",
     "text": [
      "365037\n"
     ]
    }
   ],
   "source": [
    "# Število gladiatorjev z 4 ali 5 porazi\n",
    "num_gladiators = df[(df['Losses'] == 4) | (df['Losses'] == 5)].shape[0]\n",
    "\n",
    "print(num_gladiators)\n"
   ]
  },
  {
   "cell_type": "markdown",
   "id": "76022e5113949917",
   "metadata": {
    "collapsed": false
   },
   "source": [
    "Naloga 2 (20 T)\n",
    "Izrišite graf, ki bo prikazoval povprečno starost gladiatorjev, ki so umrli, glede na dejavnost s katero so se ukvarjali preden so postali gladiatorji (Previous Occupation).\n",
    "Izrišite graf, iz katerega bo razvidna mediana ter največje in najmanjše število zmag, ki so jih dosegli gladiatorji.\n",
    "Izrišite graf raztrosa (s črto), ki bo prikazoval višino gladiatorja glede na poljubno vrednost (izmed stolpcev sami izberite vrednost, ki bo dala smiseln rezultat), ločeno glede na zdravstveno stanje gladiatorja. Za vsako zdravstveno stanje naj bo prikazan ločen podgraf.\n",
    "V naraščajočem vrstnem redu izpišite povprečno težo gladiatorjev (zaokroženo na dve decimalki) glede na njihovo primarno izbrano bojno strategijo. Upoštevajte samo tiste gladiatorje, ki tekmujejo zaradi tega da bi si zagotovili svobodo ali preživetje (Personal Motivation).\n",
    "Koliko je takšnih gladatorjev, ki se na agresiven način (Battle Strategy) borijo zaradi maščevanja (Personal Motivation)?"
   ]
  },
  {
   "cell_type": "code",
   "execution_count": 9,
   "id": "5fc8cc0171340b25",
   "metadata": {
    "ExecuteTime": {
     "end_time": "2024-03-06T12:05:02.110774100Z",
     "start_time": "2024-03-06T12:05:01.253807Z"
    },
    "collapsed": false
   },
   "outputs": [
    {
     "name": "stdout",
     "output_type": "stream",
     "text": [
      "Empty DataFrame\n",
      "Columns: [Equipment Quality, Injury History, Tactical Knowledge, Health Status, Personal Motivation, Previous Occupation, Battle Strategy, Crowd Appeal Techniques, Age, Origin, Height, Weight, Survived, Wins, Losses, Public Favor, Mental Resilience, Battle Experience]\n",
      "Index: []\n"
     ]
    },
    {
     "ename": "IndexError",
     "evalue": "index 0 is out of bounds for axis 0 with size 0",
     "output_type": "error",
     "traceback": [
      "\u001b[1;31m---------------------------------------------------------------------------\u001b[0m",
      "\u001b[1;31mIndexError\u001b[0m                                Traceback (most recent call last)",
      "Cell \u001b[1;32mIn[9], line 4\u001b[0m\n\u001b[0;32m      2\u001b[0m \u001b[38;5;28mprint\u001b[39m(umrli)\n\u001b[0;32m      3\u001b[0m iskani\u001b[38;5;241m=\u001b[39mumrli\u001b[38;5;241m.\u001b[39mgroupby(\u001b[38;5;124m\"\u001b[39m\u001b[38;5;124mPrevious Occupation\u001b[39m\u001b[38;5;124m\"\u001b[39m)[\u001b[38;5;124m\"\u001b[39m\u001b[38;5;124mAge\u001b[39m\u001b[38;5;124m\"\u001b[39m]\u001b[38;5;241m.\u001b[39mmean()\n\u001b[1;32m----> 4\u001b[0m iskani\u001b[38;5;241m.\u001b[39mplot(kind\u001b[38;5;241m=\u001b[39m\u001b[38;5;124m\"\u001b[39m\u001b[38;5;124mbar\u001b[39m\u001b[38;5;124m\"\u001b[39m)\n",
      "File \u001b[1;32mc:\\Users\\jasar\\ANACONDA3\\Lib\\site-packages\\pandas\\plotting\\_core.py:975\u001b[0m, in \u001b[0;36mPlotAccessor.__call__\u001b[1;34m(self, *args, **kwargs)\u001b[0m\n\u001b[0;32m    972\u001b[0m             label_name \u001b[38;5;241m=\u001b[39m label_kw \u001b[38;5;129;01mor\u001b[39;00m data\u001b[38;5;241m.\u001b[39mcolumns\n\u001b[0;32m    973\u001b[0m             data\u001b[38;5;241m.\u001b[39mcolumns \u001b[38;5;241m=\u001b[39m label_name\n\u001b[1;32m--> 975\u001b[0m \u001b[38;5;28;01mreturn\u001b[39;00m plot_backend\u001b[38;5;241m.\u001b[39mplot(data, kind\u001b[38;5;241m=\u001b[39mkind, \u001b[38;5;241m*\u001b[39m\u001b[38;5;241m*\u001b[39mkwargs)\n",
      "File \u001b[1;32mc:\\Users\\jasar\\ANACONDA3\\Lib\\site-packages\\pandas\\plotting\\_matplotlib\\__init__.py:71\u001b[0m, in \u001b[0;36mplot\u001b[1;34m(data, kind, **kwargs)\u001b[0m\n\u001b[0;32m     69\u001b[0m         kwargs[\u001b[38;5;124m\"\u001b[39m\u001b[38;5;124max\u001b[39m\u001b[38;5;124m\"\u001b[39m] \u001b[38;5;241m=\u001b[39m \u001b[38;5;28mgetattr\u001b[39m(ax, \u001b[38;5;124m\"\u001b[39m\u001b[38;5;124mleft_ax\u001b[39m\u001b[38;5;124m\"\u001b[39m, ax)\n\u001b[0;32m     70\u001b[0m plot_obj \u001b[38;5;241m=\u001b[39m PLOT_CLASSES[kind](data, \u001b[38;5;241m*\u001b[39m\u001b[38;5;241m*\u001b[39mkwargs)\n\u001b[1;32m---> 71\u001b[0m plot_obj\u001b[38;5;241m.\u001b[39mgenerate()\n\u001b[0;32m     72\u001b[0m plot_obj\u001b[38;5;241m.\u001b[39mdraw()\n\u001b[0;32m     73\u001b[0m \u001b[38;5;28;01mreturn\u001b[39;00m plot_obj\u001b[38;5;241m.\u001b[39mresult\n",
      "File \u001b[1;32mc:\\Users\\jasar\\ANACONDA3\\Lib\\site-packages\\pandas\\plotting\\_matplotlib\\core.py:455\u001b[0m, in \u001b[0;36mMPLPlot.generate\u001b[1;34m(self)\u001b[0m\n\u001b[0;32m    453\u001b[0m \u001b[38;5;28;01mfor\u001b[39;00m ax \u001b[38;5;129;01min\u001b[39;00m \u001b[38;5;28mself\u001b[39m\u001b[38;5;241m.\u001b[39maxes:\n\u001b[0;32m    454\u001b[0m     \u001b[38;5;28mself\u001b[39m\u001b[38;5;241m.\u001b[39m_post_plot_logic_common(ax, \u001b[38;5;28mself\u001b[39m\u001b[38;5;241m.\u001b[39mdata)\n\u001b[1;32m--> 455\u001b[0m     \u001b[38;5;28mself\u001b[39m\u001b[38;5;241m.\u001b[39m_post_plot_logic(ax, \u001b[38;5;28mself\u001b[39m\u001b[38;5;241m.\u001b[39mdata)\n",
      "File \u001b[1;32mc:\\Users\\jasar\\ANACONDA3\\Lib\\site-packages\\pandas\\plotting\\_matplotlib\\core.py:1750\u001b[0m, in \u001b[0;36mBarPlot._post_plot_logic\u001b[1;34m(self, ax, data)\u001b[0m\n\u001b[0;32m   1747\u001b[0m \u001b[38;5;28;01melse\u001b[39;00m:\n\u001b[0;32m   1748\u001b[0m     str_index \u001b[38;5;241m=\u001b[39m [pprint_thing(key) \u001b[38;5;28;01mfor\u001b[39;00m key \u001b[38;5;129;01min\u001b[39;00m \u001b[38;5;28mrange\u001b[39m(data\u001b[38;5;241m.\u001b[39mshape[\u001b[38;5;241m0\u001b[39m])]\n\u001b[1;32m-> 1750\u001b[0m s_edge \u001b[38;5;241m=\u001b[39m \u001b[38;5;28mself\u001b[39m\u001b[38;5;241m.\u001b[39max_pos[\u001b[38;5;241m0\u001b[39m] \u001b[38;5;241m-\u001b[39m \u001b[38;5;241m0.25\u001b[39m \u001b[38;5;241m+\u001b[39m \u001b[38;5;28mself\u001b[39m\u001b[38;5;241m.\u001b[39mlim_offset\n\u001b[0;32m   1751\u001b[0m e_edge \u001b[38;5;241m=\u001b[39m \u001b[38;5;28mself\u001b[39m\u001b[38;5;241m.\u001b[39max_pos[\u001b[38;5;241m-\u001b[39m\u001b[38;5;241m1\u001b[39m] \u001b[38;5;241m+\u001b[39m \u001b[38;5;241m0.25\u001b[39m \u001b[38;5;241m+\u001b[39m \u001b[38;5;28mself\u001b[39m\u001b[38;5;241m.\u001b[39mbar_width \u001b[38;5;241m+\u001b[39m \u001b[38;5;28mself\u001b[39m\u001b[38;5;241m.\u001b[39mlim_offset\n\u001b[0;32m   1753\u001b[0m \u001b[38;5;28mself\u001b[39m\u001b[38;5;241m.\u001b[39m_decorate_ticks(ax, \u001b[38;5;28mself\u001b[39m\u001b[38;5;241m.\u001b[39m_get_index_name(), str_index, s_edge, e_edge)\n",
      "\u001b[1;31mIndexError\u001b[0m: index 0 is out of bounds for axis 0 with size 0"
     ]
    },
    {
     "data": {
      "image/png": "[encoded data removed]",
      "text/plain": [
       "<Figure size 640x480 with 1 Axes>"
      ]
     },
     "metadata": {},
     "output_type": "display_data"
    }
   ],
   "source": [
    "umrli=data[(data[\"Survived\"]==0)]\n",
    "print(umrli)\n",
    "iskani=umrli.groupby(\"Previous Occupation\")[\"Age\"].mean()\n",
    "iskani.plot(kind=\"bar\")"
   ]
  },
  {
   "cell_type": "code",
   "execution_count": null,
   "id": "61f786c93ae9102b",
   "metadata": {
    "ExecuteTime": {
     "end_time": "2024-03-06T12:05:12.215746200Z",
     "start_time": "2024-03-06T12:05:11.535631800Z"
    },
    "collapsed": false
   },
   "outputs": [
    {
     "ename": "IndexError",
     "evalue": "index 0 is out of bounds for axis 0 with size 0",
     "output_type": "error",
     "traceback": [
      "\u001b[1;31m---------------------------------------------------------------------------\u001b[0m",
      "\u001b[1;31mIndexError\u001b[0m                                Traceback (most recent call last)",
      "Cell \u001b[1;32mIn[75], line 15\u001b[0m\n\u001b[0;32m     13\u001b[0m \u001b[38;5;66;03m# Izris povprečne starosti glede na prejšnjo dejavnost\u001b[39;00m\n\u001b[0;32m     14\u001b[0m plt\u001b[38;5;241m.\u001b[39mfigure(figsize\u001b[38;5;241m=\u001b[39m(\u001b[38;5;241m10\u001b[39m, \u001b[38;5;241m6\u001b[39m))\n\u001b[1;32m---> 15\u001b[0m average_age_by_occupation\u001b[38;5;241m.\u001b[39mplot(kind\u001b[38;5;241m=\u001b[39m\u001b[38;5;124m'\u001b[39m\u001b[38;5;124mbar\u001b[39m\u001b[38;5;124m'\u001b[39m)\n\u001b[0;32m     16\u001b[0m plt\u001b[38;5;241m.\u001b[39mtitle(\u001b[38;5;124m'\u001b[39m\u001b[38;5;124mPovprečna starost umrlih gladiatorjev glede na prejšnjo dejavnost\u001b[39m\u001b[38;5;124m'\u001b[39m)\n\u001b[0;32m     17\u001b[0m plt\u001b[38;5;241m.\u001b[39mxlabel(\u001b[38;5;124m'\u001b[39m\u001b[38;5;124mPrejšnja dejavnost\u001b[39m\u001b[38;5;124m'\u001b[39m)\n",
      "File \u001b[1;32m~\\ANACONDA3\\Lib\\site-packages\\pandas\\plotting\\_core.py:975\u001b[0m, in \u001b[0;36mPlotAccessor.__call__\u001b[1;34m(self, *args, **kwargs)\u001b[0m\n\u001b[0;32m    972\u001b[0m             label_name \u001b[38;5;241m=\u001b[39m label_kw \u001b[38;5;129;01mor\u001b[39;00m data\u001b[38;5;241m.\u001b[39mcolumns\n\u001b[0;32m    973\u001b[0m             data\u001b[38;5;241m.\u001b[39mcolumns \u001b[38;5;241m=\u001b[39m label_name\n\u001b[1;32m--> 975\u001b[0m \u001b[38;5;28;01mreturn\u001b[39;00m plot_backend\u001b[38;5;241m.\u001b[39mplot(data, kind\u001b[38;5;241m=\u001b[39mkind, \u001b[38;5;241m*\u001b[39m\u001b[38;5;241m*\u001b[39mkwargs)\n",
      "File \u001b[1;32m~\\ANACONDA3\\Lib\\site-packages\\pandas\\plotting\\_matplotlib\\__init__.py:71\u001b[0m, in \u001b[0;36mplot\u001b[1;34m(data, kind, **kwargs)\u001b[0m\n\u001b[0;32m     69\u001b[0m         kwargs[\u001b[38;5;124m\"\u001b[39m\u001b[38;5;124max\u001b[39m\u001b[38;5;124m\"\u001b[39m] \u001b[38;5;241m=\u001b[39m \u001b[38;5;28mgetattr\u001b[39m(ax, \u001b[38;5;124m\"\u001b[39m\u001b[38;5;124mleft_ax\u001b[39m\u001b[38;5;124m\"\u001b[39m, ax)\n\u001b[0;32m     70\u001b[0m plot_obj \u001b[38;5;241m=\u001b[39m PLOT_CLASSES[kind](data, \u001b[38;5;241m*\u001b[39m\u001b[38;5;241m*\u001b[39mkwargs)\n\u001b[1;32m---> 71\u001b[0m plot_obj\u001b[38;5;241m.\u001b[39mgenerate()\n\u001b[0;32m     72\u001b[0m plot_obj\u001b[38;5;241m.\u001b[39mdraw()\n\u001b[0;32m     73\u001b[0m \u001b[38;5;28;01mreturn\u001b[39;00m plot_obj\u001b[38;5;241m.\u001b[39mresult\n",
      "File \u001b[1;32m~\\ANACONDA3\\Lib\\site-packages\\pandas\\plotting\\_matplotlib\\core.py:455\u001b[0m, in \u001b[0;36mMPLPlot.generate\u001b[1;34m(self)\u001b[0m\n\u001b[0;32m    453\u001b[0m \u001b[38;5;28;01mfor\u001b[39;00m ax \u001b[38;5;129;01min\u001b[39;00m \u001b[38;5;28mself\u001b[39m\u001b[38;5;241m.\u001b[39maxes:\n\u001b[0;32m    454\u001b[0m     \u001b[38;5;28mself\u001b[39m\u001b[38;5;241m.\u001b[39m_post_plot_logic_common(ax, \u001b[38;5;28mself\u001b[39m\u001b[38;5;241m.\u001b[39mdata)\n\u001b[1;32m--> 455\u001b[0m     \u001b[38;5;28mself\u001b[39m\u001b[38;5;241m.\u001b[39m_post_plot_logic(ax, \u001b[38;5;28mself\u001b[39m\u001b[38;5;241m.\u001b[39mdata)\n",
      "File \u001b[1;32m~\\ANACONDA3\\Lib\\site-packages\\pandas\\plotting\\_matplotlib\\core.py:1750\u001b[0m, in \u001b[0;36mBarPlot._post_plot_logic\u001b[1;34m(self, ax, data)\u001b[0m\n\u001b[0;32m   1747\u001b[0m \u001b[38;5;28;01melse\u001b[39;00m:\n\u001b[0;32m   1748\u001b[0m     str_index \u001b[38;5;241m=\u001b[39m [pprint_thing(key) \u001b[38;5;28;01mfor\u001b[39;00m key \u001b[38;5;129;01min\u001b[39;00m \u001b[38;5;28mrange\u001b[39m(data\u001b[38;5;241m.\u001b[39mshape[\u001b[38;5;241m0\u001b[39m])]\n\u001b[1;32m-> 1750\u001b[0m s_edge \u001b[38;5;241m=\u001b[39m \u001b[38;5;28mself\u001b[39m\u001b[38;5;241m.\u001b[39max_pos[\u001b[38;5;241m0\u001b[39m] \u001b[38;5;241m-\u001b[39m \u001b[38;5;241m0.25\u001b[39m \u001b[38;5;241m+\u001b[39m \u001b[38;5;28mself\u001b[39m\u001b[38;5;241m.\u001b[39mlim_offset\n\u001b[0;32m   1751\u001b[0m e_edge \u001b[38;5;241m=\u001b[39m \u001b[38;5;28mself\u001b[39m\u001b[38;5;241m.\u001b[39max_pos[\u001b[38;5;241m-\u001b[39m\u001b[38;5;241m1\u001b[39m] \u001b[38;5;241m+\u001b[39m \u001b[38;5;241m0.25\u001b[39m \u001b[38;5;241m+\u001b[39m \u001b[38;5;28mself\u001b[39m\u001b[38;5;241m.\u001b[39mbar_width \u001b[38;5;241m+\u001b[39m \u001b[38;5;28mself\u001b[39m\u001b[38;5;241m.\u001b[39mlim_offset\n\u001b[0;32m   1753\u001b[0m \u001b[38;5;28mself\u001b[39m\u001b[38;5;241m.\u001b[39m_decorate_ticks(ax, \u001b[38;5;28mself\u001b[39m\u001b[38;5;241m.\u001b[39m_get_index_name(), str_index, s_edge, e_edge)\n",
      "\u001b[1;31mIndexError\u001b[0m: index 0 is out of bounds for axis 0 with size 0"
     ]
    },
    {
     "data": {
      "image/png": "[encoded data removed]",
      "text/plain": [
       "<Figure size 1000x600 with 1 Axes>"
      ]
     },
     "metadata": {},
     "output_type": "display_data"
    }
   ],
   "source": [
    "import pandas as pd\n",
    "import matplotlib.pyplot as plt\n",
    "\n",
    "# Predpostavimo, da imamo DataFrame df z ustreznimi stolpci\n",
    "\n",
    "# Filtriramo samo umrle gladiatorje (glede na vaš specifičen kriterij za \"umrl\")\n",
    "# Na primer, če imamo stolpec 'Status' s vrednostjo 'Died' za umrle gladiatorje\n",
    "df_died = df[df['Survived'] == 0]\n",
    "\n",
    "# Izračunamo povprečno starost za vsako prejšnjo dejavnost\n",
    "average_age_by_occupation = df_died.groupby('Previous Occupation')['Age'].mean()\n",
    "\n",
    "# Izris povprečne starosti glede na prejšnjo dejavnost\n",
    "plt.figure(figsize=(10, 6))\n",
    "average_age_by_occupation.plot(kind='bar')\n",
    "plt.title('Povprečna starost umrlih gladiatorjev glede na prejšnjo dejavnost')\n",
    "plt.xlabel('Prejšnja dejavnost')\n",
    "plt.ylabel('Povprečna starost')\n",
    "plt.xticks(rotation=45)\n",
    "plt.show()"
   ]
  },
  {
   "cell_type": "code",
   "execution_count": null,
   "id": "e5f765f75312ad25",
   "metadata": {
    "ExecuteTime": {
     "end_time": "2024-03-06T12:05:12.222725300Z",
     "start_time": "2024-03-06T12:05:12.219726400Z"
    },
    "collapsed": false
   },
   "outputs": [],
   "source": []
  },
  {
   "cell_type": "markdown",
   "id": "ac76f2d7932666a",
   "metadata": {
    "collapsed": false
   },
   "source": [
    "Naloga 3 (5 T)\n",
    "Izpišite koliko je manjkajočih podatkov v posameznih stolpcih.\n",
    "Nato manjkajoče podatke iz stolpcev zapolnite s sledečo strategijo:\n",
    "Weight zapolnite tako, da od višine specifičnega gladiatorja odštejete vrednost 100 (w=h-100),\n",
    "Mental Resilience in Public Favor zapolnite s povprečno vrednostjo stolpca,\n",
    "Previous Occupation zapolnite z vrednostjo “Criminal”,\n",
    "Crowd Appeal Techniques z najpogosteje pojavljeno vrednostjo stolpca,\n",
    "ostale vrstice z manjkajočimi vrednostmi izbrišite.\n",
    "Ponovno izpišite koliko je manjkajočih vrednosti za stolpce Weight, Mental Resilience, Public Favor, Previous Occupation in Crowd Appeal Techniques."
   ]
  },
  {
   "cell_type": "code",
   "execution_count": null,
   "id": "4ca82cc0e78099d9",
   "metadata": {
    "ExecuteTime": {
     "end_time": "2024-03-06T12:05:15.711235Z",
     "start_time": "2024-03-06T12:05:13.316001300Z"
    },
    "collapsed": false
   },
   "outputs": [
    {
     "data": {
      "text/plain": [
       "Equipment Quality             0\n",
       "Injury History                8\n",
       "Tactical Knowledge            8\n",
       "Health Status                 8\n",
       "Personal Motivation           8\n",
       "Previous Occupation         574\n",
       "Battle Strategy               8\n",
       "Crowd Appeal Techniques    2234\n",
       "Age                           0\n",
       "Origin                        0\n",
       "Height                        0\n",
       "Weight                      187\n",
       "Survived                      8\n",
       "Wins                          0\n",
       "Losses                        0\n",
       "Public Favor                292\n",
       "Mental Resilience           252\n",
       "Battle Experience             8\n",
       "dtype: int64"
      ]
     },
     "execution_count": 76,
     "metadata": {},
     "output_type": "execute_result"
    }
   ],
   "source": [
    "data.isna().sum()"
   ]
  },
  {
   "cell_type": "code",
   "execution_count": null,
   "id": "dfe9aa241b511a3b",
   "metadata": {
    "ExecuteTime": {
     "end_time": "2024-03-06T12:05:15.894246600Z",
     "start_time": "2024-03-06T12:05:15.724305700Z"
    },
    "collapsed": false
   },
   "outputs": [],
   "source": [
    "data[\"Weight\"].fillna(data[\"Height\"]-100, inplace=True)"
   ]
  },
  {
   "cell_type": "code",
   "execution_count": null,
   "id": "2869e5a897a4345b",
   "metadata": {
    "ExecuteTime": {
     "end_time": "2024-03-06T12:05:17.827382500Z",
     "start_time": "2024-03-06T12:05:15.859223300Z"
    },
    "collapsed": false
   },
   "outputs": [
    {
     "data": {
      "text/plain": [
       "Equipment Quality             0\n",
       "Injury History                8\n",
       "Tactical Knowledge            8\n",
       "Health Status                 8\n",
       "Personal Motivation           8\n",
       "Previous Occupation           0\n",
       "Battle Strategy               8\n",
       "Crowd Appeal Techniques    2234\n",
       "Age                           0\n",
       "Origin                        0\n",
       "Height                        0\n",
       "Weight                        0\n",
       "Survived                      8\n",
       "Wins                          0\n",
       "Losses                        0\n",
       "Public Favor                292\n",
       "Mental Resilience           252\n",
       "Battle Experience             8\n",
       "dtype: int64"
      ]
     },
     "execution_count": 78,
     "metadata": {},
     "output_type": "execute_result"
    }
   ],
   "source": [
    "\n",
    "\n",
    "data[\"Previous Occupation\"].fillna(\"Criminal\",inplace=True)\n",
    "\n",
    "data.isna().sum()"
   ]
  },
  {
   "cell_type": "code",
   "execution_count": null,
   "id": "1b6655cc7db5ecb7",
   "metadata": {
    "ExecuteTime": {
     "end_time": "2024-03-06T12:05:17.865365200Z",
     "start_time": "2024-03-06T12:05:17.811832500Z"
    },
    "collapsed": false
   },
   "outputs": [
    {
     "data": {
      "text/plain": [
       "Equipment Quality           object\n",
       "Injury History              object\n",
       "Tactical Knowledge          object\n",
       "Health Status               object\n",
       "Personal Motivation         object\n",
       "Previous Occupation         object\n",
       "Battle Strategy             object\n",
       "Crowd Appeal Techniques     object\n",
       "Age                          int64\n",
       "Origin                      object\n",
       "Height                       int64\n",
       "Weight                     float64\n",
       "Survived                    object\n",
       "Wins                         int64\n",
       "Losses                       int64\n",
       "Public Favor                object\n",
       "Mental Resilience           object\n",
       "Battle Experience           object\n",
       "dtype: object"
      ]
     },
     "execution_count": 79,
     "metadata": {},
     "output_type": "execute_result"
    }
   ],
   "source": [
    "data.dtypes"
   ]
  },
  {
   "cell_type": "code",
   "execution_count": null,
   "id": "94eefe065fbc131d",
   "metadata": {
    "ExecuteTime": {
     "end_time": "2024-03-06T12:06:21.330185100Z",
     "start_time": "2024-03-06T12:06:17.993960Z"
    },
    "collapsed": false
   },
   "outputs": [],
   "source": [
    "# Zamenjava decimalnih vejic z decimalnimi pikami in pretvorba v numerične vrednosti\n",
    "data[\"Mental Resilience\"] = data[\"Mental Resilience\"].str.replace(',', '.').astype(float)\n",
    "\n",
    "# Zapolnitev manjkajočih vrednosti s povprečjem\n",
    "data[\"Mental Resilience\"].fillna(data[\"Mental Resilience\"].mean(), inplace=True)\n"
   ]
  },
  {
   "cell_type": "code",
   "execution_count": null,
   "id": "b22194d6ec0e782b",
   "metadata": {
    "ExecuteTime": {
     "end_time": "2024-03-06T12:06:38.808325400Z",
     "start_time": "2024-03-06T12:06:36.958161700Z"
    },
    "collapsed": false
   },
   "outputs": [
    {
     "data": {
      "text/plain": [
       "Equipment Quality             0\n",
       "Injury History                8\n",
       "Tactical Knowledge            8\n",
       "Health Status                 8\n",
       "Personal Motivation           8\n",
       "Previous Occupation           0\n",
       "Battle Strategy               8\n",
       "Crowd Appeal Techniques    2234\n",
       "Age                           0\n",
       "Origin                        0\n",
       "Height                        0\n",
       "Weight                        0\n",
       "Survived                      8\n",
       "Wins                          0\n",
       "Losses                        0\n",
       "Public Favor                292\n",
       "Mental Resilience             0\n",
       "Battle Experience             8\n",
       "dtype: int64"
      ]
     },
     "execution_count": 82,
     "metadata": {},
     "output_type": "execute_result"
    }
   ],
   "source": [
    "data.isna().sum()"
   ]
  },
  {
   "cell_type": "code",
   "execution_count": null,
   "id": "b2a8f87b5d67cf56",
   "metadata": {
    "ExecuteTime": {
     "end_time": "2024-03-06T12:08:11.956615900Z",
     "start_time": "2024-03-06T12:08:07.960662300Z"
    },
    "collapsed": false
   },
   "outputs": [],
   "source": [
    "data[\"Public Favor\"]=data[\"Public Favor\"].str.replace(\",\",\".\").astype(float)\n",
    "\n",
    "\n",
    "data['Public Favor'].fillna(data['Public Favor'].mean(), inplace=True)  # Zapolni z povprečjem\n",
    "data[\"Crowd Appeal Techniques\"].fillna(data[\"Crowd Appeal Techniques\"].mode()[0], inplace=True)\n"
   ]
  },
  {
   "cell_type": "code",
   "execution_count": null,
   "id": "9ccc035f268680d",
   "metadata": {
    "ExecuteTime": {
     "end_time": "2024-03-06T12:08:16.539112300Z",
     "start_time": "2024-03-06T12:08:14.630287500Z"
    },
    "collapsed": false
   },
   "outputs": [
    {
     "data": {
      "text/plain": [
       "Equipment Quality          0\n",
       "Injury History             8\n",
       "Tactical Knowledge         8\n",
       "Health Status              8\n",
       "Personal Motivation        8\n",
       "Previous Occupation        0\n",
       "Battle Strategy            8\n",
       "Crowd Appeal Techniques    0\n",
       "Age                        0\n",
       "Origin                     0\n",
       "Height                     0\n",
       "Weight                     0\n",
       "Survived                   8\n",
       "Wins                       0\n",
       "Losses                     0\n",
       "Public Favor               0\n",
       "Mental Resilience          0\n",
       "Battle Experience          8\n",
       "dtype: int64"
      ]
     },
     "execution_count": 84,
     "metadata": {},
     "output_type": "execute_result"
    }
   ],
   "source": [
    "\n",
    "data.isna().sum()\n"
   ]
  },
  {
   "cell_type": "code",
   "execution_count": null,
   "id": "90f7efb681732832",
   "metadata": {
    "ExecuteTime": {
     "end_time": "2024-03-06T12:09:06.154215300Z",
     "start_time": "2024-03-06T12:09:04.070227Z"
    },
    "collapsed": false
   },
   "outputs": [
    {
     "data": {
      "text/plain": [
       "63442962"
      ]
     },
     "execution_count": 85,
     "metadata": {},
     "output_type": "execute_result"
    }
   ],
   "source": [
    "\n",
    "data.isna().sum()\n",
    "data.size\n"
   ]
  },
  {
   "cell_type": "code",
   "execution_count": null,
   "id": "eca438b4fff57279",
   "metadata": {
    "ExecuteTime": {
     "end_time": "2024-03-06T12:09:08.218477200Z",
     "start_time": "2024-03-06T12:09:06.140163400Z"
    },
    "collapsed": false
   },
   "outputs": [
    {
     "data": {
      "text/html": [
       "<div>\n",
       "<style scoped>\n",
       "    .dataframe tbody tr th:only-of-type {\n",
       "        vertical-align: middle;\n",
       "    }\n",
       "\n",
       "    .dataframe tbody tr th {\n",
       "        vertical-align: top;\n",
       "    }\n",
       "\n",
       "    .dataframe thead th {\n",
       "        text-align: right;\n",
       "    }\n",
       "</style>\n",
       "<table border=\"1\" class=\"dataframe\">\n",
       "  <thead>\n",
       "    <tr style=\"text-align: right;\">\n",
       "      <th></th>\n",
       "      <th>Equipment Quality</th>\n",
       "      <th>Injury History</th>\n",
       "      <th>Tactical Knowledge</th>\n",
       "      <th>Health Status</th>\n",
       "      <th>Personal Motivation</th>\n",
       "      <th>Previous Occupation</th>\n",
       "      <th>Battle Strategy</th>\n",
       "      <th>Crowd Appeal Techniques</th>\n",
       "      <th>Age</th>\n",
       "      <th>Origin</th>\n",
       "      <th>Height</th>\n",
       "      <th>Weight</th>\n",
       "      <th>Survived</th>\n",
       "      <th>Wins</th>\n",
       "      <th>Losses</th>\n",
       "      <th>Public Favor</th>\n",
       "      <th>Mental Resilience</th>\n",
       "      <th>Battle Experience</th>\n",
       "    </tr>\n",
       "    <tr>\n",
       "      <th>GLADIATOR</th>\n",
       "      <th></th>\n",
       "      <th></th>\n",
       "      <th></th>\n",
       "      <th></th>\n",
       "      <th></th>\n",
       "      <th></th>\n",
       "      <th></th>\n",
       "      <th></th>\n",
       "      <th></th>\n",
       "      <th></th>\n",
       "      <th></th>\n",
       "      <th></th>\n",
       "      <th></th>\n",
       "      <th></th>\n",
       "      <th></th>\n",
       "      <th></th>\n",
       "      <th></th>\n",
       "      <th></th>\n",
       "    </tr>\n",
       "  </thead>\n",
       "  <tbody>\n",
       "    <tr>\n",
       "      <th>Acilius Acilius</th>\n",
       "      <td>Standard</td>\n",
       "      <td>High</td>\n",
       "      <td>Intermediate</td>\n",
       "      <td>Good</td>\n",
       "      <td>Freedom</td>\n",
       "      <td>Laborer</td>\n",
       "      <td>Balanced</td>\n",
       "      <td>Intimidating</td>\n",
       "      <td>27</td>\n",
       "      <td>Rome</td>\n",
       "      <td>169</td>\n",
       "      <td>78.0</td>\n",
       "      <td>No</td>\n",
       "      <td>6</td>\n",
       "      <td>4</td>\n",
       "      <td>0.577528</td>\n",
       "      <td>2.404240</td>\n",
       "      <td>10,0</td>\n",
       "    </tr>\n",
       "    <tr>\n",
       "      <th>Acilius Agrippa</th>\n",
       "      <td>Superior</td>\n",
       "      <td>Low</td>\n",
       "      <td>Advanced</td>\n",
       "      <td>Excellent</td>\n",
       "      <td>Vengeance</td>\n",
       "      <td>Entertainer</td>\n",
       "      <td>Balanced</td>\n",
       "      <td>Charismatic</td>\n",
       "      <td>28</td>\n",
       "      <td>Germania</td>\n",
       "      <td>165</td>\n",
       "      <td>85.0</td>\n",
       "      <td>Yes</td>\n",
       "      <td>5</td>\n",
       "      <td>1</td>\n",
       "      <td>0.584773</td>\n",
       "      <td>8.185433</td>\n",
       "      <td>6,0</td>\n",
       "    </tr>\n",
       "    <tr>\n",
       "      <th>Acilius Albinius</th>\n",
       "      <td>Superior</td>\n",
       "      <td>High</td>\n",
       "      <td>Advanced</td>\n",
       "      <td>Good</td>\n",
       "      <td>Vengeance</td>\n",
       "      <td>Entertainer</td>\n",
       "      <td>Balanced</td>\n",
       "      <td>Humble</td>\n",
       "      <td>31</td>\n",
       "      <td>Gaul</td>\n",
       "      <td>182</td>\n",
       "      <td>77.0</td>\n",
       "      <td>Yes</td>\n",
       "      <td>12</td>\n",
       "      <td>5</td>\n",
       "      <td>0.783059</td>\n",
       "      <td>3.676155</td>\n",
       "      <td>17,0</td>\n",
       "    </tr>\n",
       "    <tr>\n",
       "      <th>Acilius Albinius</th>\n",
       "      <td>Superior</td>\n",
       "      <td>High</td>\n",
       "      <td>Advanced</td>\n",
       "      <td>Good</td>\n",
       "      <td>Vengeance</td>\n",
       "      <td>Entertainer</td>\n",
       "      <td>Balanced</td>\n",
       "      <td>Humble</td>\n",
       "      <td>31</td>\n",
       "      <td>Gaul</td>\n",
       "      <td>182</td>\n",
       "      <td>77.0</td>\n",
       "      <td>Yes</td>\n",
       "      <td>5</td>\n",
       "      <td>2</td>\n",
       "      <td>0.574900</td>\n",
       "      <td>6.859276</td>\n",
       "      <td>7,0</td>\n",
       "    </tr>\n",
       "    <tr>\n",
       "      <th>Acilius Albinius</th>\n",
       "      <td>Superior</td>\n",
       "      <td>High</td>\n",
       "      <td>Advanced</td>\n",
       "      <td>Good</td>\n",
       "      <td>Vengeance</td>\n",
       "      <td>Entertainer</td>\n",
       "      <td>Balanced</td>\n",
       "      <td>Humble</td>\n",
       "      <td>31</td>\n",
       "      <td>Gaul</td>\n",
       "      <td>182</td>\n",
       "      <td>77.0</td>\n",
       "      <td>Yes</td>\n",
       "      <td>12</td>\n",
       "      <td>5</td>\n",
       "      <td>0.783059</td>\n",
       "      <td>3.676155</td>\n",
       "      <td>17,0</td>\n",
       "    </tr>\n",
       "    <tr>\n",
       "      <th>...</th>\n",
       "      <td>...</td>\n",
       "      <td>...</td>\n",
       "      <td>...</td>\n",
       "      <td>...</td>\n",
       "      <td>...</td>\n",
       "      <td>...</td>\n",
       "      <td>...</td>\n",
       "      <td>...</td>\n",
       "      <td>...</td>\n",
       "      <td>...</td>\n",
       "      <td>...</td>\n",
       "      <td>...</td>\n",
       "      <td>...</td>\n",
       "      <td>...</td>\n",
       "      <td>...</td>\n",
       "      <td>...</td>\n",
       "      <td>...</td>\n",
       "      <td>...</td>\n",
       "    </tr>\n",
       "    <tr>\n",
       "      <th>Zeno Zeno</th>\n",
       "      <td>Superior</td>\n",
       "      <td>Low</td>\n",
       "      <td>Expert</td>\n",
       "      <td>Good</td>\n",
       "      <td>Glory</td>\n",
       "      <td>Laborer</td>\n",
       "      <td>Aggressive</td>\n",
       "      <td>Humble</td>\n",
       "      <td>30</td>\n",
       "      <td>Thrace</td>\n",
       "      <td>168</td>\n",
       "      <td>86.0</td>\n",
       "      <td>Yes</td>\n",
       "      <td>13</td>\n",
       "      <td>1</td>\n",
       "      <td>0.893344</td>\n",
       "      <td>4.306268</td>\n",
       "      <td>14,0</td>\n",
       "    </tr>\n",
       "    <tr>\n",
       "      <th>Zeno Zeno</th>\n",
       "      <td>Superior</td>\n",
       "      <td>Low</td>\n",
       "      <td>Expert</td>\n",
       "      <td>Good</td>\n",
       "      <td>Glory</td>\n",
       "      <td>Laborer</td>\n",
       "      <td>Aggressive</td>\n",
       "      <td>Humble</td>\n",
       "      <td>42</td>\n",
       "      <td>Gaul</td>\n",
       "      <td>164</td>\n",
       "      <td>94.0</td>\n",
       "      <td>Yes</td>\n",
       "      <td>10</td>\n",
       "      <td>1</td>\n",
       "      <td>1.000309</td>\n",
       "      <td>1.628445</td>\n",
       "      <td>11,0</td>\n",
       "    </tr>\n",
       "    <tr>\n",
       "      <th>Zeno Zeno</th>\n",
       "      <td>Superior</td>\n",
       "      <td>Low</td>\n",
       "      <td>Expert</td>\n",
       "      <td>Good</td>\n",
       "      <td>Glory</td>\n",
       "      <td>Laborer</td>\n",
       "      <td>Aggressive</td>\n",
       "      <td>Humble</td>\n",
       "      <td>42</td>\n",
       "      <td>Gaul</td>\n",
       "      <td>164</td>\n",
       "      <td>94.0</td>\n",
       "      <td>Yes</td>\n",
       "      <td>13</td>\n",
       "      <td>1</td>\n",
       "      <td>0.893344</td>\n",
       "      <td>4.306268</td>\n",
       "      <td>14,0</td>\n",
       "    </tr>\n",
       "    <tr>\n",
       "      <th>Zeno Zeno</th>\n",
       "      <td>Superior</td>\n",
       "      <td>Low</td>\n",
       "      <td>Expert</td>\n",
       "      <td>Good</td>\n",
       "      <td>Glory</td>\n",
       "      <td>Laborer</td>\n",
       "      <td>Aggressive</td>\n",
       "      <td>Humble</td>\n",
       "      <td>42</td>\n",
       "      <td>Gaul</td>\n",
       "      <td>164</td>\n",
       "      <td>94.0</td>\n",
       "      <td>Yes</td>\n",
       "      <td>10</td>\n",
       "      <td>1</td>\n",
       "      <td>1.000309</td>\n",
       "      <td>1.628445</td>\n",
       "      <td>11,0</td>\n",
       "    </tr>\n",
       "    <tr>\n",
       "      <th>Zeno Zeno</th>\n",
       "      <td>Superior</td>\n",
       "      <td>Low</td>\n",
       "      <td>Expert</td>\n",
       "      <td>Good</td>\n",
       "      <td>Glory</td>\n",
       "      <td>Laborer</td>\n",
       "      <td>Aggressive</td>\n",
       "      <td>Humble</td>\n",
       "      <td>42</td>\n",
       "      <td>Gaul</td>\n",
       "      <td>164</td>\n",
       "      <td>94.0</td>\n",
       "      <td>Yes</td>\n",
       "      <td>13</td>\n",
       "      <td>1</td>\n",
       "      <td>0.893344</td>\n",
       "      <td>4.306268</td>\n",
       "      <td>14,0</td>\n",
       "    </tr>\n",
       "  </tbody>\n",
       "</table>\n",
       "<p>3524595 rows × 18 columns</p>\n",
       "</div>"
      ],
      "text/plain": [
       "                 Equipment Quality Injury History Tactical Knowledge  \\\n",
       "GLADIATOR                                                              \n",
       "Acilius Acilius           Standard           High       Intermediate   \n",
       "Acilius Agrippa           Superior            Low           Advanced   \n",
       "Acilius Albinius          Superior           High           Advanced   \n",
       "Acilius Albinius          Superior           High           Advanced   \n",
       "Acilius Albinius          Superior           High           Advanced   \n",
       "...                            ...            ...                ...   \n",
       "Zeno Zeno                 Superior            Low             Expert   \n",
       "Zeno Zeno                 Superior            Low             Expert   \n",
       "Zeno Zeno                 Superior            Low             Expert   \n",
       "Zeno Zeno                 Superior            Low             Expert   \n",
       "Zeno Zeno                 Superior            Low             Expert   \n",
       "\n",
       "                 Health Status Personal Motivation Previous Occupation  \\\n",
       "GLADIATOR                                                                \n",
       "Acilius Acilius           Good             Freedom             Laborer   \n",
       "Acilius Agrippa      Excellent           Vengeance         Entertainer   \n",
       "Acilius Albinius          Good           Vengeance         Entertainer   \n",
       "Acilius Albinius          Good           Vengeance         Entertainer   \n",
       "Acilius Albinius          Good           Vengeance         Entertainer   \n",
       "...                        ...                 ...                 ...   \n",
       "Zeno Zeno                 Good               Glory             Laborer   \n",
       "Zeno Zeno                 Good               Glory             Laborer   \n",
       "Zeno Zeno                 Good               Glory             Laborer   \n",
       "Zeno Zeno                 Good               Glory             Laborer   \n",
       "Zeno Zeno                 Good               Glory             Laborer   \n",
       "\n",
       "                 Battle Strategy Crowd Appeal Techniques  Age    Origin  \\\n",
       "GLADIATOR                                                                 \n",
       "Acilius Acilius         Balanced            Intimidating   27      Rome   \n",
       "Acilius Agrippa         Balanced             Charismatic   28  Germania   \n",
       "Acilius Albinius        Balanced                  Humble   31      Gaul   \n",
       "Acilius Albinius        Balanced                  Humble   31      Gaul   \n",
       "Acilius Albinius        Balanced                  Humble   31      Gaul   \n",
       "...                          ...                     ...  ...       ...   \n",
       "Zeno Zeno             Aggressive                  Humble   30    Thrace   \n",
       "Zeno Zeno             Aggressive                  Humble   42      Gaul   \n",
       "Zeno Zeno             Aggressive                  Humble   42      Gaul   \n",
       "Zeno Zeno             Aggressive                  Humble   42      Gaul   \n",
       "Zeno Zeno             Aggressive                  Humble   42      Gaul   \n",
       "\n",
       "                  Height  Weight Survived  Wins  Losses  Public Favor  \\\n",
       "GLADIATOR                                                               \n",
       "Acilius Acilius      169    78.0       No     6       4      0.577528   \n",
       "Acilius Agrippa      165    85.0      Yes     5       1      0.584773   \n",
       "Acilius Albinius     182    77.0      Yes    12       5      0.783059   \n",
       "Acilius Albinius     182    77.0      Yes     5       2      0.574900   \n",
       "Acilius Albinius     182    77.0      Yes    12       5      0.783059   \n",
       "...                  ...     ...      ...   ...     ...           ...   \n",
       "Zeno Zeno            168    86.0      Yes    13       1      0.893344   \n",
       "Zeno Zeno            164    94.0      Yes    10       1      1.000309   \n",
       "Zeno Zeno            164    94.0      Yes    13       1      0.893344   \n",
       "Zeno Zeno            164    94.0      Yes    10       1      1.000309   \n",
       "Zeno Zeno            164    94.0      Yes    13       1      0.893344   \n",
       "\n",
       "                  Mental Resilience Battle Experience  \n",
       "GLADIATOR                                              \n",
       "Acilius Acilius            2.404240              10,0  \n",
       "Acilius Agrippa            8.185433               6,0  \n",
       "Acilius Albinius           3.676155              17,0  \n",
       "Acilius Albinius           6.859276               7,0  \n",
       "Acilius Albinius           3.676155              17,0  \n",
       "...                             ...               ...  \n",
       "Zeno Zeno                  4.306268              14,0  \n",
       "Zeno Zeno                  1.628445              11,0  \n",
       "Zeno Zeno                  4.306268              14,0  \n",
       "Zeno Zeno                  1.628445              11,0  \n",
       "Zeno Zeno                  4.306268              14,0  \n",
       "\n",
       "[3524595 rows x 18 columns]"
      ]
     },
     "execution_count": 86,
     "metadata": {},
     "output_type": "execute_result"
    }
   ],
   "source": [
    "data.dropna()"
   ]
  },
  {
   "cell_type": "code",
   "execution_count": null,
   "id": "e09696b4f6a28ad",
   "metadata": {
    "ExecuteTime": {
     "end_time": "2024-03-06T12:10:10.943984300Z",
     "start_time": "2024-03-06T12:10:07.231789100Z"
    },
    "collapsed": false
   },
   "outputs": [
    {
     "data": {
      "text/plain": [
       "Equipment Quality          0\n",
       "Injury History             0\n",
       "Tactical Knowledge         0\n",
       "Health Status              0\n",
       "Personal Motivation        0\n",
       "Previous Occupation        0\n",
       "Battle Strategy            0\n",
       "Crowd Appeal Techniques    0\n",
       "Age                        0\n",
       "Origin                     0\n",
       "Height                     0\n",
       "Weight                     0\n",
       "Survived                   0\n",
       "Wins                       0\n",
       "Losses                     0\n",
       "Public Favor               0\n",
       "Mental Resilience          0\n",
       "Battle Experience          0\n",
       "dtype: int64"
      ]
     },
     "execution_count": 89,
     "metadata": {},
     "output_type": "execute_result"
    }
   ],
   "source": [
    "data.dropna(inplace=True)\n",
    "data.isna().sum()\n"
   ]
  },
  {
   "cell_type": "markdown",
   "id": "d95ef1092e28ca0a",
   "metadata": {
    "collapsed": false
   },
   "source": [
    "Naloga 4 (10 T)\n",
    "Ustvarite dve kopiji datafram-a dfRegresija in dfKlasifikacija:\n",
    "dfKlasifikacija je dataframe, ki ga boste uporabili za klasifikacijo, in sicer boste napovedovali ali bo določen gladiator preživel boje (Survived).\n",
    "dfRegresija je dataframe, ki ga boste uporabili za regresijo, in sicer boste napovedovali število zmag gladiatorja (Wins).\n",
    "Podatke v obeh dataframih ustrezno predprocesirajte(!) - kategorične vrednosti pretvorite z LabelEncoderjem, številske vrednosti pa morajo biti standardizirane.\n",
    "Izpišite zadnjih 5 vrstic iz vsakega dataframa."
   ]
  },
  {
   "cell_type": "code",
   "execution_count": null,
   "id": "3b6ea52606326a0a",
   "metadata": {
    "ExecuteTime": {
     "end_time": "2024-03-06T12:12:41.730016900Z",
     "start_time": "2024-03-06T12:12:39.470148900Z"
    },
    "collapsed": false
   },
   "outputs": [],
   "source": [
    "dfRegresija=data.copy()\n",
    "dfKlasifikacija=data.copy()\n"
   ]
  },
  {
   "cell_type": "code",
   "execution_count": null,
   "id": "68e0773d28b89cf6",
   "metadata": {
    "ExecuteTime": {
     "end_time": "2024-03-06T12:22:59.055605200Z",
     "start_time": "2024-03-06T12:22:58.963615Z"
    },
    "collapsed": false
   },
   "outputs": [
    {
     "data": {
      "text/plain": [
       "Index(['Equipment Quality', 'Injury History', 'Tactical Knowledge',\n",
       "       'Health Status', 'Personal Motivation', 'Previous Occupation',\n",
       "       'Battle Strategy', 'Crowd Appeal Techniques', 'Age', 'Origin', 'Height',\n",
       "       'Weight', 'Survived', 'Wins', 'Losses', 'Public Favor',\n",
       "       'Mental Resilience', 'Battle Experience'],\n",
       "      dtype='object')"
      ]
     },
     "execution_count": 95,
     "metadata": {},
     "output_type": "execute_result"
    }
   ],
   "source": [
    "dfKlasifikacija.columns"
   ]
  },
  {
   "cell_type": "code",
   "execution_count": null,
   "id": "ce774ad5a45780fa",
   "metadata": {
    "ExecuteTime": {
     "end_time": "2024-03-06T12:42:37.078265300Z",
     "start_time": "2024-03-06T12:42:36.965332500Z"
    },
    "collapsed": false
   },
   "outputs": [
    {
     "data": {
      "text/plain": [
       "Equipment Quality            int32\n",
       "Injury History               int32\n",
       "Tactical Knowledge           int32\n",
       "Health Status                int32\n",
       "Personal Motivation          int32\n",
       "Previous Occupation          int32\n",
       "Battle Strategy              int32\n",
       "Crowd Appeal Techniques      int32\n",
       "Age                        float64\n",
       "Origin                       int32\n",
       "Height                     float64\n",
       "Weight                     float64\n",
       "Survived                     int32\n",
       "Wins                       float64\n",
       "Losses                     float64\n",
       "Public Favor               float64\n",
       "Mental Resilience          float64\n",
       "Battle Experience            int32\n",
       "dtype: object"
      ]
     },
     "execution_count": 109,
     "metadata": {},
     "output_type": "execute_result"
    }
   ],
   "source": [
    "dfKlasifikacija.dtypes"
   ]
  },
  {
   "cell_type": "code",
   "execution_count": null,
   "id": "4222511c025f7d6e",
   "metadata": {
    "ExecuteTime": {
     "end_time": "2024-03-06T12:56:12.693053600Z",
     "start_time": "2024-03-06T12:56:12.664049600Z"
    },
    "collapsed": false
   },
   "outputs": [],
   "source": [
    "from sklearn.compose import ColumnTransformer\n",
    "from sklearn.preprocessing import StandardScaler, OneHotEncoder, LabelEncoder\n",
    "\n",
    "catc=dfKlasifikacija.select_dtypes(include=[\"object\",\"category\"]).columns\n",
    "numc=dfKlasifikacija.select_dtypes(include=[\"int32\",\"int64\",\"float64\"]).columns.drop(['Survived'])\n",
    "\n",
    "preprocessor=ColumnTransformer(transformers=[(\"num\",StandardScaler(),numc),(\"cat\",LabelEncoder(),catc)])\n",
    "\n",
    "dfKlasifikacija_processed = preprocessor.fit_transform(dfKlasifikacija)\n",
    "dfKlasifikacija = pd.DataFrame(dfKlasifikacija_processed, columns=preprocessor.get_feature_names_out())"
   ]
  },
  {
   "cell_type": "code",
   "execution_count": null,
   "id": "9456af7d6fe21355",
   "metadata": {
    "ExecuteTime": {
     "end_time": "2024-03-06T13:39:15.864912500Z",
     "start_time": "2024-03-06T13:39:15.835412200Z"
    },
    "collapsed": false
   },
   "outputs": [
    {
     "data": {
      "text/plain": [
       "Index(['Age', 'Height', 'Weight', 'Losses', 'Public Favor',\n",
       "       'Mental Resilience', 'Equipment Quality_Basic',\n",
       "       'Equipment Quality_Standard', 'Equipment Quality_Superior',\n",
       "       'Injury History_High', 'Injury History_Low',\n",
       "       'Tactical Knowledge_Advanced', 'Tactical Knowledge_Basic',\n",
       "       'Tactical Knowledge_Expert', 'Tactical Knowledge_Intermediate',\n",
       "       'Health Status_Excellent', 'Health Status_Fair', 'Health Status_Good',\n",
       "       'Personal Motivation_Freedom', 'Personal Motivation_Glory',\n",
       "       'Personal Motivation_Survival', 'Personal Motivation_Vengeance',\n",
       "       'Personal Motivation_Wealth', 'Previous Occupation_Criminal',\n",
       "       'Previous Occupation_Entertainer', 'Previous Occupation_Laborer',\n",
       "       'Previous Occupation_Soldier', 'Previous Occupation_Unemployed',\n",
       "       'Battle Strategy_Aggressive', 'Battle Strategy_Balanced',\n",
       "       'Battle Strategy_Defensive', 'Crowd Appeal Techniques_Charismatic',\n",
       "       'Crowd Appeal Techniques_Flamboyant', 'Crowd Appeal Techniques_Humble',\n",
       "       'Crowd Appeal Techniques_Intimidating', 'Origin_Gaul',\n",
       "       'Origin_Germania', 'Origin_Greece', 'Origin_Numidia', 'Origin_Rome',\n",
       "       'Origin_Thrace', 'Survived_No', 'Survived_Yes', 'Battle Experience_0,0',\n",
       "       'Battle Experience_1,0', 'Battle Experience_10,0',\n",
       "       'Battle Experience_11,0', 'Battle Experience_12,0',\n",
       "       'Battle Experience_13,0', 'Battle Experience_14,0',\n",
       "       'Battle Experience_15,0', 'Battle Experience_16,0',\n",
       "       'Battle Experience_17,0', 'Battle Experience_18,0',\n",
       "       'Battle Experience_19,0', 'Battle Experience_2,0',\n",
       "       'Battle Experience_20,0', 'Battle Experience_21,0',\n",
       "       'Battle Experience_22,0', 'Battle Experience_23,0',\n",
       "       'Battle Experience_24,0', 'Battle Experience_25,0',\n",
       "       'Battle Experience_26,0', 'Battle Experience_27,0',\n",
       "       'Battle Experience_28,0', 'Battle Experience_29,0',\n",
       "       'Battle Experience_3,0', 'Battle Experience_30,0',\n",
       "       'Battle Experience_31,0', 'Battle Experience_32,0',\n",
       "       'Battle Experience_33,0', 'Battle Experience_34,0',\n",
       "       'Battle Experience_35,0', 'Battle Experience_36,0',\n",
       "       'Battle Experience_37,0', 'Battle Experience_39,0',\n",
       "       'Battle Experience_4,0', 'Battle Experience_5,0',\n",
       "       'Battle Experience_6,0', 'Battle Experience_7,0',\n",
       "       'Battle Experience_8,0', 'Battle Experience_9,0'],\n",
       "      dtype='object')"
      ]
     },
     "execution_count": 131,
     "metadata": {},
     "output_type": "execute_result"
    }
   ],
   "source": [
    "dfRegresija.columns"
   ]
  },
  {
   "cell_type": "code",
   "execution_count": null,
   "id": "88a87394eef44bcd",
   "metadata": {
    "ExecuteTime": {
     "end_time": "2024-03-06T13:39:56.276044900Z",
     "start_time": "2024-03-06T13:39:47.500114800Z"
    },
    "collapsed": false
   },
   "outputs": [
    {
     "ename": "NotFittedError",
     "evalue": "This OneHotEncoder instance is not fitted yet. Call 'fit' with appropriate arguments before using this estimator.",
     "output_type": "error",
     "traceback": [
      "\u001b[1;31m---------------------------------------------------------------------------\u001b[0m",
      "\u001b[1;31mNotFittedError\u001b[0m                            Traceback (most recent call last)",
      "Cell \u001b[1;32mIn[132], line 21\u001b[0m\n\u001b[0;32m     18\u001b[0m dfRegresija_processed \u001b[38;5;241m=\u001b[39m drug_preprocessor\u001b[38;5;241m.\u001b[39mfit_transform(dfRegresija)\n\u001b[0;32m     20\u001b[0m \u001b[38;5;66;03m# Retrieve the feature names for transformed categorical columns\u001b[39;00m\n\u001b[1;32m---> 21\u001b[0m columns_transformed \u001b[38;5;241m=\u001b[39m drug_preprocessor\u001b[38;5;241m.\u001b[39mnamed_transformers_[\u001b[38;5;124m'\u001b[39m\u001b[38;5;124mcat\u001b[39m\u001b[38;5;124m'\u001b[39m]\u001b[38;5;241m.\u001b[39mget_feature_names_out(catr)\n\u001b[0;32m     23\u001b[0m \u001b[38;5;66;03m# Create a list of all column names - numerical, transformed categorical, and the unprocessed 'Wins' column\u001b[39;00m\n\u001b[0;32m     24\u001b[0m all_columns \u001b[38;5;241m=\u001b[39m numr\u001b[38;5;241m.\u001b[39mtolist() \u001b[38;5;241m+\u001b[39m \u001b[38;5;28mlist\u001b[39m(columns_transformed) \u001b[38;5;241m+\u001b[39m [\u001b[38;5;124m'\u001b[39m\u001b[38;5;124mWins\u001b[39m\u001b[38;5;124m'\u001b[39m]\n",
      "File \u001b[1;32m~\\ANACONDA3\\Lib\\site-packages\\sklearn\\preprocessing\\_encoders.py:1101\u001b[0m, in \u001b[0;36mOneHotEncoder.get_feature_names_out\u001b[1;34m(self, input_features)\u001b[0m\n\u001b[0;32m   1081\u001b[0m \u001b[38;5;28;01mdef\u001b[39;00m \u001b[38;5;21mget_feature_names_out\u001b[39m(\u001b[38;5;28mself\u001b[39m, input_features\u001b[38;5;241m=\u001b[39m\u001b[38;5;28;01mNone\u001b[39;00m):\n\u001b[0;32m   1082\u001b[0m \u001b[38;5;250m    \u001b[39m\u001b[38;5;124;03m\"\"\"Get output feature names for transformation.\u001b[39;00m\n\u001b[0;32m   1083\u001b[0m \n\u001b[0;32m   1084\u001b[0m \u001b[38;5;124;03m    Parameters\u001b[39;00m\n\u001b[1;32m   (...)\u001b[0m\n\u001b[0;32m   1099\u001b[0m \u001b[38;5;124;03m        Transformed feature names.\u001b[39;00m\n\u001b[0;32m   1100\u001b[0m \u001b[38;5;124;03m    \"\"\"\u001b[39;00m\n\u001b[1;32m-> 1101\u001b[0m     check_is_fitted(\u001b[38;5;28mself\u001b[39m)\n\u001b[0;32m   1102\u001b[0m     input_features \u001b[38;5;241m=\u001b[39m _check_feature_names_in(\u001b[38;5;28mself\u001b[39m, input_features)\n\u001b[0;32m   1103\u001b[0m     cats \u001b[38;5;241m=\u001b[39m [\n\u001b[0;32m   1104\u001b[0m         \u001b[38;5;28mself\u001b[39m\u001b[38;5;241m.\u001b[39m_compute_transformed_categories(i)\n\u001b[0;32m   1105\u001b[0m         \u001b[38;5;28;01mfor\u001b[39;00m i, _ \u001b[38;5;129;01min\u001b[39;00m \u001b[38;5;28menumerate\u001b[39m(\u001b[38;5;28mself\u001b[39m\u001b[38;5;241m.\u001b[39mcategories_)\n\u001b[0;32m   1106\u001b[0m     ]\n",
      "File \u001b[1;32m~\\ANACONDA3\\Lib\\site-packages\\sklearn\\utils\\validation.py:1390\u001b[0m, in \u001b[0;36mcheck_is_fitted\u001b[1;34m(estimator, attributes, msg, all_or_any)\u001b[0m\n\u001b[0;32m   1385\u001b[0m     fitted \u001b[38;5;241m=\u001b[39m [\n\u001b[0;32m   1386\u001b[0m         v \u001b[38;5;28;01mfor\u001b[39;00m v \u001b[38;5;129;01min\u001b[39;00m \u001b[38;5;28mvars\u001b[39m(estimator) \u001b[38;5;28;01mif\u001b[39;00m v\u001b[38;5;241m.\u001b[39mendswith(\u001b[38;5;124m\"\u001b[39m\u001b[38;5;124m_\u001b[39m\u001b[38;5;124m\"\u001b[39m) \u001b[38;5;129;01mand\u001b[39;00m \u001b[38;5;129;01mnot\u001b[39;00m v\u001b[38;5;241m.\u001b[39mstartswith(\u001b[38;5;124m\"\u001b[39m\u001b[38;5;124m__\u001b[39m\u001b[38;5;124m\"\u001b[39m)\n\u001b[0;32m   1387\u001b[0m     ]\n\u001b[0;32m   1389\u001b[0m \u001b[38;5;28;01mif\u001b[39;00m \u001b[38;5;129;01mnot\u001b[39;00m fitted:\n\u001b[1;32m-> 1390\u001b[0m     \u001b[38;5;28;01mraise\u001b[39;00m NotFittedError(msg \u001b[38;5;241m%\u001b[39m {\u001b[38;5;124m\"\u001b[39m\u001b[38;5;124mname\u001b[39m\u001b[38;5;124m\"\u001b[39m: \u001b[38;5;28mtype\u001b[39m(estimator)\u001b[38;5;241m.\u001b[39m\u001b[38;5;18m__name__\u001b[39m})\n",
      "\u001b[1;31mNotFittedError\u001b[0m: This OneHotEncoder instance is not fitted yet. Call 'fit' with appropriate arguments before using this estimator."
     ]
    }
   ],
   "source": [
    "import numpy as np\n",
    "from sklearn.compose import ColumnTransformer\n",
    "from sklearn.preprocessing import StandardScaler, OneHotEncoder\n",
    "\n",
    "\n",
    "catr = dfRegresija.select_dtypes(include=[\"object\", \"category\"]).columns\n",
    "numr = dfRegresija.select_dtypes(include=[\"int32\", \"int64\", \"float64\"]).columns.drop(['Wins'])\n",
    "\n",
    "\n",
    "drug_preprocessor = ColumnTransformer(transformers=[\n",
    "    (\"num\", StandardScaler(), numr),\n",
    "    (\"cat\", OneHotEncoder(), catr)\n",
    "])\n",
    "\n",
    "\n",
    "dfRegresija_processed = drug_preprocessor.fit_transform(dfRegresija)\n",
    "\n",
    "\n",
    "columns_transformed = drug_preprocessor.named_transformers_['cat'].get_feature_names_out(catr)\n",
    "\n",
    "\n",
    "all_columns = numr.tolist() + list(columns_transformed) + ['Wins']\n",
    "\n",
    "\n",
    "dfRegresija_processed_dense = dfRegresija_processed.toarray() if hasattr(dfRegresija_processed, \"toarray\") else dfRegresija_processed\n",
    "\n",
    "wins_column = dfRegresija['Wins'].values\n",
    "\n",
    "dfRegresija_full = np.hstack((dfRegresija_processed_dense, wins_column.reshape(-1, 1)))\n",
    "\n",
    "\n",
    "dfRegresija_final = pd.DataFrame(dfRegresija_full, columns=all_columns)\n",
    "\n",
    "\n",
    "dfRegresija_final.tail()\n"
   ]
  },
  {
   "cell_type": "code",
   "execution_count": null,
   "id": "2eb4f4f062fbf604",
   "metadata": {
    "ExecuteTime": {
     "end_time": "2024-03-06T13:06:04.857688500Z",
     "start_time": "2024-03-06T13:06:04.738769600Z"
    },
    "collapsed": false
   },
   "outputs": [
    {
     "data": {
      "text/html": [
       "<div>\n",
       "<style scoped>\n",
       "    .dataframe tbody tr th:only-of-type {\n",
       "        vertical-align: middle;\n",
       "    }\n",
       "\n",
       "    .dataframe tbody tr th {\n",
       "        vertical-align: top;\n",
       "    }\n",
       "\n",
       "    .dataframe thead th {\n",
       "        text-align: right;\n",
       "    }\n",
       "</style>\n",
       "<table border=\"1\" class=\"dataframe\">\n",
       "  <thead>\n",
       "    <tr style=\"text-align: right;\">\n",
       "      <th></th>\n",
       "      <th>Age</th>\n",
       "      <th>Height</th>\n",
       "      <th>Weight</th>\n",
       "      <th>Losses</th>\n",
       "      <th>Public Favor</th>\n",
       "      <th>Mental Resilience</th>\n",
       "      <th>Equipment Quality_Basic</th>\n",
       "      <th>Equipment Quality_Standard</th>\n",
       "      <th>Equipment Quality_Superior</th>\n",
       "      <th>Injury History_High</th>\n",
       "      <th>...</th>\n",
       "      <th>Battle Experience_35,0</th>\n",
       "      <th>Battle Experience_36,0</th>\n",
       "      <th>Battle Experience_37,0</th>\n",
       "      <th>Battle Experience_39,0</th>\n",
       "      <th>Battle Experience_4,0</th>\n",
       "      <th>Battle Experience_5,0</th>\n",
       "      <th>Battle Experience_6,0</th>\n",
       "      <th>Battle Experience_7,0</th>\n",
       "      <th>Battle Experience_8,0</th>\n",
       "      <th>Battle Experience_9,0</th>\n",
       "    </tr>\n",
       "  </thead>\n",
       "  <tbody>\n",
       "    <tr>\n",
       "      <th>3524590</th>\n",
       "      <td>-0.187962</td>\n",
       "      <td>-0.724513</td>\n",
       "      <td>0.257080</td>\n",
       "      <td>-0.433669</td>\n",
       "      <td>1.430601</td>\n",
       "      <td>-0.085415</td>\n",
       "      <td>0.0</td>\n",
       "      <td>0.0</td>\n",
       "      <td>1.0</td>\n",
       "      <td>0.0</td>\n",
       "      <td>...</td>\n",
       "      <td>0.0</td>\n",
       "      <td>0.0</td>\n",
       "      <td>0.0</td>\n",
       "      <td>0.0</td>\n",
       "      <td>0.0</td>\n",
       "      <td>0.0</td>\n",
       "      <td>0.0</td>\n",
       "      <td>0.0</td>\n",
       "      <td>0.0</td>\n",
       "      <td>0.0</td>\n",
       "    </tr>\n",
       "    <tr>\n",
       "      <th>3524591</th>\n",
       "      <td>1.298568</td>\n",
       "      <td>-1.116164</td>\n",
       "      <td>0.757028</td>\n",
       "      <td>-0.433669</td>\n",
       "      <td>2.211181</td>\n",
       "      <td>-1.236122</td>\n",
       "      <td>0.0</td>\n",
       "      <td>0.0</td>\n",
       "      <td>1.0</td>\n",
       "      <td>0.0</td>\n",
       "      <td>...</td>\n",
       "      <td>0.0</td>\n",
       "      <td>0.0</td>\n",
       "      <td>0.0</td>\n",
       "      <td>0.0</td>\n",
       "      <td>0.0</td>\n",
       "      <td>0.0</td>\n",
       "      <td>0.0</td>\n",
       "      <td>0.0</td>\n",
       "      <td>0.0</td>\n",
       "      <td>0.0</td>\n",
       "    </tr>\n",
       "    <tr>\n",
       "      <th>3524592</th>\n",
       "      <td>1.298568</td>\n",
       "      <td>-1.116164</td>\n",
       "      <td>0.757028</td>\n",
       "      <td>-0.433669</td>\n",
       "      <td>1.430601</td>\n",
       "      <td>-0.085415</td>\n",
       "      <td>0.0</td>\n",
       "      <td>0.0</td>\n",
       "      <td>1.0</td>\n",
       "      <td>0.0</td>\n",
       "      <td>...</td>\n",
       "      <td>0.0</td>\n",
       "      <td>0.0</td>\n",
       "      <td>0.0</td>\n",
       "      <td>0.0</td>\n",
       "      <td>0.0</td>\n",
       "      <td>0.0</td>\n",
       "      <td>0.0</td>\n",
       "      <td>0.0</td>\n",
       "      <td>0.0</td>\n",
       "      <td>0.0</td>\n",
       "    </tr>\n",
       "    <tr>\n",
       "      <th>3524593</th>\n",
       "      <td>1.298568</td>\n",
       "      <td>-1.116164</td>\n",
       "      <td>0.757028</td>\n",
       "      <td>-0.433669</td>\n",
       "      <td>2.211181</td>\n",
       "      <td>-1.236122</td>\n",
       "      <td>0.0</td>\n",
       "      <td>0.0</td>\n",
       "      <td>1.0</td>\n",
       "      <td>0.0</td>\n",
       "      <td>...</td>\n",
       "      <td>0.0</td>\n",
       "      <td>0.0</td>\n",
       "      <td>0.0</td>\n",
       "      <td>0.0</td>\n",
       "      <td>0.0</td>\n",
       "      <td>0.0</td>\n",
       "      <td>0.0</td>\n",
       "      <td>0.0</td>\n",
       "      <td>0.0</td>\n",
       "      <td>0.0</td>\n",
       "    </tr>\n",
       "    <tr>\n",
       "      <th>3524594</th>\n",
       "      <td>1.298568</td>\n",
       "      <td>-1.116164</td>\n",
       "      <td>0.757028</td>\n",
       "      <td>-0.433669</td>\n",
       "      <td>1.430601</td>\n",
       "      <td>-0.085415</td>\n",
       "      <td>0.0</td>\n",
       "      <td>0.0</td>\n",
       "      <td>1.0</td>\n",
       "      <td>0.0</td>\n",
       "      <td>...</td>\n",
       "      <td>0.0</td>\n",
       "      <td>0.0</td>\n",
       "      <td>0.0</td>\n",
       "      <td>0.0</td>\n",
       "      <td>0.0</td>\n",
       "      <td>0.0</td>\n",
       "      <td>0.0</td>\n",
       "      <td>0.0</td>\n",
       "      <td>0.0</td>\n",
       "      <td>0.0</td>\n",
       "    </tr>\n",
       "  </tbody>\n",
       "</table>\n",
       "<p>5 rows × 82 columns</p>\n",
       "</div>"
      ],
      "text/plain": [
       "              Age    Height    Weight    Losses  Public Favor  \\\n",
       "3524590 -0.187962 -0.724513  0.257080 -0.433669      1.430601   \n",
       "3524591  1.298568 -1.116164  0.757028 -0.433669      2.211181   \n",
       "3524592  1.298568 -1.116164  0.757028 -0.433669      1.430601   \n",
       "3524593  1.298568 -1.116164  0.757028 -0.433669      2.211181   \n",
       "3524594  1.298568 -1.116164  0.757028 -0.433669      1.430601   \n",
       "\n",
       "         Mental Resilience  Equipment Quality_Basic  \\\n",
       "3524590          -0.085415                      0.0   \n",
       "3524591          -1.236122                      0.0   \n",
       "3524592          -0.085415                      0.0   \n",
       "3524593          -1.236122                      0.0   \n",
       "3524594          -0.085415                      0.0   \n",
       "\n",
       "         Equipment Quality_Standard  Equipment Quality_Superior  \\\n",
       "3524590                         0.0                         1.0   \n",
       "3524591                         0.0                         1.0   \n",
       "3524592                         0.0                         1.0   \n",
       "3524593                         0.0                         1.0   \n",
       "3524594                         0.0                         1.0   \n",
       "\n",
       "         Injury History_High  ...  Battle Experience_35,0  \\\n",
       "3524590                  0.0  ...                     0.0   \n",
       "3524591                  0.0  ...                     0.0   \n",
       "3524592                  0.0  ...                     0.0   \n",
       "3524593                  0.0  ...                     0.0   \n",
       "3524594                  0.0  ...                     0.0   \n",
       "\n",
       "         Battle Experience_36,0  Battle Experience_37,0  \\\n",
       "3524590                     0.0                     0.0   \n",
       "3524591                     0.0                     0.0   \n",
       "3524592                     0.0                     0.0   \n",
       "3524593                     0.0                     0.0   \n",
       "3524594                     0.0                     0.0   \n",
       "\n",
       "         Battle Experience_39,0  Battle Experience_4,0  Battle Experience_5,0  \\\n",
       "3524590                     0.0                    0.0                    0.0   \n",
       "3524591                     0.0                    0.0                    0.0   \n",
       "3524592                     0.0                    0.0                    0.0   \n",
       "3524593                     0.0                    0.0                    0.0   \n",
       "3524594                     0.0                    0.0                    0.0   \n",
       "\n",
       "         Battle Experience_6,0  Battle Experience_7,0  Battle Experience_8,0  \\\n",
       "3524590                    0.0                    0.0                    0.0   \n",
       "3524591                    0.0                    0.0                    0.0   \n",
       "3524592                    0.0                    0.0                    0.0   \n",
       "3524593                    0.0                    0.0                    0.0   \n",
       "3524594                    0.0                    0.0                    0.0   \n",
       "\n",
       "         Battle Experience_9,0  \n",
       "3524590                    0.0  \n",
       "3524591                    0.0  \n",
       "3524592                    0.0  \n",
       "3524593                    0.0  \n",
       "3524594                    0.0  \n",
       "\n",
       "[5 rows x 82 columns]"
      ]
     },
     "execution_count": 119,
     "metadata": {},
     "output_type": "execute_result"
    }
   ],
   "source": [
    "dfRegresija.tail()\n"
   ]
  },
  {
   "cell_type": "code",
   "execution_count": null,
   "id": "ed482ddce9992a96",
   "metadata": {
    "ExecuteTime": {
     "end_time": "2024-03-06T13:06:10.995693Z",
     "start_time": "2024-03-06T13:06:10.871004800Z"
    },
    "collapsed": false
   },
   "outputs": [
    {
     "data": {
      "text/html": [
       "<div>\n",
       "<style scoped>\n",
       "    .dataframe tbody tr th:only-of-type {\n",
       "        vertical-align: middle;\n",
       "    }\n",
       "\n",
       "    .dataframe tbody tr th {\n",
       "        vertical-align: top;\n",
       "    }\n",
       "\n",
       "    .dataframe thead th {\n",
       "        text-align: right;\n",
       "    }\n",
       "</style>\n",
       "<table border=\"1\" class=\"dataframe\">\n",
       "  <thead>\n",
       "    <tr style=\"text-align: right;\">\n",
       "      <th></th>\n",
       "      <th>num__Equipment Quality</th>\n",
       "      <th>num__Injury History</th>\n",
       "      <th>num__Tactical Knowledge</th>\n",
       "      <th>num__Health Status</th>\n",
       "      <th>num__Personal Motivation</th>\n",
       "      <th>num__Previous Occupation</th>\n",
       "      <th>num__Battle Strategy</th>\n",
       "      <th>num__Crowd Appeal Techniques</th>\n",
       "      <th>num__Age</th>\n",
       "      <th>num__Origin</th>\n",
       "      <th>num__Height</th>\n",
       "      <th>num__Weight</th>\n",
       "      <th>num__Wins</th>\n",
       "      <th>num__Losses</th>\n",
       "      <th>num__Public Favor</th>\n",
       "      <th>num__Mental Resilience</th>\n",
       "      <th>num__Battle Experience</th>\n",
       "    </tr>\n",
       "  </thead>\n",
       "  <tbody>\n",
       "    <tr>\n",
       "      <th>3524590</th>\n",
       "      <td>1.225021</td>\n",
       "      <td>0.512413</td>\n",
       "      <td>0.447852</td>\n",
       "      <td>1.558201</td>\n",
       "      <td>-0.604632</td>\n",
       "      <td>0.153588</td>\n",
       "      <td>-1.158065</td>\n",
       "      <td>0.288263</td>\n",
       "      <td>-0.187962</td>\n",
       "      <td>1.466111</td>\n",
       "      <td>-0.724513</td>\n",
       "      <td>0.257080</td>\n",
       "      <td>1.479090</td>\n",
       "      <td>-0.433669</td>\n",
       "      <td>1.430601</td>\n",
       "      <td>-0.085415</td>\n",
       "      <td>-0.958203</td>\n",
       "    </tr>\n",
       "    <tr>\n",
       "      <th>3524591</th>\n",
       "      <td>1.225021</td>\n",
       "      <td>0.512413</td>\n",
       "      <td>0.447852</td>\n",
       "      <td>1.558201</td>\n",
       "      <td>-0.604632</td>\n",
       "      <td>0.153588</td>\n",
       "      <td>-1.158065</td>\n",
       "      <td>0.288263</td>\n",
       "      <td>1.298568</td>\n",
       "      <td>-1.463150</td>\n",
       "      <td>-1.116164</td>\n",
       "      <td>0.757028</td>\n",
       "      <td>0.615342</td>\n",
       "      <td>-0.433669</td>\n",
       "      <td>2.211181</td>\n",
       "      <td>-1.236122</td>\n",
       "      <td>-1.159078</td>\n",
       "    </tr>\n",
       "    <tr>\n",
       "      <th>3524592</th>\n",
       "      <td>1.225021</td>\n",
       "      <td>0.512413</td>\n",
       "      <td>0.447852</td>\n",
       "      <td>1.558201</td>\n",
       "      <td>-0.604632</td>\n",
       "      <td>0.153588</td>\n",
       "      <td>-1.158065</td>\n",
       "      <td>0.288263</td>\n",
       "      <td>1.298568</td>\n",
       "      <td>-1.463150</td>\n",
       "      <td>-1.116164</td>\n",
       "      <td>0.757028</td>\n",
       "      <td>1.479090</td>\n",
       "      <td>-0.433669</td>\n",
       "      <td>1.430601</td>\n",
       "      <td>-0.085415</td>\n",
       "      <td>-0.958203</td>\n",
       "    </tr>\n",
       "    <tr>\n",
       "      <th>3524593</th>\n",
       "      <td>1.225021</td>\n",
       "      <td>0.512413</td>\n",
       "      <td>0.447852</td>\n",
       "      <td>1.558201</td>\n",
       "      <td>-0.604632</td>\n",
       "      <td>0.153588</td>\n",
       "      <td>-1.158065</td>\n",
       "      <td>0.288263</td>\n",
       "      <td>1.298568</td>\n",
       "      <td>-1.463150</td>\n",
       "      <td>-1.116164</td>\n",
       "      <td>0.757028</td>\n",
       "      <td>0.615342</td>\n",
       "      <td>-0.433669</td>\n",
       "      <td>2.211181</td>\n",
       "      <td>-1.236122</td>\n",
       "      <td>-1.159078</td>\n",
       "    </tr>\n",
       "    <tr>\n",
       "      <th>3524594</th>\n",
       "      <td>1.225021</td>\n",
       "      <td>0.512413</td>\n",
       "      <td>0.447852</td>\n",
       "      <td>1.558201</td>\n",
       "      <td>-0.604632</td>\n",
       "      <td>0.153588</td>\n",
       "      <td>-1.158065</td>\n",
       "      <td>0.288263</td>\n",
       "      <td>1.298568</td>\n",
       "      <td>-1.463150</td>\n",
       "      <td>-1.116164</td>\n",
       "      <td>0.757028</td>\n",
       "      <td>1.479090</td>\n",
       "      <td>-0.433669</td>\n",
       "      <td>1.430601</td>\n",
       "      <td>-0.085415</td>\n",
       "      <td>-0.958203</td>\n",
       "    </tr>\n",
       "  </tbody>\n",
       "</table>\n",
       "</div>"
      ],
      "text/plain": [
       "         num__Equipment Quality  num__Injury History  num__Tactical Knowledge  \\\n",
       "3524590                1.225021             0.512413                 0.447852   \n",
       "3524591                1.225021             0.512413                 0.447852   \n",
       "3524592                1.225021             0.512413                 0.447852   \n",
       "3524593                1.225021             0.512413                 0.447852   \n",
       "3524594                1.225021             0.512413                 0.447852   \n",
       "\n",
       "         num__Health Status  num__Personal Motivation  \\\n",
       "3524590            1.558201                 -0.604632   \n",
       "3524591            1.558201                 -0.604632   \n",
       "3524592            1.558201                 -0.604632   \n",
       "3524593            1.558201                 -0.604632   \n",
       "3524594            1.558201                 -0.604632   \n",
       "\n",
       "         num__Previous Occupation  num__Battle Strategy  \\\n",
       "3524590                  0.153588             -1.158065   \n",
       "3524591                  0.153588             -1.158065   \n",
       "3524592                  0.153588             -1.158065   \n",
       "3524593                  0.153588             -1.158065   \n",
       "3524594                  0.153588             -1.158065   \n",
       "\n",
       "         num__Crowd Appeal Techniques  num__Age  num__Origin  num__Height  \\\n",
       "3524590                      0.288263 -0.187962     1.466111    -0.724513   \n",
       "3524591                      0.288263  1.298568    -1.463150    -1.116164   \n",
       "3524592                      0.288263  1.298568    -1.463150    -1.116164   \n",
       "3524593                      0.288263  1.298568    -1.463150    -1.116164   \n",
       "3524594                      0.288263  1.298568    -1.463150    -1.116164   \n",
       "\n",
       "         num__Weight  num__Wins  num__Losses  num__Public Favor  \\\n",
       "3524590     0.257080   1.479090    -0.433669           1.430601   \n",
       "3524591     0.757028   0.615342    -0.433669           2.211181   \n",
       "3524592     0.757028   1.479090    -0.433669           1.430601   \n",
       "3524593     0.757028   0.615342    -0.433669           2.211181   \n",
       "3524594     0.757028   1.479090    -0.433669           1.430601   \n",
       "\n",
       "         num__Mental Resilience  num__Battle Experience  \n",
       "3524590               -0.085415               -0.958203  \n",
       "3524591               -1.236122               -1.159078  \n",
       "3524592               -0.085415               -0.958203  \n",
       "3524593               -1.236122               -1.159078  \n",
       "3524594               -0.085415               -0.958203  "
      ]
     },
     "execution_count": 120,
     "metadata": {},
     "output_type": "execute_result"
    }
   ],
   "source": [
    "dfKlasifikacija.tail()"
   ]
  },
  {
   "cell_type": "markdown",
   "id": "5a034051383e1f6",
   "metadata": {
    "collapsed": false
   },
   "source": [
    "Naloga 5 (10 T)\n",
    "S pomočjo regresija poskusite napovedati koliko zmag bo dosegel posamezni gladiator (Wins). Za podatke uporabite predprocesiran dataframe dfRegresija. Iz vhodnih podatkov izpustite tudi podatek Losses. Velikost učne množice naj bo 75%. Na naključno stanje uporabite 789. Za regresor uporabite regresijsko drevo.\n",
    "Kako dobro se je naučil model ocenite s povprečno absolutno napako in r2 score. Oboje zaokrožite na eno decimalko."
   ]
  },
  {
   "cell_type": "code",
   "execution_count": null,
   "id": "43fc869e",
   "metadata": {},
   "outputs": [],
   "source": []
  },
  {
   "cell_type": "code",
   "execution_count": null,
   "id": "7b31ca9d83df85c7",
   "metadata": {
    "ExecuteTime": {
     "end_time": "2024-03-06T13:41:42.298346Z",
     "start_time": "2024-03-06T13:40:22.074598700Z"
    },
    "collapsed": false
   },
   "outputs": [],
   "source": [
    "from sklearn.metrics import mean_absolute_error, r2_score\n",
    "from sklearn.model_selection import train_test_split\n",
    "from sklearn.tree import DecisionTreeRegressor\n",
    "\n",
    "X=dfRegresija.drop([\"Losses\"], axis=1)\n",
    "y=data[\"Wins\"]\n",
    "\n",
    "x_train,x_test,y_train,y_test=train_test_split(X,y,test_size=0.25,random_state=789)\n",
    "\n",
    "model=DecisionTreeRegressor()\n",
    "\n",
    "\n",
    "model.fit(x_train, y_train)\n",
    "y_pred= model.predict(x_test)\n",
    "\n",
    "mae=mean_absolute_error(y_test,y_pred)\n",
    "r2=r2_score(y_test,y_pred)"
   ]
  },
  {
   "cell_type": "code",
   "execution_count": null,
   "id": "ff359e976e6e4eea",
   "metadata": {
    "ExecuteTime": {
     "end_time": "2024-03-06T13:42:01.450907100Z",
     "start_time": "2024-03-06T13:42:01.396188300Z"
    },
    "collapsed": false
   },
   "outputs": [
    {
     "name": "stdout",
     "output_type": "stream",
     "text": [
      "0.009947239343175785\n"
     ]
    }
   ],
   "source": [
    "print(mae)"
   ]
  },
  {
   "cell_type": "code",
   "execution_count": null,
   "id": "9a8f389727fc0597",
   "metadata": {
    "ExecuteTime": {
     "end_time": "2024-03-06T13:42:11.018148600Z",
     "start_time": "2024-03-06T13:42:10.978057400Z"
    },
    "collapsed": false
   },
   "outputs": [
    {
     "name": "stdout",
     "output_type": "stream",
     "text": [
      "0.9988696996055487\n"
     ]
    }
   ],
   "source": [
    "print(r2)"
   ]
  },
  {
   "cell_type": "markdown",
   "id": "17b39efc738395ad",
   "metadata": {
    "collapsed": false
   },
   "source": [
    "Naloga 6 (20 T)\n",
    "S pomočjo klasifikacije napovejte ali bo gladiator preživel spopade ali ne (Survived). Iz vhodnih podatkov odstranite še stolpec Wins in Losses. Podatke iz predprocesiranega dfKlasifikacija delite na učne in testne in sicer s pomočjo stratificirane delitve na 6 foldov.\n",
    "Nad podatki preizkusite dva klasifikatorja - naključni gozd in logistično regresijo. Ker želimo doseči najvišjo možno točnost klasifikacije to izvedite s pomočjo iskanja najboljših nastavitev parametrov po principu naključnega iskanja (RandomizedSearchCV). Omejite ga na 5 iteracij.\n",
    "Za nakjučni gozd preizkusite:\n",
    "naključna število dreves med 5 in 10,\n",
    "kriterij “gini” in “entropy”.\n",
    "Za logistično regresijo pa:\n",
    "penalty “l2” ali None.\n",
    "Najboljše izračunane vrednosti točnosti za oba klasifkatorja prikažite v stolpičnem grafu."
   ]
  },
  {
   "cell_type": "markdown",
   "id": "e789e243d369bd87",
   "metadata": {
    "collapsed": false
   },
   "source": []
  },
  {
   "cell_type": "code",
   "execution_count": null,
   "id": "760d500bea3fedae",
   "metadata": {
    "collapsed": false,
    "is_executing": true
   },
   "outputs": [],
   "source": [
    "from sklearn.linear_model import LogisticRegression\n",
    "from sklearn.ensemble import RandomForestClassifier\n",
    "from sklearn.model_selection import RandomizedSearchCV, StratifiedKFold\n",
    "\n",
    "izhod=data[\"Survived\"]\n",
    "vhod=dfKlasifikacija.drop([\"num__Wins\",\"num__Losses\"],axis=1)\n",
    "\n",
    "param_dist_rf = {'n_estimators': range(5, 11),\n",
    "              'criterion': ['gini', 'entropy']}\n",
    "\n",
    "\n",
    "param_dist_lr = {'penalty': ['l2', 'none'],\n",
    "                 'C': np.logspace(-4, 4, 20)}\n",
    "\n",
    "\n",
    "rf = RandomForestClassifier()\n",
    "lr=LogisticRegression(solver='saga', max_iter=5000)\n",
    "\n",
    "delitev=StratifiedKFold(n_splits=6)\n",
    "\n",
    "rand_search=RandomizedSearchCV(estimator=rf,param_distributions=param_dist_rf,n_iter=10,cv=delitev,scoring=\"accuracy\",random_state=42)\n",
    "rand_search.fit(vhod,izhod)\n",
    "print(rand_search.best_score_,rand_search.best_params_)\n"
   ]
  },
  {
   "cell_type": "code",
   "execution_count": null,
   "id": "482cf2b4e456ff09",
   "metadata": {
    "collapsed": false,
    "is_executing": true
   },
   "outputs": [],
   "source": [
    "rand_search=RandomizedSearchCV(estimator=lr,param_distributions=param_dist_lr,n_iter=10,cv=delitev,scoring=\"accuracy\",random_state=42)\n",
    "rand_search.fit(vhod,izhod)\n",
    "print(rand_search.best_score_,rand_search.best_params_)"
   ]
  },
  {
   "cell_type": "markdown",
   "id": "12f9a418b9bd68dc",
   "metadata": {
    "collapsed": false
   },
   "source": [
    "Naloga 7 (10 T)\n",
    "Za konec naredite še gručenje nad enakim datasetom, kot ste ga uporabili za regresijo. Podatke transformirajte s pomočjo FastICA dekompozicije. Kot algoritem gručenja uporabite KMeans.\n",
    "Da boste vedeli koliko je najbolj optimalno število gruč na katere je smiselno deliti podatke pred gručenjem izrišite graf z izračunanimi inerciami za od 1 do (vključno) 8 gruč, nad transformiranimi podatki. Po pravilu komolca iz grafa preberite najbolj optimalno število gruč in ga uporabite v algoritmu.\n",
    "Izrišite graf, v katerem prikažete transformirane podatke, ki so obarvani glede na gručo, v katero so razvrščeni."
   ]
  },
  {
   "cell_type": "code",
   "execution_count": null,
   "id": "21347b0459a14795",
   "metadata": {
    "collapsed": false,
    "is_executing": true
   },
   "outputs": [],
   "source": [
    "from sklearn.decomposition import FastICA\n",
    "from sklearn.cluster import KMeans\n",
    "import matplotlib.pyplot as plt\n",
    "\n",
    "\n",
    "ica = FastICA(n_components=3, random_state=42)\n",
    "X_ica = ica.fit_transform(dfRegresija)\n",
    "\n",
    "\n",
    "inertias = []\n",
    "for i in range(1, 9):\n",
    "    kmeans = KMeans(n_clusters=i, random_state=42)\n",
    "    kmeans.fit(X_ica)\n",
    "    inertias.append(kmeans.inertia_)\n",
    "\n",
    "\n",
    "plt.figure(figsize=(8, 4))\n",
    "plt.plot(range(1, 9), inertias, 'o-')\n",
    "plt.title('Elbow Method For Optimal k')\n",
    "plt.xlabel('Number of clusters')\n",
    "plt.ylabel('Inertia')\n",
    "plt.xticks(range(1, 9))\n",
    "plt.show()\n",
    "\n",
    "\n",
    "optimal_clusters = 4\n",
    "kmeans = KMeans(n_clusters=optimal_clusters, random_state=42)\n",
    "clusters = kmeans.fit_predict(X_ica)\n",
    "\n",
    "\n",
    "plt.figure(figsize=(8, 4))\n",
    "plt.scatter(X_ica[:, 0], X_ica[:, 1], c=clusters, cmap='viridis', marker='o')\n",
    "plt.title('Clustered Data after FastICA Transformation')\n",
    "plt.xlabel('ICA Component 1')\n",
    "plt.ylabel('ICA Component 2')\n",
    "plt.colorbar(label='Cluster Label')\n",
    "plt.show()\n"
   ]
  },
  {
   "cell_type": "code",
   "execution_count": null,
   "id": "fca080a32c6fc77f",
   "metadata": {
    "collapsed": false
   },
   "outputs": [],
   "source": []
  }
 ],
 "metadata": {
  "kernelspec": {
   "display_name": "Python 3",
   "language": "python",
   "name": "python3"
  },
  "language_info": {
   "codemirror_mode": {
    "name": "ipython",
    "version": 3
   },
   "file_extension": ".py",
   "mimetype": "text/x-python",
   "name": "python",
   "nbconvert_exporter": "python",
   "pygments_lexer": "ipython3",
   "version": "3.11.5"
  }
 },
 "nbformat": 4,
 "nbformat_minor": 5
}
