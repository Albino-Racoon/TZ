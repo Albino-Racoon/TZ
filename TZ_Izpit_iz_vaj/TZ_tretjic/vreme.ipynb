{
 "cells": [
  {
   "cell_type": "markdown",
   "metadata": {},
   "source": [
    "# Izpit iz vaj (7. 3. 2024)\n",
    "\n",
    "### Tematika podatkov: Prometne nesreče\n",
    "\n",
    "Priložene datoteke vsebujejo podatke o prometnih nesrečah. Poleg lokacije, resnosti in tipa nesreče so zabeležni še podatki o številu udeležencev, številu poškodb in žrtev, ter vremenske razmere v času nesreče. Namen tokratne inteligentne analize je napovedati stopnjo resnosti nesreče in število udeležnih ljudi v nesreči.\n",
    "\n",
    "### Podatki\n",
    "\n",
    "Podatki se nahajajo v štirih datotekah (`collision_properties.xlsx`, `collision_consequences.csv`,`weather_conditions.csv`, `severity_type.txt`). Prva datoteka vsebuje *splošne podatke o okoliščinah nesreče*, druga datoteka vsebuje *številske podatke o udežencih in poškodbah*, tretja *podatke o vremenskih razmerah* in zadnja *podatke o resnosti nesreče*.\n",
    "\n",
    "#### V pomoč pri razumevanju posameznih spremenljivk so vam lahko naslednji opisi ter vrsta podatkov (številski/kategoričen/... podatek):\n",
    "- Type - vrsta nesreče *kategoričen*\n",
    "- Location - vrsta križišča, kjer je prišlo do nesreče *kategoričen*\n",
    "- Distracted - ali je bil voznik, udeležen v nesreči, raztresen *kategoričen*\n",
    "- Time - čas nesreče *časovni*\n",
    "- People - število udeležnih ljudi *številski*\n",
    "- Pedestrians - število udeležnih peščev *številski*\n",
    "- Cyclists - število udeležnih kolesarjev *številski*\n",
    "- Vehicles - število udeležnih vozil *številski*\n",
    "- Injuries - število poškodb *številski*\n",
    "- Fatalities - število žrtev v nesreči *številski*\n",
    "- Weather - vreme v času nesreče *kategoričen*\n",
    "- Road - razmere na cesti v času nesreče *kategoričen*\n",
    "- Light - svetlobni pogoji v času nesreče *kategoričen*\n",
    "- Wind - povprečna hitrost vetra na dan nesreče *številski*\n",
    "- Temperature - povprečna temperatura na dan nesreče (v °F) *številski*\n",
    "- Severity - resnost nesreče *kategoričen*\n",
    "\n",
    "##################################################################                                95"
   ]
  },
  {
   "cell_type": "markdown",
   "metadata": {},
   "source": [
    "### Naloga 1 *(14 T)*\n",
    "\n",
    "V dataframe preberite vse štiri datoteke s podatki: `collision_properties.xlsx`, `collision_consequences.csv`,`weather_conditions.csv` in `severity_type.txt`. Vse prebrane podatke iz datotek nato združite v en dataframe, glede na ID nesreče. Indeks stolpec naj bo poimenovan *collisionID*.\n",
    "\n",
    "- Iz združenega dataframa **izbrišite** stolpec \"time\".\n",
    "- Izpišite koliko **stolpcev in vrstic** je po brisnju v združenem datafram-u.\n",
    "- Na **dva**(!) različna načina izpišite **prvih 5 vrstic** tega združenega datafram-a.\n",
    "- Izpišite **opisno statistiko** za drugi, tretji in četrti številski stolpec (brez da bi v kodi navedli njihova imena)\n",
    "- Izpišite koliko je posameznih **unikatnih vrednosti** v stolpcu \"type\" (npr. x 10, y 20 ...)\n",
    "- Izpišite kakšna sta bila temperatura in vreme pri nesreči z ID-jem 43578.\n",
    "- Izpišite število prometnih neseč, ki so imele več kot 1 smrtno žrtev.\n"
   ]
  },
  {
   "cell_type": "code",
   "execution_count": 7,
   "metadata": {},
   "outputs": [
    {
     "name": "stdout",
     "output_type": "stream",
     "text": [
      "       people  pedestrians  cyclists  vehicles  injuries  fatalities  \\\n",
      "1           2            0         0       2.0         0           0   \n",
      "2           3            0         0       3.0         0           0   \n",
      "3           2            0         0       2.0         1           0   \n",
      "4           2            0         0       2.0         1           0   \n",
      "5           2            0         0       2.0         0           0   \n",
      "...       ...          ...       ...       ...       ...         ...   \n",
      "49996       3            0         0       2.0         2           0   \n",
      "49997       2            0         0       2.0         0           0   \n",
      "49998       2            0         0       2.0         0           0   \n",
      "49999       2            1         0       1.0         1           0   \n",
      "50000       3            1         0       1.0         1           0   \n",
      "\n",
      "          severity   weather road          light   wind  temperature  \\\n",
      "1            Minor  Overcast  Wet    mostly dark   9.40         33.0   \n",
      "2            Minor     Clear  Ice    mostly dark   9.40         33.0   \n",
      "3      Significant     Clear  Dry         bright   9.40         33.0   \n",
      "4      Significant     Clear  Dry         bright   9.40         33.0   \n",
      "5            Minor     Clear  Wet         bright   9.40         33.0   \n",
      "...            ...       ...  ...            ...    ...          ...   \n",
      "49996  Significant  Overcast  Wet  mostly bright  16.78         48.0   \n",
      "49997        Minor   Raining  Dry         bright  16.78         48.0   \n",
      "49998        Minor   Raining  Wet         bright  16.78         48.0   \n",
      "49999  Significant   Raining  Wet         bright  16.78         48.0   \n",
      "50000  Significant  Overcast  Wet         bright  16.78         48.0   \n",
      "\n",
      "             type           location distracted   time  \n",
      "1      Parked Car          Mid-Block        yes   2.48  \n",
      "2      Rear Ended          Mid-Block         no   7.00  \n",
      "3         Head On    At Intersection         no   7.90  \n",
      "4      Rear Ended    At Intersection         no  10.63  \n",
      "5       Left Turn    At Intersection         no  10.68  \n",
      "...           ...                ...        ...    ...  \n",
      "49996  Rear Ended  Driveway Junction         no   7.70  \n",
      "49997  Rear Ended          Mid-Block         no   8.25  \n",
      "49998      Angles    At Intersection         no   8.72  \n",
      "49999  Pedestrian    At Intersection         no   8.88  \n",
      "50000  Pedestrian          Mid-Block         no  11.20  \n",
      "\n",
      "[50000 rows x 16 columns]\n"
     ]
    }
   ],
   "source": [
    "import pandas as pd \n",
    "col=pd.read_excel(\"collision_properties.xlsx\",index_col=0,  sheet_name=0)\n",
    "cons=pd.read_csv(\"collision_consequences.csv\",index_col=0,sep=\",\")\n",
    "weth=pd.read_csv(\"weather_conditions.csv\",sep=\" \",decimal=\",\",index_col=0)\n",
    "sev=pd.read_csv(\"severity_type.txt\",sep=\"\t\",decimal=\".\",index_col=0)\n",
    "\n",
    "data=pd.merge(col,cons,left_index=True,right_index=True)\n",
    "data=pd.merge(data,weth,left_index=True,right_index=True)\n",
    "data=pd.merge(data,sev,left_index=True,right_index=True)\n",
    "print(data)"
   ]
  },
  {
   "cell_type": "code",
   "execution_count": 8,
   "metadata": {},
   "outputs": [
    {
     "name": "stdout",
     "output_type": "stream",
     "text": [
      "(50000, 15)\n"
     ]
    }
   ],
   "source": [
    "data=data.drop([\"time\"],axis=1)\n",
    "print(data.shape)"
   ]
  },
  {
   "cell_type": "code",
   "execution_count": 9,
   "metadata": {},
   "outputs": [
    {
     "data": {
      "text/html": [
       "<div>\n",
       "<style scoped>\n",
       "    .dataframe tbody tr th:only-of-type {\n",
       "        vertical-align: middle;\n",
       "    }\n",
       "\n",
       "    .dataframe tbody tr th {\n",
       "        vertical-align: top;\n",
       "    }\n",
       "\n",
       "    .dataframe thead th {\n",
       "        text-align: right;\n",
       "    }\n",
       "</style>\n",
       "<table border=\"1\" class=\"dataframe\">\n",
       "  <thead>\n",
       "    <tr style=\"text-align: right;\">\n",
       "      <th></th>\n",
       "      <th>people</th>\n",
       "      <th>pedestrians</th>\n",
       "      <th>cyclists</th>\n",
       "      <th>vehicles</th>\n",
       "      <th>injuries</th>\n",
       "      <th>fatalities</th>\n",
       "      <th>severity</th>\n",
       "      <th>weather</th>\n",
       "      <th>road</th>\n",
       "      <th>light</th>\n",
       "      <th>wind</th>\n",
       "      <th>temperature</th>\n",
       "      <th>type</th>\n",
       "      <th>location</th>\n",
       "      <th>distracted</th>\n",
       "    </tr>\n",
       "  </thead>\n",
       "  <tbody>\n",
       "    <tr>\n",
       "      <th>1</th>\n",
       "      <td>2</td>\n",
       "      <td>0</td>\n",
       "      <td>0</td>\n",
       "      <td>2.0</td>\n",
       "      <td>0</td>\n",
       "      <td>0</td>\n",
       "      <td>Minor</td>\n",
       "      <td>Overcast</td>\n",
       "      <td>Wet</td>\n",
       "      <td>mostly dark</td>\n",
       "      <td>9.4</td>\n",
       "      <td>33.0</td>\n",
       "      <td>Parked Car</td>\n",
       "      <td>Mid-Block</td>\n",
       "      <td>yes</td>\n",
       "    </tr>\n",
       "    <tr>\n",
       "      <th>2</th>\n",
       "      <td>3</td>\n",
       "      <td>0</td>\n",
       "      <td>0</td>\n",
       "      <td>3.0</td>\n",
       "      <td>0</td>\n",
       "      <td>0</td>\n",
       "      <td>Minor</td>\n",
       "      <td>Clear</td>\n",
       "      <td>Ice</td>\n",
       "      <td>mostly dark</td>\n",
       "      <td>9.4</td>\n",
       "      <td>33.0</td>\n",
       "      <td>Rear Ended</td>\n",
       "      <td>Mid-Block</td>\n",
       "      <td>no</td>\n",
       "    </tr>\n",
       "    <tr>\n",
       "      <th>3</th>\n",
       "      <td>2</td>\n",
       "      <td>0</td>\n",
       "      <td>0</td>\n",
       "      <td>2.0</td>\n",
       "      <td>1</td>\n",
       "      <td>0</td>\n",
       "      <td>Significant</td>\n",
       "      <td>Clear</td>\n",
       "      <td>Dry</td>\n",
       "      <td>bright</td>\n",
       "      <td>9.4</td>\n",
       "      <td>33.0</td>\n",
       "      <td>Head On</td>\n",
       "      <td>At Intersection</td>\n",
       "      <td>no</td>\n",
       "    </tr>\n",
       "    <tr>\n",
       "      <th>4</th>\n",
       "      <td>2</td>\n",
       "      <td>0</td>\n",
       "      <td>0</td>\n",
       "      <td>2.0</td>\n",
       "      <td>1</td>\n",
       "      <td>0</td>\n",
       "      <td>Significant</td>\n",
       "      <td>Clear</td>\n",
       "      <td>Dry</td>\n",
       "      <td>bright</td>\n",
       "      <td>9.4</td>\n",
       "      <td>33.0</td>\n",
       "      <td>Rear Ended</td>\n",
       "      <td>At Intersection</td>\n",
       "      <td>no</td>\n",
       "    </tr>\n",
       "    <tr>\n",
       "      <th>5</th>\n",
       "      <td>2</td>\n",
       "      <td>0</td>\n",
       "      <td>0</td>\n",
       "      <td>2.0</td>\n",
       "      <td>0</td>\n",
       "      <td>0</td>\n",
       "      <td>Minor</td>\n",
       "      <td>Clear</td>\n",
       "      <td>Wet</td>\n",
       "      <td>bright</td>\n",
       "      <td>9.4</td>\n",
       "      <td>33.0</td>\n",
       "      <td>Left Turn</td>\n",
       "      <td>At Intersection</td>\n",
       "      <td>no</td>\n",
       "    </tr>\n",
       "  </tbody>\n",
       "</table>\n",
       "</div>"
      ],
      "text/plain": [
       "   people  pedestrians  cyclists  vehicles  injuries  fatalities     severity  \\\n",
       "1       2            0         0       2.0         0           0        Minor   \n",
       "2       3            0         0       3.0         0           0        Minor   \n",
       "3       2            0         0       2.0         1           0  Significant   \n",
       "4       2            0         0       2.0         1           0  Significant   \n",
       "5       2            0         0       2.0         0           0        Minor   \n",
       "\n",
       "    weather road        light  wind  temperature        type         location  \\\n",
       "1  Overcast  Wet  mostly dark   9.4         33.0  Parked Car        Mid-Block   \n",
       "2     Clear  Ice  mostly dark   9.4         33.0  Rear Ended        Mid-Block   \n",
       "3     Clear  Dry       bright   9.4         33.0     Head On  At Intersection   \n",
       "4     Clear  Dry       bright   9.4         33.0  Rear Ended  At Intersection   \n",
       "5     Clear  Wet       bright   9.4         33.0   Left Turn  At Intersection   \n",
       "\n",
       "  distracted  \n",
       "1        yes  \n",
       "2         no  \n",
       "3         no  \n",
       "4         no  \n",
       "5         no  "
      ]
     },
     "execution_count": 9,
     "metadata": {},
     "output_type": "execute_result"
    }
   ],
   "source": [
    "data.head(5)"
   ]
  },
  {
   "cell_type": "code",
   "execution_count": 11,
   "metadata": {},
   "outputs": [
    {
     "data": {
      "text/html": [
       "<div>\n",
       "<style scoped>\n",
       "    .dataframe tbody tr th:only-of-type {\n",
       "        vertical-align: middle;\n",
       "    }\n",
       "\n",
       "    .dataframe tbody tr th {\n",
       "        vertical-align: top;\n",
       "    }\n",
       "\n",
       "    .dataframe thead th {\n",
       "        text-align: right;\n",
       "    }\n",
       "</style>\n",
       "<table border=\"1\" class=\"dataframe\">\n",
       "  <thead>\n",
       "    <tr style=\"text-align: right;\">\n",
       "      <th></th>\n",
       "      <th>people</th>\n",
       "      <th>pedestrians</th>\n",
       "      <th>cyclists</th>\n",
       "      <th>vehicles</th>\n",
       "      <th>injuries</th>\n",
       "      <th>fatalities</th>\n",
       "      <th>severity</th>\n",
       "      <th>weather</th>\n",
       "      <th>road</th>\n",
       "      <th>light</th>\n",
       "      <th>wind</th>\n",
       "      <th>temperature</th>\n",
       "      <th>type</th>\n",
       "      <th>location</th>\n",
       "      <th>distracted</th>\n",
       "    </tr>\n",
       "  </thead>\n",
       "  <tbody>\n",
       "    <tr>\n",
       "      <th>1</th>\n",
       "      <td>2</td>\n",
       "      <td>0</td>\n",
       "      <td>0</td>\n",
       "      <td>2.0</td>\n",
       "      <td>0</td>\n",
       "      <td>0</td>\n",
       "      <td>Minor</td>\n",
       "      <td>Overcast</td>\n",
       "      <td>Wet</td>\n",
       "      <td>mostly dark</td>\n",
       "      <td>9.4</td>\n",
       "      <td>33.0</td>\n",
       "      <td>Parked Car</td>\n",
       "      <td>Mid-Block</td>\n",
       "      <td>yes</td>\n",
       "    </tr>\n",
       "    <tr>\n",
       "      <th>2</th>\n",
       "      <td>3</td>\n",
       "      <td>0</td>\n",
       "      <td>0</td>\n",
       "      <td>3.0</td>\n",
       "      <td>0</td>\n",
       "      <td>0</td>\n",
       "      <td>Minor</td>\n",
       "      <td>Clear</td>\n",
       "      <td>Ice</td>\n",
       "      <td>mostly dark</td>\n",
       "      <td>9.4</td>\n",
       "      <td>33.0</td>\n",
       "      <td>Rear Ended</td>\n",
       "      <td>Mid-Block</td>\n",
       "      <td>no</td>\n",
       "    </tr>\n",
       "    <tr>\n",
       "      <th>3</th>\n",
       "      <td>2</td>\n",
       "      <td>0</td>\n",
       "      <td>0</td>\n",
       "      <td>2.0</td>\n",
       "      <td>1</td>\n",
       "      <td>0</td>\n",
       "      <td>Significant</td>\n",
       "      <td>Clear</td>\n",
       "      <td>Dry</td>\n",
       "      <td>bright</td>\n",
       "      <td>9.4</td>\n",
       "      <td>33.0</td>\n",
       "      <td>Head On</td>\n",
       "      <td>At Intersection</td>\n",
       "      <td>no</td>\n",
       "    </tr>\n",
       "    <tr>\n",
       "      <th>4</th>\n",
       "      <td>2</td>\n",
       "      <td>0</td>\n",
       "      <td>0</td>\n",
       "      <td>2.0</td>\n",
       "      <td>1</td>\n",
       "      <td>0</td>\n",
       "      <td>Significant</td>\n",
       "      <td>Clear</td>\n",
       "      <td>Dry</td>\n",
       "      <td>bright</td>\n",
       "      <td>9.4</td>\n",
       "      <td>33.0</td>\n",
       "      <td>Rear Ended</td>\n",
       "      <td>At Intersection</td>\n",
       "      <td>no</td>\n",
       "    </tr>\n",
       "    <tr>\n",
       "      <th>5</th>\n",
       "      <td>2</td>\n",
       "      <td>0</td>\n",
       "      <td>0</td>\n",
       "      <td>2.0</td>\n",
       "      <td>0</td>\n",
       "      <td>0</td>\n",
       "      <td>Minor</td>\n",
       "      <td>Clear</td>\n",
       "      <td>Wet</td>\n",
       "      <td>bright</td>\n",
       "      <td>9.4</td>\n",
       "      <td>33.0</td>\n",
       "      <td>Left Turn</td>\n",
       "      <td>At Intersection</td>\n",
       "      <td>no</td>\n",
       "    </tr>\n",
       "  </tbody>\n",
       "</table>\n",
       "</div>"
      ],
      "text/plain": [
       "   people  pedestrians  cyclists  vehicles  injuries  fatalities     severity  \\\n",
       "1       2            0         0       2.0         0           0        Minor   \n",
       "2       3            0         0       3.0         0           0        Minor   \n",
       "3       2            0         0       2.0         1           0  Significant   \n",
       "4       2            0         0       2.0         1           0  Significant   \n",
       "5       2            0         0       2.0         0           0        Minor   \n",
       "\n",
       "    weather road        light  wind  temperature        type         location  \\\n",
       "1  Overcast  Wet  mostly dark   9.4         33.0  Parked Car        Mid-Block   \n",
       "2     Clear  Ice  mostly dark   9.4         33.0  Rear Ended        Mid-Block   \n",
       "3     Clear  Dry       bright   9.4         33.0     Head On  At Intersection   \n",
       "4     Clear  Dry       bright   9.4         33.0  Rear Ended  At Intersection   \n",
       "5     Clear  Wet       bright   9.4         33.0   Left Turn  At Intersection   \n",
       "\n",
       "  distracted  \n",
       "1        yes  \n",
       "2         no  \n",
       "3         no  \n",
       "4         no  \n",
       "5         no  "
      ]
     },
     "execution_count": 11,
     "metadata": {},
     "output_type": "execute_result"
    }
   ],
   "source": [
    "data.iloc[0:5]"
   ]
  },
  {
   "cell_type": "code",
   "execution_count": 12,
   "metadata": {},
   "outputs": [
    {
     "data": {
      "text/plain": [
       "<bound method NDFrame.describe of        pedestrians  cyclists  vehicles  injuries\n",
       "1                0         0       2.0         0\n",
       "2                0         0       3.0         0\n",
       "3                0         0       2.0         1\n",
       "4                0         0       2.0         1\n",
       "5                0         0       2.0         0\n",
       "...            ...       ...       ...       ...\n",
       "49996            0         0       2.0         2\n",
       "49997            0         0       2.0         0\n",
       "49998            0         0       2.0         0\n",
       "49999            1         0       1.0         1\n",
       "50000            1         0       1.0         1\n",
       "\n",
       "[50000 rows x 4 columns]>"
      ]
     },
     "execution_count": 12,
     "metadata": {},
     "output_type": "execute_result"
    }
   ],
   "source": [
    "st=data.select_dtypes(include=[\"number\"]).columns\n",
    "data[st].iloc[:,1:5].describe"
   ]
  },
  {
   "cell_type": "code",
   "execution_count": 13,
   "metadata": {},
   "outputs": [
    {
     "data": {
      "text/plain": [
       "pedestrians      int64\n",
       "cyclists         int64\n",
       "vehicles       float64\n",
       "injuries         int64\n",
       "dtype: object"
      ]
     },
     "execution_count": 13,
     "metadata": {},
     "output_type": "execute_result"
    }
   ],
   "source": [
    "data[st].iloc[:,1:5].dtypes"
   ]
  },
  {
   "cell_type": "code",
   "execution_count": 15,
   "metadata": {},
   "outputs": [
    {
     "data": {
      "text/plain": [
       "array(['Parked Car', 'Rear Ended', 'Head On', 'Left Turn', 'Angles',\n",
       "       'Right Turn', 'Sideswipe', 'Pedestrian', 'Cycles'], dtype=object)"
      ]
     },
     "execution_count": 15,
     "metadata": {},
     "output_type": "execute_result"
    }
   ],
   "source": [
    "data[\"type\"].nunique()\n",
    "data[\"type\"].unique()"
   ]
  },
  {
   "cell_type": "markdown",
   "metadata": {},
   "source": [
    " Izpišite kakšna sta bila temperatura in vreme pri nesreči z ID-jem 43578.\n",
    "- Izpišite število prometnih neseč, ki so imele več kot 1 smrtno žrtev."
   ]
  },
  {
   "cell_type": "code",
   "execution_count": 17,
   "metadata": {},
   "outputs": [
    {
     "data": {
      "text/plain": [
       "43578    44.0\n",
       "Name: temperature, dtype: float64"
      ]
     },
     "execution_count": 17,
     "metadata": {},
     "output_type": "execute_result"
    }
   ],
   "source": [
    "data[\"temperature\"].loc[[43578]]"
   ]
  },
  {
   "cell_type": "code",
   "execution_count": 19,
   "metadata": {},
   "outputs": [
    {
     "data": {
      "text/plain": [
       "43578    Clear\n",
       "Name: weather, dtype: object"
      ]
     },
     "execution_count": 19,
     "metadata": {},
     "output_type": "execute_result"
    }
   ],
   "source": [
    "data[\"weather\"].loc[[43578]]"
   ]
  },
  {
   "cell_type": "code",
   "execution_count": 30,
   "metadata": {},
   "outputs": [
    {
     "name": "stdout",
     "output_type": "stream",
     "text": [
      "79\n"
     ]
    }
   ],
   "source": [
    "smrtne=data[data[\"fatalities\"]>=1]\n",
    "\n",
    "print(smrtne.shape[0])\n"
   ]
  },
  {
   "cell_type": "markdown",
   "metadata": {},
   "source": [
    "### Naloga 2 *(20 T)*\n",
    "- S pomočjo grafa ponazorite mediano, minimalno/maksimalno vrednost in drugo sorodno opisno statistiko za podatek o povprečni temperaturi na dan nesreče.\n",
    "- Izrišite graf, ki bo ločeno (v ločenih podgrafih) prikazoval lokacijo nesreče glede na število v nesreči udeleženih vozil in ljudi. Nesreče naj bodo obarvane glede na resnost nesreče (`severity`).\n",
    "- Pri tej točki upoštevajte samo prometne nesreče, v katerih je bil voznik, udeležen v nesreči, označen kot raztresen (`distracted`). Za te nesreče zapišite za vsak posamezen tip nesreče (`type`) najmanjšo povprečno hitrost vetra na tisti dan, urejeno padajoče.\n",
    "- Koliko je takšnih nesreč, ki so vključevale kolesarje (`type`: *Cycles*) in so se zgodile na križišču ali sredi ulice (*Mid-Block* ali *At Intersection*)?\n",
    "- Kakšno je povprečje temperatur (zaokroženo na eno decimalko) v dnevih, ko so se zgodile nesreče z največ smrtnimi izidi?"
   ]
  },
  {
   "cell_type": "code",
   "execution_count": null,
   "metadata": {},
   "outputs": [],
   "source": [
    "import pandas as pd\n",
    "import matplotlib.pyplot as plt\n",
    "import seaborn as sns\n",
    "\n",
    "df=data.copy()\n",
    "plt.figure(figsize=(8, 6))\n",
    "sns.boxplot(y=df['average_temperature'])\n",
    "plt.title('Opisna statistika povprečne temperature na dan nesreče')\n",
    "plt.ylabel('Temperatura (°C)')\n",
    "plt.show()\n"
   ]
  },
  {
   "cell_type": "code",
   "execution_count": null,
   "metadata": {},
   "outputs": [],
   "source": [
    "fig, axes = plt.subplots(1, 2, figsize=(14, 6))\n",
    "\n",
    "sns.scatterplot(data=df, x='location', y='num_vehicles', hue='severity', ax=axes[0])\n",
    "axes[0].set_title('Število vozil glede na lokacijo nesreče')\n",
    "axes[0].set_xlabel('Lokacija')\n",
    "axes[0].set_ylabel('Število vozil')\n",
    "\n",
    "sns.scatterplot(data=df, x='location', y='num_people', hue='severity', ax=axes[1])\n",
    "axes[1].set_title('Število ljudi glede na lokacijo nesreče')\n",
    "axes[1].set_xlabel('Lokacija')\n",
    "axes[1].set_ylabel('Število ljudi')\n",
    "\n",
    "plt.tight_layout()\n",
    "plt.show()\n"
   ]
  },
  {
   "cell_type": "code",
   "execution_count": null,
   "metadata": {},
   "outputs": [],
   "source": [
    "\n",
    "distracted_df = df[df['driver_condition'] == 'distracted']\n",
    "\n",
    "\n",
    "min_wind_speed = distracted_df.groupby('type')['average_wind_speed'].min().sort_values(ascending=False)\n",
    "print(min_wind_speed)\n"
   ]
  },
  {
   "cell_type": "code",
   "execution_count": null,
   "metadata": {},
   "outputs": [],
   "source": [
    "cycle_accidents = distracted_df[(distracted_df['type'] == 'Cycles') & (distracted_df['location'].isin(['Mid-Block', 'At Intersection']))]\n",
    "num_cycle_accidents = cycle_accidents.shape[0]\n",
    "print(\"Število nesreč s kolesarji na križiščih ali sredi ulice:\", num_cycle_accidents)\n"
   ]
  },
  {
   "cell_type": "code",
   "execution_count": null,
   "metadata": {},
   "outputs": [],
   "source": [
    "\n",
    "fatal_accidents = df[df['fatalities'] == df['fatalities'].max()]\n",
    "\n",
    "average_temp_fatal_days = fatal_accidents['average_temperature'].mean()\n",
    "print(\"Povprečna temperatura na dneve z največ smrtnimi izidi:\", round(average_temp_fatal_days, 1))\n"
   ]
  },
  {
   "cell_type": "markdown",
   "metadata": {},
   "source": [
    "Koliko je takšnih nesreč, ki so vključevale kolesarje (`type`: *Cycles*) in so se zgodile na križišču ali sredi ulice (*Mid-Block* ali *At Intersection*)?\n",
    "- Kakšno je povprečje temperatur (zaokroženo na eno decimalko) v dnevih, ko so se zgodile nesreče z največ smrtnimi izidi?"
   ]
  },
  {
   "cell_type": "markdown",
   "metadata": {},
   "source": [
    "### Naloga 3 *(7 T)*\n",
    "\n",
    "- Izpišite koliko je manjkajočih podatkov v posameznih stolpcih.\n",
    "- Nato manjkajoče podatke iz stolpcev zapolnite s sledečo strategijo:\n",
    "    - svetlost (`light`) zapolnite z vrednostjo \"mostly dark\",\n",
    "    - vreme (`weather`) zapolnite z najpogostejšo vrednostjo stolpca,\n",
    "    - število udeleženih vozil (`vehicles`) zapolnite tako, da od stolpca `people` odštejete 1,\n",
    "    - hitrost vetra (`wind`) in temperaturo (`temperature`) dopolnite s povprečno vrednostjo stolpca,\n",
    "    - ostale vrstice z manjkajočimi vrednostmi izbrišite.\n",
    "\n",
    "- Števila v stolpcu `vehicles` pretvorite v cele vrednosti (brez decimalk).\n",
    "- Ponovno izpišite število manjkajočih vrednosti samo za tiste stolpce, ki so vsebovali manjkajoče vrednosti."
   ]
  },
  {
   "cell_type": "code",
   "execution_count": 31,
   "metadata": {},
   "outputs": [
    {
     "data": {
      "text/plain": [
       "people          0\n",
       "pedestrians     0\n",
       "cyclists        0\n",
       "vehicles       20\n",
       "injuries        0\n",
       "fatalities      0\n",
       "severity        0\n",
       "weather        15\n",
       "road            0\n",
       "light          11\n",
       "wind            9\n",
       "temperature    26\n",
       "type            0\n",
       "location        0\n",
       "distracted      5\n",
       "dtype: int64"
      ]
     },
     "execution_count": 31,
     "metadata": {},
     "output_type": "execute_result"
    }
   ],
   "source": [
    "data.isna().sum()"
   ]
  },
  {
   "cell_type": "code",
   "execution_count": 32,
   "metadata": {},
   "outputs": [
    {
     "data": {
      "text/plain": [
       "people         0\n",
       "pedestrians    0\n",
       "cyclists       0\n",
       "vehicles       0\n",
       "injuries       0\n",
       "fatalities     0\n",
       "severity       0\n",
       "weather        0\n",
       "road           0\n",
       "light          0\n",
       "wind           0\n",
       "temperature    0\n",
       "type           0\n",
       "location       0\n",
       "distracted     0\n",
       "dtype: int64"
      ]
     },
     "execution_count": 32,
     "metadata": {},
     "output_type": "execute_result"
    }
   ],
   "source": [
    "data[\"light\"].fillna(\"mostly dark\",inplace=True)\n",
    "data[\"weather\"].fillna(data[\"weather\"].mode()[0],inplace=True)\n",
    "data[\"vehicles\"].fillna(data[\"people\"]-1,inplace=True)\n",
    "data[\"wind\"].fillna(data[\"wind\"].mean(),inplace=True)\n",
    "data[\"temperature\"].fillna(data[\"temperature\"].mean(),inplace=True)\n",
    "data=data.dropna()\n",
    "data.isna().sum()"
   ]
  },
  {
   "cell_type": "markdown",
   "metadata": {},
   "source": [
    "### Naloga 4 *(10 T)*\n",
    "\n",
    "- Ustvarite dve kopiji datafram-a `dfRegresija` in `dfKlasifikacija`:\n",
    "  - `dfKlasifikacija` je dataframe, ki ga boste uporabili za klasifikacijo, in sicer boste napovedovali stopnjo resnosti nesreče (Severity).\n",
    "  - `dfRegresija` je dataframe, ki ga boste uporabili za regresijo, in sicer boste napovedovali število udeležnih ljudi v nesreči (People).\n",
    "- Podatke v obeh dataframih **ustrezno predprocesirajte(!)** - kategorične podatke s samo dvema različnima vrednostma pretvorite z LabelEncoderjem, ostale kategorične pa v indikacijske vrednosti. Izbrane številske vrednosti morajo biti standardizirane.\n",
    "- Izpišite prve štiri vrstice iz vsakega dataframa."
   ]
  },
  {
   "cell_type": "code",
   "execution_count": 33,
   "metadata": {},
   "outputs": [
    {
     "data": {
      "text/plain": [
       "people           int64\n",
       "pedestrians      int64\n",
       "cyclists         int64\n",
       "vehicles       float64\n",
       "injuries         int64\n",
       "fatalities       int64\n",
       "severity        object\n",
       "weather         object\n",
       "road            object\n",
       "light           object\n",
       "wind           float64\n",
       "temperature    float64\n",
       "type            object\n",
       "location        object\n",
       "distracted      object\n",
       "dtype: object"
      ]
     },
     "execution_count": 33,
     "metadata": {},
     "output_type": "execute_result"
    }
   ],
   "source": [
    "data.dtypes"
   ]
  },
  {
   "cell_type": "code",
   "execution_count": 34,
   "metadata": {},
   "outputs": [
    {
     "data": {
      "text/plain": [
       "severity      3\n",
       "weather       8\n",
       "road          7\n",
       "light         4\n",
       "type          9\n",
       "location      4\n",
       "distracted    2\n",
       "dtype: int64"
      ]
     },
     "execution_count": 34,
     "metadata": {},
     "output_type": "execute_result"
    }
   ],
   "source": [
    "dfRegresija=data.copy()\n",
    "dfKlasifikacija=data.copy()\n",
    "\n",
    "st=dfRegresija.select_dtypes(include=[\"number\"]).columns\n",
    "kat=dfRegresija.select_dtypes(include=[\"object\"]).columns\n",
    "dfKlasifikacija[kat].nunique()\n"
   ]
  },
  {
   "cell_type": "code",
   "execution_count": 39,
   "metadata": {},
   "outputs": [
    {
     "name": "stdout",
     "output_type": "stream",
     "text": [
      "kat1: Index(['severity', 'weather', 'road', 'light', 'type', 'location'], dtype='object')   kat2: 1        yes\n",
      "2         no\n",
      "3         no\n",
      "4         no\n",
      "5         no\n",
      "        ... \n",
      "49996     no\n",
      "49997     no\n",
      "49998     no\n",
      "49999     no\n",
      "50000     no\n",
      "Name: distracted, Length: 49995, dtype: object\n"
     ]
    }
   ],
   "source": [
    "kat1=kat.drop([\"distracted\"])\n",
    "kat2=dfRegresija[\"distracted\"]\n",
    "\n",
    "print(f\"kat1: {kat1}   kat2: {kat2}\")"
   ]
  },
  {
   "cell_type": "markdown",
   "metadata": {},
   "source": [
    "- kategorične podatke s samo dvema različnima vrednostma pretvorite z LabelEncoderjem, ostale kategorične pa v indikacijske vrednosti. Izbrane številske vrednosti morajo biti standardizirane.\n",
    "- Izpišite prve štiri vrstice iz vsakega dataframa."
   ]
  },
  {
   "cell_type": "code",
   "execution_count": 40,
   "metadata": {},
   "outputs": [],
   "source": [
    "from sklearn.preprocessing import LabelEncoder\n",
    "from sklearn.preprocessing import StandardScaler\n",
    "\n",
    "le=LabelEncoder()\n",
    "\n",
    "dfKlasifikacija[\"distracted\"]=le.fit_transform(dfKlasifikacija[\"distracted\"])"
   ]
  },
  {
   "cell_type": "code",
   "execution_count": 41,
   "metadata": {},
   "outputs": [],
   "source": [
    "dfRegresija[\"distracted\"]=le.fit_transform(dfRegresija[\"distracted\"])\n",
    "\n"
   ]
  },
  {
   "cell_type": "code",
   "execution_count": 43,
   "metadata": {},
   "outputs": [],
   "source": [
    "dfKlasifikacija=pd.get_dummies(dfKlasifikacija,columns=kat1)"
   ]
  },
  {
   "cell_type": "code",
   "execution_count": 44,
   "metadata": {},
   "outputs": [],
   "source": [
    "dfRegresija=pd.get_dummies(dfRegresija,columns=kat1)"
   ]
  },
  {
   "cell_type": "code",
   "execution_count": 45,
   "metadata": {},
   "outputs": [],
   "source": [
    "scaler=StandardScaler()\n",
    "\n",
    "dfRegresija[st]=scaler.fit_transform(dfRegresija[st])"
   ]
  },
  {
   "cell_type": "code",
   "execution_count": 46,
   "metadata": {},
   "outputs": [],
   "source": [
    "dfKlasifikacija[st]=scaler.fit_transform(dfKlasifikacija[st])"
   ]
  },
  {
   "cell_type": "code",
   "execution_count": 48,
   "metadata": {},
   "outputs": [
    {
     "name": "stdout",
     "output_type": "stream",
     "text": [
      "     people  pedestrians  cyclists  vehicles  injuries  fatalities      wind  \\\n",
      "1 -0.567943     -0.22508 -0.191573 -0.081068 -0.593563   -0.039124  0.589595   \n",
      "2  0.199139     -0.22508 -0.191573  1.780665 -0.593563   -0.039124  0.589595   \n",
      "3 -0.567943     -0.22508 -0.191573 -0.081068  0.679886   -0.039124  0.589595   \n",
      "4 -0.567943     -0.22508 -0.191573 -0.081068  0.679886   -0.039124  0.589595   \n",
      "\n",
      "   temperature  distracted  severity_Minor  ...  type_Left Turn  \\\n",
      "1    -1.846241           1            True  ...           False   \n",
      "2    -1.846241           0            True  ...           False   \n",
      "3    -1.846241           0           False  ...           False   \n",
      "4    -1.846241           0           False  ...           False   \n",
      "\n",
      "   type_Parked Car  type_Pedestrian  type_Rear Ended  type_Right Turn  \\\n",
      "1             True            False            False            False   \n",
      "2            False            False             True            False   \n",
      "3            False            False            False            False   \n",
      "4            False            False             True            False   \n",
      "\n",
      "   type_Sideswipe  location_At Intersection  location_Driveway Junction  \\\n",
      "1           False                     False                       False   \n",
      "2           False                     False                       False   \n",
      "3           False                      True                       False   \n",
      "4           False                      True                       False   \n",
      "\n",
      "   location_Mid-Block  location_Ramp Junction  \n",
      "1                True                   False  \n",
      "2                True                   False  \n",
      "3               False                   False  \n",
      "4               False                   False  \n",
      "\n",
      "[4 rows x 44 columns]\n",
      "     people  pedestrians  cyclists  vehicles  injuries  fatalities      wind  \\\n",
      "1 -0.567943     -0.22508 -0.191573 -0.081068 -0.593563   -0.039124  0.589595   \n",
      "2  0.199139     -0.22508 -0.191573  1.780665 -0.593563   -0.039124  0.589595   \n",
      "3 -0.567943     -0.22508 -0.191573 -0.081068  0.679886   -0.039124  0.589595   \n",
      "4 -0.567943     -0.22508 -0.191573 -0.081068  0.679886   -0.039124  0.589595   \n",
      "\n",
      "   temperature  distracted  severity_Minor  ...  type_Left Turn  \\\n",
      "1    -1.846241           1            True  ...           False   \n",
      "2    -1.846241           0            True  ...           False   \n",
      "3    -1.846241           0           False  ...           False   \n",
      "4    -1.846241           0           False  ...           False   \n",
      "\n",
      "   type_Parked Car  type_Pedestrian  type_Rear Ended  type_Right Turn  \\\n",
      "1             True            False            False            False   \n",
      "2            False            False             True            False   \n",
      "3            False            False            False            False   \n",
      "4            False            False             True            False   \n",
      "\n",
      "   type_Sideswipe  location_At Intersection  location_Driveway Junction  \\\n",
      "1           False                     False                       False   \n",
      "2           False                     False                       False   \n",
      "3           False                      True                       False   \n",
      "4           False                      True                       False   \n",
      "\n",
      "   location_Mid-Block  location_Ramp Junction  \n",
      "1                True                   False  \n",
      "2                True                   False  \n",
      "3               False                   False  \n",
      "4               False                   False  \n",
      "\n",
      "[4 rows x 44 columns]\n"
     ]
    }
   ],
   "source": [
    "print(dfKlasifikacija.head(4))\n",
    "print(dfRegresija.head(4))"
   ]
  },
  {
   "cell_type": "markdown",
   "metadata": {},
   "source": [
    "### Naloga 5 *(15 T)*\n",
    "\n",
    "S pomočjo regresija poskusite napovedati število udeležnih ljudi v nesreči (`people`). Za podatke uporabite predprocesiran dataframe `dfRegresija`. Podatke razdelite na učne in testne s pomočjo delitve na 3 folde. Za regresor uporabite linearno regresijo, XGBoost in regresijski naključni gozd ter jo izvedite s pomočjo navzkrižne validacije.\n",
    "\n",
    "- Kako dobro se je naučil model ocenite s **povprečno absolutno napako** (izpisana mora bit pozitivna vrednost) in **r2 score**. Oboje zaokrožite na dve decimalki in prikažite v obliki **grafa**."
   ]
  },
  {
   "cell_type": "code",
   "execution_count": 49,
   "metadata": {},
   "outputs": [
    {
     "data": {
      "text/plain": [
       "people                              float64\n",
       "pedestrians                         float64\n",
       "cyclists                            float64\n",
       "vehicles                            float64\n",
       "injuries                            float64\n",
       "fatalities                          float64\n",
       "wind                                float64\n",
       "temperature                         float64\n",
       "distracted                            int32\n",
       "severity_Minor                         bool\n",
       "severity_Severe                        bool\n",
       "severity_Significant                   bool\n",
       "weather_Blowing Sand/Dirt              bool\n",
       "weather_Clear                          bool\n",
       "weather_Fog/Smog/Smoke                 bool\n",
       "weather_Overcast                       bool\n",
       "weather_Raining                        bool\n",
       "weather_Severe Crosswind               bool\n",
       "weather_Sleet/Hail/Freezing Rain       bool\n",
       "weather_Snowing                        bool\n",
       "road_Dry                               bool\n",
       "road_Ice                               bool\n",
       "road_Oil                               bool\n",
       "road_Sand/Mud/Dirt                     bool\n",
       "road_Snow/Slush                        bool\n",
       "road_Standing Water                    bool\n",
       "road_Wet                               bool\n",
       "light_bright                           bool\n",
       "light_dark                             bool\n",
       "light_mostly bright                    bool\n",
       "light_mostly dark                      bool\n",
       "type_Angles                            bool\n",
       "type_Cycles                            bool\n",
       "type_Head On                           bool\n",
       "type_Left Turn                         bool\n",
       "type_Parked Car                        bool\n",
       "type_Pedestrian                        bool\n",
       "type_Rear Ended                        bool\n",
       "type_Right Turn                        bool\n",
       "type_Sideswipe                         bool\n",
       "location_At Intersection               bool\n",
       "location_Driveway Junction             bool\n",
       "location_Mid-Block                     bool\n",
       "location_Ramp Junction                 bool\n",
       "dtype: object"
      ]
     },
     "execution_count": 49,
     "metadata": {},
     "output_type": "execute_result"
    }
   ],
   "source": [
    "dfRegresija.dtypes"
   ]
  },
  {
   "cell_type": "markdown",
   "metadata": {},
   "source": [
    "### Naloga 5 *(15 T)*\n",
    "\n",
    "S pomočjo regresija poskusite napovedati število udeležnih ljudi v nesreči (`people`). Za podatke uporabite predprocesiran dataframe `dfRegresija`. Podatke razdelite na učne in testne s pomočjo delitve na 3 folde. Za regresor uporabite linearno regresijo, XGBoost in regresijski naključni gozd ter jo izvedite s pomočjo navzkrižne validacije.\n",
    "\n",
    "- Kako dobro se je naučil model ocenite s **povprečno absolutno napako** (izpisana mora bit pozitivna vrednost) in **r2 score**. Oboje zaokrožite na dve decimalki in prikažite v obliki **grafa**."
   ]
  },
  {
   "cell_type": "code",
   "execution_count": 54,
   "metadata": {},
   "outputs": [
    {
     "name": "stdout",
     "output_type": "stream",
     "text": [
      "[0.5303615849074007, 0.5276496941192133, 0.5802037757323326] [0.23898613186722378, 0.24213010530694276, 0.077787624172614]\n"
     ]
    }
   ],
   "source": [
    "\n",
    "from sklearn.linear_model import LinearRegression\n",
    "from sklearn.ensemble import GradientBoostingRegressor\n",
    "from sklearn.model_selection import KFold, cross_val_score, StratifiedKFold, train_test_split\n",
    "from sklearn.ensemble import RandomForestRegressor\n",
    "import matplotlib.pyplot as plt\n",
    "from sklearn.metrics import make_scorer, mean_absolute_error, mean_squared_error\n",
    "from sklearn.metrics import r2_score\n",
    "import numpy as np\n",
    "\n",
    "x=dfRegresija.drop([\"people\"],axis=1)\n",
    "y=dfRegresija[\"people\"]\n",
    "\n",
    "cv=KFold()\n",
    "regresor={\"linearno regresij\": LinearRegression(),\n",
    "          \"XGBoost\": GradientBoostingRegressor(),\n",
    "          \"regresijski naključni gozd\": RandomForestRegressor()}\n",
    "\n",
    "scores=[]\n",
    "\n",
    "mae_scores = []\n",
    "r2_scores = []\n",
    "\n",
    "\n",
    "for name, reg in regresor.items():\n",
    "    mae = cross_val_score(reg, x, y, cv=cv, scoring=make_scorer(mean_absolute_error))\n",
    "    r2 = cross_val_score(reg, x, y, cv=cv, scoring=\"r2\")\n",
    "    mae_scores.append(mae.mean())\n",
    "    r2_scores.append(r2.mean())\n",
    "\n",
    "print(mae_scores,r2_scores)\n",
    "\n",
    "\n",
    "fig, ax = plt.subplots(1, 2, figsize=(14, 5))\n",
    "ax[0].bar(regresor.keys(), mae_scores, color='b')\n",
    "\n",
    "ax[1].bar(regresor.keys(), r2_scores, color='g')\n",
    "plt.show()"
   ]
  },
  {
   "cell_type": "markdown",
   "metadata": {},
   "source": [
    "### Naloga 6 *(10 T)*\n",
    "Glede na rezultate iz prejšnje naloge izberite regresor, ki je dal najboljše rezultate in njegovo delovanje poskušajte še optimizirati. Za iskanje najboljših nastavitev parametrov uporabite naključno iskanje (RandomizedSearchCV), ki ga omejite na 15 iteracij. Poiščite najboljše nastavitve za **tri poljubne parametre**, za vsak parameter pa mu dajte na vojo vsaj **dve različni vrednosti**, med katerimi naj izbira. En izmed teh parametrov mora biti obvezno številski. Število foldov, vhodni in izhodni podatki naj bodo enaki kot pri 5. nalogi.\n",
    "\n",
    "Izpišite **najboljše nastavitve parametrov** in **najboljšo doseženo (pozitivno) MAE vrednost**. najboljsi= RandomForestRegressor()}\n"
   ]
  },
  {
   "cell_type": "code",
   "execution_count": 55,
   "metadata": {},
   "outputs": [
    {
     "name": "stderr",
     "output_type": "stream",
     "text": [
      "c:\\Users\\jasar\\ANACONDA3\\Lib\\site-packages\\sklearn\\model_selection\\_search.py:305: UserWarning: The total space of parameters 12 is smaller than n_iter=15. Running 12 iterations. For exhaustive searches, use GridSearchCV.\n",
      "  warnings.warn(\n"
     ]
    },
    {
     "name": "stdout",
     "output_type": "stream",
     "text": [
      "Fitting 5 folds for each of 12 candidates, totalling 60 fits\n"
     ]
    },
    {
     "ename": "KeyboardInterrupt",
     "evalue": "",
     "output_type": "error",
     "traceback": [
      "\u001b[1;31m---------------------------------------------------------------------------\u001b[0m",
      "\u001b[1;31mKeyboardInterrupt\u001b[0m                         Traceback (most recent call last)",
      "Cell \u001b[1;32mIn[55], line 19\u001b[0m\n\u001b[0;32m     11\u001b[0m rf \u001b[38;5;241m=\u001b[39m RandomForestRegressor(random_state\u001b[38;5;241m=\u001b[39m\u001b[38;5;241m42\u001b[39m)\n\u001b[0;32m     14\u001b[0m random_search \u001b[38;5;241m=\u001b[39m RandomizedSearchCV(rf, param_distributions\u001b[38;5;241m=\u001b[39mparam_dist, n_iter\u001b[38;5;241m=\u001b[39m\u001b[38;5;241m15\u001b[39m, \n\u001b[0;32m     15\u001b[0m                                    cv\u001b[38;5;241m=\u001b[39mcv, scoring\u001b[38;5;241m=\u001b[39mmake_scorer(mean_absolute_error, greater_is_better\u001b[38;5;241m=\u001b[39m\u001b[38;5;28;01mFalse\u001b[39;00m), \n\u001b[0;32m     16\u001b[0m                                    random_state\u001b[38;5;241m=\u001b[39m\u001b[38;5;241m42\u001b[39m, verbose\u001b[38;5;241m=\u001b[39m\u001b[38;5;241m1\u001b[39m)\n\u001b[1;32m---> 19\u001b[0m random_search\u001b[38;5;241m.\u001b[39mfit(x, y)\n\u001b[0;32m     22\u001b[0m \u001b[38;5;28mprint\u001b[39m(\u001b[38;5;124m\"\u001b[39m\u001b[38;5;124mNajboljše nastavitve parametrov:\u001b[39m\u001b[38;5;124m\"\u001b[39m, random_search\u001b[38;5;241m.\u001b[39mbest_params_)\n\u001b[0;32m     23\u001b[0m \u001b[38;5;28mprint\u001b[39m(\u001b[38;5;124m\"\u001b[39m\u001b[38;5;124mNajboljša dosežena MAE vrednost:\u001b[39m\u001b[38;5;124m\"\u001b[39m, \u001b[38;5;241m-\u001b[39mrandom_search\u001b[38;5;241m.\u001b[39mbest_score_)\n",
      "File \u001b[1;32mc:\\Users\\jasar\\ANACONDA3\\Lib\\site-packages\\sklearn\\model_selection\\_search.py:874\u001b[0m, in \u001b[0;36mBaseSearchCV.fit\u001b[1;34m(self, X, y, groups, **fit_params)\u001b[0m\n\u001b[0;32m    868\u001b[0m     results \u001b[38;5;241m=\u001b[39m \u001b[38;5;28mself\u001b[39m\u001b[38;5;241m.\u001b[39m_format_results(\n\u001b[0;32m    869\u001b[0m         all_candidate_params, n_splits, all_out, all_more_results\n\u001b[0;32m    870\u001b[0m     )\n\u001b[0;32m    872\u001b[0m     \u001b[38;5;28;01mreturn\u001b[39;00m results\n\u001b[1;32m--> 874\u001b[0m \u001b[38;5;28mself\u001b[39m\u001b[38;5;241m.\u001b[39m_run_search(evaluate_candidates)\n\u001b[0;32m    876\u001b[0m \u001b[38;5;66;03m# multimetric is determined here because in the case of a callable\u001b[39;00m\n\u001b[0;32m    877\u001b[0m \u001b[38;5;66;03m# self.scoring the return type is only known after calling\u001b[39;00m\n\u001b[0;32m    878\u001b[0m first_test_score \u001b[38;5;241m=\u001b[39m all_out[\u001b[38;5;241m0\u001b[39m][\u001b[38;5;124m\"\u001b[39m\u001b[38;5;124mtest_scores\u001b[39m\u001b[38;5;124m\"\u001b[39m]\n",
      "File \u001b[1;32mc:\\Users\\jasar\\ANACONDA3\\Lib\\site-packages\\sklearn\\model_selection\\_search.py:1768\u001b[0m, in \u001b[0;36mRandomizedSearchCV._run_search\u001b[1;34m(self, evaluate_candidates)\u001b[0m\n\u001b[0;32m   1766\u001b[0m \u001b[38;5;28;01mdef\u001b[39;00m \u001b[38;5;21m_run_search\u001b[39m(\u001b[38;5;28mself\u001b[39m, evaluate_candidates):\n\u001b[0;32m   1767\u001b[0m \u001b[38;5;250m    \u001b[39m\u001b[38;5;124;03m\"\"\"Search n_iter candidates from param_distributions\"\"\"\u001b[39;00m\n\u001b[1;32m-> 1768\u001b[0m     evaluate_candidates(\n\u001b[0;32m   1769\u001b[0m         ParameterSampler(\n\u001b[0;32m   1770\u001b[0m             \u001b[38;5;28mself\u001b[39m\u001b[38;5;241m.\u001b[39mparam_distributions, \u001b[38;5;28mself\u001b[39m\u001b[38;5;241m.\u001b[39mn_iter, random_state\u001b[38;5;241m=\u001b[39m\u001b[38;5;28mself\u001b[39m\u001b[38;5;241m.\u001b[39mrandom_state\n\u001b[0;32m   1771\u001b[0m         )\n\u001b[0;32m   1772\u001b[0m     )\n",
      "File \u001b[1;32mc:\\Users\\jasar\\ANACONDA3\\Lib\\site-packages\\sklearn\\model_selection\\_search.py:821\u001b[0m, in \u001b[0;36mBaseSearchCV.fit.<locals>.evaluate_candidates\u001b[1;34m(candidate_params, cv, more_results)\u001b[0m\n\u001b[0;32m    813\u001b[0m \u001b[38;5;28;01mif\u001b[39;00m \u001b[38;5;28mself\u001b[39m\u001b[38;5;241m.\u001b[39mverbose \u001b[38;5;241m>\u001b[39m \u001b[38;5;241m0\u001b[39m:\n\u001b[0;32m    814\u001b[0m     \u001b[38;5;28mprint\u001b[39m(\n\u001b[0;32m    815\u001b[0m         \u001b[38;5;124m\"\u001b[39m\u001b[38;5;124mFitting \u001b[39m\u001b[38;5;132;01m{0}\u001b[39;00m\u001b[38;5;124m folds for each of \u001b[39m\u001b[38;5;132;01m{1}\u001b[39;00m\u001b[38;5;124m candidates,\u001b[39m\u001b[38;5;124m\"\u001b[39m\n\u001b[0;32m    816\u001b[0m         \u001b[38;5;124m\"\u001b[39m\u001b[38;5;124m totalling \u001b[39m\u001b[38;5;132;01m{2}\u001b[39;00m\u001b[38;5;124m fits\u001b[39m\u001b[38;5;124m\"\u001b[39m\u001b[38;5;241m.\u001b[39mformat(\n\u001b[0;32m    817\u001b[0m             n_splits, n_candidates, n_candidates \u001b[38;5;241m*\u001b[39m n_splits\n\u001b[0;32m    818\u001b[0m         )\n\u001b[0;32m    819\u001b[0m     )\n\u001b[1;32m--> 821\u001b[0m out \u001b[38;5;241m=\u001b[39m parallel(\n\u001b[0;32m    822\u001b[0m     delayed(_fit_and_score)(\n\u001b[0;32m    823\u001b[0m         clone(base_estimator),\n\u001b[0;32m    824\u001b[0m         X,\n\u001b[0;32m    825\u001b[0m         y,\n\u001b[0;32m    826\u001b[0m         train\u001b[38;5;241m=\u001b[39mtrain,\n\u001b[0;32m    827\u001b[0m         test\u001b[38;5;241m=\u001b[39mtest,\n\u001b[0;32m    828\u001b[0m         parameters\u001b[38;5;241m=\u001b[39mparameters,\n\u001b[0;32m    829\u001b[0m         split_progress\u001b[38;5;241m=\u001b[39m(split_idx, n_splits),\n\u001b[0;32m    830\u001b[0m         candidate_progress\u001b[38;5;241m=\u001b[39m(cand_idx, n_candidates),\n\u001b[0;32m    831\u001b[0m         \u001b[38;5;241m*\u001b[39m\u001b[38;5;241m*\u001b[39mfit_and_score_kwargs,\n\u001b[0;32m    832\u001b[0m     )\n\u001b[0;32m    833\u001b[0m     \u001b[38;5;28;01mfor\u001b[39;00m (cand_idx, parameters), (split_idx, (train, test)) \u001b[38;5;129;01min\u001b[39;00m product(\n\u001b[0;32m    834\u001b[0m         \u001b[38;5;28menumerate\u001b[39m(candidate_params), \u001b[38;5;28menumerate\u001b[39m(cv\u001b[38;5;241m.\u001b[39msplit(X, y, groups))\n\u001b[0;32m    835\u001b[0m     )\n\u001b[0;32m    836\u001b[0m )\n\u001b[0;32m    838\u001b[0m \u001b[38;5;28;01mif\u001b[39;00m \u001b[38;5;28mlen\u001b[39m(out) \u001b[38;5;241m<\u001b[39m \u001b[38;5;241m1\u001b[39m:\n\u001b[0;32m    839\u001b[0m     \u001b[38;5;28;01mraise\u001b[39;00m \u001b[38;5;167;01mValueError\u001b[39;00m(\n\u001b[0;32m    840\u001b[0m         \u001b[38;5;124m\"\u001b[39m\u001b[38;5;124mNo fits were performed. \u001b[39m\u001b[38;5;124m\"\u001b[39m\n\u001b[0;32m    841\u001b[0m         \u001b[38;5;124m\"\u001b[39m\u001b[38;5;124mWas the CV iterator empty? \u001b[39m\u001b[38;5;124m\"\u001b[39m\n\u001b[0;32m    842\u001b[0m         \u001b[38;5;124m\"\u001b[39m\u001b[38;5;124mWere there no candidates?\u001b[39m\u001b[38;5;124m\"\u001b[39m\n\u001b[0;32m    843\u001b[0m     )\n",
      "File \u001b[1;32mc:\\Users\\jasar\\ANACONDA3\\Lib\\site-packages\\sklearn\\utils\\parallel.py:63\u001b[0m, in \u001b[0;36mParallel.__call__\u001b[1;34m(self, iterable)\u001b[0m\n\u001b[0;32m     58\u001b[0m config \u001b[38;5;241m=\u001b[39m get_config()\n\u001b[0;32m     59\u001b[0m iterable_with_config \u001b[38;5;241m=\u001b[39m (\n\u001b[0;32m     60\u001b[0m     (_with_config(delayed_func, config), args, kwargs)\n\u001b[0;32m     61\u001b[0m     \u001b[38;5;28;01mfor\u001b[39;00m delayed_func, args, kwargs \u001b[38;5;129;01min\u001b[39;00m iterable\n\u001b[0;32m     62\u001b[0m )\n\u001b[1;32m---> 63\u001b[0m \u001b[38;5;28;01mreturn\u001b[39;00m \u001b[38;5;28msuper\u001b[39m()\u001b[38;5;241m.\u001b[39m\u001b[38;5;21m__call__\u001b[39m(iterable_with_config)\n",
      "File \u001b[1;32mc:\\Users\\jasar\\ANACONDA3\\Lib\\site-packages\\joblib\\parallel.py:1088\u001b[0m, in \u001b[0;36mParallel.__call__\u001b[1;34m(self, iterable)\u001b[0m\n\u001b[0;32m   1085\u001b[0m \u001b[38;5;28;01mif\u001b[39;00m \u001b[38;5;28mself\u001b[39m\u001b[38;5;241m.\u001b[39mdispatch_one_batch(iterator):\n\u001b[0;32m   1086\u001b[0m     \u001b[38;5;28mself\u001b[39m\u001b[38;5;241m.\u001b[39m_iterating \u001b[38;5;241m=\u001b[39m \u001b[38;5;28mself\u001b[39m\u001b[38;5;241m.\u001b[39m_original_iterator \u001b[38;5;129;01mis\u001b[39;00m \u001b[38;5;129;01mnot\u001b[39;00m \u001b[38;5;28;01mNone\u001b[39;00m\n\u001b[1;32m-> 1088\u001b[0m \u001b[38;5;28;01mwhile\u001b[39;00m \u001b[38;5;28mself\u001b[39m\u001b[38;5;241m.\u001b[39mdispatch_one_batch(iterator):\n\u001b[0;32m   1089\u001b[0m     \u001b[38;5;28;01mpass\u001b[39;00m\n\u001b[0;32m   1091\u001b[0m \u001b[38;5;28;01mif\u001b[39;00m pre_dispatch \u001b[38;5;241m==\u001b[39m \u001b[38;5;124m\"\u001b[39m\u001b[38;5;124mall\u001b[39m\u001b[38;5;124m\"\u001b[39m \u001b[38;5;129;01mor\u001b[39;00m n_jobs \u001b[38;5;241m==\u001b[39m \u001b[38;5;241m1\u001b[39m:\n\u001b[0;32m   1092\u001b[0m     \u001b[38;5;66;03m# The iterable was consumed all at once by the above for loop.\u001b[39;00m\n\u001b[0;32m   1093\u001b[0m     \u001b[38;5;66;03m# No need to wait for async callbacks to trigger to\u001b[39;00m\n\u001b[0;32m   1094\u001b[0m     \u001b[38;5;66;03m# consumption.\u001b[39;00m\n",
      "File \u001b[1;32mc:\\Users\\jasar\\ANACONDA3\\Lib\\site-packages\\joblib\\parallel.py:901\u001b[0m, in \u001b[0;36mParallel.dispatch_one_batch\u001b[1;34m(self, iterator)\u001b[0m\n\u001b[0;32m    899\u001b[0m     \u001b[38;5;28;01mreturn\u001b[39;00m \u001b[38;5;28;01mFalse\u001b[39;00m\n\u001b[0;32m    900\u001b[0m \u001b[38;5;28;01melse\u001b[39;00m:\n\u001b[1;32m--> 901\u001b[0m     \u001b[38;5;28mself\u001b[39m\u001b[38;5;241m.\u001b[39m_dispatch(tasks)\n\u001b[0;32m    902\u001b[0m     \u001b[38;5;28;01mreturn\u001b[39;00m \u001b[38;5;28;01mTrue\u001b[39;00m\n",
      "File \u001b[1;32mc:\\Users\\jasar\\ANACONDA3\\Lib\\site-packages\\joblib\\parallel.py:819\u001b[0m, in \u001b[0;36mParallel._dispatch\u001b[1;34m(self, batch)\u001b[0m\n\u001b[0;32m    817\u001b[0m \u001b[38;5;28;01mwith\u001b[39;00m \u001b[38;5;28mself\u001b[39m\u001b[38;5;241m.\u001b[39m_lock:\n\u001b[0;32m    818\u001b[0m     job_idx \u001b[38;5;241m=\u001b[39m \u001b[38;5;28mlen\u001b[39m(\u001b[38;5;28mself\u001b[39m\u001b[38;5;241m.\u001b[39m_jobs)\n\u001b[1;32m--> 819\u001b[0m     job \u001b[38;5;241m=\u001b[39m \u001b[38;5;28mself\u001b[39m\u001b[38;5;241m.\u001b[39m_backend\u001b[38;5;241m.\u001b[39mapply_async(batch, callback\u001b[38;5;241m=\u001b[39mcb)\n\u001b[0;32m    820\u001b[0m     \u001b[38;5;66;03m# A job can complete so quickly than its callback is\u001b[39;00m\n\u001b[0;32m    821\u001b[0m     \u001b[38;5;66;03m# called before we get here, causing self._jobs to\u001b[39;00m\n\u001b[0;32m    822\u001b[0m     \u001b[38;5;66;03m# grow. To ensure correct results ordering, .insert is\u001b[39;00m\n\u001b[0;32m    823\u001b[0m     \u001b[38;5;66;03m# used (rather than .append) in the following line\u001b[39;00m\n\u001b[0;32m    824\u001b[0m     \u001b[38;5;28mself\u001b[39m\u001b[38;5;241m.\u001b[39m_jobs\u001b[38;5;241m.\u001b[39minsert(job_idx, job)\n",
      "File \u001b[1;32mc:\\Users\\jasar\\ANACONDA3\\Lib\\site-packages\\joblib\\_parallel_backends.py:208\u001b[0m, in \u001b[0;36mSequentialBackend.apply_async\u001b[1;34m(self, func, callback)\u001b[0m\n\u001b[0;32m    206\u001b[0m \u001b[38;5;28;01mdef\u001b[39;00m \u001b[38;5;21mapply_async\u001b[39m(\u001b[38;5;28mself\u001b[39m, func, callback\u001b[38;5;241m=\u001b[39m\u001b[38;5;28;01mNone\u001b[39;00m):\n\u001b[0;32m    207\u001b[0m \u001b[38;5;250m    \u001b[39m\u001b[38;5;124;03m\"\"\"Schedule a func to be run\"\"\"\u001b[39;00m\n\u001b[1;32m--> 208\u001b[0m     result \u001b[38;5;241m=\u001b[39m ImmediateResult(func)\n\u001b[0;32m    209\u001b[0m     \u001b[38;5;28;01mif\u001b[39;00m callback:\n\u001b[0;32m    210\u001b[0m         callback(result)\n",
      "File \u001b[1;32mc:\\Users\\jasar\\ANACONDA3\\Lib\\site-packages\\joblib\\_parallel_backends.py:597\u001b[0m, in \u001b[0;36mImmediateResult.__init__\u001b[1;34m(self, batch)\u001b[0m\n\u001b[0;32m    594\u001b[0m \u001b[38;5;28;01mdef\u001b[39;00m \u001b[38;5;21m__init__\u001b[39m(\u001b[38;5;28mself\u001b[39m, batch):\n\u001b[0;32m    595\u001b[0m     \u001b[38;5;66;03m# Don't delay the application, to avoid keeping the input\u001b[39;00m\n\u001b[0;32m    596\u001b[0m     \u001b[38;5;66;03m# arguments in memory\u001b[39;00m\n\u001b[1;32m--> 597\u001b[0m     \u001b[38;5;28mself\u001b[39m\u001b[38;5;241m.\u001b[39mresults \u001b[38;5;241m=\u001b[39m batch()\n",
      "File \u001b[1;32mc:\\Users\\jasar\\ANACONDA3\\Lib\\site-packages\\joblib\\parallel.py:288\u001b[0m, in \u001b[0;36mBatchedCalls.__call__\u001b[1;34m(self)\u001b[0m\n\u001b[0;32m    284\u001b[0m \u001b[38;5;28;01mdef\u001b[39;00m \u001b[38;5;21m__call__\u001b[39m(\u001b[38;5;28mself\u001b[39m):\n\u001b[0;32m    285\u001b[0m     \u001b[38;5;66;03m# Set the default nested backend to self._backend but do not set the\u001b[39;00m\n\u001b[0;32m    286\u001b[0m     \u001b[38;5;66;03m# change the default number of processes to -1\u001b[39;00m\n\u001b[0;32m    287\u001b[0m     \u001b[38;5;28;01mwith\u001b[39;00m parallel_backend(\u001b[38;5;28mself\u001b[39m\u001b[38;5;241m.\u001b[39m_backend, n_jobs\u001b[38;5;241m=\u001b[39m\u001b[38;5;28mself\u001b[39m\u001b[38;5;241m.\u001b[39m_n_jobs):\n\u001b[1;32m--> 288\u001b[0m         \u001b[38;5;28;01mreturn\u001b[39;00m [func(\u001b[38;5;241m*\u001b[39margs, \u001b[38;5;241m*\u001b[39m\u001b[38;5;241m*\u001b[39mkwargs)\n\u001b[0;32m    289\u001b[0m                 \u001b[38;5;28;01mfor\u001b[39;00m func, args, kwargs \u001b[38;5;129;01min\u001b[39;00m \u001b[38;5;28mself\u001b[39m\u001b[38;5;241m.\u001b[39mitems]\n",
      "File \u001b[1;32mc:\\Users\\jasar\\ANACONDA3\\Lib\\site-packages\\joblib\\parallel.py:288\u001b[0m, in \u001b[0;36m<listcomp>\u001b[1;34m(.0)\u001b[0m\n\u001b[0;32m    284\u001b[0m \u001b[38;5;28;01mdef\u001b[39;00m \u001b[38;5;21m__call__\u001b[39m(\u001b[38;5;28mself\u001b[39m):\n\u001b[0;32m    285\u001b[0m     \u001b[38;5;66;03m# Set the default nested backend to self._backend but do not set the\u001b[39;00m\n\u001b[0;32m    286\u001b[0m     \u001b[38;5;66;03m# change the default number of processes to -1\u001b[39;00m\n\u001b[0;32m    287\u001b[0m     \u001b[38;5;28;01mwith\u001b[39;00m parallel_backend(\u001b[38;5;28mself\u001b[39m\u001b[38;5;241m.\u001b[39m_backend, n_jobs\u001b[38;5;241m=\u001b[39m\u001b[38;5;28mself\u001b[39m\u001b[38;5;241m.\u001b[39m_n_jobs):\n\u001b[1;32m--> 288\u001b[0m         \u001b[38;5;28;01mreturn\u001b[39;00m [func(\u001b[38;5;241m*\u001b[39margs, \u001b[38;5;241m*\u001b[39m\u001b[38;5;241m*\u001b[39mkwargs)\n\u001b[0;32m    289\u001b[0m                 \u001b[38;5;28;01mfor\u001b[39;00m func, args, kwargs \u001b[38;5;129;01min\u001b[39;00m \u001b[38;5;28mself\u001b[39m\u001b[38;5;241m.\u001b[39mitems]\n",
      "File \u001b[1;32mc:\\Users\\jasar\\ANACONDA3\\Lib\\site-packages\\sklearn\\utils\\parallel.py:123\u001b[0m, in \u001b[0;36m_FuncWrapper.__call__\u001b[1;34m(self, *args, **kwargs)\u001b[0m\n\u001b[0;32m    121\u001b[0m     config \u001b[38;5;241m=\u001b[39m {}\n\u001b[0;32m    122\u001b[0m \u001b[38;5;28;01mwith\u001b[39;00m config_context(\u001b[38;5;241m*\u001b[39m\u001b[38;5;241m*\u001b[39mconfig):\n\u001b[1;32m--> 123\u001b[0m     \u001b[38;5;28;01mreturn\u001b[39;00m \u001b[38;5;28mself\u001b[39m\u001b[38;5;241m.\u001b[39mfunction(\u001b[38;5;241m*\u001b[39margs, \u001b[38;5;241m*\u001b[39m\u001b[38;5;241m*\u001b[39mkwargs)\n",
      "File \u001b[1;32mc:\\Users\\jasar\\ANACONDA3\\Lib\\site-packages\\sklearn\\model_selection\\_validation.py:686\u001b[0m, in \u001b[0;36m_fit_and_score\u001b[1;34m(estimator, X, y, scorer, train, test, verbose, parameters, fit_params, return_train_score, return_parameters, return_n_test_samples, return_times, return_estimator, split_progress, candidate_progress, error_score)\u001b[0m\n\u001b[0;32m    684\u001b[0m         estimator\u001b[38;5;241m.\u001b[39mfit(X_train, \u001b[38;5;241m*\u001b[39m\u001b[38;5;241m*\u001b[39mfit_params)\n\u001b[0;32m    685\u001b[0m     \u001b[38;5;28;01melse\u001b[39;00m:\n\u001b[1;32m--> 686\u001b[0m         estimator\u001b[38;5;241m.\u001b[39mfit(X_train, y_train, \u001b[38;5;241m*\u001b[39m\u001b[38;5;241m*\u001b[39mfit_params)\n\u001b[0;32m    688\u001b[0m \u001b[38;5;28;01mexcept\u001b[39;00m \u001b[38;5;167;01mException\u001b[39;00m:\n\u001b[0;32m    689\u001b[0m     \u001b[38;5;66;03m# Note fit time as time until error\u001b[39;00m\n\u001b[0;32m    690\u001b[0m     fit_time \u001b[38;5;241m=\u001b[39m time\u001b[38;5;241m.\u001b[39mtime() \u001b[38;5;241m-\u001b[39m start_time\n",
      "File \u001b[1;32mc:\\Users\\jasar\\ANACONDA3\\Lib\\site-packages\\sklearn\\ensemble\\_forest.py:473\u001b[0m, in \u001b[0;36mBaseForest.fit\u001b[1;34m(self, X, y, sample_weight)\u001b[0m\n\u001b[0;32m    462\u001b[0m trees \u001b[38;5;241m=\u001b[39m [\n\u001b[0;32m    463\u001b[0m     \u001b[38;5;28mself\u001b[39m\u001b[38;5;241m.\u001b[39m_make_estimator(append\u001b[38;5;241m=\u001b[39m\u001b[38;5;28;01mFalse\u001b[39;00m, random_state\u001b[38;5;241m=\u001b[39mrandom_state)\n\u001b[0;32m    464\u001b[0m     \u001b[38;5;28;01mfor\u001b[39;00m i \u001b[38;5;129;01min\u001b[39;00m \u001b[38;5;28mrange\u001b[39m(n_more_estimators)\n\u001b[0;32m    465\u001b[0m ]\n\u001b[0;32m    467\u001b[0m \u001b[38;5;66;03m# Parallel loop: we prefer the threading backend as the Cython code\u001b[39;00m\n\u001b[0;32m    468\u001b[0m \u001b[38;5;66;03m# for fitting the trees is internally releasing the Python GIL\u001b[39;00m\n\u001b[0;32m    469\u001b[0m \u001b[38;5;66;03m# making threading more efficient than multiprocessing in\u001b[39;00m\n\u001b[0;32m    470\u001b[0m \u001b[38;5;66;03m# that case. However, for joblib 0.12+ we respect any\u001b[39;00m\n\u001b[0;32m    471\u001b[0m \u001b[38;5;66;03m# parallel_backend contexts set at a higher level,\u001b[39;00m\n\u001b[0;32m    472\u001b[0m \u001b[38;5;66;03m# since correctness does not rely on using threads.\u001b[39;00m\n\u001b[1;32m--> 473\u001b[0m trees \u001b[38;5;241m=\u001b[39m Parallel(\n\u001b[0;32m    474\u001b[0m     n_jobs\u001b[38;5;241m=\u001b[39m\u001b[38;5;28mself\u001b[39m\u001b[38;5;241m.\u001b[39mn_jobs,\n\u001b[0;32m    475\u001b[0m     verbose\u001b[38;5;241m=\u001b[39m\u001b[38;5;28mself\u001b[39m\u001b[38;5;241m.\u001b[39mverbose,\n\u001b[0;32m    476\u001b[0m     prefer\u001b[38;5;241m=\u001b[39m\u001b[38;5;124m\"\u001b[39m\u001b[38;5;124mthreads\u001b[39m\u001b[38;5;124m\"\u001b[39m,\n\u001b[0;32m    477\u001b[0m )(\n\u001b[0;32m    478\u001b[0m     delayed(_parallel_build_trees)(\n\u001b[0;32m    479\u001b[0m         t,\n\u001b[0;32m    480\u001b[0m         \u001b[38;5;28mself\u001b[39m\u001b[38;5;241m.\u001b[39mbootstrap,\n\u001b[0;32m    481\u001b[0m         X,\n\u001b[0;32m    482\u001b[0m         y,\n\u001b[0;32m    483\u001b[0m         sample_weight,\n\u001b[0;32m    484\u001b[0m         i,\n\u001b[0;32m    485\u001b[0m         \u001b[38;5;28mlen\u001b[39m(trees),\n\u001b[0;32m    486\u001b[0m         verbose\u001b[38;5;241m=\u001b[39m\u001b[38;5;28mself\u001b[39m\u001b[38;5;241m.\u001b[39mverbose,\n\u001b[0;32m    487\u001b[0m         class_weight\u001b[38;5;241m=\u001b[39m\u001b[38;5;28mself\u001b[39m\u001b[38;5;241m.\u001b[39mclass_weight,\n\u001b[0;32m    488\u001b[0m         n_samples_bootstrap\u001b[38;5;241m=\u001b[39mn_samples_bootstrap,\n\u001b[0;32m    489\u001b[0m     )\n\u001b[0;32m    490\u001b[0m     \u001b[38;5;28;01mfor\u001b[39;00m i, t \u001b[38;5;129;01min\u001b[39;00m \u001b[38;5;28menumerate\u001b[39m(trees)\n\u001b[0;32m    491\u001b[0m )\n\u001b[0;32m    493\u001b[0m \u001b[38;5;66;03m# Collect newly grown trees\u001b[39;00m\n\u001b[0;32m    494\u001b[0m \u001b[38;5;28mself\u001b[39m\u001b[38;5;241m.\u001b[39mestimators_\u001b[38;5;241m.\u001b[39mextend(trees)\n",
      "File \u001b[1;32mc:\\Users\\jasar\\ANACONDA3\\Lib\\site-packages\\sklearn\\utils\\parallel.py:63\u001b[0m, in \u001b[0;36mParallel.__call__\u001b[1;34m(self, iterable)\u001b[0m\n\u001b[0;32m     58\u001b[0m config \u001b[38;5;241m=\u001b[39m get_config()\n\u001b[0;32m     59\u001b[0m iterable_with_config \u001b[38;5;241m=\u001b[39m (\n\u001b[0;32m     60\u001b[0m     (_with_config(delayed_func, config), args, kwargs)\n\u001b[0;32m     61\u001b[0m     \u001b[38;5;28;01mfor\u001b[39;00m delayed_func, args, kwargs \u001b[38;5;129;01min\u001b[39;00m iterable\n\u001b[0;32m     62\u001b[0m )\n\u001b[1;32m---> 63\u001b[0m \u001b[38;5;28;01mreturn\u001b[39;00m \u001b[38;5;28msuper\u001b[39m()\u001b[38;5;241m.\u001b[39m\u001b[38;5;21m__call__\u001b[39m(iterable_with_config)\n",
      "File \u001b[1;32mc:\\Users\\jasar\\ANACONDA3\\Lib\\site-packages\\joblib\\parallel.py:1088\u001b[0m, in \u001b[0;36mParallel.__call__\u001b[1;34m(self, iterable)\u001b[0m\n\u001b[0;32m   1085\u001b[0m \u001b[38;5;28;01mif\u001b[39;00m \u001b[38;5;28mself\u001b[39m\u001b[38;5;241m.\u001b[39mdispatch_one_batch(iterator):\n\u001b[0;32m   1086\u001b[0m     \u001b[38;5;28mself\u001b[39m\u001b[38;5;241m.\u001b[39m_iterating \u001b[38;5;241m=\u001b[39m \u001b[38;5;28mself\u001b[39m\u001b[38;5;241m.\u001b[39m_original_iterator \u001b[38;5;129;01mis\u001b[39;00m \u001b[38;5;129;01mnot\u001b[39;00m \u001b[38;5;28;01mNone\u001b[39;00m\n\u001b[1;32m-> 1088\u001b[0m \u001b[38;5;28;01mwhile\u001b[39;00m \u001b[38;5;28mself\u001b[39m\u001b[38;5;241m.\u001b[39mdispatch_one_batch(iterator):\n\u001b[0;32m   1089\u001b[0m     \u001b[38;5;28;01mpass\u001b[39;00m\n\u001b[0;32m   1091\u001b[0m \u001b[38;5;28;01mif\u001b[39;00m pre_dispatch \u001b[38;5;241m==\u001b[39m \u001b[38;5;124m\"\u001b[39m\u001b[38;5;124mall\u001b[39m\u001b[38;5;124m\"\u001b[39m \u001b[38;5;129;01mor\u001b[39;00m n_jobs \u001b[38;5;241m==\u001b[39m \u001b[38;5;241m1\u001b[39m:\n\u001b[0;32m   1092\u001b[0m     \u001b[38;5;66;03m# The iterable was consumed all at once by the above for loop.\u001b[39;00m\n\u001b[0;32m   1093\u001b[0m     \u001b[38;5;66;03m# No need to wait for async callbacks to trigger to\u001b[39;00m\n\u001b[0;32m   1094\u001b[0m     \u001b[38;5;66;03m# consumption.\u001b[39;00m\n",
      "File \u001b[1;32mc:\\Users\\jasar\\ANACONDA3\\Lib\\site-packages\\joblib\\parallel.py:901\u001b[0m, in \u001b[0;36mParallel.dispatch_one_batch\u001b[1;34m(self, iterator)\u001b[0m\n\u001b[0;32m    899\u001b[0m     \u001b[38;5;28;01mreturn\u001b[39;00m \u001b[38;5;28;01mFalse\u001b[39;00m\n\u001b[0;32m    900\u001b[0m \u001b[38;5;28;01melse\u001b[39;00m:\n\u001b[1;32m--> 901\u001b[0m     \u001b[38;5;28mself\u001b[39m\u001b[38;5;241m.\u001b[39m_dispatch(tasks)\n\u001b[0;32m    902\u001b[0m     \u001b[38;5;28;01mreturn\u001b[39;00m \u001b[38;5;28;01mTrue\u001b[39;00m\n",
      "File \u001b[1;32mc:\\Users\\jasar\\ANACONDA3\\Lib\\site-packages\\joblib\\parallel.py:819\u001b[0m, in \u001b[0;36mParallel._dispatch\u001b[1;34m(self, batch)\u001b[0m\n\u001b[0;32m    817\u001b[0m \u001b[38;5;28;01mwith\u001b[39;00m \u001b[38;5;28mself\u001b[39m\u001b[38;5;241m.\u001b[39m_lock:\n\u001b[0;32m    818\u001b[0m     job_idx \u001b[38;5;241m=\u001b[39m \u001b[38;5;28mlen\u001b[39m(\u001b[38;5;28mself\u001b[39m\u001b[38;5;241m.\u001b[39m_jobs)\n\u001b[1;32m--> 819\u001b[0m     job \u001b[38;5;241m=\u001b[39m \u001b[38;5;28mself\u001b[39m\u001b[38;5;241m.\u001b[39m_backend\u001b[38;5;241m.\u001b[39mapply_async(batch, callback\u001b[38;5;241m=\u001b[39mcb)\n\u001b[0;32m    820\u001b[0m     \u001b[38;5;66;03m# A job can complete so quickly than its callback is\u001b[39;00m\n\u001b[0;32m    821\u001b[0m     \u001b[38;5;66;03m# called before we get here, causing self._jobs to\u001b[39;00m\n\u001b[0;32m    822\u001b[0m     \u001b[38;5;66;03m# grow. To ensure correct results ordering, .insert is\u001b[39;00m\n\u001b[0;32m    823\u001b[0m     \u001b[38;5;66;03m# used (rather than .append) in the following line\u001b[39;00m\n\u001b[0;32m    824\u001b[0m     \u001b[38;5;28mself\u001b[39m\u001b[38;5;241m.\u001b[39m_jobs\u001b[38;5;241m.\u001b[39minsert(job_idx, job)\n",
      "File \u001b[1;32mc:\\Users\\jasar\\ANACONDA3\\Lib\\site-packages\\joblib\\_parallel_backends.py:208\u001b[0m, in \u001b[0;36mSequentialBackend.apply_async\u001b[1;34m(self, func, callback)\u001b[0m\n\u001b[0;32m    206\u001b[0m \u001b[38;5;28;01mdef\u001b[39;00m \u001b[38;5;21mapply_async\u001b[39m(\u001b[38;5;28mself\u001b[39m, func, callback\u001b[38;5;241m=\u001b[39m\u001b[38;5;28;01mNone\u001b[39;00m):\n\u001b[0;32m    207\u001b[0m \u001b[38;5;250m    \u001b[39m\u001b[38;5;124;03m\"\"\"Schedule a func to be run\"\"\"\u001b[39;00m\n\u001b[1;32m--> 208\u001b[0m     result \u001b[38;5;241m=\u001b[39m ImmediateResult(func)\n\u001b[0;32m    209\u001b[0m     \u001b[38;5;28;01mif\u001b[39;00m callback:\n\u001b[0;32m    210\u001b[0m         callback(result)\n",
      "File \u001b[1;32mc:\\Users\\jasar\\ANACONDA3\\Lib\\site-packages\\joblib\\_parallel_backends.py:597\u001b[0m, in \u001b[0;36mImmediateResult.__init__\u001b[1;34m(self, batch)\u001b[0m\n\u001b[0;32m    594\u001b[0m \u001b[38;5;28;01mdef\u001b[39;00m \u001b[38;5;21m__init__\u001b[39m(\u001b[38;5;28mself\u001b[39m, batch):\n\u001b[0;32m    595\u001b[0m     \u001b[38;5;66;03m# Don't delay the application, to avoid keeping the input\u001b[39;00m\n\u001b[0;32m    596\u001b[0m     \u001b[38;5;66;03m# arguments in memory\u001b[39;00m\n\u001b[1;32m--> 597\u001b[0m     \u001b[38;5;28mself\u001b[39m\u001b[38;5;241m.\u001b[39mresults \u001b[38;5;241m=\u001b[39m batch()\n",
      "File \u001b[1;32mc:\\Users\\jasar\\ANACONDA3\\Lib\\site-packages\\joblib\\parallel.py:288\u001b[0m, in \u001b[0;36mBatchedCalls.__call__\u001b[1;34m(self)\u001b[0m\n\u001b[0;32m    284\u001b[0m \u001b[38;5;28;01mdef\u001b[39;00m \u001b[38;5;21m__call__\u001b[39m(\u001b[38;5;28mself\u001b[39m):\n\u001b[0;32m    285\u001b[0m     \u001b[38;5;66;03m# Set the default nested backend to self._backend but do not set the\u001b[39;00m\n\u001b[0;32m    286\u001b[0m     \u001b[38;5;66;03m# change the default number of processes to -1\u001b[39;00m\n\u001b[0;32m    287\u001b[0m     \u001b[38;5;28;01mwith\u001b[39;00m parallel_backend(\u001b[38;5;28mself\u001b[39m\u001b[38;5;241m.\u001b[39m_backend, n_jobs\u001b[38;5;241m=\u001b[39m\u001b[38;5;28mself\u001b[39m\u001b[38;5;241m.\u001b[39m_n_jobs):\n\u001b[1;32m--> 288\u001b[0m         \u001b[38;5;28;01mreturn\u001b[39;00m [func(\u001b[38;5;241m*\u001b[39margs, \u001b[38;5;241m*\u001b[39m\u001b[38;5;241m*\u001b[39mkwargs)\n\u001b[0;32m    289\u001b[0m                 \u001b[38;5;28;01mfor\u001b[39;00m func, args, kwargs \u001b[38;5;129;01min\u001b[39;00m \u001b[38;5;28mself\u001b[39m\u001b[38;5;241m.\u001b[39mitems]\n",
      "File \u001b[1;32mc:\\Users\\jasar\\ANACONDA3\\Lib\\site-packages\\joblib\\parallel.py:288\u001b[0m, in \u001b[0;36m<listcomp>\u001b[1;34m(.0)\u001b[0m\n\u001b[0;32m    284\u001b[0m \u001b[38;5;28;01mdef\u001b[39;00m \u001b[38;5;21m__call__\u001b[39m(\u001b[38;5;28mself\u001b[39m):\n\u001b[0;32m    285\u001b[0m     \u001b[38;5;66;03m# Set the default nested backend to self._backend but do not set the\u001b[39;00m\n\u001b[0;32m    286\u001b[0m     \u001b[38;5;66;03m# change the default number of processes to -1\u001b[39;00m\n\u001b[0;32m    287\u001b[0m     \u001b[38;5;28;01mwith\u001b[39;00m parallel_backend(\u001b[38;5;28mself\u001b[39m\u001b[38;5;241m.\u001b[39m_backend, n_jobs\u001b[38;5;241m=\u001b[39m\u001b[38;5;28mself\u001b[39m\u001b[38;5;241m.\u001b[39m_n_jobs):\n\u001b[1;32m--> 288\u001b[0m         \u001b[38;5;28;01mreturn\u001b[39;00m [func(\u001b[38;5;241m*\u001b[39margs, \u001b[38;5;241m*\u001b[39m\u001b[38;5;241m*\u001b[39mkwargs)\n\u001b[0;32m    289\u001b[0m                 \u001b[38;5;28;01mfor\u001b[39;00m func, args, kwargs \u001b[38;5;129;01min\u001b[39;00m \u001b[38;5;28mself\u001b[39m\u001b[38;5;241m.\u001b[39mitems]\n",
      "File \u001b[1;32mc:\\Users\\jasar\\ANACONDA3\\Lib\\site-packages\\sklearn\\utils\\parallel.py:123\u001b[0m, in \u001b[0;36m_FuncWrapper.__call__\u001b[1;34m(self, *args, **kwargs)\u001b[0m\n\u001b[0;32m    121\u001b[0m     config \u001b[38;5;241m=\u001b[39m {}\n\u001b[0;32m    122\u001b[0m \u001b[38;5;28;01mwith\u001b[39;00m config_context(\u001b[38;5;241m*\u001b[39m\u001b[38;5;241m*\u001b[39mconfig):\n\u001b[1;32m--> 123\u001b[0m     \u001b[38;5;28;01mreturn\u001b[39;00m \u001b[38;5;28mself\u001b[39m\u001b[38;5;241m.\u001b[39mfunction(\u001b[38;5;241m*\u001b[39margs, \u001b[38;5;241m*\u001b[39m\u001b[38;5;241m*\u001b[39mkwargs)\n",
      "File \u001b[1;32mc:\\Users\\jasar\\ANACONDA3\\Lib\\site-packages\\sklearn\\ensemble\\_forest.py:184\u001b[0m, in \u001b[0;36m_parallel_build_trees\u001b[1;34m(tree, bootstrap, X, y, sample_weight, tree_idx, n_trees, verbose, class_weight, n_samples_bootstrap)\u001b[0m\n\u001b[0;32m    181\u001b[0m     \u001b[38;5;28;01melif\u001b[39;00m class_weight \u001b[38;5;241m==\u001b[39m \u001b[38;5;124m\"\u001b[39m\u001b[38;5;124mbalanced_subsample\u001b[39m\u001b[38;5;124m\"\u001b[39m:\n\u001b[0;32m    182\u001b[0m         curr_sample_weight \u001b[38;5;241m*\u001b[39m\u001b[38;5;241m=\u001b[39m compute_sample_weight(\u001b[38;5;124m\"\u001b[39m\u001b[38;5;124mbalanced\u001b[39m\u001b[38;5;124m\"\u001b[39m, y, indices\u001b[38;5;241m=\u001b[39mindices)\n\u001b[1;32m--> 184\u001b[0m     tree\u001b[38;5;241m.\u001b[39mfit(X, y, sample_weight\u001b[38;5;241m=\u001b[39mcurr_sample_weight, check_input\u001b[38;5;241m=\u001b[39m\u001b[38;5;28;01mFalse\u001b[39;00m)\n\u001b[0;32m    185\u001b[0m \u001b[38;5;28;01melse\u001b[39;00m:\n\u001b[0;32m    186\u001b[0m     tree\u001b[38;5;241m.\u001b[39mfit(X, y, sample_weight\u001b[38;5;241m=\u001b[39msample_weight, check_input\u001b[38;5;241m=\u001b[39m\u001b[38;5;28;01mFalse\u001b[39;00m)\n",
      "File \u001b[1;32mc:\\Users\\jasar\\ANACONDA3\\Lib\\site-packages\\sklearn\\tree\\_classes.py:1247\u001b[0m, in \u001b[0;36mDecisionTreeRegressor.fit\u001b[1;34m(self, X, y, sample_weight, check_input)\u001b[0m\n\u001b[0;32m   1218\u001b[0m \u001b[38;5;28;01mdef\u001b[39;00m \u001b[38;5;21mfit\u001b[39m(\u001b[38;5;28mself\u001b[39m, X, y, sample_weight\u001b[38;5;241m=\u001b[39m\u001b[38;5;28;01mNone\u001b[39;00m, check_input\u001b[38;5;241m=\u001b[39m\u001b[38;5;28;01mTrue\u001b[39;00m):\n\u001b[0;32m   1219\u001b[0m \u001b[38;5;250m    \u001b[39m\u001b[38;5;124;03m\"\"\"Build a decision tree regressor from the training set (X, y).\u001b[39;00m\n\u001b[0;32m   1220\u001b[0m \n\u001b[0;32m   1221\u001b[0m \u001b[38;5;124;03m    Parameters\u001b[39;00m\n\u001b[1;32m   (...)\u001b[0m\n\u001b[0;32m   1244\u001b[0m \u001b[38;5;124;03m        Fitted estimator.\u001b[39;00m\n\u001b[0;32m   1245\u001b[0m \u001b[38;5;124;03m    \"\"\"\u001b[39;00m\n\u001b[1;32m-> 1247\u001b[0m     \u001b[38;5;28msuper\u001b[39m()\u001b[38;5;241m.\u001b[39mfit(\n\u001b[0;32m   1248\u001b[0m         X,\n\u001b[0;32m   1249\u001b[0m         y,\n\u001b[0;32m   1250\u001b[0m         sample_weight\u001b[38;5;241m=\u001b[39msample_weight,\n\u001b[0;32m   1251\u001b[0m         check_input\u001b[38;5;241m=\u001b[39mcheck_input,\n\u001b[0;32m   1252\u001b[0m     )\n\u001b[0;32m   1253\u001b[0m     \u001b[38;5;28;01mreturn\u001b[39;00m \u001b[38;5;28mself\u001b[39m\n",
      "File \u001b[1;32mc:\\Users\\jasar\\ANACONDA3\\Lib\\site-packages\\sklearn\\tree\\_classes.py:379\u001b[0m, in \u001b[0;36mBaseDecisionTree.fit\u001b[1;34m(self, X, y, sample_weight, check_input)\u001b[0m\n\u001b[0;32m    368\u001b[0m \u001b[38;5;28;01melse\u001b[39;00m:\n\u001b[0;32m    369\u001b[0m     builder \u001b[38;5;241m=\u001b[39m BestFirstTreeBuilder(\n\u001b[0;32m    370\u001b[0m         splitter,\n\u001b[0;32m    371\u001b[0m         min_samples_split,\n\u001b[1;32m   (...)\u001b[0m\n\u001b[0;32m    376\u001b[0m         \u001b[38;5;28mself\u001b[39m\u001b[38;5;241m.\u001b[39mmin_impurity_decrease,\n\u001b[0;32m    377\u001b[0m     )\n\u001b[1;32m--> 379\u001b[0m builder\u001b[38;5;241m.\u001b[39mbuild(\u001b[38;5;28mself\u001b[39m\u001b[38;5;241m.\u001b[39mtree_, X, y, sample_weight)\n\u001b[0;32m    381\u001b[0m \u001b[38;5;28;01mif\u001b[39;00m \u001b[38;5;28mself\u001b[39m\u001b[38;5;241m.\u001b[39mn_outputs_ \u001b[38;5;241m==\u001b[39m \u001b[38;5;241m1\u001b[39m \u001b[38;5;129;01mand\u001b[39;00m is_classifier(\u001b[38;5;28mself\u001b[39m):\n\u001b[0;32m    382\u001b[0m     \u001b[38;5;28mself\u001b[39m\u001b[38;5;241m.\u001b[39mn_classes_ \u001b[38;5;241m=\u001b[39m \u001b[38;5;28mself\u001b[39m\u001b[38;5;241m.\u001b[39mn_classes_[\u001b[38;5;241m0\u001b[39m]\n",
      "\u001b[1;31mKeyboardInterrupt\u001b[0m: "
     ]
    }
   ],
   "source": [
    "from sklearn.model_selection import RandomizedSearchCV\n",
    "\n",
    "\n",
    "param_dist = {\n",
    "    \"n_estimators\": [100, 200],  \n",
    "    \"max_depth\": [None, 10, 20],  \n",
    "    \"min_samples_split\": [2, 5]  \n",
    "}\n",
    "\n",
    "\n",
    "rf = RandomForestRegressor(random_state=42)\n",
    "\n",
    "\n",
    "random_search = RandomizedSearchCV(rf, param_distributions=param_dist, n_iter=15, \n",
    "                                   cv=cv, scoring=make_scorer(mean_absolute_error, greater_is_better=False), \n",
    "                                   random_state=42, verbose=1)\n",
    "\n",
    "\n",
    "random_search.fit(x, y)\n",
    "\n",
    "\n",
    "print(\"Najboljše nastavitve parametrov:\", random_search.best_params_)\n",
    "print(\"Najboljša dosežena MAE vrednost:\", -random_search.best_score_)"
   ]
  },
  {
   "cell_type": "markdown",
   "metadata": {},
   "source": [
    "### Naloga 7 *(10 T)*\n",
    "\n",
    "S pomočjo klasifikacije poskusite napovedati stopnjo resnosti nesreče (Severity), za podatke pa uporabite dataframe `dfKlasifikacija`. Iz vhodnih podatkov izpustite tudi podatek o številu poškodaovanih in ranjenih. Za testiranje uporabite eno petino vseh podatkov. Naključno stanje naj bo 617. Za klasifikator uporabite odločitveno drevo in naključni gozd.\n",
    "\n",
    "- Kako dobro se je naučil model ocenite z globalnim **priklicem (recall)**.\n",
    "- Izpišite tabelo, ki bo vsebovala tri stolpce - prvi naj vsebuje dejansko vrednost, drugi napoved prvega klasifikatorja, tretji napoved drugega klasifikatorja. Tabela naj prikazuje prvih 5 testnih instanc (prometnih nesreč)."
   ]
  },
  {
   "cell_type": "code",
   "execution_count": 58,
   "metadata": {},
   "outputs": [
    {
     "name": "stdout",
     "output_type": "stream",
     "text": [
      "     people  pedestrians  cyclists  vehicles  injuries  fatalities      wind  \\\n",
      "1 -0.567943     -0.22508 -0.191573 -0.081068 -0.593563   -0.039124  0.589595   \n",
      "\n",
      "   temperature  distracted  severity_Minor  ...  type_Left Turn  \\\n",
      "1    -1.846241           1            True  ...           False   \n",
      "\n",
      "   type_Parked Car  type_Pedestrian  type_Rear Ended  type_Right Turn  \\\n",
      "1             True            False            False            False   \n",
      "\n",
      "   type_Sideswipe  location_At Intersection  location_Driveway Junction  \\\n",
      "1           False                     False                       False   \n",
      "\n",
      "   location_Mid-Block  location_Ramp Junction  \n",
      "1                True                   False  \n",
      "\n",
      "[1 rows x 44 columns]\n"
     ]
    }
   ],
   "source": [
    "print(dfKlasifikacija.head(1))"
   ]
  },
  {
   "cell_type": "code",
   "execution_count": 60,
   "metadata": {},
   "outputs": [
    {
     "name": "stdout",
     "output_type": "stream",
     "text": [
      "   people  pedestrians  cyclists  vehicles  injuries  fatalities severity  \\\n",
      "1       2            0         0       2.0         0           0    Minor   \n",
      "\n",
      "    weather road        light  wind  temperature        type   location  \\\n",
      "1  Overcast  Wet  mostly dark   9.4         33.0  Parked Car  Mid-Block   \n",
      "\n",
      "  distracted  \n",
      "1        yes  \n"
     ]
    }
   ],
   "source": [
    "print(data.head(1))"
   ]
  },
  {
   "cell_type": "code",
   "execution_count": 61,
   "metadata": {},
   "outputs": [
    {
     "name": "stdout",
     "output_type": "stream",
     "text": [
      "Priklic za odločitveno drevo: 0.4649036645014392\n",
      "Priklic za naključni gozd: 0.4648077625017087\n",
      "Prvih 5 testnih instanc:\n",
      "      Actual Severity Decision Tree Predictions Random Forest Predictions\n",
      "39514           Minor                     Minor                     Minor\n",
      "23968           Minor                     Minor                     Minor\n",
      "2758            Minor                     Minor                     Minor\n",
      "23583           Minor                     Minor                     Minor\n",
      "24264           Minor                     Minor                     Minor\n"
     ]
    }
   ],
   "source": [
    "from sklearn.ensemble import RandomForestClassifier\n",
    "from sklearn.metrics import recall_score\n",
    "from sklearn.tree import DecisionTreeClassifier\n",
    "\n",
    "\n",
    "x=dfKlasifikacija.drop([\"severity_Minor\",\"severity_Severe\",\"severity_Significant\",\"injuries\"],axis=1)\n",
    "y=data[\"severity\"]\n",
    "\n",
    "rf=RandomForestClassifier()\n",
    "\n",
    "\n",
    "x_train,x_test,y_train,y_test=train_test_split(x,y,random_state=617,test_size=0.2)\n",
    "\n",
    "decision_tree = DecisionTreeClassifier(random_state=617)\n",
    "random_forest = RandomForestClassifier(random_state=617)\n",
    "\n",
    "\n",
    "decision_tree.fit(x_train, y_train)\n",
    "random_forest.fit(x_train, y_train)\n",
    "\n",
    "\n",
    "dt_predictions = decision_tree.predict(x_test)\n",
    "rf_predictions = random_forest.predict(x_test)\n",
    "\n",
    "\n",
    "dt_recall = recall_score(y_test, dt_predictions, average='macro')\n",
    "rf_recall = recall_score(y_test, rf_predictions, average='macro')\n",
    "print(\"Priklic za odločitveno drevo:\", dt_recall)\n",
    "print(\"Priklic za naključni gozd:\", rf_recall)\n",
    "\n",
    "results_df = pd.DataFrame({\n",
    "    'Actual Severity': y_test[:5],\n",
    "    'Decision Tree Predictions': dt_predictions[:5],\n",
    "    'Random Forest Predictions': rf_predictions[:5]\n",
    "})\n",
    "\n",
    "print(\"Prvih 5 testnih instanc:\")\n",
    "print(results_df)"
   ]
  },
  {
   "cell_type": "markdown",
   "metadata": {},
   "source": [
    "### Naloga 8 *(9 T)*\n",
    "\n",
    "Za konec naredite še gručenje nad enakim datasetom, kot ste ga uporabili za regresijo. Podatke transformirajte s pomočjo FastICA dekompozicije. Kot algoritem gručenja uporabite KMeans.\n",
    "\n",
    "- Da boste vedeli koliko je najbolj optimalno število gruč na katere je smiselno deliti podatke pred gručenjem izrišite **graf z izračunanimi inerciami** za od 1 do (vključno) 6 gruč, nad transformiranimi podatki. Po pravilu komolca iz grafa preberite najbolj optimalno število gruč in ga uporabite v algoritmu.\n",
    "\n",
    "- Izrišite **graf**, v katerem prikažete **transformirane podatke**, ki so obarvani glede na **gručo**, v katero so razvrščeni."
   ]
  },
  {
   "cell_type": "code",
   "execution_count": 63,
   "metadata": {},
   "outputs": [
    {
     "name": "stderr",
     "output_type": "stream",
     "text": [
      "c:\\Users\\jasar\\ANACONDA3\\Lib\\site-packages\\sklearn\\decomposition\\_fastica.py:708: FutureWarning: Starting in v1.3, whiten=True should be specified as whiten='arbitrary-variance' (its current behaviour). This behavior is deprecated in 1.1 and will raise ValueError in 1.3.\n",
      "  return self._fit_transform(X, compute_sources=True)\n"
     ]
    },
    {
     "ename": "TypeError",
     "evalue": "float() argument must be a string or a real number, not 'method'",
     "output_type": "error",
     "traceback": [
      "\u001b[1;31m---------------------------------------------------------------------------\u001b[0m",
      "\u001b[1;31mTypeError\u001b[0m                                 Traceback (most recent call last)",
      "Cell \u001b[1;32mIn[63], line 6\u001b[0m\n\u001b[0;32m      3\u001b[0m \u001b[38;5;28;01mimport\u001b[39;00m \u001b[38;5;21;01mseaborn\u001b[39;00m \u001b[38;5;28;01mas\u001b[39;00m \u001b[38;5;21;01msns\u001b[39;00m\n\u001b[0;32m      5\u001b[0m transformer \u001b[38;5;241m=\u001b[39m FastICA(n_components\u001b[38;5;241m=\u001b[39m\u001b[38;5;241m7\u001b[39m, random_state\u001b[38;5;241m=\u001b[39m\u001b[38;5;241m0\u001b[39m, whiten\u001b[38;5;241m=\u001b[39m\u001b[38;5;28;01mTrue\u001b[39;00m)\n\u001b[1;32m----> 6\u001b[0m X_transformed \u001b[38;5;241m=\u001b[39m transformer\u001b[38;5;241m.\u001b[39mfit_transform(x)\n\u001b[0;32m      8\u001b[0m inertias \u001b[38;5;241m=\u001b[39m []\n\u001b[0;32m      9\u001b[0m \u001b[38;5;28;01mfor\u001b[39;00m i \u001b[38;5;129;01min\u001b[39;00m \u001b[38;5;28mrange\u001b[39m(\u001b[38;5;241m1\u001b[39m, \u001b[38;5;241m7\u001b[39m):\n",
      "File \u001b[1;32mc:\\Users\\jasar\\ANACONDA3\\Lib\\site-packages\\sklearn\\utils\\_set_output.py:140\u001b[0m, in \u001b[0;36m_wrap_method_output.<locals>.wrapped\u001b[1;34m(self, X, *args, **kwargs)\u001b[0m\n\u001b[0;32m    138\u001b[0m \u001b[38;5;129m@wraps\u001b[39m(f)\n\u001b[0;32m    139\u001b[0m \u001b[38;5;28;01mdef\u001b[39;00m \u001b[38;5;21mwrapped\u001b[39m(\u001b[38;5;28mself\u001b[39m, X, \u001b[38;5;241m*\u001b[39margs, \u001b[38;5;241m*\u001b[39m\u001b[38;5;241m*\u001b[39mkwargs):\n\u001b[1;32m--> 140\u001b[0m     data_to_wrap \u001b[38;5;241m=\u001b[39m f(\u001b[38;5;28mself\u001b[39m, X, \u001b[38;5;241m*\u001b[39margs, \u001b[38;5;241m*\u001b[39m\u001b[38;5;241m*\u001b[39mkwargs)\n\u001b[0;32m    141\u001b[0m     \u001b[38;5;28;01mif\u001b[39;00m \u001b[38;5;28misinstance\u001b[39m(data_to_wrap, \u001b[38;5;28mtuple\u001b[39m):\n\u001b[0;32m    142\u001b[0m         \u001b[38;5;66;03m# only wrap the first output for cross decomposition\u001b[39;00m\n\u001b[0;32m    143\u001b[0m         \u001b[38;5;28;01mreturn\u001b[39;00m (\n\u001b[0;32m    144\u001b[0m             _wrap_data_with_container(method, data_to_wrap[\u001b[38;5;241m0\u001b[39m], X, \u001b[38;5;28mself\u001b[39m),\n\u001b[0;32m    145\u001b[0m             \u001b[38;5;241m*\u001b[39mdata_to_wrap[\u001b[38;5;241m1\u001b[39m:],\n\u001b[0;32m    146\u001b[0m         )\n",
      "File \u001b[1;32mc:\\Users\\jasar\\ANACONDA3\\Lib\\site-packages\\sklearn\\decomposition\\_fastica.py:708\u001b[0m, in \u001b[0;36mFastICA.fit_transform\u001b[1;34m(self, X, y)\u001b[0m\n\u001b[0;32m    689\u001b[0m \u001b[38;5;250m\u001b[39m\u001b[38;5;124;03m\"\"\"Fit the model and recover the sources from X.\u001b[39;00m\n\u001b[0;32m    690\u001b[0m \n\u001b[0;32m    691\u001b[0m \u001b[38;5;124;03mParameters\u001b[39;00m\n\u001b[1;32m   (...)\u001b[0m\n\u001b[0;32m    704\u001b[0m \u001b[38;5;124;03m    estimated unmixing matrix.\u001b[39;00m\n\u001b[0;32m    705\u001b[0m \u001b[38;5;124;03m\"\"\"\u001b[39;00m\n\u001b[0;32m    706\u001b[0m \u001b[38;5;28mself\u001b[39m\u001b[38;5;241m.\u001b[39m_validate_params()\n\u001b[1;32m--> 708\u001b[0m \u001b[38;5;28;01mreturn\u001b[39;00m \u001b[38;5;28mself\u001b[39m\u001b[38;5;241m.\u001b[39m_fit_transform(X, compute_sources\u001b[38;5;241m=\u001b[39m\u001b[38;5;28;01mTrue\u001b[39;00m)\n",
      "File \u001b[1;32mc:\\Users\\jasar\\ANACONDA3\\Lib\\site-packages\\sklearn\\decomposition\\_fastica.py:558\u001b[0m, in \u001b[0;36mFastICA._fit_transform\u001b[1;34m(self, X, compute_sources)\u001b[0m\n\u001b[0;32m    549\u001b[0m     warnings\u001b[38;5;241m.\u001b[39mwarn(\n\u001b[0;32m    550\u001b[0m         \u001b[38;5;124m\"\u001b[39m\u001b[38;5;124mStarting in v1.3, whiten=True should be specified as \u001b[39m\u001b[38;5;124m\"\u001b[39m\n\u001b[0;32m    551\u001b[0m         \u001b[38;5;124m\"\u001b[39m\u001b[38;5;124mwhiten=\u001b[39m\u001b[38;5;124m'\u001b[39m\u001b[38;5;124marbitrary-variance\u001b[39m\u001b[38;5;124m'\u001b[39m\u001b[38;5;124m (its current behaviour). This \u001b[39m\u001b[38;5;124m\"\u001b[39m\n\u001b[1;32m   (...)\u001b[0m\n\u001b[0;32m    554\u001b[0m         stacklevel\u001b[38;5;241m=\u001b[39m\u001b[38;5;241m2\u001b[39m,\n\u001b[0;32m    555\u001b[0m     )\n\u001b[0;32m    556\u001b[0m     \u001b[38;5;28mself\u001b[39m\u001b[38;5;241m.\u001b[39m_whiten \u001b[38;5;241m=\u001b[39m \u001b[38;5;124m\"\u001b[39m\u001b[38;5;124marbitrary-variance\u001b[39m\u001b[38;5;124m\"\u001b[39m\n\u001b[1;32m--> 558\u001b[0m XT \u001b[38;5;241m=\u001b[39m \u001b[38;5;28mself\u001b[39m\u001b[38;5;241m.\u001b[39m_validate_data(\n\u001b[0;32m    559\u001b[0m     X, copy\u001b[38;5;241m=\u001b[39m\u001b[38;5;28mself\u001b[39m\u001b[38;5;241m.\u001b[39m_whiten, dtype\u001b[38;5;241m=\u001b[39m[np\u001b[38;5;241m.\u001b[39mfloat64, np\u001b[38;5;241m.\u001b[39mfloat32], ensure_min_samples\u001b[38;5;241m=\u001b[39m\u001b[38;5;241m2\u001b[39m\n\u001b[0;32m    560\u001b[0m )\u001b[38;5;241m.\u001b[39mT\n\u001b[0;32m    561\u001b[0m fun_args \u001b[38;5;241m=\u001b[39m {} \u001b[38;5;28;01mif\u001b[39;00m \u001b[38;5;28mself\u001b[39m\u001b[38;5;241m.\u001b[39mfun_args \u001b[38;5;129;01mis\u001b[39;00m \u001b[38;5;28;01mNone\u001b[39;00m \u001b[38;5;28;01melse\u001b[39;00m \u001b[38;5;28mself\u001b[39m\u001b[38;5;241m.\u001b[39mfun_args\n\u001b[0;32m    562\u001b[0m random_state \u001b[38;5;241m=\u001b[39m check_random_state(\u001b[38;5;28mself\u001b[39m\u001b[38;5;241m.\u001b[39mrandom_state)\n",
      "File \u001b[1;32mc:\\Users\\jasar\\ANACONDA3\\Lib\\site-packages\\sklearn\\base.py:565\u001b[0m, in \u001b[0;36mBaseEstimator._validate_data\u001b[1;34m(self, X, y, reset, validate_separately, **check_params)\u001b[0m\n\u001b[0;32m    563\u001b[0m     \u001b[38;5;28;01mraise\u001b[39;00m \u001b[38;5;167;01mValueError\u001b[39;00m(\u001b[38;5;124m\"\u001b[39m\u001b[38;5;124mValidation should be done on X, y or both.\u001b[39m\u001b[38;5;124m\"\u001b[39m)\n\u001b[0;32m    564\u001b[0m \u001b[38;5;28;01melif\u001b[39;00m \u001b[38;5;129;01mnot\u001b[39;00m no_val_X \u001b[38;5;129;01mand\u001b[39;00m no_val_y:\n\u001b[1;32m--> 565\u001b[0m     X \u001b[38;5;241m=\u001b[39m check_array(X, input_name\u001b[38;5;241m=\u001b[39m\u001b[38;5;124m\"\u001b[39m\u001b[38;5;124mX\u001b[39m\u001b[38;5;124m\"\u001b[39m, \u001b[38;5;241m*\u001b[39m\u001b[38;5;241m*\u001b[39mcheck_params)\n\u001b[0;32m    566\u001b[0m     out \u001b[38;5;241m=\u001b[39m X\n\u001b[0;32m    567\u001b[0m \u001b[38;5;28;01melif\u001b[39;00m no_val_X \u001b[38;5;129;01mand\u001b[39;00m \u001b[38;5;129;01mnot\u001b[39;00m no_val_y:\n",
      "File \u001b[1;32mc:\\Users\\jasar\\ANACONDA3\\Lib\\site-packages\\sklearn\\utils\\validation.py:879\u001b[0m, in \u001b[0;36mcheck_array\u001b[1;34m(array, accept_sparse, accept_large_sparse, dtype, order, copy, force_all_finite, ensure_2d, allow_nd, ensure_min_samples, ensure_min_features, estimator, input_name)\u001b[0m\n\u001b[0;32m    877\u001b[0m         array \u001b[38;5;241m=\u001b[39m xp\u001b[38;5;241m.\u001b[39mastype(array, dtype, copy\u001b[38;5;241m=\u001b[39m\u001b[38;5;28;01mFalse\u001b[39;00m)\n\u001b[0;32m    878\u001b[0m     \u001b[38;5;28;01melse\u001b[39;00m:\n\u001b[1;32m--> 879\u001b[0m         array \u001b[38;5;241m=\u001b[39m _asarray_with_order(array, order\u001b[38;5;241m=\u001b[39morder, dtype\u001b[38;5;241m=\u001b[39mdtype, xp\u001b[38;5;241m=\u001b[39mxp)\n\u001b[0;32m    880\u001b[0m \u001b[38;5;28;01mexcept\u001b[39;00m ComplexWarning \u001b[38;5;28;01mas\u001b[39;00m complex_warning:\n\u001b[0;32m    881\u001b[0m     \u001b[38;5;28;01mraise\u001b[39;00m \u001b[38;5;167;01mValueError\u001b[39;00m(\n\u001b[0;32m    882\u001b[0m         \u001b[38;5;124m\"\u001b[39m\u001b[38;5;124mComplex data not supported\u001b[39m\u001b[38;5;130;01m\\n\u001b[39;00m\u001b[38;5;132;01m{}\u001b[39;00m\u001b[38;5;130;01m\\n\u001b[39;00m\u001b[38;5;124m\"\u001b[39m\u001b[38;5;241m.\u001b[39mformat(array)\n\u001b[0;32m    883\u001b[0m     ) \u001b[38;5;28;01mfrom\u001b[39;00m \u001b[38;5;21;01mcomplex_warning\u001b[39;00m\n",
      "File \u001b[1;32mc:\\Users\\jasar\\ANACONDA3\\Lib\\site-packages\\sklearn\\utils\\_array_api.py:185\u001b[0m, in \u001b[0;36m_asarray_with_order\u001b[1;34m(array, dtype, order, copy, xp)\u001b[0m\n\u001b[0;32m    182\u001b[0m     xp, _ \u001b[38;5;241m=\u001b[39m get_namespace(array)\n\u001b[0;32m    183\u001b[0m \u001b[38;5;28;01mif\u001b[39;00m xp\u001b[38;5;241m.\u001b[39m\u001b[38;5;18m__name__\u001b[39m \u001b[38;5;129;01min\u001b[39;00m {\u001b[38;5;124m\"\u001b[39m\u001b[38;5;124mnumpy\u001b[39m\u001b[38;5;124m\"\u001b[39m, \u001b[38;5;124m\"\u001b[39m\u001b[38;5;124mnumpy.array_api\u001b[39m\u001b[38;5;124m\"\u001b[39m}:\n\u001b[0;32m    184\u001b[0m     \u001b[38;5;66;03m# Use NumPy API to support order\u001b[39;00m\n\u001b[1;32m--> 185\u001b[0m     array \u001b[38;5;241m=\u001b[39m numpy\u001b[38;5;241m.\u001b[39masarray(array, order\u001b[38;5;241m=\u001b[39morder, dtype\u001b[38;5;241m=\u001b[39mdtype)\n\u001b[0;32m    186\u001b[0m     \u001b[38;5;28;01mreturn\u001b[39;00m xp\u001b[38;5;241m.\u001b[39masarray(array, copy\u001b[38;5;241m=\u001b[39mcopy)\n\u001b[0;32m    187\u001b[0m \u001b[38;5;28;01melse\u001b[39;00m:\n",
      "\u001b[1;31mTypeError\u001b[0m: float() argument must be a string or a real number, not 'method'"
     ]
    }
   ],
   "source": [
    "from sklearn.decomposition import FastICA\n",
    "from sklearn.cluster import KMeans\n",
    "import seaborn as sns\n",
    "\n",
    "transformer = FastICA(n_components=7, random_state=0, whiten=True)\n",
    "X_transformed = transformer.fit_transform(x)\n",
    "\n",
    "inertias = []\n",
    "for i in range(1, 7):\n",
    "    kmeans = KMeans(n_clusters=i, random_state=0)\n",
    "    kmeans.fit(X_transformed)\n",
    "    inertias.append(kmeans.inertia_)\n",
    "\n",
    "plt.figure(figsize=(10, 5))\n",
    "plt.plot(range(1, 7), inertias, marker='o')\n",
    "plt.xlabel('Število gruč')\n",
    "plt.ylabel('Inercija')\n",
    "plt.title('Pravilo komolca za določanje optimalnega števila gruč')\n",
    "plt.grid(True)\n",
    "plt.show()\n",
    "\n",
    "\n",
    "optimal_clusters = 3 \n",
    "\n",
    "\n",
    "kmeans = KMeans(n_clusters=optimal_clusters, random_state=0)\n",
    "labels = kmeans.fit_predict(X_transformed)\n",
    "\n",
    "plt.figure(figsize=(10, 5))\n",
    "sns.scatterplot(x=X_transformed[:, 0], y=X_transformed[:, 1], hue=labels, palette='viridis', s=60, alpha=0.8)\n",
    "plt.title('Transformirani podatki obarvani glede na gručo')\n",
    "plt.xlabel('Prva komponenta ICA')\n",
    "plt.ylabel('Druga komponenta ICA')\n",
    "plt.show()\n",
    "\n",
    "\n",
    "\n"
   ]
  }
 ],
 "metadata": {
  "kernelspec": {
   "display_name": "base",
   "language": "python",
   "name": "python3"
  },
  "language_info": {
   "codemirror_mode": {
    "name": "ipython",
    "version": 3
   },
   "file_extension": ".py",
   "mimetype": "text/x-python",
   "name": "python",
   "nbconvert_exporter": "python",
   "pygments_lexer": "ipython3",
   "version": "3.11.5"
  }
 },
 "nbformat": 4,
 "nbformat_minor": 2
}
