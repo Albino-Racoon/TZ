{
 "cells": [
  {
   "cell_type": "markdown",
   "metadata": {
    "collapsed": true,
    "id": "HgqLn4BMPPlP"
   },
   "source": [
    "# Učni uspehi srednješolcev\n",
    "\n",
    "V dveh srednjih šolah so zbirali podatke učencev. Imamo tri datoteke zbranih podatkov o učencih:\n",
    "- demografski podatki učencev\n",
    "- podatki o obiskani srednji šoli in prisotnosti na predavanjih matematike\n",
    "- ocene matematike\n",
    "\n",
    "### Opis spremenljivk\n",
    "\n",
    "- school - srednja šola, ki jo učenec obiskuje (kategorično: 'GP' - Gornji Petrovci ali 'MS' - Murska Sobota)\n",
    "- sex - spol učenca (kategorično: 'F' - ženski ali 'M' - moški)\n",
    "- age - starost učencev (številsko: med 15 in 22 let)\n",
    "- address - tip okolja prebivanja (kategorično: 'U' - urbano okolje ali 'R' - ruralno okolje)\n",
    "- famsize - velikost družine (kategorično: 'LE3' - manj kot 3je člani ali 'GT3' - več kot trije člani)\n",
    "- Pstatus - status staršev (kategorično: 'T' - skupno gospodinjstvo ali 'A' - ločeno gospodinjstvo)\n",
    "- Medu - izobrazba matere (številsko: 0 - brez, 1 - do 4. razreda OŠ, 2 – zaključena OŠ, 3 – srednja šola or 4 – višja izobrazba)\n",
    "- Fedu - izobrazba očeta (številsko: 0 - brez, 1 - do 4. razreda OŠ, 2 – zaključena OŠ, 3 – srednja šola or 4 – višja izobrazba)\n",
    "- Mjob - poklic matere (kategorično: 'teacher', 'health', 'services', 'at_home' ali 'other')\n",
    "- Fjob - poklic očeta (kategorično: 'teacher', 'health', 'services', 'at_home' ali 'other')\n",
    "- reason - razlog za izbiro srednje šole (kategorično: bližina 'home', 'reputation', 'course' odlični kurikulum ali 'other')\n",
    "- guardian - skrbnik otroka (kategorično: 'mother', 'father' ali 'other')\n",
    "- traveltime - čas od doma do šole (številsko: 1 - < 15 min., 2 - 15 do 30 min., 3 - 30 min. do 1 hour, ali 4 - > 1 h)\n",
    "- studytime - čas učenja tedensko (številsko: 1 - < 2 h, 2 - 2 do 5 h, 3 - 5 do 10 h, ali 4 - > 10 h)\n",
    "- failures - število nenapredovanj v višje razrede (številsko: n če 1<=n<3, drugače 4)\n",
    "- schoolsup - dodatne ure matematike v šoli za slabše učence (kategorično: yes ali no)\n",
    "- famsup - družinska pomoč pri matematiki (kategorično: yes ali no)\n",
    "- paid - izvenšolsko plačano izobraževanje matematike (kategorično: yes ali no)\n",
    "- activities - izvenšolske aktivnosti (kategorično: yes ali no)\n",
    "- nursery - udeležba na izobraževanj nege (kategorično: yes ali no)\n",
    "- higher - želja po višješolski izobrazbi (kategorično: yes ali no)\n",
    "- internet - dostop do interneta doma (kategorično: yes ali no)\n",
    "- romantic - je v romantičnem razmerju (kategorično: yes ali no)\n",
    "- famrel - kvaliteta odnosov v družini (številsko: od 1 - zelo slabi odnosi, do 5 - odlični odnosi)\n",
    "- freetime - količina prostega časa izven šole (številsko: from 1 - zelo malo, do 5 - ogromno)\n",
    "- goout - količino druženja s prijatelji (številsko: od 1 - zelo malo, do 5 - ogromno)\n",
    "- Dalc - količina popitega alkohola na delovne dni (številsko: od 1 - zelo malo, do 5 - ogromno)\n",
    "- Walc - količina popitega alkohola na teden (številsko: od 1 - zelo malo, do 5 - ogromno)\n",
    "- health - zdravstveno stanje študenta (številsko: od 1 - zelo slabo, do 5 - odlično)\n",
    "- absences - število neopravičenih izostankov (številsko: med 0 in 93)\n",
    "- G1 - ocena po prvem semestru (številsko: od 0 to 20)\n",
    "- G2 - ocena po drugem semestru (številsko: od 0 do 20)\n",
    "- G3 - končna ocena (številsko: od 0 do 20)"
   ]
  },
  {
   "cell_type": "code",
   "execution_count": 1,
   "metadata": {
    "id": "pdnOVNkePPlW"
   },
   "outputs": [],
   "source": [
    "nominalni = ['school', 'sex', 'address', 'famsize', 'Pstatus', 'Mjob', 'Fjob', 'reason', 'guardian', 'schoolsup', 'famsup', 'paid', 'activities', 'nursery', 'higher', 'internet', 'romantic']\n",
    "stevilski = ['age', 'Medu', 'Fedu', 'traveltime', 'studytime', 'failures', 'famrel', 'freetime', 'goout', 'Dalc', 'Walc', 'health', 'absences']"
   ]
  },
  {
   "cell_type": "markdown",
   "metadata": {
    "id": "nfmsvIqqPPlX"
   },
   "source": [
    "### Naloga 1\n",
    "\n",
    "Najprej preberite vse tri datoteke podatkov: `students.txt`, `students_grades.csv` in `students_school.xlsx`. Vse prebrane podatke združite v eno datoteko. Pri združevanju pazite, da učence združite po njihovem ID.\n",
    "\n",
    "- Izpišite število stolpcev ter število vrstic združenih podatkov."
   ]
  },
  {
   "cell_type": "code",
   "execution_count": 2,
   "metadata": {
    "id": "2eT3qIvMPPlY"
   },
   "outputs": [
    {
     "data": {
      "text/plain": [
       "(395, 34)"
      ]
     },
     "execution_count": 2,
     "metadata": {},
     "output_type": "execute_result"
    }
   ],
   "source": [
    "import pandas as pd\n",
    "import numpy as np\n",
    "import seaborn as sns\n",
    "\n",
    "df_csv = pd.read_csv(\"students_grades.csv\")\n",
    "df_xlsx = pd.read_excel(\"students_school.xlsx\")\n",
    "df_txt = pd.read_csv(\"students.txt\", sep=\";\")\n",
    "\n",
    "df = pd.merge(df_csv, df_xlsx, on=\"student_id\")\n",
    "\n",
    "df = pd.merge(df, df_txt, on=\"student_id\")\n",
    "\n",
    "df.shape"
   ]
  },
  {
   "cell_type": "markdown",
   "metadata": {
    "id": "s0Z9SQahPPlY"
   },
   "source": [
    "### Naloga 2\n",
    "\n",
    "- V tabeli padajoče izpišite povprečno število neopravičenih izostankov glede na izobrazbo matere. Izpišite le prve tri vrstice - tiste z največjim povprečnim številom zaostankov.\n",
    "\n",
    "- Izrišite dva (v eni sliki) grafa škatel z brki za končno oceno. V enem grafu naj bo ločeno glede na tedensko dozo zaužitega alkohola, grafa pa naj se ločita glede na spol učenca."
   ]
  },
  {
   "cell_type": "code",
   "execution_count": 3,
   "metadata": {
    "id": "czKl_uUFPPlZ"
   },
   "outputs": [
    {
     "data": {
      "text/html": [
       "<div>\n",
       "<style scoped>\n",
       "    .dataframe tbody tr th:only-of-type {\n",
       "        vertical-align: middle;\n",
       "    }\n",
       "\n",
       "    .dataframe tbody tr th {\n",
       "        vertical-align: top;\n",
       "    }\n",
       "\n",
       "    .dataframe thead th {\n",
       "        text-align: right;\n",
       "    }\n",
       "</style>\n",
       "<table border=\"1\" class=\"dataframe\">\n",
       "  <thead>\n",
       "    <tr style=\"text-align: right;\">\n",
       "      <th></th>\n",
       "      <th>Izobrazba</th>\n",
       "      <th>Izostanki</th>\n",
       "    </tr>\n",
       "  </thead>\n",
       "  <tbody>\n",
       "    <tr>\n",
       "      <th>0</th>\n",
       "      <td>0</td>\n",
       "      <td>5.000000</td>\n",
       "    </tr>\n",
       "    <tr>\n",
       "      <th>1</th>\n",
       "      <td>1</td>\n",
       "      <td>5.048780</td>\n",
       "    </tr>\n",
       "    <tr>\n",
       "      <th>2</th>\n",
       "      <td>2</td>\n",
       "      <td>5.756522</td>\n",
       "    </tr>\n",
       "    <tr>\n",
       "      <th>3</th>\n",
       "      <td>3</td>\n",
       "      <td>6.440000</td>\n",
       "    </tr>\n",
       "    <tr>\n",
       "      <th>4</th>\n",
       "      <td>4</td>\n",
       "      <td>5.468750</td>\n",
       "    </tr>\n",
       "  </tbody>\n",
       "</table>\n",
       "</div>"
      ],
      "text/plain": [
       "   Izobrazba  Izostanki\n",
       "0          0   5.000000\n",
       "1          1   5.048780\n",
       "2          2   5.756522\n",
       "3          3   6.440000\n",
       "4          4   5.468750"
      ]
     },
     "execution_count": 3,
     "metadata": {},
     "output_type": "execute_result"
    }
   ],
   "source": [
    "df_txt.iloc[:5]\n",
    "\n",
    "izostanki = pd.DataFrame()\n",
    "\n",
    "izostanki['Izobrazba'] = df['Fedu']\n",
    "izostanki['Izostanki'] = df['absences']\n",
    "\n",
    "izostanki.groupby('Izobrazba', as_index=False)['Izostanki'].mean()\n"
   ]
  },
  {
   "cell_type": "code",
   "execution_count": 4,
   "metadata": {
    "id": "eqqf_d7HPPlZ"
   },
   "outputs": [
    {
     "data": {
      "text/plain": [
       "<AxesSubplot:xlabel='Walc', ylabel='sex'>"
      ]
     },
     "execution_count": 4,
     "metadata": {},
     "output_type": "execute_result"
    },
    {
     "data": {
      "image/png": "[encoded data removed]",
      "text/plain": [
       "<Figure size 432x288 with 1 Axes>"
      ]
     },
     "metadata": {
      "needs_background": "light"
     },
     "output_type": "display_data"
    }
   ],
   "source": [
    "sns.boxplot(data=df, x='Walc', y=\"sex\")"
   ]
  },
  {
   "cell_type": "markdown",
   "metadata": {
    "id": "f9zosRKIPPla"
   },
   "source": [
    "### Naloga 3\n",
    "Podatke standardizirajte in naredite indikacijske stolpce za kategorične vrednosti.\n",
    "- Izpišite število stolpcev.\n",
    "- Izpišite povprečje stolpca `age`.\n"
   ]
  },
  {
   "cell_type": "code",
   "execution_count": 5,
   "metadata": {
    "id": "29XTQ53lPPla"
   },
   "outputs": [
    {
     "name": "stdout",
     "output_type": "stream",
     "text": [
      "Število stolpcev -> 60\n"
     ]
    }
   ],
   "source": [
    "from sklearn.preprocessing import StandardScaler\n",
    "\n",
    "skejler = StandardScaler()\n",
    "\n",
    "stevilskiStolpci = ['age', 'Medu', 'Fedu', 'traveltime', 'studytime', 'failures', 'famrel', 'freetime', \n",
    "                    'goout', 'Walc', 'Dalc', 'absences', 'G1', 'G2', 'health']\n",
    "\n",
    "kategoricni = ['school', 'sex', 'address', 'famsize', 'Pstatus', 'Mjob', 'Fjob', 'reason', 'guardian', 'schoolsup',\n",
    "               'famsup', 'paid', 'activities', 'nursery', 'higher', 'internet', 'romantic']\n",
    "\n",
    "df = pd.get_dummies(df, columns=nominalni)\n",
    "                    \n",
    "df[stevilski] = skejler.fit_transform(df[stevilski])\n",
    "\n",
    "print(f'Število stolpcev -> {len(df.columns)}')"
   ]
  },
  {
   "cell_type": "code",
   "execution_count": 6,
   "metadata": {
    "id": "LfoTR0wQPPlb"
   },
   "outputs": [
    {
     "data": {
      "text/plain": [
       "1.3227112794648067e-15"
      ]
     },
     "execution_count": 6,
     "metadata": {},
     "output_type": "execute_result"
    }
   ],
   "source": [
    "df['age'].mean()"
   ]
  },
  {
   "cell_type": "markdown",
   "metadata": {
    "id": "D_KjcULzPPlb"
   },
   "source": [
    "### Naloga 4\n",
    "Naredite model regresije z regresijskim naključnim gozdom (s 100 drevesi) na tak način, da razdelite množico na učno (60%) in testno z naključnim zrnom 456. Napovedujete končno oceno učencev, pri tem pa uporabite vse podatke razen vmesnih ocen obeh semestrov.\n",
    "- Izpišite povprečno absolutno napako zgrajenega modela.\n"
   ]
  },
  {
   "cell_type": "code",
   "execution_count": 7,
   "metadata": {
    "id": "NcX_mvEBPPlb"
   },
   "outputs": [
    {
     "name": "stdout",
     "output_type": "stream",
     "text": [
      "Povprečna absolutna napaka -> 3.2469620253164555\n"
     ]
    }
   ],
   "source": [
    "from sklearn.ensemble import RandomForestRegressor\n",
    "from sklearn.model_selection import train_test_split\n",
    "from sklearn.metrics import mean_absolute_error\n",
    "\n",
    "preverjanje = df['G3']\n",
    "ucenje = df.drop(columns=['G1', 'G2', 'G3'])\n",
    "\n",
    "x_train, x_test, y_train, y_test = train_test_split(ucenje, preverjanje, test_size=0.4, random_state=456)\n",
    "\n",
    "\n",
    "gozd = RandomForestRegressor(n_estimators=100)\n",
    "\n",
    "gozd.fit(x_train, y_train)\n",
    "\n",
    "napoved = gozd.predict(x_test)\n",
    "\n",
    "print(f'Povprečna absolutna napaka -> {mean_absolute_error(napoved, y_test)}')"
   ]
  },
  {
   "cell_type": "markdown",
   "metadata": {
    "id": "Rx4We9jMPPlc"
   },
   "source": [
    "### Naloga 5\n",
    "Podrobneje preizkusite algoritem regresije z regresijskim drevesom. Uporabite navzkrižno validacijo s tremi rezi in preizkusite sledečo največjo globino drevesa: 2,3,5,10. Optimizirajte na kvadratno napako.\n",
    "- Izpišite najboljše parametre algoritma.\n",
    "- Izpišite najboljšo kvadratno napako.\n"
   ]
  },
  {
   "cell_type": "code",
   "execution_count": 8,
   "metadata": {
    "id": "25CiSKNcPPlc"
   },
   "outputs": [
    {
     "name": "stdout",
     "output_type": "stream",
     "text": [
      "{'max_depth': 2}\n",
      "-16.69793073385416\n"
     ]
    }
   ],
   "source": [
    "from sklearn.model_selection import KFold\n",
    "from sklearn.metrics import mean_squared_error\n",
    "from sklearn.tree import DecisionTreeRegressor\n",
    "from sklearn.model_selection import cross_val_score\n",
    "\n",
    "from sklearn.model_selection import GridSearchCV\n",
    "\n",
    "fold = KFold(n_splits=5, shuffle=True)\n",
    "\n",
    "grid = {\n",
    "    'max_depth': [2, 3, 5, 10]\n",
    "}\n",
    "\n",
    "\n",
    "gv = GridSearchCV(DecisionTreeRegressor(), param_grid=grid, cv=3, scoring='neg_mean_squared_error')\n",
    "\n",
    "gv.fit(ucenje, preverjanje)\n",
    "\n",
    "print(gv.best_params_)\n",
    "print(gv.best_score_)"
   ]
  }
 ],
 "metadata": {
  "colab": {
   "provenance": []
  },
  "kernelspec": {
   "display_name": "Python 3 (ipykernel)",
   "language": "python",
   "name": "python3"
  },
  "language_info": {
   "codemirror_mode": {
    "name": "ipython",
    "version": 3
   },
   "file_extension": ".py",
   "mimetype": "text/x-python",
   "name": "python",
   "nbconvert_exporter": "python",
   "pygments_lexer": "ipython3",
   "version": "3.9.12"
  },
  "vscode": {
   "interpreter": {
    "hash": "369f2c481f4da34e4445cda3fffd2e751bd1c4d706f27375911949ba6bb62e1c"
   }
  }
 },
 "nbformat": 4,
 "nbformat_minor": 1
}
