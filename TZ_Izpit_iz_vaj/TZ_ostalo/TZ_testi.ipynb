{
 "cells": [
  {
   "cell_type": "code",
   "execution_count": 69,
   "id": "initial_id",
   "metadata": {
    "collapsed": true,
    "ExecuteTime": {
     "end_time": "2024-01-15T23:05:27.837326600Z",
     "start_time": "2024-01-15T23:05:27.658570500Z"
    }
   },
   "outputs": [],
   "source": [
    "\n",
    "import seaborn as sns\n",
    "import matplotlib.pyplot as plt\n"
   ]
  },
  {
   "cell_type": "markdown",
   "source": [
    "Izpit iz vaj (12. 12. 2023)\n",
    "Tematika podatkov: Zadovoljstvo potnikov z letom\n",
    "Med potniki, ki potujejo z letalom, je bila izvedena raziskava z namenom ugotoviti, kateri dejavniki močno vplivajo na njihovo zadovoljstvo oziroma nezadovoljstvo z letom. Pridobljeni podatki so razdeljeni v tri datoteke:\n",
    "datoteko s podatki o potniku in letu (passengers.csv),\n",
    "datoteko s podatki o zadovoljstvu glede na različne kriterije (passengers_service_rating.txt),\n",
    "datoteko s podatki o zamudah in končni oceni zadovoljstva (passengers_satisfaction.xlsx).\n",
    "Opis spremenljivk\n",
    "Gender - spol potnika (kategorični: ‘Female’, ‘Male’)\n",
    "Customer Type - tip stranke - ali gre za redno stranko ali ne (kategorični: ‘Loyal customer’, ‘disloyal customer’)\n",
    "Age - točna starost potnika (številski)\n",
    "Type of Travel - namen potnikovega leta (kategorični: ‘Personal Travel’, ‘Business Travel’)\n",
    "Class - v katerem razredu je letel potnik (kategorični: ‘Business’, ‘Eco’, ‘Eco Plus’)\n",
    "Flight Distance - dolžina leta (številski)\n",
    "Inflight wifi service - stopnja zadovoljstva za wifi storitev na letalu (številski: 0:‘Not Applicable’; 1-5)\n",
    "Departure/Arrival time convenient - stopnja zadovoljstva za organiziran čas odhoda/prihoda (številski)\n",
    "Ease of Online booking - stopnja zadovoljstva za spletno rezervacijo (številski)\n",
    "Gate location - stopnja zadovoljstva za lokacijo vrat, za vkrcanje na letalo (številski)\n",
    "Food and drink - stopnja zadovoljstva za hrano in pijačo na letalu (številski)\n",
    "Online boarding - stopnja zadovoljstva za vkrcavanje na letalo (številski)\n",
    "Seat comfort - stopnja zadovoljstva za udobje sedežev (številski)\n",
    "Inflight entertainment - stopnja zadovoljstva za ponujeno zabavo med letom (številski)\n",
    "On-board service - stopnja zadovoljstva za ponujene storitve na letalu (številski)\n",
    "Leg room service - stopnja zadovoljstva za storitve za noge (številski)\n",
    "Baggage handling - stopnja zadovoljstva za ravnanje s prtljago (številski)\n",
    "Checkin service - stopnja zadovoljstva za storitev prijave (številski)\n",
    "Inflight service - stopnja zadovoljstva za izvedene storitve na letalu (številski)\n",
    "Cleanliness - stopnja zadovoljstva s čistočo (številski)\n",
    "Departure Delay in Minutes - čas zamude od odhodu v minutah (številski)\n",
    "Arrival Delay in Minutes - čas zamude ob prihodu v minutah (številski)\n",
    "Satisfaction - zadovoljstvo z letom (kategorični: ‘Satisfaction’, ‘neutral or dissatisfaction’)\n",
    "Final_rating - končna ocena zadovoljstva potnika z letom (številski)"
   ],
   "metadata": {
    "collapsed": false
   },
   "id": "bf457557ff2f7078"
  },
  {
   "cell_type": "markdown",
   "source": [
    "### Naloga 1 (5T)\n",
    "\n",
    "Najprej preberite vse tri datoteke s podatki: `passengers.csv`, `passengers_service_rating.txt` in `passengers_satisfaction.xlsx`. Vse prebrane podatke združite v eno datoteko. Pri združevanju pazite, da potnike združite po njihovi ID številki. Indeks stolpec naj bo poimenovan `Passenger_id`.\n",
    "\n",
    "- Izpišite prve štiri vrstice združenih podatkov.\n",
    "- Izpišite število stolpcev ter število vrstic združenih podatkov.\n",
    "- Izpišite podatkovne tipe za vse stolpce."
   ],
   "metadata": {
    "collapsed": false
   },
   "id": "9c683518416ab34c"
  },
  {
   "cell_type": "code",
   "execution_count": 70,
   "outputs": [
    {
     "data": {
      "text/plain": "              Gender      Customer Type  Age   Type of Travel     Class  \\\npassenger_id                                                              \n70172           Male     Loyal Customer   13  Personal Travel  Eco Plus   \n5047            Male  disloyal Customer   25  Business travel       NaN   \n110028        Female     Loyal Customer   26  Business travel  Business   \n24026         Female     Loyal Customer   25  Business travel  Business   \n\n              Flight Distance  Inflight wifi service  \\\npassenger_id                                           \n70172                   460.0                      3   \n5047                    235.0                      3   \n110028                 1142.0                      2   \n24026                   562.0                      2   \n\n              Departure/Arrival time convenient  Ease of Online booking  \\\npassenger_id                                                              \n70172                                         4                       3   \n5047                                          2                       3   \n110028                                        2                       2   \n24026                                         5                       5   \n\n              Gate location  ...  On-board service  Leg room service  \\\npassenger_id                 ...                                       \n70172                     1  ...                 4                 3   \n5047                      3  ...                 1                 5   \n110028                    2  ...                 4                 3   \n24026                     5  ...                 2                 5   \n\n              Baggage handling  Checkin service  Inflight service  \\\npassenger_id                                                        \n70172                        4                4                 5   \n5047                         3                1                 4   \n110028                       4                4                 4   \n24026                        3                1                 4   \n\n              Cleanliness  Departure Delay in Minutes  \\\npassenger_id                                            \n70172                   5                        25.0   \n5047                    1                         1.0   \n110028                  5                         0.0   \n24026                   2                        11.0   \n\n              Arrival Delay in Minutes             Satisfaction  Final_rating  \npassenger_id                                                                   \n70172                             18.0  neutral or dissatisfied          65.0  \n5047                               6.0  neutral or dissatisfied          45.0  \n110028                             0.0                satisfied          72.0  \n24026                              9.0  neutral or dissatisfied          29.0  \n\n[4 rows x 24 columns]",
      "text/html": "<div>\n<style scoped>\n    .dataframe tbody tr th:only-of-type {\n        vertical-align: middle;\n    }\n\n    .dataframe tbody tr th {\n        vertical-align: top;\n    }\n\n    .dataframe thead th {\n        text-align: right;\n    }\n</style>\n<table border=\"1\" class=\"dataframe\">\n  <thead>\n    <tr style=\"text-align: right;\">\n      <th></th>\n      <th>Gender</th>\n      <th>Customer Type</th>\n      <th>Age</th>\n      <th>Type of Travel</th>\n      <th>Class</th>\n      <th>Flight Distance</th>\n      <th>Inflight wifi service</th>\n      <th>Departure/Arrival time convenient</th>\n      <th>Ease of Online booking</th>\n      <th>Gate location</th>\n      <th>...</th>\n      <th>On-board service</th>\n      <th>Leg room service</th>\n      <th>Baggage handling</th>\n      <th>Checkin service</th>\n      <th>Inflight service</th>\n      <th>Cleanliness</th>\n      <th>Departure Delay in Minutes</th>\n      <th>Arrival Delay in Minutes</th>\n      <th>Satisfaction</th>\n      <th>Final_rating</th>\n    </tr>\n    <tr>\n      <th>passenger_id</th>\n      <th></th>\n      <th></th>\n      <th></th>\n      <th></th>\n      <th></th>\n      <th></th>\n      <th></th>\n      <th></th>\n      <th></th>\n      <th></th>\n      <th></th>\n      <th></th>\n      <th></th>\n      <th></th>\n      <th></th>\n      <th></th>\n      <th></th>\n      <th></th>\n      <th></th>\n      <th></th>\n      <th></th>\n    </tr>\n  </thead>\n  <tbody>\n    <tr>\n      <th>70172</th>\n      <td>Male</td>\n      <td>Loyal Customer</td>\n      <td>13</td>\n      <td>Personal Travel</td>\n      <td>Eco Plus</td>\n      <td>460.0</td>\n      <td>3</td>\n      <td>4</td>\n      <td>3</td>\n      <td>1</td>\n      <td>...</td>\n      <td>4</td>\n      <td>3</td>\n      <td>4</td>\n      <td>4</td>\n      <td>5</td>\n      <td>5</td>\n      <td>25.0</td>\n      <td>18.0</td>\n      <td>neutral or dissatisfied</td>\n      <td>65.0</td>\n    </tr>\n    <tr>\n      <th>5047</th>\n      <td>Male</td>\n      <td>disloyal Customer</td>\n      <td>25</td>\n      <td>Business travel</td>\n      <td>NaN</td>\n      <td>235.0</td>\n      <td>3</td>\n      <td>2</td>\n      <td>3</td>\n      <td>3</td>\n      <td>...</td>\n      <td>1</td>\n      <td>5</td>\n      <td>3</td>\n      <td>1</td>\n      <td>4</td>\n      <td>1</td>\n      <td>1.0</td>\n      <td>6.0</td>\n      <td>neutral or dissatisfied</td>\n      <td>45.0</td>\n    </tr>\n    <tr>\n      <th>110028</th>\n      <td>Female</td>\n      <td>Loyal Customer</td>\n      <td>26</td>\n      <td>Business travel</td>\n      <td>Business</td>\n      <td>1142.0</td>\n      <td>2</td>\n      <td>2</td>\n      <td>2</td>\n      <td>2</td>\n      <td>...</td>\n      <td>4</td>\n      <td>3</td>\n      <td>4</td>\n      <td>4</td>\n      <td>4</td>\n      <td>5</td>\n      <td>0.0</td>\n      <td>0.0</td>\n      <td>satisfied</td>\n      <td>72.0</td>\n    </tr>\n    <tr>\n      <th>24026</th>\n      <td>Female</td>\n      <td>Loyal Customer</td>\n      <td>25</td>\n      <td>Business travel</td>\n      <td>Business</td>\n      <td>562.0</td>\n      <td>2</td>\n      <td>5</td>\n      <td>5</td>\n      <td>5</td>\n      <td>...</td>\n      <td>2</td>\n      <td>5</td>\n      <td>3</td>\n      <td>1</td>\n      <td>4</td>\n      <td>2</td>\n      <td>11.0</td>\n      <td>9.0</td>\n      <td>neutral or dissatisfied</td>\n      <td>29.0</td>\n    </tr>\n  </tbody>\n</table>\n<p>4 rows × 24 columns</p>\n</div>"
     },
     "execution_count": 70,
     "metadata": {},
     "output_type": "execute_result"
    }
   ],
   "source": [
    "import pandas as pd\n",
    "\n",
    "df1 = pd.read_csv('passengers.csv', index_col=0, sep=';', decimal='.')\n",
    "\n",
    "df2 = pd.read_csv('passengers_service_rating.txt', index_col=0, sep='\\t')\n",
    "df3 = pd.read_excel('passengers_satisfaction.xlsx', index_col=0, sheet_name=0)\n",
    "df1.index.name=\"passenger_id\"\n",
    "df=pd.concat([df1,df2,df3], axis=1)\n",
    "\n",
    "df.head(4)\n"
   ],
   "metadata": {
    "collapsed": false,
    "ExecuteTime": {
     "end_time": "2024-01-15T23:05:34.265689100Z",
     "start_time": "2024-01-15T23:05:27.841329700Z"
    }
   },
   "id": "d3ce09b1b7cf1e64"
  },
  {
   "cell_type": "code",
   "execution_count": 71,
   "outputs": [
    {
     "data": {
      "text/plain": "(103904, 24)"
     },
     "execution_count": 71,
     "metadata": {},
     "output_type": "execute_result"
    }
   ],
   "source": [
    "df.shape\n"
   ],
   "metadata": {
    "collapsed": false,
    "ExecuteTime": {
     "end_time": "2024-01-15T23:05:34.275873400Z",
     "start_time": "2024-01-15T23:05:34.267655200Z"
    }
   },
   "id": "d6e917cee8fcb65b"
  },
  {
   "cell_type": "code",
   "execution_count": 72,
   "outputs": [
    {
     "data": {
      "text/plain": "Gender                                object\nCustomer Type                         object\nAge                                    int64\nType of Travel                        object\nClass                                 object\nFlight Distance                      float64\nInflight wifi service                  int64\nDeparture/Arrival time convenient      int64\nEase of Online booking                 int64\nGate location                          int64\nFood and drink                         int64\nOnline boarding                        int64\nSeat comfort                           int64\nInflight entertainment                 int64\nOn-board service                       int64\nLeg room service                       int64\nBaggage handling                       int64\nCheckin service                        int64\nInflight service                       int64\nCleanliness                            int64\nDeparture Delay in Minutes           float64\nArrival Delay in Minutes             float64\nSatisfaction                          object\nFinal_rating                         float64\ndtype: object"
     },
     "execution_count": 72,
     "metadata": {},
     "output_type": "execute_result"
    }
   ],
   "source": [
    "df.dtypes"
   ],
   "metadata": {
    "collapsed": false,
    "ExecuteTime": {
     "end_time": "2024-01-15T23:05:34.287155200Z",
     "start_time": "2024-01-15T23:05:34.272873500Z"
    }
   },
   "id": "28d86668a51da4e8"
  },
  {
   "cell_type": "markdown",
   "source": [
    "### Naloga 2 (15T)\n",
    "\n",
    "- Prikažite povprečno dolžino leta (`Flight Distance`), glede na namen potovanja (poslovno/zasebno), zaokroženo na eno decimalko.\n",
    "\n",
    "- V obliko razpredelnice shranite *starost, potovalni razred in končno oceno leta* za vse potnike, ki z letom niso bili zadovoljni in je bila njihova končna ocena med 11 in 14. Zbrane potnike sortirajte po starosti, od najstarejšega do najmlajšega. Iz te razpredelnice izpišite podatke za 5 najstarejših potnikov.\n",
    "\n",
    "- Izrišite graf, ki bo prikazoval maksimalni čas zamude ob prihodu (`Arrival Delay in Minutes`) glede na tip zadovoljstva z letom (`Satisfaction`). Graf naj bo pobarvan v odtenke oranžne.\n",
    "\n",
    "- Izrišite graf raztrosa, tako da bo prikazoval stopnjo zadovoljstva s hrano in pijačo glede na dolžino leta, ločeno glede na razred (`Class`), v katerem je potnik letel (vsak razred mora biti prikazan v obliki ločenega podgrafa brez črte)."
   ],
   "metadata": {
    "collapsed": false
   },
   "id": "9b0de9f30814c75b"
  },
  {
   "cell_type": "code",
   "execution_count": 72,
   "outputs": [],
   "source": [],
   "metadata": {
    "collapsed": false,
    "ExecuteTime": {
     "end_time": "2024-01-15T23:05:34.288154600Z",
     "start_time": "2024-01-15T23:05:34.282148200Z"
    }
   },
   "id": "9695832b9359c255"
  },
  {
   "cell_type": "markdown",
   "source": [
    "### Naloga 3 *(5 T)*\n",
    "\n",
    "- Izpišite koliko je manjkajočih podatkov v posameznih stolpcih.\n",
    "- Nato manjkajoče podatke iz stolpcev zapolnite s sledečo strategijo:\n",
    "    - `Flight Distance` in `Arrival Delay in Minutes` zapolnite s povprečno vrednostjo stolpca.\n",
    "    - `Type of Travel` in `Class` zapolnite z najpogosteje pojavljeno vrednostjo stolpca\n",
    "    - Za ostale manjkajoče vrednosti poskrbite tako, vrstice z manjkajočimi podatki odstranite.\n",
    "  \n",
    "\n",
    "- Ponovno izpišite število manjkajočih podatkov, vendar samo za stoplce, ki smo jih dopolnjevali."
   ],
   "metadata": {
    "collapsed": false
   },
   "id": "87ebdc48b8932043"
  },
  {
   "cell_type": "code",
   "execution_count": 73,
   "outputs": [
    {
     "data": {
      "text/plain": "Gender                                  0\nCustomer Type                           0\nAge                                     0\nType of Travel                         72\nClass                                  95\nFlight Distance                       178\nInflight wifi service                   0\nDeparture/Arrival time convenient       0\nEase of Online booking                  0\nGate location                           0\nFood and drink                          0\nOnline boarding                         0\nSeat comfort                            0\nInflight entertainment                  0\nOn-board service                        0\nLeg room service                        0\nBaggage handling                        0\nCheckin service                         0\nInflight service                        0\nCleanliness                             0\nDeparture Delay in Minutes              0\nArrival Delay in Minutes              960\nSatisfaction                            0\nFinal_rating                         2232\ndtype: int64"
     },
     "execution_count": 73,
     "metadata": {},
     "output_type": "execute_result"
    }
   ],
   "source": [
    "df.isna().sum()"
   ],
   "metadata": {
    "collapsed": false,
    "ExecuteTime": {
     "end_time": "2024-01-15T23:05:34.348239Z",
     "start_time": "2024-01-15T23:05:34.285153700Z"
    }
   },
   "id": "e4d73584def22a5b"
  },
  {
   "cell_type": "code",
   "execution_count": 74,
   "outputs": [
    {
     "data": {
      "text/plain": "Gender                                  0\nCustomer Type                           0\nAge                                     0\nType of Travel                         72\nClass                                  95\nFlight Distance                         0\nInflight wifi service                   0\nDeparture/Arrival time convenient       0\nEase of Online booking                  0\nGate location                           0\nFood and drink                          0\nOnline boarding                         0\nSeat comfort                            0\nInflight entertainment                  0\nOn-board service                        0\nLeg room service                        0\nBaggage handling                        0\nCheckin service                         0\nInflight service                        0\nCleanliness                             0\nDeparture Delay in Minutes              0\nArrival Delay in Minutes                0\nSatisfaction                            0\nFinal_rating                         2232\ndtype: int64"
     },
     "execution_count": 74,
     "metadata": {},
     "output_type": "execute_result"
    }
   ],
   "source": [
    "avg1=df[\"Flight Distance\"].mean()\n",
    "#print(avg1)\n",
    "avg2=df[\"Arrival Delay in Minutes\"].mean()\n",
    "#print(avg1)\n",
    "df[\"Flight Distance\"]=df[\"Flight Distance\"].fillna(avg1)\n",
    "df[\"Arrival Delay in Minutes\"]=df[\"Arrival Delay in Minutes\"].fillna(\n",
    "    avg2\n",
    ")\n",
    "\n",
    "df.isna().sum()"
   ],
   "metadata": {
    "collapsed": false,
    "ExecuteTime": {
     "end_time": "2024-01-15T23:05:34.401991600Z",
     "start_time": "2024-01-15T23:05:34.307784400Z"
    }
   },
   "id": "6e9d7b7fcd08e79a"
  },
  {
   "cell_type": "code",
   "execution_count": 75,
   "outputs": [
    {
     "data": {
      "text/plain": "Gender                                  0\nCustomer Type                           0\nAge                                     0\nType of Travel                          0\nClass                                   0\nFlight Distance                         0\nInflight wifi service                   0\nDeparture/Arrival time convenient       0\nEase of Online booking                  0\nGate location                           0\nFood and drink                          0\nOnline boarding                         0\nSeat comfort                            0\nInflight entertainment                  0\nOn-board service                        0\nLeg room service                        0\nBaggage handling                        0\nCheckin service                         0\nInflight service                        0\nCleanliness                             0\nDeparture Delay in Minutes              0\nArrival Delay in Minutes                0\nSatisfaction                            0\nFinal_rating                         2232\ndtype: int64"
     },
     "execution_count": 75,
     "metadata": {},
     "output_type": "execute_result"
    }
   ],
   "source": [
    "maxoccurance1=df[\"Type of Travel\"].value_counts().idxmax()\n",
    "maxoccurance2=df[\"Class\"].value_counts().idxmax()\n",
    "\n",
    "df[\"Type of Travel\"]=df[\"Type of Travel\"].fillna(maxoccurance1)\n",
    "df[\"Class\"]=df[\"Class\"].fillna(maxoccurance2)\n",
    "\n",
    "df.isna().sum()"
   ],
   "metadata": {
    "collapsed": false,
    "ExecuteTime": {
     "end_time": "2024-01-15T23:05:34.518824Z",
     "start_time": "2024-01-15T23:05:34.333238Z"
    }
   },
   "id": "9aa14af643050aae"
  },
  {
   "cell_type": "code",
   "execution_count": 76,
   "outputs": [
    {
     "data": {
      "text/plain": "Gender                               0\nCustomer Type                        0\nAge                                  0\nType of Travel                       0\nClass                                0\nFlight Distance                      0\nInflight wifi service                0\nDeparture/Arrival time convenient    0\nEase of Online booking               0\nGate location                        0\nFood and drink                       0\nOnline boarding                      0\nSeat comfort                         0\nInflight entertainment               0\nOn-board service                     0\nLeg room service                     0\nBaggage handling                     0\nCheckin service                      0\nInflight service                     0\nCleanliness                          0\nDeparture Delay in Minutes           0\nArrival Delay in Minutes             0\nSatisfaction                         0\nFinal_rating                         0\ndtype: int64"
     },
     "execution_count": 76,
     "metadata": {},
     "output_type": "execute_result"
    }
   ],
   "source": [
    "df=df.dropna()\n",
    "df.isna().sum()"
   ],
   "metadata": {
    "collapsed": false,
    "ExecuteTime": {
     "end_time": "2024-01-15T23:05:34.648824700Z",
     "start_time": "2024-01-15T23:05:34.385450300Z"
    }
   },
   "id": "b3b4e514edc24b7c"
  },
  {
   "cell_type": "code",
   "execution_count": 77,
   "outputs": [
    {
     "data": {
      "text/plain": "Class                       0\nType of Travel              0\nFlight Distance             0\nArrival Delay in Minutes    0\ndtype: int64"
     },
     "execution_count": 77,
     "metadata": {},
     "output_type": "execute_result"
    }
   ],
   "source": [
    "df[[\"Class\",\"Type of Travel\",\"Flight Distance\",\"Arrival Delay in Minutes\"]].isna().sum()"
   ],
   "metadata": {
    "collapsed": false,
    "ExecuteTime": {
     "end_time": "2024-01-15T23:05:34.650824900Z",
     "start_time": "2024-01-15T23:05:34.439073500Z"
    }
   },
   "id": "18097c122a8b1d15"
  },
  {
   "cell_type": "code",
   "execution_count": 77,
   "outputs": [],
   "source": [],
   "metadata": {
    "collapsed": false,
    "ExecuteTime": {
     "end_time": "2024-01-15T23:05:34.652827500Z",
     "start_time": "2024-01-15T23:05:34.461818100Z"
    }
   },
   "id": "65d3b86c801c2f7c"
  },
  {
   "cell_type": "markdown",
   "source": [
    "\n",
    "### Naloga 4 *(10 T)*\n",
    "\n",
    "- Ustvarite dve kopiji datafram-a `dfRegresija` in `dfKlasifikacija`:\n",
    "  - `dfKlasifikacija` je dataframe, ki ga boste uporabili za klasifikacijo, in sicer boste napovedovali ali je bil potnik zadovoljen z letom (`Satisfaction`).\n",
    "  - `dfRegresija` je dataframe, ki ga boste uporabili za regresijo, in sicer boste napovedovali končna ocena zadovoljstva potnika z letom (`Final_rating`).\n",
    "- Podatke v obeh dataframih **ustrezno predprocesirajte(!)** - kategorične vrednosti pretvorite v številske (lahko uporabite LabelEncoder), številske pa standardizirajte.\n",
    "- Izpišite prve 3 vrstice iz vsakega dataframa."
   ],
   "metadata": {
    "collapsed": false
   },
   "id": "5294aac3663a9859"
  },
  {
   "cell_type": "code",
   "execution_count": 78,
   "outputs": [],
   "source": [
    "from sklearn.preprocessing import LabelEncoder, StandardScaler\n",
    "\n",
    "dfRegresija = df.copy()\n",
    "dfKlasifikacija = df.copy()\n",
    "\n",
    "katR = dfRegresija.select_dtypes(include='object').columns         \n",
    "katK = dfRegresija.select_dtypes(include='object').columns\n",
    "katK = katK.drop('Satisfaction')\n",
    "\n",
    "for k in katK:\n",
    "    dfKlasifikacija[k]=LabelEncoder().fit_transform(dfKlasifikacija[k])\n",
    "for k in katR:\n",
    "    dfRegresija[k]=LabelEncoder().fit_transform(dfRegresija[k])\n",
    "    \n"
   ],
   "metadata": {
    "collapsed": false,
    "ExecuteTime": {
     "end_time": "2024-01-15T23:05:34.752864800Z",
     "start_time": "2024-01-15T23:05:34.468826600Z"
    }
   },
   "id": "fd61965a0e24934e"
  },
  {
   "cell_type": "code",
   "execution_count": 79,
   "outputs": [],
   "source": [
    "stR=dfRegresija.select_dtypes(exclude=\"object\").columns\n",
    "stR=stR.drop(\"Final_rating\")\n",
    "\n",
    "stK=dfKlasifikacija.select_dtypes(exclude=\"object\").columns\n",
    "\n",
    "\n",
    "dfRegresija[stR]=StandardScaler().fit_transform(dfRegresija[stR])\n",
    "dfKlasifikacija[stK]=StandardScaler().fit_transform(dfKlasifikacija[stK])\n",
    "\n",
    "\n",
    "\n",
    "\n"
   ],
   "metadata": {
    "collapsed": false,
    "ExecuteTime": {
     "end_time": "2024-01-15T23:05:34.909755Z",
     "start_time": "2024-01-15T23:05:34.679860100Z"
    }
   },
   "id": "87fb2ceab55378e7"
  },
  {
   "cell_type": "code",
   "execution_count": 80,
   "outputs": [
    {
     "data": {
      "text/plain": "                Gender  Customer Type       Age  Type of Travel     Class  \\\npassenger_id                                                                \n70172         1.014624      -0.473479 -1.742019        1.484684  2.261663   \n5047          1.014624       2.112027 -0.948894       -0.673544 -0.959977   \n110028       -0.985587      -0.473479 -0.882800       -0.673544 -0.959977   \n\n              Flight Distance  Inflight wifi service  \\\npassenger_id                                           \n70172               -0.730444               0.206153   \n5047                -0.956511               0.206153   \n110028              -0.045209              -0.548590   \n\n              Departure/Arrival time convenient  Ease of Online booking  \\\npassenger_id                                                              \n70172                                  0.615250                0.175003   \n5047                                  -0.696534                0.175003   \n110028                                -0.696534               -0.540720   \n\n              Gate location  ...  On-board service  Leg room service  \\\npassenger_id                 ...                                       \n70172             -1.548766  ...          0.481651         -0.264784   \n5047               0.017321  ...         -1.845583          1.255410   \n110028            -0.765722  ...          0.481651         -0.264784   \n\n              Baggage handling  Checkin service  Inflight service  \\\npassenger_id                                                        \n70172                 0.313748         0.551792          1.158392   \n5047                 -0.533042        -1.817771          0.307735   \n110028                0.313748         0.551792          0.307735   \n\n              Cleanliness  Departure Delay in Minutes  \\\npassenger_id                                            \n70172            1.308001                    0.264740   \n5047            -1.738964                   -0.361661   \n110028           1.308001                   -0.387761   \n\n              Arrival Delay in Minutes             Satisfaction  Final_rating  \npassenger_id                                                                   \n70172                         0.080569  neutral or dissatisfied      0.294585  \n5047                         -0.234116  neutral or dissatisfied     -0.370400  \n110028                       -0.391459                satisfied      0.527330  \n\n[3 rows x 24 columns]",
      "text/html": "<div>\n<style scoped>\n    .dataframe tbody tr th:only-of-type {\n        vertical-align: middle;\n    }\n\n    .dataframe tbody tr th {\n        vertical-align: top;\n    }\n\n    .dataframe thead th {\n        text-align: right;\n    }\n</style>\n<table border=\"1\" class=\"dataframe\">\n  <thead>\n    <tr style=\"text-align: right;\">\n      <th></th>\n      <th>Gender</th>\n      <th>Customer Type</th>\n      <th>Age</th>\n      <th>Type of Travel</th>\n      <th>Class</th>\n      <th>Flight Distance</th>\n      <th>Inflight wifi service</th>\n      <th>Departure/Arrival time convenient</th>\n      <th>Ease of Online booking</th>\n      <th>Gate location</th>\n      <th>...</th>\n      <th>On-board service</th>\n      <th>Leg room service</th>\n      <th>Baggage handling</th>\n      <th>Checkin service</th>\n      <th>Inflight service</th>\n      <th>Cleanliness</th>\n      <th>Departure Delay in Minutes</th>\n      <th>Arrival Delay in Minutes</th>\n      <th>Satisfaction</th>\n      <th>Final_rating</th>\n    </tr>\n    <tr>\n      <th>passenger_id</th>\n      <th></th>\n      <th></th>\n      <th></th>\n      <th></th>\n      <th></th>\n      <th></th>\n      <th></th>\n      <th></th>\n      <th></th>\n      <th></th>\n      <th></th>\n      <th></th>\n      <th></th>\n      <th></th>\n      <th></th>\n      <th></th>\n      <th></th>\n      <th></th>\n      <th></th>\n      <th></th>\n      <th></th>\n    </tr>\n  </thead>\n  <tbody>\n    <tr>\n      <th>70172</th>\n      <td>1.014624</td>\n      <td>-0.473479</td>\n      <td>-1.742019</td>\n      <td>1.484684</td>\n      <td>2.261663</td>\n      <td>-0.730444</td>\n      <td>0.206153</td>\n      <td>0.615250</td>\n      <td>0.175003</td>\n      <td>-1.548766</td>\n      <td>...</td>\n      <td>0.481651</td>\n      <td>-0.264784</td>\n      <td>0.313748</td>\n      <td>0.551792</td>\n      <td>1.158392</td>\n      <td>1.308001</td>\n      <td>0.264740</td>\n      <td>0.080569</td>\n      <td>neutral or dissatisfied</td>\n      <td>0.294585</td>\n    </tr>\n    <tr>\n      <th>5047</th>\n      <td>1.014624</td>\n      <td>2.112027</td>\n      <td>-0.948894</td>\n      <td>-0.673544</td>\n      <td>-0.959977</td>\n      <td>-0.956511</td>\n      <td>0.206153</td>\n      <td>-0.696534</td>\n      <td>0.175003</td>\n      <td>0.017321</td>\n      <td>...</td>\n      <td>-1.845583</td>\n      <td>1.255410</td>\n      <td>-0.533042</td>\n      <td>-1.817771</td>\n      <td>0.307735</td>\n      <td>-1.738964</td>\n      <td>-0.361661</td>\n      <td>-0.234116</td>\n      <td>neutral or dissatisfied</td>\n      <td>-0.370400</td>\n    </tr>\n    <tr>\n      <th>110028</th>\n      <td>-0.985587</td>\n      <td>-0.473479</td>\n      <td>-0.882800</td>\n      <td>-0.673544</td>\n      <td>-0.959977</td>\n      <td>-0.045209</td>\n      <td>-0.548590</td>\n      <td>-0.696534</td>\n      <td>-0.540720</td>\n      <td>-0.765722</td>\n      <td>...</td>\n      <td>0.481651</td>\n      <td>-0.264784</td>\n      <td>0.313748</td>\n      <td>0.551792</td>\n      <td>0.307735</td>\n      <td>1.308001</td>\n      <td>-0.387761</td>\n      <td>-0.391459</td>\n      <td>satisfied</td>\n      <td>0.527330</td>\n    </tr>\n  </tbody>\n</table>\n<p>3 rows × 24 columns</p>\n</div>"
     },
     "execution_count": 80,
     "metadata": {},
     "output_type": "execute_result"
    }
   ],
   "source": [
    "dfKlasifikacija.head(3)"
   ],
   "metadata": {
    "collapsed": false,
    "ExecuteTime": {
     "end_time": "2024-01-15T23:05:34.971686100Z",
     "start_time": "2024-01-15T23:05:34.910755400Z"
    }
   },
   "id": "342f3440cfc0489"
  },
  {
   "cell_type": "code",
   "execution_count": 80,
   "outputs": [],
   "source": [],
   "metadata": {
    "collapsed": false,
    "ExecuteTime": {
     "end_time": "2024-01-15T23:05:34.974689300Z",
     "start_time": "2024-01-15T23:05:34.935546400Z"
    }
   },
   "id": "70bcd3d35a3f5767"
  },
  {
   "cell_type": "code",
   "execution_count": 81,
   "outputs": [
    {
     "data": {
      "text/plain": "                Gender  Customer Type       Age  Type of Travel     Class  \\\npassenger_id                                                                \n70172         1.014624      -0.473479 -1.742019        1.484684  2.261663   \n5047          1.014624       2.112027 -0.948894       -0.673544 -0.959977   \n110028       -0.985587      -0.473479 -0.882800       -0.673544 -0.959977   \n\n              Flight Distance  Inflight wifi service  \\\npassenger_id                                           \n70172               -0.730444               0.206153   \n5047                -0.956511               0.206153   \n110028              -0.045209              -0.548590   \n\n              Departure/Arrival time convenient  Ease of Online booking  \\\npassenger_id                                                              \n70172                                  0.615250                0.175003   \n5047                                  -0.696534                0.175003   \n110028                                -0.696534               -0.540720   \n\n              Gate location  ...  On-board service  Leg room service  \\\npassenger_id                 ...                                       \n70172             -1.548766  ...          0.481651         -0.264784   \n5047               0.017321  ...         -1.845583          1.255410   \n110028            -0.765722  ...          0.481651         -0.264784   \n\n              Baggage handling  Checkin service  Inflight service  \\\npassenger_id                                                        \n70172                 0.313748         0.551792          1.158392   \n5047                 -0.533042        -1.817771          0.307735   \n110028                0.313748         0.551792          0.307735   \n\n              Cleanliness  Departure Delay in Minutes  \\\npassenger_id                                            \n70172            1.308001                    0.264740   \n5047            -1.738964                   -0.361661   \n110028           1.308001                   -0.387761   \n\n              Arrival Delay in Minutes  Satisfaction  Final_rating  \npassenger_id                                                        \n70172                         0.080569     -0.866813          65.0  \n5047                         -0.234116     -0.866813          45.0  \n110028                       -0.391459      1.153651          72.0  \n\n[3 rows x 24 columns]",
      "text/html": "<div>\n<style scoped>\n    .dataframe tbody tr th:only-of-type {\n        vertical-align: middle;\n    }\n\n    .dataframe tbody tr th {\n        vertical-align: top;\n    }\n\n    .dataframe thead th {\n        text-align: right;\n    }\n</style>\n<table border=\"1\" class=\"dataframe\">\n  <thead>\n    <tr style=\"text-align: right;\">\n      <th></th>\n      <th>Gender</th>\n      <th>Customer Type</th>\n      <th>Age</th>\n      <th>Type of Travel</th>\n      <th>Class</th>\n      <th>Flight Distance</th>\n      <th>Inflight wifi service</th>\n      <th>Departure/Arrival time convenient</th>\n      <th>Ease of Online booking</th>\n      <th>Gate location</th>\n      <th>...</th>\n      <th>On-board service</th>\n      <th>Leg room service</th>\n      <th>Baggage handling</th>\n      <th>Checkin service</th>\n      <th>Inflight service</th>\n      <th>Cleanliness</th>\n      <th>Departure Delay in Minutes</th>\n      <th>Arrival Delay in Minutes</th>\n      <th>Satisfaction</th>\n      <th>Final_rating</th>\n    </tr>\n    <tr>\n      <th>passenger_id</th>\n      <th></th>\n      <th></th>\n      <th></th>\n      <th></th>\n      <th></th>\n      <th></th>\n      <th></th>\n      <th></th>\n      <th></th>\n      <th></th>\n      <th></th>\n      <th></th>\n      <th></th>\n      <th></th>\n      <th></th>\n      <th></th>\n      <th></th>\n      <th></th>\n      <th></th>\n      <th></th>\n      <th></th>\n    </tr>\n  </thead>\n  <tbody>\n    <tr>\n      <th>70172</th>\n      <td>1.014624</td>\n      <td>-0.473479</td>\n      <td>-1.742019</td>\n      <td>1.484684</td>\n      <td>2.261663</td>\n      <td>-0.730444</td>\n      <td>0.206153</td>\n      <td>0.615250</td>\n      <td>0.175003</td>\n      <td>-1.548766</td>\n      <td>...</td>\n      <td>0.481651</td>\n      <td>-0.264784</td>\n      <td>0.313748</td>\n      <td>0.551792</td>\n      <td>1.158392</td>\n      <td>1.308001</td>\n      <td>0.264740</td>\n      <td>0.080569</td>\n      <td>-0.866813</td>\n      <td>65.0</td>\n    </tr>\n    <tr>\n      <th>5047</th>\n      <td>1.014624</td>\n      <td>2.112027</td>\n      <td>-0.948894</td>\n      <td>-0.673544</td>\n      <td>-0.959977</td>\n      <td>-0.956511</td>\n      <td>0.206153</td>\n      <td>-0.696534</td>\n      <td>0.175003</td>\n      <td>0.017321</td>\n      <td>...</td>\n      <td>-1.845583</td>\n      <td>1.255410</td>\n      <td>-0.533042</td>\n      <td>-1.817771</td>\n      <td>0.307735</td>\n      <td>-1.738964</td>\n      <td>-0.361661</td>\n      <td>-0.234116</td>\n      <td>-0.866813</td>\n      <td>45.0</td>\n    </tr>\n    <tr>\n      <th>110028</th>\n      <td>-0.985587</td>\n      <td>-0.473479</td>\n      <td>-0.882800</td>\n      <td>-0.673544</td>\n      <td>-0.959977</td>\n      <td>-0.045209</td>\n      <td>-0.548590</td>\n      <td>-0.696534</td>\n      <td>-0.540720</td>\n      <td>-0.765722</td>\n      <td>...</td>\n      <td>0.481651</td>\n      <td>-0.264784</td>\n      <td>0.313748</td>\n      <td>0.551792</td>\n      <td>0.307735</td>\n      <td>1.308001</td>\n      <td>-0.387761</td>\n      <td>-0.391459</td>\n      <td>1.153651</td>\n      <td>72.0</td>\n    </tr>\n  </tbody>\n</table>\n<p>3 rows × 24 columns</p>\n</div>"
     },
     "execution_count": 81,
     "metadata": {},
     "output_type": "execute_result"
    }
   ],
   "source": [
    "dfRegresija.head(3)"
   ],
   "metadata": {
    "collapsed": false,
    "ExecuteTime": {
     "end_time": "2024-01-15T23:05:35.003682600Z",
     "start_time": "2024-01-15T23:05:34.941555600Z"
    }
   },
   "id": "8ac98bc7b8efb8bf"
  },
  {
   "cell_type": "code",
   "execution_count": 81,
   "outputs": [],
   "source": [],
   "metadata": {
    "collapsed": false,
    "ExecuteTime": {
     "end_time": "2024-01-15T23:05:35.004681500Z",
     "start_time": "2024-01-15T23:05:34.966675600Z"
    }
   },
   "id": "777c6e5958627933"
  },
  {
   "cell_type": "markdown",
   "source": [
    "Naloga 5 (10 T)\n",
    "S pomočjo regresija poskusite napovedati končno oceno zadovoljstva potnika z letom (Final_rating). Za podatke uporabite predprocesiran dataframe dfRegresija. Iz vhodnih podatkov izpustite tudi podatek Satisfaction. Podatke delite na učno in testno množico v razmerju 75:25. Naključno stanje naj bo 123. Za regresor uporabite regresijsko drevo.\n",
    "Kako dobro se je naučil model ocenite s povprečno kvadratno napako, zaokroženo na eno decimalko."
   ],
   "metadata": {
    "collapsed": false
   },
   "id": "100b466c731e8fb4"
  },
  {
   "cell_type": "code",
   "execution_count": 82,
   "outputs": [
    {
     "name": "stdout",
     "output_type": "stream",
     "text": [
      "708.8272877488394\n"
     ]
    }
   ],
   "source": [
    "from sklearn.model_selection import train_test_split\n",
    "from sklearn.tree import DecisionTreeRegressor\n",
    "\n",
    "izhod=\"Final_rating\"\n",
    "vhod=dfRegresija.drop([\"Final_rating\", \"Satisfaction\"], axis=1)\n",
    "\n",
    "x_train,x_test,y_train,y_test=train_test_split(vhod,dfRegresija[izhod], test_size=0.25,random_state=123)\n",
    "algoritem=DecisionTreeRegressor()\n",
    "algoritem.fit(x_train, y_train)\n",
    "rezultat= algoritem.predict(x_test)\n",
    "\n",
    "from sklearn.metrics import mean_squared_error\n",
    "\n",
    "print(mean_squared_error(y_test,rezultat))"
   ],
   "metadata": {
    "collapsed": false,
    "ExecuteTime": {
     "end_time": "2024-01-15T23:05:36.308739200Z",
     "start_time": "2024-01-15T23:05:34.969683800Z"
    }
   },
   "id": "de8b96bead458b81"
  },
  {
   "cell_type": "code",
   "execution_count": 82,
   "outputs": [],
   "source": [],
   "metadata": {
    "collapsed": false,
    "ExecuteTime": {
     "end_time": "2024-01-15T23:05:36.312253Z",
     "start_time": "2024-01-15T23:05:36.309246400Z"
    }
   },
   "id": "68b660c71178d387"
  },
  {
   "cell_type": "markdown",
   "source": [
    "S pomočjo klasifikacije bomo napovedovali zadovoljstvo potnikov z letom (Satisfaction). Iz vhodnih podatkov odstranite še stolpec Final_rating. Podatke iz predprocesiranega dfKlasifikacija delite na učne in testne in sicer s pomočjo stratificirane delitve na 3 folde.\n",
    "Nad podatkih preizkusite dva klasifikatorja - naključni gozd in K najbližjih sosedov. Ker želimo doseči najvišjo možno točnost klasifikacije to izvedite s pomočjo iskanja najboljših nastavitev parametrov po principu mreže (GridSearchCV).\n",
    "Za nakjučni gozd preizkusite:\n",
    "število dreves 50 in 100,\n",
    "kriterij “gini” in “entropy”.\n",
    "Za K najbližjih sosedov pa:\n",
    "2, 5 in 10 sosedov.\n",
    "Najboljše izračunane vrednosti točnosti za oba klasifkatorja prikažite v stolpičnem grafu."
   ],
   "metadata": {
    "collapsed": false
   },
   "id": "8fe1b0e8d9f6bafc"
  },
  {
   "cell_type": "code",
   "execution_count": 84,
   "outputs": [
    {
     "name": "stdout",
     "output_type": "stream",
     "text": [
      "['RF', 'KNN']\n",
      "[0.961375809441592, 0.9262137348619676]\n"
     ]
    },
    {
     "name": "stderr",
     "output_type": "stream",
     "text": [
      "C:\\Users\\jasar\\ANACONDA3\\Lib\\site-packages\\seaborn\\axisgrid.py:118: UserWarning: The figure layout has changed to tight\n",
      "  self._figure.tight_layout(*args, **kwargs)\n"
     ]
    },
    {
     "data": {
      "text/plain": "<seaborn.axisgrid.FacetGrid at 0x1a1e1fdb090>"
     },
     "execution_count": 84,
     "metadata": {},
     "output_type": "execute_result"
    },
    {
     "data": {
      "text/plain": "<Figure size 500x500 with 1 Axes>",
      "image/png": "[encoded data removed]"
     },
     "metadata": {},
     "output_type": "display_data"
    }
   ],
   "source": [
    "from sklearn.neighbors import KNeighborsClassifier\n",
    "from sklearn.ensemble import RandomForestClassifier\n",
    "from sklearn.model_selection import StratifiedKFold, GridSearchCV\n",
    "\n",
    "izhod=\"Satisfaction\"\n",
    "vhod=dfKlasifikacija.drop([\"Satisfaction\",\"Final_rating\"],axis=1)\n",
    "\n",
    "parametriRF={\"n_estimators\": [50,100], \"criterion\": [\"gini\",\"entropy\"]}\n",
    "\n",
    "parametriKNN={\"n_neighbors\": [2,5,10]}\n",
    "\n",
    "delitev=StratifiedKFold(n_splits=3)\n",
    "\n",
    "algoritem1=GridSearchCV(RandomForestClassifier(),parametriRF,cv=delitev,scoring='accuracy')\n",
    "algoritem1.fit(vhod,dfKlasifikacija[izhod])\n",
    "\n",
    "algoritem2=GridSearchCV(KNeighborsClassifier(),parametriKNN,cv=delitev,scoring='accuracy')\n",
    "algoritem2.fit(vhod,dfKlasifikacija[izhod])\n",
    "\n",
    "najbolsi_algoritem = ['RF', 'KNN']\n",
    "najbolse_tocnoosti = [algoritem1.best_score_, algoritem2.best_score_]\n",
    "\n",
    "print(najbolsi_algoritem)\n",
    "print(najbolse_tocnoosti)\n",
    "\n",
    "sns.catplot(x=najbolsi_algoritem, y=najbolse_tocnoosti) "
   ],
   "metadata": {
    "collapsed": false,
    "ExecuteTime": {
     "end_time": "2024-01-15T23:09:19.708445500Z",
     "start_time": "2024-01-15T23:07:37.830158200Z"
    }
   },
   "id": "ca290c72f12ae2b5"
  },
  {
   "cell_type": "code",
   "execution_count": null,
   "outputs": [],
   "source": [],
   "metadata": {
    "collapsed": false
   },
   "id": "46e4080700055bc1"
  }
 ],
 "metadata": {
  "kernelspec": {
   "display_name": "Python 3",
   "language": "python",
   "name": "python3"
  },
  "language_info": {
   "codemirror_mode": {
    "name": "ipython",
    "version": 2
   },
   "file_extension": ".py",
   "mimetype": "text/x-python",
   "name": "python",
   "nbconvert_exporter": "python",
   "pygments_lexer": "ipython2",
   "version": "2.7.6"
  }
 },
 "nbformat": 4,
 "nbformat_minor": 5
}
