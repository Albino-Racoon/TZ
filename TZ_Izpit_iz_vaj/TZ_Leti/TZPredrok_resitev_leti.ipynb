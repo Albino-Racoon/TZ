{
 "cells": [
  {
   "cell_type": "markdown",
   "id": "401faf66",
   "metadata": {},
   "source": [
    "# Izpit iz vaj (12. 12. 2023)\n",
    "\n",
    "### Tematika podatkov: Zadovoljstvo potnikov z letom\n",
    "\n",
    "Med potniki, ki potujejo z letalom, je bila izvedena raziskava z namenom ugotoviti, kateri dejavniki močno vplivajo na njihovo zadovoljstvo oziroma nezadovoljstvo z letom. Pridobljeni podatki so razdeljeni v tri datoteke:\n",
    "\n",
    "- datoteko s podatki o potniku in letu (`passengers.csv`),\n",
    "- datoteko s podatki o zadovoljstvu glede na različne kriterije (`passengers_service_rating.txt`),\n",
    "- datoteko s podatki o zamudah in končni oceni zadovoljstva (`passengers_satisfaction.xlsx`).\n",
    "\n",
    "### Opis spremenljivk\n",
    "\n",
    "- *Gender* - spol potnika (kategorični: 'Female', 'Male')\n",
    "- *Customer Type* - tip stranke - ali gre za redno stranko ali ne (kategorični: 'Loyal customer', 'disloyal customer')\n",
    "- *Age* - točna starost potnika (številski)\n",
    "- *Type of Travel* - namen potnikovega leta (kategorični: 'Personal Travel', 'Business Travel')\n",
    "- *Class* - v katerem razredu je letel potnik (kategorični: 'Business', 'Eco', 'Eco Plus')\n",
    "- *Flight Distance* - dolžina leta (številski)\n",
    "- *Inflight wifi service* - stopnja zadovoljstva za wifi storitev na letalu (številski: 0:'Not Applicable'; 1-5)\n",
    "- *Departure/Arrival time convenient* - stopnja zadovoljstva za organiziran čas odhoda/prihoda (številski)\n",
    "- *Ease of Online booking* - stopnja zadovoljstva za spletno rezervacijo (številski)\n",
    "- *Gate location* - stopnja zadovoljstva za lokacijo vrat, za vkrcanje na letalo (številski)\n",
    "- *Food and drink* - stopnja zadovoljstva za hrano in pijačo na letalu (številski)\n",
    "- *Online boarding* - stopnja zadovoljstva za vkrcavanje na letalo (številski)\n",
    "- *Seat comfort* - stopnja zadovoljstva za udobje sedežev (številski)\n",
    "- *Inflight entertainment* - stopnja zadovoljstva za ponujeno zabavo med letom (številski)\n",
    "- *On-board service* - stopnja zadovoljstva za ponujene storitve na letalu (številski)\n",
    "- *Leg room service* - stopnja zadovoljstva za storitve za noge (številski)\n",
    "- *Baggage handling* - stopnja zadovoljstva za ravnanje s prtljago (številski)\n",
    "- *Checkin service* - stopnja zadovoljstva za storitev prijave (številski)\n",
    "- *Inflight service* - stopnja zadovoljstva za izvedene storitve na letalu (številski)\n",
    "- *Cleanliness* - stopnja zadovoljstva s čistočo (številski)\n",
    "- *Departure Delay in Minutes* - čas zamude od odhodu v minutah (številski)\n",
    "- *Arrival Delay in Minutes* - čas zamude ob prihodu v minutah (številski)\n",
    "- *Satisfaction* - zadovoljstvo z letom (kategorični: 'Satisfaction', 'neutral or dissatisfaction')\n",
    "- *Final_rating* - končna ocena zadovoljstva potnika z letom (številski)"
   ]
  },
  {
   "cell_type": "markdown",
   "id": "4f61f757",
   "metadata": {},
   "source": [
    "### Naloga 1 (5T)\n",
    "\n",
    "Najprej preberite vse tri datoteke s podatki: `passengers.csv`, `passengers_service_rating.txt` in `passengers_satisfaction.xlsx`. Vse prebrane podatke združite v eno datoteko. Pri združevanju pazite, da potnike združite po njihovi ID številki. Indeks stolpec naj bo poimenovan `Passenger_id`.\n",
    "\n",
    "- Izpišite prve štiri vrstice združenih podatkov.\n",
    "- Izpišite število stolpcev ter število vrstic združenih podatkov.\n",
    "- Izpišite podatkovne tipe za vse stolpce."
   ]
  },
  {
   "cell_type": "code",
   "execution_count": null,
   "id": "initial_id",
   "metadata": {
    "collapsed": true
   },
   "outputs": [],
   "source": [
    "import pandas as pd\n",
    "\n",
    "df_passengers = pd.read_csv(\"passengers.csv\", sep=\";\")\n",
    "df_satisfaction = pd.read_excel(\"passengers_satisfaction.xlsx\", index_col=0, sheet_name=0)\n",
    "df_service_rating = pd.read_csv(\"passengers_service_rating.txt\", sep=\"\\t\", index_col=0)\n",
    "imena_stolpcev = [\"passenger_ID\", \"Gender\", \"Customer Type\", \"Age\", \"Type of Travel\", \"Class\" ,\"Flight Distance\"]\n",
    "df_passengers.columns = imena_stolpcev\n",
    "df_passengers.set_index(\"passenger_ID\", inplace=True)\n",
    "df = pd.concat([df_passengers, df_satisfaction, df_service_rating], axis=1)\n",
    "df.head(4)"
   ]
  },
  {
   "cell_type": "code",
   "execution_count": null,
   "id": "73984c89",
   "metadata": {},
   "outputs": [],
   "source": [
    "df.shape"
   ]
  },
  {
   "cell_type": "code",
   "execution_count": null,
   "id": "f2f79532",
   "metadata": {},
   "outputs": [],
   "source": [
    "df.dtypes"
   ]
  },
  {
   "cell_type": "markdown",
   "id": "5656a935",
   "metadata": {},
   "source": [
    "### Naloga 2 (15T)\n",
    "\n",
    "- Prikažite povprečno dolžino leta (`Flight Distance`), glede na potnikov spol, zaokroženo na eno decimalko.\n",
    "\n",
    "- V obliko razpredelnice shranite *starost, potovalni razred in končno oceno leta* za vse potnike, ki z letom niso bili zadovoljni in je bila njihova končna ocena med 11 in 14. Zbrane potnike sortirajte po starosti, od najmlajšega do najstarejšega. Iz te razpredelnice izpišite podatke za 5 najstarejših potnikov.\n",
    "\n",
    "- Izrišite graf, ki bo prikazoval maksimalni čas zamude ob prihodu (`Arrival Delay in Minutes`) glede na tip zadovoljstva z letom (`Satisfaction`). Graf naj bo pobarvan v odtenke oranžne.\n",
    "\n",
    "- Izrišite graf raztrosa, tako da bo prikazoval stopnjo zadovoljstva s hrano in pijačo glede na dolžino leta, ločeno glede na razred (`Class`), v katerem je potnik letel (vsak razred mora biti prikazan v obliki ločenega podgrafa brez črte)."
   ]
  },
  {
   "cell_type": "code",
   "execution_count": null,
   "id": "a0242373",
   "metadata": {},
   "outputs": [],
   "source": [
    "povprecna_dolzina = df.groupby(\"Gender\")[\"Flight Distance\"].mean().round(1)\n",
    "print(povprecna_dolzina)"
   ]
  },
  {
   "cell_type": "code",
   "execution_count": null,
   "id": "cf6d5686",
   "metadata": {},
   "outputs": [],
   "source": [
    "iskani_potniki = df.loc[(df[\"Satisfaction\"] == \"neutral or dissatisfied\") & (df[\"Final_rating\"] > 11) & (df[\"Final_rating\"] < 14)]\n",
    "df_iskani_potniki = pd.DataFrame(iskani_potniki[[\"Age\", \"Class\", \"Final_rating\"]]).sort_values(by=\"Age\")\n",
    "df_iskani_potniki.tail()"
   ]
  },
  {
   "cell_type": "code",
   "execution_count": null,
   "id": "144aeea3",
   "metadata": {},
   "outputs": [],
   "source": [
    "import seaborn as sns\n",
    "maksimalni_cas_zamude = df.groupby(\"Satisfaction\")[\"Arrival Delay in Minutes\"].max()\n",
    "satisfaction_skupine = [\"neutral or dissatisfied\", \"satisfied\"]\n",
    "maksimalne_zamude = [maksimalni_cas_zamude[0], maksimalni_cas_zamude[1]]\n",
    "\n",
    "sns.barplot(x=satisfaction_skupine, y=maksimalne_zamude)"
   ]
  },
  {
   "cell_type": "code",
   "execution_count": null,
   "id": "65d4b9a1",
   "metadata": {},
   "outputs": [],
   "source": [
    "sns.scatterplot(x=\"Flight Distance\", y=\"Food and drink\", hue=\"Class\", data=df)"
   ]
  },
  {
   "cell_type": "markdown",
   "id": "6940ef88",
   "metadata": {},
   "source": [
    "### Naloga 3 *(5 T)*\n",
    "\n",
    "- Izpišite koliko je manjkajočih podatkov v posameznih stolpcih.\n",
    "- Nato manjkajoče podatke iz stolpcev zapolnite s sledečo strategijo:\n",
    "    - `Flight Distance` in `Arrival Delay in Minutes` zapolnite s povprečno vrednostjo stolpca.\n",
    "    - `Type of Travel` in `Class` zapolnite z najpogosteje pojavljeno vrednostjo stolpca\n",
    "    - Za ostale manjkajoče vrednosti poskrbite tako, vrstice z manjkajočimi podatki odstranite.\n",
    "  \n",
    "\n",
    "- Ponovno izpišite število manjkajočih podatkov, vendar samo za stoplce, ki smo jih dopolnjevali."
   ]
  },
  {
   "cell_type": "code",
   "execution_count": null,
   "id": "52efdc6e",
   "metadata": {},
   "outputs": [],
   "source": [
    "df.isnull().sum()"
   ]
  }
 ],
 "metadata": {
  "kernelspec": {
   "display_name": "Python 3",
   "language": "python",
   "name": "python3"
  },
  "language_info": {
   "codemirror_mode": {
    "name": "ipython",
    "version": 2
   },
   "file_extension": ".py",
   "mimetype": "text/x-python",
   "name": "python",
   "nbconvert_exporter": "python",
   "pygments_lexer": "ipython2",
   "version": "2.7.6"
  }
 },
 "nbformat": 4,
 "nbformat_minor": 5
}
