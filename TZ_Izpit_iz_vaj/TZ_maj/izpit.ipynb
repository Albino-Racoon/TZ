{
 "cells": [
  {
   "cell_type": "code",
   "execution_count": 147,
   "metadata": {},
   "outputs": [],
   "source": [
    "import pandas as pd \n",
    "\n",
    "general=pd.read_csv(\"students_general.csv\",sep=\" \",index_col=0,decimal=\",\")\n",
    "other=pd.read_csv(\"students_other.txt\",sep=\"\\t\",index_col=0)\n",
    "study=pd.read_excel(\"students_study.xlsx\",index_col=0,sheet_name=0)\n",
    "\n"
   ]
  },
  {
   "cell_type": "code",
   "execution_count": 148,
   "metadata": {},
   "outputs": [
    {
     "name": "stdout",
     "output_type": "stream",
     "text": [
      "     Gender Department  Height  Weight\n",
      "0      Male        BCA   100.0    58.0\n",
      "1    Female        BCA    90.0    40.0\n",
      "2      Male        BCA   159.0    78.0\n",
      "3    Female        BCA   147.0    20.0\n",
      "4      Male        BCA   170.0    54.0\n",
      "..      ...        ...     ...     ...\n",
      "230    Male  B.com ISM   170.0    76.0\n",
      "231    Male  B.com ISM   172.0    52.0\n",
      "232  Female        BCA   139.0    33.0\n",
      "233  Female   Commerce   153.0    58.0\n",
      "234  Female  B.com ISM   155.0    39.0\n",
      "\n",
      "[235 rows x 4 columns]\n"
     ]
    }
   ],
   "source": [
    "print(general)"
   ]
  },
  {
   "cell_type": "code",
   "execution_count": 149,
   "metadata": {},
   "outputs": [
    {
     "name": "stdout",
     "output_type": "stream",
     "text": [
      "           hobbies  salary expectation like degree pursue a career  \\\n",
      "0      Video Games             40000.0          No             50%   \n",
      "1           Cinema             15000.0         Yes             75%   \n",
      "2           Cinema             13000.0         Yes             50%   \n",
      "3    Reading books           1500000.0          No             50%   \n",
      "4      Video Games             50000.0         Yes             25%   \n",
      "..             ...                 ...         ...             ...   \n",
      "230    Video Games              7000.0         Yes             50%   \n",
      "231         Cinema             25000.0         Yes             75%   \n",
      "232         Cinema                 NaN         Yes             50%   \n",
      "233         Cinema                 NaN         Yes             75%   \n",
      "234         Sports                10.0          No             75%   \n",
      "\n",
      "         social media  travelling time stress level  financial status  \\\n",
      "0       1.30 - 2 hour  30 - 60 minutes           Bad              Bad   \n",
      "1       1 - 1.30 hour   0 - 30 minutes           Bad              Bad   \n",
      "2    More than 2 hour              NaN         Awful              Bad   \n",
      "3       1.30 - 2 hour   0 - 30 minutes           Bad             good   \n",
      "4       1.30 - 2 hour  30 - 60 minutes          Good             good   \n",
      "..                ...              ...           ...              ...   \n",
      "230  More than 2 hour  30 - 60 minutes           Bad              Bad   \n",
      "231    30 - 60 Minute  30 - 60 minutes          Good             good   \n",
      "232    30 - 60 Minute    2.30 - 3 hour           Bad             good   \n",
      "233  More than 2 hour    2.30 - 3 hour         Awful             good   \n",
      "234    30 - 60 Minute    2.30 - 3 hour      fabulous             good   \n",
      "\n",
      "    part-time job  \n",
      "0              No  \n",
      "1              No  \n",
      "2              No  \n",
      "3              No  \n",
      "4              No  \n",
      "..            ...  \n",
      "230            No  \n",
      "231            No  \n",
      "232            No  \n",
      "233            No  \n",
      "234            No  \n",
      "\n",
      "[235 rows x 9 columns]\n"
     ]
    }
   ],
   "source": [
    "print(other)"
   ]
  },
  {
   "cell_type": "code",
   "execution_count": 150,
   "metadata": {},
   "outputs": [
    {
     "name": "stdout",
     "output_type": "stream",
     "text": [
      "            Course  10th Mark  12th Mark  college mark daily studing time  \\\n",
      "ID_studenta                                                                 \n",
      "0               No       79.0       64.0          80.0      0 - 30 minute   \n",
      "1               No       70.0       80.0          70.0     30 - 60 minute   \n",
      "2              Yes       71.0       61.0          55.0         1 - 2 Hour   \n",
      "3              Yes       70.0       59.0          58.0         1 - 2 Hour   \n",
      "4               No       40.0       65.0          30.0     30 - 60 minute   \n",
      "...            ...        ...        ...           ...                ...   \n",
      "230            Yes       72.0       67.0          65.0     30 - 60 minute   \n",
      "231            Yes       72.0       70.0          76.0         2 - 3 hour   \n",
      "232            Yes       90.0       75.0          70.0     30 - 60 minute   \n",
      "233            Yes       85.0       74.0          75.0      0 - 30 minute   \n",
      "234             No       45.0       45.0          50.0         3 - 4 hour   \n",
      "\n",
      "            study in  \n",
      "ID_studenta           \n",
      "0            Morning  \n",
      "1            Morning  \n",
      "2            Anytime  \n",
      "3            Anytime  \n",
      "4            Morning  \n",
      "...              ...  \n",
      "230          Morning  \n",
      "231          Anytime  \n",
      "232              NaN  \n",
      "233          Anytime  \n",
      "234            Night  \n",
      "\n",
      "[235 rows x 6 columns]\n"
     ]
    }
   ],
   "source": [
    "print(study)"
   ]
  },
  {
   "cell_type": "code",
   "execution_count": 151,
   "metadata": {},
   "outputs": [
    {
     "name": "stdout",
     "output_type": "stream",
     "text": [
      "     Gender Department  Height  Weight        hobbies  salary expectation  \\\n",
      "0      Male        BCA   100.0    58.0    Video Games             40000.0   \n",
      "1    Female        BCA    90.0    40.0         Cinema             15000.0   \n",
      "2      Male        BCA   159.0    78.0         Cinema             13000.0   \n",
      "3    Female        BCA   147.0    20.0  Reading books           1500000.0   \n",
      "4      Male        BCA   170.0    54.0    Video Games             50000.0   \n",
      "..      ...        ...     ...     ...            ...                 ...   \n",
      "230    Male  B.com ISM   170.0    76.0    Video Games              7000.0   \n",
      "231    Male  B.com ISM   172.0    52.0         Cinema             25000.0   \n",
      "232  Female        BCA   139.0    33.0         Cinema                 NaN   \n",
      "233  Female   Commerce   153.0    58.0         Cinema                 NaN   \n",
      "234  Female  B.com ISM   155.0    39.0         Sports                10.0   \n",
      "\n",
      "    like degree pursue a career      social media  travelling time  \\\n",
      "0            No             50%     1.30 - 2 hour  30 - 60 minutes   \n",
      "1           Yes             75%     1 - 1.30 hour   0 - 30 minutes   \n",
      "2           Yes             50%  More than 2 hour              NaN   \n",
      "3            No             50%     1.30 - 2 hour   0 - 30 minutes   \n",
      "4           Yes             25%     1.30 - 2 hour  30 - 60 minutes   \n",
      "..          ...             ...               ...              ...   \n",
      "230         Yes             50%  More than 2 hour  30 - 60 minutes   \n",
      "231         Yes             75%    30 - 60 Minute  30 - 60 minutes   \n",
      "232         Yes             50%    30 - 60 Minute    2.30 - 3 hour   \n",
      "233         Yes             75%  More than 2 hour    2.30 - 3 hour   \n",
      "234          No             75%    30 - 60 Minute    2.30 - 3 hour   \n",
      "\n",
      "    stress level  financial status part-time job Course  10th Mark  12th Mark  \\\n",
      "0             Bad              Bad            No     No       79.0       64.0   \n",
      "1             Bad              Bad            No     No       70.0       80.0   \n",
      "2           Awful              Bad            No    Yes       71.0       61.0   \n",
      "3             Bad             good            No    Yes       70.0       59.0   \n",
      "4            Good             good            No     No       40.0       65.0   \n",
      "..            ...              ...           ...    ...        ...        ...   \n",
      "230           Bad              Bad            No    Yes       72.0       67.0   \n",
      "231          Good             good            No    Yes       72.0       70.0   \n",
      "232           Bad             good            No    Yes       90.0       75.0   \n",
      "233         Awful             good            No    Yes       85.0       74.0   \n",
      "234      fabulous             good            No     No       45.0       45.0   \n",
      "\n",
      "     college mark daily studing time study in  \n",
      "0            80.0      0 - 30 minute  Morning  \n",
      "1            70.0     30 - 60 minute  Morning  \n",
      "2            55.0         1 - 2 Hour  Anytime  \n",
      "3            58.0         1 - 2 Hour  Anytime  \n",
      "4            30.0     30 - 60 minute  Morning  \n",
      "..            ...                ...      ...  \n",
      "230          65.0     30 - 60 minute  Morning  \n",
      "231          76.0         2 - 3 hour  Anytime  \n",
      "232          70.0     30 - 60 minute      NaN  \n",
      "233          75.0      0 - 30 minute  Anytime  \n",
      "234          50.0         3 - 4 hour    Night  \n",
      "\n",
      "[235 rows x 19 columns]\n"
     ]
    }
   ],
   "source": [
    "data=pd.merge(general,other,left_index=True,right_index=True)\n",
    "data=pd.merge(data,study,left_index=True,right_index=True)\n",
    "print(data)"
   ]
  },
  {
   "cell_type": "code",
   "execution_count": 152,
   "metadata": {},
   "outputs": [
    {
     "data": {
      "text/plain": [
       "(235, 19)"
      ]
     },
     "execution_count": 152,
     "metadata": {},
     "output_type": "execute_result"
    }
   ],
   "source": [
    "data.shape"
   ]
  },
  {
   "cell_type": "code",
   "execution_count": 153,
   "metadata": {},
   "outputs": [
    {
     "data": {
      "text/html": [
       "<div>\n",
       "<style scoped>\n",
       "    .dataframe tbody tr th:only-of-type {\n",
       "        vertical-align: middle;\n",
       "    }\n",
       "\n",
       "    .dataframe tbody tr th {\n",
       "        vertical-align: top;\n",
       "    }\n",
       "\n",
       "    .dataframe thead th {\n",
       "        text-align: right;\n",
       "    }\n",
       "</style>\n",
       "<table border=\"1\" class=\"dataframe\">\n",
       "  <thead>\n",
       "    <tr style=\"text-align: right;\">\n",
       "      <th></th>\n",
       "      <th>Gender</th>\n",
       "      <th>Department</th>\n",
       "      <th>Height</th>\n",
       "      <th>Weight</th>\n",
       "      <th>hobbies</th>\n",
       "      <th>salary expectation</th>\n",
       "      <th>like degree</th>\n",
       "      <th>pursue a career</th>\n",
       "      <th>social media</th>\n",
       "      <th>travelling time</th>\n",
       "      <th>stress level</th>\n",
       "      <th>financial status</th>\n",
       "      <th>part-time job</th>\n",
       "      <th>Course</th>\n",
       "      <th>10th Mark</th>\n",
       "      <th>12th Mark</th>\n",
       "      <th>college mark</th>\n",
       "      <th>daily studing time</th>\n",
       "      <th>study in</th>\n",
       "    </tr>\n",
       "  </thead>\n",
       "  <tbody>\n",
       "    <tr>\n",
       "      <th>232</th>\n",
       "      <td>Female</td>\n",
       "      <td>BCA</td>\n",
       "      <td>139.0</td>\n",
       "      <td>33.0</td>\n",
       "      <td>Cinema</td>\n",
       "      <td>NaN</td>\n",
       "      <td>Yes</td>\n",
       "      <td>50%</td>\n",
       "      <td>30 - 60 Minute</td>\n",
       "      <td>2.30 - 3 hour</td>\n",
       "      <td>Bad</td>\n",
       "      <td>good</td>\n",
       "      <td>No</td>\n",
       "      <td>Yes</td>\n",
       "      <td>90.0</td>\n",
       "      <td>75.0</td>\n",
       "      <td>70.0</td>\n",
       "      <td>30 - 60 minute</td>\n",
       "      <td>NaN</td>\n",
       "    </tr>\n",
       "    <tr>\n",
       "      <th>233</th>\n",
       "      <td>Female</td>\n",
       "      <td>Commerce</td>\n",
       "      <td>153.0</td>\n",
       "      <td>58.0</td>\n",
       "      <td>Cinema</td>\n",
       "      <td>NaN</td>\n",
       "      <td>Yes</td>\n",
       "      <td>75%</td>\n",
       "      <td>More than 2 hour</td>\n",
       "      <td>2.30 - 3 hour</td>\n",
       "      <td>Awful</td>\n",
       "      <td>good</td>\n",
       "      <td>No</td>\n",
       "      <td>Yes</td>\n",
       "      <td>85.0</td>\n",
       "      <td>74.0</td>\n",
       "      <td>75.0</td>\n",
       "      <td>0 - 30 minute</td>\n",
       "      <td>Anytime</td>\n",
       "    </tr>\n",
       "    <tr>\n",
       "      <th>234</th>\n",
       "      <td>Female</td>\n",
       "      <td>B.com ISM</td>\n",
       "      <td>155.0</td>\n",
       "      <td>39.0</td>\n",
       "      <td>Sports</td>\n",
       "      <td>10.0</td>\n",
       "      <td>No</td>\n",
       "      <td>75%</td>\n",
       "      <td>30 - 60 Minute</td>\n",
       "      <td>2.30 - 3 hour</td>\n",
       "      <td>fabulous</td>\n",
       "      <td>good</td>\n",
       "      <td>No</td>\n",
       "      <td>No</td>\n",
       "      <td>45.0</td>\n",
       "      <td>45.0</td>\n",
       "      <td>50.0</td>\n",
       "      <td>3 - 4 hour</td>\n",
       "      <td>Night</td>\n",
       "    </tr>\n",
       "  </tbody>\n",
       "</table>\n",
       "</div>"
      ],
      "text/plain": [
       "     Gender Department  Height  Weight hobbies  salary expectation  \\\n",
       "232  Female        BCA   139.0    33.0  Cinema                 NaN   \n",
       "233  Female   Commerce   153.0    58.0  Cinema                 NaN   \n",
       "234  Female  B.com ISM   155.0    39.0  Sports                10.0   \n",
       "\n",
       "    like degree pursue a career      social media travelling time  \\\n",
       "232         Yes             50%    30 - 60 Minute   2.30 - 3 hour   \n",
       "233         Yes             75%  More than 2 hour   2.30 - 3 hour   \n",
       "234          No             75%    30 - 60 Minute   2.30 - 3 hour   \n",
       "\n",
       "    stress level  financial status part-time job Course  10th Mark  12th Mark  \\\n",
       "232           Bad             good            No    Yes       90.0       75.0   \n",
       "233         Awful             good            No    Yes       85.0       74.0   \n",
       "234      fabulous             good            No     No       45.0       45.0   \n",
       "\n",
       "     college mark daily studing time study in  \n",
       "232          70.0     30 - 60 minute      NaN  \n",
       "233          75.0      0 - 30 minute  Anytime  \n",
       "234          50.0         3 - 4 hour    Night  "
      ]
     },
     "execution_count": 153,
     "metadata": {},
     "output_type": "execute_result"
    }
   ],
   "source": [
    "data.tail(3)"
   ]
  },
  {
   "cell_type": "code",
   "execution_count": 154,
   "metadata": {},
   "outputs": [
    {
     "name": "stdout",
     "output_type": "stream",
     "text": [
      "     Gender Department  Height  Weight        hobbies  salary expectation  \\\n",
      "225  Female   Commerce   164.0    43.0  Reading books             15000.0   \n",
      "226  Female   Commerce   167.0    65.0  Reading books             15000.0   \n",
      "227    Male  B.com ISM   167.0    55.0         Sports             17000.0   \n",
      "228    Male  B.com ISM   155.0    68.0         Sports               500.0   \n",
      "229  Female  B.com ISM   153.0    60.0         Sports             15000.0   \n",
      "230    Male  B.com ISM   170.0    76.0    Video Games              7000.0   \n",
      "231    Male  B.com ISM   172.0    52.0         Cinema             25000.0   \n",
      "232  Female        BCA   139.0    33.0         Cinema                 NaN   \n",
      "233  Female   Commerce   153.0    58.0         Cinema                 NaN   \n",
      "234  Female  B.com ISM   155.0    39.0         Sports                10.0   \n",
      "\n",
      "    like degree pursue a career      social media  travelling time  \\\n",
      "225         Yes            100%     1 - 30 Minute   0 - 30 minutes   \n",
      "226         Yes             75%    30 - 60 Minute  30 - 60 minutes   \n",
      "227         Yes             25%          0 Minute   0 - 30 minutes   \n",
      "228         Yes            100%     1.30 - 2 hour    1 - 1.30 hour   \n",
      "229         Yes             75%     1 - 1.30 hour   0 - 30 minutes   \n",
      "230         Yes             50%  More than 2 hour  30 - 60 minutes   \n",
      "231         Yes             75%    30 - 60 Minute  30 - 60 minutes   \n",
      "232         Yes             50%    30 - 60 Minute    2.30 - 3 hour   \n",
      "233         Yes             75%  More than 2 hour    2.30 - 3 hour   \n",
      "234          No             75%    30 - 60 Minute    2.30 - 3 hour   \n",
      "\n",
      "    stress level  financial status part-time job Course  10th Mark  12th Mark  \\\n",
      "225          Good             good            No    Yes       80.0       89.0   \n",
      "226          Good             good            No    Yes       93.0       85.0   \n",
      "227         Awful              Bad            No    Yes       55.0       57.0   \n",
      "228          Good             good            No    Yes       75.0       75.0   \n",
      "229          Good              Bad            No     No       60.0       70.0   \n",
      "230           Bad              Bad            No    Yes       72.0       67.0   \n",
      "231          Good             good            No    Yes       72.0       70.0   \n",
      "232           Bad             good            No    Yes       90.0       75.0   \n",
      "233         Awful             good            No    Yes       85.0       74.0   \n",
      "234      fabulous             good            No     No       45.0       45.0   \n",
      "\n",
      "     college mark daily studing time study in  \n",
      "225          95.0         2 - 3 hour  Morning  \n",
      "226          90.0         1 - 2 Hour    Night  \n",
      "227          60.0     30 - 60 minute  Anytime  \n",
      "228          65.0         1 - 2 Hour  Anytime  \n",
      "229          70.0         1 - 2 Hour  Anytime  \n",
      "230          65.0     30 - 60 minute  Morning  \n",
      "231          76.0         2 - 3 hour  Anytime  \n",
      "232          70.0     30 - 60 minute      NaN  \n",
      "233          75.0      0 - 30 minute  Anytime  \n",
      "234          50.0         3 - 4 hour    Night  \n"
     ]
    }
   ],
   "source": [
    "izbrani=data.tail(10)\n",
    "print(izbrani)"
   ]
  },
  {
   "cell_type": "code",
   "execution_count": 155,
   "metadata": {},
   "outputs": [
    {
     "name": "stdout",
     "output_type": "stream",
     "text": [
      "228        1 - 2 Hour\n",
      "229        1 - 2 Hour\n",
      "230    30 - 60 minute\n",
      "231        2 - 3 hour\n",
      "232    30 - 60 minute\n",
      "Name: daily studing time, dtype: object 228      500.0\n",
      "229    15000.0\n",
      "230     7000.0\n",
      "231    25000.0\n",
      "232        NaN\n",
      "Name: salary expectation, dtype: float64\n"
     ]
    }
   ],
   "source": [
    "izbrani=izbrani.iloc[3:8]\n",
    "print(izbrani[\"daily studing time\"],izbrani[\"salary expectation\"])"
   ]
  },
  {
   "cell_type": "code",
   "execution_count": 156,
   "metadata": {},
   "outputs": [
    {
     "name": "stdout",
     "output_type": "stream",
     "text": [
      "4\n"
     ]
    }
   ],
   "source": [
    "print(data[\"hobbies\"].nunique())"
   ]
  },
  {
   "cell_type": "code",
   "execution_count": 157,
   "metadata": {},
   "outputs": [
    {
     "name": "stdout",
     "output_type": "stream",
     "text": [
      "['Video Games' 'Cinema' 'Reading books' 'Sports' nan]\n"
     ]
    }
   ],
   "source": [
    "print(data[\"hobbies\"].unique())"
   ]
  },
  {
   "cell_type": "code",
   "execution_count": 158,
   "metadata": {},
   "outputs": [
    {
     "data": {
      "text/plain": [
       "Gender                 object\n",
       "Department             object\n",
       "Height                float64\n",
       "Weight                float64\n",
       "hobbies                object\n",
       "salary expectation    float64\n",
       "like degree            object\n",
       "pursue a career        object\n",
       "social media           object\n",
       "travelling time        object\n",
       "stress level           object\n",
       "financial status       object\n",
       "part-time job          object\n",
       "Course                 object\n",
       "10th Mark             float64\n",
       "12th Mark             float64\n",
       "college mark          float64\n",
       "daily studing time     object\n",
       "study in               object\n",
       "dtype: object"
      ]
     },
     "execution_count": 158,
     "metadata": {},
     "output_type": "execute_result"
    }
   ],
   "source": [
    "data.dtypes"
   ]
  },
  {
   "cell_type": "code",
   "execution_count": 159,
   "metadata": {},
   "outputs": [
    {
     "name": "stdout",
     "output_type": "stream",
     "text": [
      "Index(['Gender', 'Department', 'hobbies', 'like degree', 'pursue a career',\n",
      "       'social media', 'travelling time', 'stress level ', 'financial status',\n",
      "       'part-time job', 'Course', 'daily studing time', 'study in'],\n",
      "      dtype='object')\n"
     ]
    }
   ],
   "source": [
    "kat=data.select_dtypes(include=[\"object\"]).columns\n",
    "\n",
    "print(kat)"
   ]
  },
  {
   "cell_type": "code",
   "execution_count": 160,
   "metadata": {},
   "outputs": [
    {
     "name": "stdout",
     "output_type": "stream",
     "text": [
      "hobbies like degree\n"
     ]
    }
   ],
   "source": [
    "print(kat[2],kat[3])"
   ]
  },
  {
   "cell_type": "code",
   "execution_count": 161,
   "metadata": {},
   "outputs": [
    {
     "name": "stdout",
     "output_type": "stream",
     "text": [
      "Sports Yes\n"
     ]
    }
   ],
   "source": [
    "print(data[kat[2]].mode()[0], data[kat[3]].mode()[0])"
   ]
  },
  {
   "cell_type": "code",
   "execution_count": 162,
   "metadata": {},
   "outputs": [
    {
     "name": "stdout",
     "output_type": "stream",
     "text": [
      "0      50%\n",
      "1      75%\n",
      "2      50%\n",
      "3      50%\n",
      "4      25%\n",
      "      ... \n",
      "230    50%\n",
      "231    75%\n",
      "232    50%\n",
      "233    75%\n",
      "234    75%\n",
      "Name: pursue a career, Length: 235, dtype: object\n"
     ]
    }
   ],
   "source": [
    "\n",
    "print(data[\"pursue a career\"].replace(to_replace=\"%\",value=\"\"))"
   ]
  },
  {
   "cell_type": "code",
   "execution_count": 163,
   "metadata": {},
   "outputs": [
    {
     "name": "stdout",
     "output_type": "stream",
     "text": [
      "167    good\n",
      "Name: financial status, dtype: object\n"
     ]
    }
   ],
   "source": [
    "student=data.loc[[167]]\n",
    "print(student[\"financial status\"])"
   ]
  },
  {
   "cell_type": "code",
   "execution_count": 164,
   "metadata": {},
   "outputs": [
    {
     "name": "stdout",
     "output_type": "stream",
     "text": [
      "19\n"
     ]
    }
   ],
   "source": [
    "stud_ucenje=student[student[\"daily studing time\"]==[\"30 - 60 minute\"]]\n",
    "stud_ucenje2=student[student[\"daily studing time\"]==[\"0 - 30 minute\"]]\n",
    "#print(stud_ucenje.size)\n",
    "#print(stud_ucenje2.size)\n",
    "print(stud_ucenje.size+stud_ucenje2.size)"
   ]
  },
  {
   "cell_type": "code",
   "execution_count": 165,
   "metadata": {},
   "outputs": [],
   "source": [
    "#graf"
   ]
  },
  {
   "cell_type": "code",
   "execution_count": 166,
   "metadata": {},
   "outputs": [],
   "source": [
    "#graf"
   ]
  },
  {
   "cell_type": "code",
   "execution_count": 167,
   "metadata": {},
   "outputs": [
    {
     "name": "stdout",
     "output_type": "stream",
     "text": [
      "0        Male\n",
      "1      Female\n",
      "2        Male\n",
      "3      Female\n",
      "4        Male\n",
      "        ...  \n",
      "230      Male\n",
      "231      Male\n",
      "232    Female\n",
      "233    Female\n",
      "234    Female\n",
      "Name: Gender, Length: 235, dtype: object\n"
     ]
    }
   ],
   "source": [
    "print(data[\"Gender\"])"
   ]
  },
  {
   "cell_type": "code",
   "execution_count": 168,
   "metadata": {},
   "outputs": [
    {
     "name": "stdout",
     "output_type": "stream",
     "text": [
      "75%\n"
     ]
    }
   ],
   "source": [
    "studentke=data[data[\"Gender\"]==\"Female\"]\n",
    "print(studentke[\"pursue a career\"].mode()[0])"
   ]
  },
  {
   "cell_type": "code",
   "execution_count": 169,
   "metadata": {},
   "outputs": [
    {
     "name": "stdout",
     "output_type": "stream",
     "text": [
      "33153.340807174885\n"
     ]
    }
   ],
   "source": [
    "studenti=data[data[\"Gender\"]==\"Male\"]\n",
    "avg_placa=data[\"salary expectation\"].mean()\n",
    "print(avg_placa)"
   ]
  },
  {
   "cell_type": "code",
   "execution_count": 170,
   "metadata": {},
   "outputs": [
    {
     "name": "stdout",
     "output_type": "stream",
     "text": [
      "Teh študentov je: 380\n"
     ]
    }
   ],
   "source": [
    "izbrani=studenti[studenti[\"salary expectation\"]>=avg_placa]\n",
    "print(f\"Teh študentov je: {izbrani.size}\")"
   ]
  },
  {
   "cell_type": "code",
   "execution_count": 171,
   "metadata": {},
   "outputs": [
    {
     "data": {
      "text/plain": [
       "Gender                 0\n",
       "Department             0\n",
       "Height                 0\n",
       "Weight                 0\n",
       "hobbies                1\n",
       "salary expectation    12\n",
       "like degree            0\n",
       "pursue a career        0\n",
       "social media           0\n",
       "travelling time        8\n",
       "stress level           0\n",
       "financial status       2\n",
       "part-time job          0\n",
       "Course                 0\n",
       "10th Mark              0\n",
       "12th Mark              0\n",
       "college mark          21\n",
       "daily studing time     0\n",
       "study in              16\n",
       "dtype: int64"
      ]
     },
     "execution_count": 171,
     "metadata": {},
     "output_type": "execute_result"
    }
   ],
   "source": [
    "data.isna().sum()\n"
   ]
  },
  {
   "cell_type": "code",
   "execution_count": 172,
   "metadata": {},
   "outputs": [
    {
     "data": {
      "text/plain": [
       "Gender                 0\n",
       "Department             0\n",
       "Height                 0\n",
       "Weight                 0\n",
       "hobbies                1\n",
       "salary expectation    12\n",
       "like degree            0\n",
       "pursue a career        0\n",
       "social media           0\n",
       "travelling time        0\n",
       "stress level           0\n",
       "financial status       2\n",
       "part-time job          0\n",
       "Course                 0\n",
       "10th Mark              0\n",
       "12th Mark              0\n",
       "college mark          21\n",
       "daily studing time     0\n",
       "study in              16\n",
       "dtype: int64"
      ]
     },
     "execution_count": 172,
     "metadata": {},
     "output_type": "execute_result"
    }
   ],
   "source": [
    "data[\"travelling time\"].fillna(data[\"travelling time\"].mode()[0],inplace=True)\n",
    "data.isna().sum()"
   ]
  },
  {
   "cell_type": "code",
   "execution_count": 174,
   "metadata": {},
   "outputs": [
    {
     "data": {
      "text/plain": [
       "Gender                 0\n",
       "Department             0\n",
       "Height                 0\n",
       "Weight                 0\n",
       "hobbies                1\n",
       "salary expectation     0\n",
       "like degree            0\n",
       "pursue a career        0\n",
       "social media           0\n",
       "travelling time        0\n",
       "stress level           0\n",
       "financial status       2\n",
       "part-time job          0\n",
       "Course                 0\n",
       "10th Mark              0\n",
       "12th Mark              0\n",
       "college mark          21\n",
       "daily studing time     0\n",
       "study in              16\n",
       "dtype: int64"
      ]
     },
     "execution_count": 174,
     "metadata": {},
     "output_type": "execute_result"
    }
   ],
   "source": [
    "data[\"salary expectation\"].fillna(data[\"salary expectation\"].mean(),inplace=True)\n",
    "data.isna().sum()"
   ]
  },
  {
   "cell_type": "code",
   "execution_count": 175,
   "metadata": {},
   "outputs": [
    {
     "data": {
      "text/plain": [
       "Gender                 0\n",
       "Department             0\n",
       "Height                 0\n",
       "Weight                 0\n",
       "hobbies                1\n",
       "salary expectation     0\n",
       "like degree            0\n",
       "pursue a career        0\n",
       "social media           0\n",
       "travelling time        0\n",
       "stress level           0\n",
       "financial status       2\n",
       "part-time job          0\n",
       "Course                 0\n",
       "10th Mark              0\n",
       "12th Mark              0\n",
       "college mark           0\n",
       "daily studing time     0\n",
       "study in              16\n",
       "dtype: int64"
      ]
     },
     "execution_count": 175,
     "metadata": {},
     "output_type": "execute_result"
    }
   ],
   "source": [
    "data[\"10th Mark\"].mean()\n",
    "\n",
    "\n",
    "data[\"college mark\"].fillna((data[\"10th Mark\"].mean()+data[\"12th Mark\"].mean())/2,inplace=True)\n",
    "data.isna().sum()"
   ]
  },
  {
   "cell_type": "code",
   "execution_count": 186,
   "metadata": {},
   "outputs": [
    {
     "name": "stdout",
     "output_type": "stream",
     "text": [
      "['Morning' 'Anytime' 'Night' nan]\n"
     ]
    }
   ],
   "source": [
    "print(data[\"study in\"].unique())"
   ]
  },
  {
   "cell_type": "code",
   "execution_count": 188,
   "metadata": {},
   "outputs": [
    {
     "name": "stdout",
     "output_type": "stream",
     "text": [
      "2109\n",
      "589\n",
      "1463\n"
     ]
    }
   ],
   "source": [
    "anytime=data[data[\"study in\"]==\"Anytime\"]\n",
    "print(anytime.size)\n",
    "night=data[data[\"study in\"]==\"Night\"]\n",
    "print(night.size)\n",
    "morning=data[data[\"study in\"]==\"Morning\"]\n",
    "print(morning.size)\n",
    "#najmanj pogota je night"
   ]
  },
  {
   "cell_type": "code",
   "execution_count": 189,
   "metadata": {},
   "outputs": [
    {
     "data": {
      "text/plain": [
       "Gender                0\n",
       "Department            0\n",
       "Height                0\n",
       "Weight                0\n",
       "hobbies               1\n",
       "salary expectation    0\n",
       "like degree           0\n",
       "pursue a career       0\n",
       "social media          0\n",
       "travelling time       0\n",
       "stress level          0\n",
       "financial status      2\n",
       "part-time job         0\n",
       "Course                0\n",
       "10th Mark             0\n",
       "12th Mark             0\n",
       "college mark          0\n",
       "daily studing time    0\n",
       "study in              0\n",
       "dtype: int64"
      ]
     },
     "execution_count": 189,
     "metadata": {},
     "output_type": "execute_result"
    }
   ],
   "source": [
    "data[\"study in\"].fillna(\"Night\",inplace=True)\n",
    "data.isna().sum()"
   ]
  },
  {
   "cell_type": "code",
   "execution_count": 190,
   "metadata": {},
   "outputs": [
    {
     "data": {
      "text/plain": [
       "Gender                0\n",
       "Department            0\n",
       "Height                0\n",
       "Weight                0\n",
       "hobbies               0\n",
       "salary expectation    0\n",
       "like degree           0\n",
       "pursue a career       0\n",
       "social media          0\n",
       "travelling time       0\n",
       "stress level          0\n",
       "financial status      0\n",
       "part-time job         0\n",
       "Course                0\n",
       "10th Mark             0\n",
       "12th Mark             0\n",
       "college mark          0\n",
       "daily studing time    0\n",
       "study in              0\n",
       "dtype: int64"
      ]
     },
     "execution_count": 190,
     "metadata": {},
     "output_type": "execute_result"
    }
   ],
   "source": [
    "data=data.dropna()\n",
    "data.isna().sum()"
   ]
  },
  {
   "cell_type": "code",
   "execution_count": 191,
   "metadata": {},
   "outputs": [],
   "source": [
    "mankajoci=[\"salary expectation\",\"travelling time\",\"financial status\",\"college mark\",\"study in\"]"
   ]
  },
  {
   "cell_type": "code",
   "execution_count": 192,
   "metadata": {},
   "outputs": [
    {
     "data": {
      "text/plain": [
       "salary expectation    0\n",
       "travelling time       0\n",
       "financial status      0\n",
       "college mark          0\n",
       "study in              0\n",
       "dtype: int64"
      ]
     },
     "execution_count": 192,
     "metadata": {},
     "output_type": "execute_result"
    }
   ],
   "source": [
    "data[mankajoci].isna().sum()"
   ]
  },
  {
   "cell_type": "code",
   "execution_count": 199,
   "metadata": {},
   "outputs": [
    {
     "name": "stdout",
     "output_type": "stream",
     "text": [
      "232.0\n"
     ]
    }
   ],
   "source": [
    "print(data.size/data.columns.size)"
   ]
  },
  {
   "cell_type": "code",
   "execution_count": 200,
   "metadata": {},
   "outputs": [
    {
     "name": "stdout",
     "output_type": "stream",
     "text": [
      "0       No\n",
      "1       No\n",
      "2      Yes\n",
      "3      Yes\n",
      "4       No\n",
      "      ... \n",
      "230    Yes\n",
      "231    Yes\n",
      "232    Yes\n",
      "233    Yes\n",
      "234     No\n",
      "Name: Course, Length: 232, dtype: object\n"
     ]
    }
   ],
   "source": [
    "print(data[\"Course\"])"
   ]
  },
  {
   "cell_type": "code",
   "execution_count": null,
   "metadata": {},
   "outputs": [],
   "source": []
  },
  {
   "cell_type": "code",
   "execution_count": 201,
   "metadata": {},
   "outputs": [
    {
     "data": {
      "text/plain": [
       "Gender                2\n",
       "Department            4\n",
       "hobbies               4\n",
       "like degree           2\n",
       "pursue a career       5\n",
       "social media          6\n",
       "travelling time       7\n",
       "stress level          4\n",
       "financial status      4\n",
       "part-time job         2\n",
       "Course                2\n",
       "daily studing time    6\n",
       "study in              3\n",
       "dtype: int64"
      ]
     },
     "execution_count": 201,
     "metadata": {},
     "output_type": "execute_result"
    }
   ],
   "source": [
    "dfKlasifikacija=data.copy()\n",
    "dfRegresija=data.copy()\n",
    "\n",
    "dfRegresija[kat].nunique()"
   ]
  },
  {
   "cell_type": "code",
   "execution_count": 203,
   "metadata": {},
   "outputs": [
    {
     "data": {
      "text/plain": [
       "Gender                 object\n",
       "Department             object\n",
       "Height                float64\n",
       "Weight                float64\n",
       "hobbies                object\n",
       "salary expectation    float64\n",
       "like degree            object\n",
       "pursue a career        object\n",
       "social media           object\n",
       "travelling time        object\n",
       "stress level           object\n",
       "financial status       object\n",
       "part-time job          object\n",
       "Course                 object\n",
       "10th Mark             float64\n",
       "12th Mark             float64\n",
       "college mark          float64\n",
       "daily studing time     object\n",
       "study in               object\n",
       "dtype: object"
      ]
     },
     "execution_count": 203,
     "metadata": {},
     "output_type": "execute_result"
    }
   ],
   "source": [
    "data.dtypes"
   ]
  },
  {
   "cell_type": "code",
   "execution_count": 207,
   "metadata": {},
   "outputs": [
    {
     "data": {
      "text/plain": [
       "0           Bad\n",
       "1           Bad\n",
       "2         Awful\n",
       "3           Bad\n",
       "4          Good\n",
       "         ...   \n",
       "230         Bad\n",
       "231        Good\n",
       "232         Bad\n",
       "233       Awful\n",
       "234    fabulous\n",
       "Name: stress level , Length: 232, dtype: object"
      ]
     },
     "execution_count": 207,
     "metadata": {},
     "output_type": "execute_result"
    }
   ],
   "source": [
    "data[\"stress level \"]"
   ]
  },
  {
   "cell_type": "code",
   "execution_count": 208,
   "metadata": {},
   "outputs": [
    {
     "name": "stdout",
     "output_type": "stream",
     "text": [
      "Index(['Height', 'Weight', 'salary expectation', '10th Mark', '12th Mark',\n",
      "       'college mark'],\n",
      "      dtype='object')\n"
     ]
    }
   ],
   "source": [
    "kat_dva=[\"Gender\",\"like degree\",\"part-time job\",\"Course\"]\n",
    "kat_n=[\"Department\",\"hobbies\",\"pursue a career\",\"social media\",\"travelling time\",\"stress level \",\"financial status\",\"daily studing time\",\"study in\"]\n",
    "stev=data.select_dtypes(include=[\"float64\"]).columns\n",
    "print(stev)"
   ]
  },
  {
   "cell_type": "code",
   "execution_count": 209,
   "metadata": {},
   "outputs": [
    {
     "name": "stdout",
     "output_type": "stream",
     "text": [
      "     Gender  Department  Height  Weight  hobbies  salary expectation  \\\n",
      "0      Male           2   100.0    58.0        3        4.000000e+04   \n",
      "1    Female           2    90.0    40.0        0        1.500000e+04   \n",
      "2      Male           2   159.0    78.0        0        1.300000e+04   \n",
      "3    Female           2   147.0    20.0        1        1.500000e+06   \n",
      "4      Male           2   170.0    54.0        3        5.000000e+04   \n",
      "..      ...         ...     ...     ...      ...                 ...   \n",
      "230    Male           1   170.0    76.0        3        7.000000e+03   \n",
      "231    Male           1   172.0    52.0        0        2.500000e+04   \n",
      "232  Female           2   139.0    33.0        0        3.315334e+04   \n",
      "233  Female           3   153.0    58.0        0        3.315334e+04   \n",
      "234  Female           1   155.0    39.0        2        1.000000e+01   \n",
      "\n",
      "    like degree  pursue a career  social media  travelling time  \\\n",
      "0            No                3             3                5   \n",
      "1           Yes                4             1                0   \n",
      "2           Yes                3             5                5   \n",
      "3            No                3             3                0   \n",
      "4           Yes                2             3                5   \n",
      "..          ...              ...           ...              ...   \n",
      "230         Yes                3             5                5   \n",
      "231         Yes                4             4                5   \n",
      "232         Yes                3             4                4   \n",
      "233         Yes                4             5                4   \n",
      "234          No                4             4                4   \n",
      "\n",
      "     stress level   financial status part-time job Course  10th Mark  \\\n",
      "0                1                 1            No     No       79.0   \n",
      "1                1                 1            No     No       70.0   \n",
      "2                0                 1            No    Yes       71.0   \n",
      "3                1                 3            No    Yes       70.0   \n",
      "4                2                 3            No     No       40.0   \n",
      "..             ...               ...           ...    ...        ...   \n",
      "230              1                 1            No    Yes       72.0   \n",
      "231              2                 3            No    Yes       72.0   \n",
      "232              1                 3            No    Yes       90.0   \n",
      "233              0                 3            No    Yes       85.0   \n",
      "234              3                 3            No     No       45.0   \n",
      "\n",
      "     12th Mark  college mark  daily studing time  study in  \n",
      "0         64.0          80.0                   0         1  \n",
      "1         80.0          70.0                   4         1  \n",
      "2         61.0          55.0                   1         0  \n",
      "3         59.0          58.0                   1         0  \n",
      "4         65.0          30.0                   4         1  \n",
      "..         ...           ...                 ...       ...  \n",
      "230       67.0          65.0                   4         1  \n",
      "231       70.0          76.0                   2         0  \n",
      "232       75.0          70.0                   4         2  \n",
      "233       74.0          75.0                   0         0  \n",
      "234       45.0          50.0                   3         2  \n",
      "\n",
      "[232 rows x 19 columns]\n"
     ]
    }
   ],
   "source": [
    "from sklearn.preprocessing import LabelEncoder\n",
    "le=LabelEncoder()\n",
    "\n",
    "for col in kat_n:\n",
    "    dfKlasifikacija[col]=le.fit_transform(dfKlasifikacija[col])\n",
    "\n",
    "\n",
    "print(dfKlasifikacija)"
   ]
  },
  {
   "cell_type": "code",
   "execution_count": 210,
   "metadata": {},
   "outputs": [
    {
     "name": "stdout",
     "output_type": "stream",
     "text": [
      "     Gender  Department  Height  Weight  hobbies  salary expectation  \\\n",
      "0      Male           2   100.0    58.0        3        4.000000e+04   \n",
      "1    Female           2    90.0    40.0        0        1.500000e+04   \n",
      "2      Male           2   159.0    78.0        0        1.300000e+04   \n",
      "3    Female           2   147.0    20.0        1        1.500000e+06   \n",
      "4      Male           2   170.0    54.0        3        5.000000e+04   \n",
      "..      ...         ...     ...     ...      ...                 ...   \n",
      "230    Male           1   170.0    76.0        3        7.000000e+03   \n",
      "231    Male           1   172.0    52.0        0        2.500000e+04   \n",
      "232  Female           2   139.0    33.0        0        3.315334e+04   \n",
      "233  Female           3   153.0    58.0        0        3.315334e+04   \n",
      "234  Female           1   155.0    39.0        2        1.000000e+01   \n",
      "\n",
      "    like degree  pursue a career  social media  travelling time  \\\n",
      "0            No                3             3                5   \n",
      "1           Yes                4             1                0   \n",
      "2           Yes                3             5                5   \n",
      "3            No                3             3                0   \n",
      "4           Yes                2             3                5   \n",
      "..          ...              ...           ...              ...   \n",
      "230         Yes                3             5                5   \n",
      "231         Yes                4             4                5   \n",
      "232         Yes                3             4                4   \n",
      "233         Yes                4             5                4   \n",
      "234          No                4             4                4   \n",
      "\n",
      "     stress level   financial status part-time job Course  10th Mark  \\\n",
      "0                1                 1            No     No       79.0   \n",
      "1                1                 1            No     No       70.0   \n",
      "2                0                 1            No    Yes       71.0   \n",
      "3                1                 3            No    Yes       70.0   \n",
      "4                2                 3            No     No       40.0   \n",
      "..             ...               ...           ...    ...        ...   \n",
      "230              1                 1            No    Yes       72.0   \n",
      "231              2                 3            No    Yes       72.0   \n",
      "232              1                 3            No    Yes       90.0   \n",
      "233              0                 3            No    Yes       85.0   \n",
      "234              3                 3            No     No       45.0   \n",
      "\n",
      "     12th Mark  college mark  daily studing time  study in  \n",
      "0         64.0          80.0                   0         1  \n",
      "1         80.0          70.0                   4         1  \n",
      "2         61.0          55.0                   1         0  \n",
      "3         59.0          58.0                   1         0  \n",
      "4         65.0          30.0                   4         1  \n",
      "..         ...           ...                 ...       ...  \n",
      "230       67.0          65.0                   4         1  \n",
      "231       70.0          76.0                   2         0  \n",
      "232       75.0          70.0                   4         2  \n",
      "233       74.0          75.0                   0         0  \n",
      "234       45.0          50.0                   3         2  \n",
      "\n",
      "[232 rows x 19 columns]\n"
     ]
    }
   ],
   "source": [
    "for col in kat_n:\n",
    "    dfRegresija[col]=le.fit_transform(dfRegresija[col])\n",
    "\n",
    "print(dfRegresija)"
   ]
  },
  {
   "cell_type": "code",
   "execution_count": 213,
   "metadata": {},
   "outputs": [
    {
     "name": "stdout",
     "output_type": "stream",
     "text": [
      "     Department  Height  Weight  hobbies  salary expectation  pursue a career  \\\n",
      "0             2   100.0    58.0        3        4.000000e+04                3   \n",
      "1             2    90.0    40.0        0        1.500000e+04                4   \n",
      "2             2   159.0    78.0        0        1.300000e+04                3   \n",
      "3             2   147.0    20.0        1        1.500000e+06                3   \n",
      "4             2   170.0    54.0        3        5.000000e+04                2   \n",
      "..          ...     ...     ...      ...                 ...              ...   \n",
      "230           1   170.0    76.0        3        7.000000e+03                3   \n",
      "231           1   172.0    52.0        0        2.500000e+04                4   \n",
      "232           2   139.0    33.0        0        3.315334e+04                3   \n",
      "233           3   153.0    58.0        0        3.315334e+04                4   \n",
      "234           1   155.0    39.0        2        1.000000e+01                4   \n",
      "\n",
      "     social media  travelling time  stress level   financial status  ...  \\\n",
      "0               3                5              1                 1  ...   \n",
      "1               1                0              1                 1  ...   \n",
      "2               5                5              0                 1  ...   \n",
      "3               3                0              1                 3  ...   \n",
      "4               3                5              2                 3  ...   \n",
      "..            ...              ...            ...               ...  ...   \n",
      "230             5                5              1                 1  ...   \n",
      "231             4                5              2                 3  ...   \n",
      "232             4                4              1                 3  ...   \n",
      "233             5                4              0                 3  ...   \n",
      "234             4                4              3                 3  ...   \n",
      "\n",
      "     daily studing time  study in  Gender_Female  Gender_Male  like degree_No  \\\n",
      "0                     0         1          False         True            True   \n",
      "1                     4         1           True        False           False   \n",
      "2                     1         0          False         True           False   \n",
      "3                     1         0           True        False            True   \n",
      "4                     4         1          False         True           False   \n",
      "..                  ...       ...            ...          ...             ...   \n",
      "230                   4         1          False         True           False   \n",
      "231                   2         0          False         True           False   \n",
      "232                   4         2           True        False           False   \n",
      "233                   0         0           True        False           False   \n",
      "234                   3         2           True        False            True   \n",
      "\n",
      "     like degree_Yes  part-time job_No  part-time job_Yes  Course_No  \\\n",
      "0              False              True              False       True   \n",
      "1               True              True              False       True   \n",
      "2               True              True              False      False   \n",
      "3              False              True              False      False   \n",
      "4               True              True              False       True   \n",
      "..               ...               ...                ...        ...   \n",
      "230             True              True              False      False   \n",
      "231             True              True              False      False   \n",
      "232             True              True              False      False   \n",
      "233             True              True              False      False   \n",
      "234            False              True              False       True   \n",
      "\n",
      "     Course_Yes  \n",
      "0         False  \n",
      "1         False  \n",
      "2          True  \n",
      "3          True  \n",
      "4         False  \n",
      "..          ...  \n",
      "230        True  \n",
      "231        True  \n",
      "232        True  \n",
      "233        True  \n",
      "234       False  \n",
      "\n",
      "[232 rows x 23 columns]\n"
     ]
    }
   ],
   "source": [
    "dfKlasifikacija=pd.get_dummies(dfKlasifikacija,columns=kat_dva)\n",
    "print(dfKlasifikacija)"
   ]
  },
  {
   "cell_type": "code",
   "execution_count": 214,
   "metadata": {},
   "outputs": [
    {
     "name": "stdout",
     "output_type": "stream",
     "text": [
      "     Department  Height  Weight  hobbies  salary expectation  pursue a career  \\\n",
      "0             2   100.0    58.0        3        4.000000e+04                3   \n",
      "1             2    90.0    40.0        0        1.500000e+04                4   \n",
      "2             2   159.0    78.0        0        1.300000e+04                3   \n",
      "3             2   147.0    20.0        1        1.500000e+06                3   \n",
      "4             2   170.0    54.0        3        5.000000e+04                2   \n",
      "..          ...     ...     ...      ...                 ...              ...   \n",
      "230           1   170.0    76.0        3        7.000000e+03                3   \n",
      "231           1   172.0    52.0        0        2.500000e+04                4   \n",
      "232           2   139.0    33.0        0        3.315334e+04                3   \n",
      "233           3   153.0    58.0        0        3.315334e+04                4   \n",
      "234           1   155.0    39.0        2        1.000000e+01                4   \n",
      "\n",
      "     social media  travelling time  stress level   financial status  ...  \\\n",
      "0               3                5              1                 1  ...   \n",
      "1               1                0              1                 1  ...   \n",
      "2               5                5              0                 1  ...   \n",
      "3               3                0              1                 3  ...   \n",
      "4               3                5              2                 3  ...   \n",
      "..            ...              ...            ...               ...  ...   \n",
      "230             5                5              1                 1  ...   \n",
      "231             4                5              2                 3  ...   \n",
      "232             4                4              1                 3  ...   \n",
      "233             5                4              0                 3  ...   \n",
      "234             4                4              3                 3  ...   \n",
      "\n",
      "     daily studing time  study in  Gender_Female  Gender_Male  like degree_No  \\\n",
      "0                     0         1          False         True            True   \n",
      "1                     4         1           True        False           False   \n",
      "2                     1         0          False         True           False   \n",
      "3                     1         0           True        False            True   \n",
      "4                     4         1          False         True           False   \n",
      "..                  ...       ...            ...          ...             ...   \n",
      "230                   4         1          False         True           False   \n",
      "231                   2         0          False         True           False   \n",
      "232                   4         2           True        False           False   \n",
      "233                   0         0           True        False           False   \n",
      "234                   3         2           True        False            True   \n",
      "\n",
      "     like degree_Yes  part-time job_No  part-time job_Yes  Course_No  \\\n",
      "0              False              True              False       True   \n",
      "1               True              True              False       True   \n",
      "2               True              True              False      False   \n",
      "3              False              True              False      False   \n",
      "4               True              True              False       True   \n",
      "..               ...               ...                ...        ...   \n",
      "230             True              True              False      False   \n",
      "231             True              True              False      False   \n",
      "232             True              True              False      False   \n",
      "233             True              True              False      False   \n",
      "234            False              True              False       True   \n",
      "\n",
      "     Course_Yes  \n",
      "0         False  \n",
      "1         False  \n",
      "2          True  \n",
      "3          True  \n",
      "4         False  \n",
      "..          ...  \n",
      "230        True  \n",
      "231        True  \n",
      "232        True  \n",
      "233        True  \n",
      "234       False  \n",
      "\n",
      "[232 rows x 23 columns]\n"
     ]
    }
   ],
   "source": [
    "dfRegresija=pd.get_dummies(dfRegresija,columns=kat_dva)\n",
    "print(dfRegresija)"
   ]
  },
  {
   "cell_type": "code",
   "execution_count": 215,
   "metadata": {},
   "outputs": [
    {
     "name": "stdout",
     "output_type": "stream",
     "text": [
      "   Department  Height  Weight  hobbies  salary expectation  pursue a career  \\\n",
      "0           2   100.0    58.0        3             40000.0                3   \n",
      "1           2    90.0    40.0        0             15000.0                4   \n",
      "2           2   159.0    78.0        0             13000.0                3   \n",
      "\n",
      "   social media  travelling time  stress level   financial status  ...  \\\n",
      "0             3                5              1                 1  ...   \n",
      "1             1                0              1                 1  ...   \n",
      "2             5                5              0                 1  ...   \n",
      "\n",
      "   daily studing time  study in  Gender_Female  Gender_Male  like degree_No  \\\n",
      "0                   0         1          False         True            True   \n",
      "1                   4         1           True        False           False   \n",
      "2                   1         0          False         True           False   \n",
      "\n",
      "   like degree_Yes  part-time job_No  part-time job_Yes  Course_No  Course_Yes  \n",
      "0            False              True              False       True       False  \n",
      "1             True              True              False       True       False  \n",
      "2             True              True              False      False        True  \n",
      "\n",
      "[3 rows x 23 columns]\n"
     ]
    }
   ],
   "source": [
    "print(dfRegresija.head(3))"
   ]
  },
  {
   "cell_type": "code",
   "execution_count": 216,
   "metadata": {},
   "outputs": [
    {
     "name": "stdout",
     "output_type": "stream",
     "text": [
      "   Department  Height  Weight  hobbies  salary expectation  pursue a career  \\\n",
      "0           2   100.0    58.0        3             40000.0                3   \n",
      "1           2    90.0    40.0        0             15000.0                4   \n",
      "2           2   159.0    78.0        0             13000.0                3   \n",
      "\n",
      "   social media  travelling time  stress level   financial status  ...  \\\n",
      "0             3                5              1                 1  ...   \n",
      "1             1                0              1                 1  ...   \n",
      "2             5                5              0                 1  ...   \n",
      "\n",
      "   daily studing time  study in  Gender_Female  Gender_Male  like degree_No  \\\n",
      "0                   0         1          False         True            True   \n",
      "1                   4         1           True        False           False   \n",
      "2                   1         0          False         True           False   \n",
      "\n",
      "   like degree_Yes  part-time job_No  part-time job_Yes  Course_No  Course_Yes  \n",
      "0            False              True              False       True       False  \n",
      "1             True              True              False       True       False  \n",
      "2             True              True              False      False        True  \n",
      "\n",
      "[3 rows x 23 columns]\n"
     ]
    }
   ],
   "source": [
    "print(dfKlasifikacija.head(3))"
   ]
  },
  {
   "cell_type": "code",
   "execution_count": 217,
   "metadata": {},
   "outputs": [
    {
     "name": "stdout",
     "output_type": "stream",
     "text": [
      "     Department  Height  Weight  hobbies  salary expectation  pursue a career  \\\n",
      "0             2   100.0    58.0        3        4.000000e+04                3   \n",
      "1             2    90.0    40.0        0        1.500000e+04                4   \n",
      "2             2   159.0    78.0        0        1.300000e+04                3   \n",
      "3             2   147.0    20.0        1        1.500000e+06                3   \n",
      "4             2   170.0    54.0        3        5.000000e+04                2   \n",
      "..          ...     ...     ...      ...                 ...              ...   \n",
      "230           1   170.0    76.0        3        7.000000e+03                3   \n",
      "231           1   172.0    52.0        0        2.500000e+04                4   \n",
      "232           2   139.0    33.0        0        3.315334e+04                3   \n",
      "233           3   153.0    58.0        0        3.315334e+04                4   \n",
      "234           1   155.0    39.0        2        1.000000e+01                4   \n",
      "\n",
      "     social media  travelling time  stress level   financial status  ...  \\\n",
      "0               3                5              1                 1  ...   \n",
      "1               1                0              1                 1  ...   \n",
      "2               5                5              0                 1  ...   \n",
      "3               3                0              1                 3  ...   \n",
      "4               3                5              2                 3  ...   \n",
      "..            ...              ...            ...               ...  ...   \n",
      "230             5                5              1                 1  ...   \n",
      "231             4                5              2                 3  ...   \n",
      "232             4                4              1                 3  ...   \n",
      "233             5                4              0                 3  ...   \n",
      "234             4                4              3                 3  ...   \n",
      "\n",
      "     12th Mark  college mark  daily studing time  study in  Gender_Female  \\\n",
      "0         64.0          80.0                   0         1          False   \n",
      "1         80.0          70.0                   4         1           True   \n",
      "2         61.0          55.0                   1         0          False   \n",
      "3         59.0          58.0                   1         0           True   \n",
      "4         65.0          30.0                   4         1          False   \n",
      "..         ...           ...                 ...       ...            ...   \n",
      "230       67.0          65.0                   4         1          False   \n",
      "231       70.0          76.0                   2         0          False   \n",
      "232       75.0          70.0                   4         2           True   \n",
      "233       74.0          75.0                   0         0           True   \n",
      "234       45.0          50.0                   3         2           True   \n",
      "\n",
      "     Gender_Male  like degree_No  like degree_Yes  part-time job_No  \\\n",
      "0           True            True            False              True   \n",
      "1          False           False             True              True   \n",
      "2           True           False             True              True   \n",
      "3          False            True            False              True   \n",
      "4           True           False             True              True   \n",
      "..           ...             ...              ...               ...   \n",
      "230         True           False             True              True   \n",
      "231         True           False             True              True   \n",
      "232        False           False             True              True   \n",
      "233        False           False             True              True   \n",
      "234        False            True            False              True   \n",
      "\n",
      "     part-time job_Yes  \n",
      "0                False  \n",
      "1                False  \n",
      "2                False  \n",
      "3                False  \n",
      "4                False  \n",
      "..                 ...  \n",
      "230              False  \n",
      "231              False  \n",
      "232              False  \n",
      "233              False  \n",
      "234              False  \n",
      "\n",
      "[232 rows x 21 columns]\n"
     ]
    }
   ],
   "source": [
    "x=dfKlasifikacija.drop([\"Course_No\",\"Course_Yes\"],axis=1)\n",
    "print(x)"
   ]
  },
  {
   "cell_type": "code",
   "execution_count": 218,
   "metadata": {},
   "outputs": [
    {
     "name": "stdout",
     "output_type": "stream",
     "text": [
      "0.8709677419354839\n"
     ]
    }
   ],
   "source": [
    "y=dfKlasifikacija[\"Course_Yes\"]\n",
    "from sklearn.svm import SVC\n",
    "from sklearn.ensemble import RandomForestClassifier\n",
    "from sklearn.neighbors import KNeighborsClassifier\n",
    "from sklearn.model_selection import train_test_split\n",
    "from sklearn.metrics import recall_score\n",
    "\n",
    "rfc=RandomForestClassifier()\n",
    "knn=KNeighborsClassifier()\n",
    "svc=SVC()\n",
    "\n",
    "x_train, x_test, y_train, y_test = train_test_split(x, y, test_size=0.25, random_state=123)\n",
    "\n",
    "\n",
    "rfc.fit(x_train,y_train)\n",
    "predict_rfc=rfc.predict(x_test)\n",
    "recall_rfc=recall_score(y_test,predict_rfc)\n",
    "print(recall_rfc)"
   ]
  },
  {
   "cell_type": "code",
   "execution_count": 219,
   "metadata": {},
   "outputs": [
    {
     "name": "stdout",
     "output_type": "stream",
     "text": [
      "0.7419354838709677\n"
     ]
    }
   ],
   "source": [
    "knn.fit(x_train,y_train)\n",
    "predict_knn=knn.predict(x_test)\n",
    "recall_knn=recall_score(y_test,predict_knn)\n",
    "print(recall_knn)"
   ]
  },
  {
   "cell_type": "code",
   "execution_count": 221,
   "metadata": {},
   "outputs": [
    {
     "name": "stdout",
     "output_type": "stream",
     "text": [
      "1.0\n"
     ]
    }
   ],
   "source": [
    "svc.fit(x_train,y_train)\n",
    "predict_svc=svc.predict(x_test)\n",
    "recall_svc=recall_score(y_test,predict_svc)\n",
    "print(recall_svc)"
   ]
  },
  {
   "cell_type": "code",
   "execution_count": 223,
   "metadata": {},
   "outputs": [
    {
     "data": {
      "text/plain": [
       "0      80.0\n",
       "1      70.0\n",
       "2      55.0\n",
       "3      58.0\n",
       "4      30.0\n",
       "       ... \n",
       "230    65.0\n",
       "231    76.0\n",
       "232    70.0\n",
       "233    75.0\n",
       "234    50.0\n",
       "Name: college mark, Length: 232, dtype: float64"
      ]
     },
     "execution_count": 223,
     "metadata": {},
     "output_type": "execute_result"
    }
   ],
   "source": [
    "dfKlasifikacija[\"college mark\"]"
   ]
  },
  {
   "cell_type": "code",
   "execution_count": 224,
   "metadata": {},
   "outputs": [
    {
     "name": "stdout",
     "output_type": "stream",
     "text": [
      "     Department  Height  Weight  salary expectation  pursue a career  \\\n",
      "0             2   100.0    58.0        4.000000e+04                3   \n",
      "1             2    90.0    40.0        1.500000e+04                4   \n",
      "2             2   159.0    78.0        1.300000e+04                3   \n",
      "3             2   147.0    20.0        1.500000e+06                3   \n",
      "4             2   170.0    54.0        5.000000e+04                2   \n",
      "..          ...     ...     ...                 ...              ...   \n",
      "230           1   170.0    76.0        7.000000e+03                3   \n",
      "231           1   172.0    52.0        2.500000e+04                4   \n",
      "232           2   139.0    33.0        3.315334e+04                3   \n",
      "233           3   153.0    58.0        3.315334e+04                4   \n",
      "234           1   155.0    39.0        1.000000e+01                4   \n",
      "\n",
      "     social media  travelling time  stress level   financial status  \\\n",
      "0               3                5              1                 1   \n",
      "1               1                0              1                 1   \n",
      "2               5                5              0                 1   \n",
      "3               3                0              1                 3   \n",
      "4               3                5              2                 3   \n",
      "..            ...              ...            ...               ...   \n",
      "230             5                5              1                 1   \n",
      "231             4                5              2                 3   \n",
      "232             4                4              1                 3   \n",
      "233             5                4              0                 3   \n",
      "234             4                4              3                 3   \n",
      "\n",
      "     10th Mark  12th Mark  daily studing time  study in  Gender_Female  \\\n",
      "0         79.0       64.0                   0         1          False   \n",
      "1         70.0       80.0                   4         1           True   \n",
      "2         71.0       61.0                   1         0          False   \n",
      "3         70.0       59.0                   1         0           True   \n",
      "4         40.0       65.0                   4         1          False   \n",
      "..         ...        ...                 ...       ...            ...   \n",
      "230       72.0       67.0                   4         1          False   \n",
      "231       72.0       70.0                   2         0          False   \n",
      "232       90.0       75.0                   4         2           True   \n",
      "233       85.0       74.0                   0         0           True   \n",
      "234       45.0       45.0                   3         2           True   \n",
      "\n",
      "     Gender_Male  like degree_No  like degree_Yes  part-time job_No  \\\n",
      "0           True            True            False              True   \n",
      "1          False           False             True              True   \n",
      "2           True           False             True              True   \n",
      "3          False            True            False              True   \n",
      "4           True           False             True              True   \n",
      "..           ...             ...              ...               ...   \n",
      "230         True           False             True              True   \n",
      "231         True           False             True              True   \n",
      "232        False           False             True              True   \n",
      "233        False           False             True              True   \n",
      "234        False            True            False              True   \n",
      "\n",
      "     part-time job_Yes  \n",
      "0                False  \n",
      "1                False  \n",
      "2                False  \n",
      "3                False  \n",
      "4                False  \n",
      "..                 ...  \n",
      "230              False  \n",
      "231              False  \n",
      "232              False  \n",
      "233              False  \n",
      "234              False  \n",
      "\n",
      "[232 rows x 19 columns]\n"
     ]
    }
   ],
   "source": [
    "x=dfKlasifikacija.drop([\"Course_No\",\"Course_Yes\",\"hobbies\",\"college mark\"],axis=1)\n",
    "print(x)"
   ]
  },
  {
   "cell_type": "code",
   "execution_count": 225,
   "metadata": {},
   "outputs": [
    {
     "name": "stdout",
     "output_type": "stream",
     "text": [
      "0.8709677419354839\n"
     ]
    }
   ],
   "source": [
    "y=dfKlasifikacija[\"Course_Yes\"]\n",
    "from sklearn.svm import SVC\n",
    "from sklearn.ensemble import RandomForestClassifier\n",
    "from sklearn.neighbors import KNeighborsClassifier\n",
    "from sklearn.model_selection import train_test_split\n",
    "from sklearn.metrics import recall_score\n",
    "\n",
    "rfc_1=RandomForestClassifier()\n",
    "knn_1=KNeighborsClassifier()\n",
    "svc_1=SVC()\n",
    "\n",
    "x_train, x_test, y_train, y_test = train_test_split(x, y, test_size=0.25, random_state=123)\n",
    "\n",
    "\n",
    "rfc_1.fit(x_train,y_train)\n",
    "predict_rfc_1=rfc_1.predict(x_test)\n",
    "recall_rfc_1=recall_score(y_test,predict_rfc_1)\n",
    "print(recall_rfc_1)"
   ]
  },
  {
   "cell_type": "code",
   "execution_count": 226,
   "metadata": {},
   "outputs": [
    {
     "name": "stdout",
     "output_type": "stream",
     "text": [
      "0.7096774193548387\n"
     ]
    }
   ],
   "source": [
    "knn_1.fit(x_train,y_train)\n",
    "predict_knn_1=knn_1.predict(x_test)\n",
    "recall_knn_1=recall_score(y_test,predict_knn_1)\n",
    "print(recall_knn_1)"
   ]
  },
  {
   "cell_type": "code",
   "execution_count": 227,
   "metadata": {},
   "outputs": [
    {
     "name": "stdout",
     "output_type": "stream",
     "text": [
      "1.0\n"
     ]
    }
   ],
   "source": [
    "svc_1.fit(x_train,y_train)\n",
    "predict_svc_1=svc_1.predict(x_test)\n",
    "recall_svc_1=recall_score(y_test,predict_svc_1)\n",
    "print(recall_svc_1)"
   ]
  },
  {
   "cell_type": "code",
   "execution_count": 229,
   "metadata": {},
   "outputs": [
    {
     "name": "stdout",
     "output_type": "stream",
     "text": [
      "{'RFC1': 0.8709677419354839, 'KNN1': 0.7419354838709677, 'SVC1': 1.0, 'RFC2': 0.8709677419354839, 'KNN2': 0.7096774193548387, 'SVC2': 1.0}\n"
     ]
    }
   ],
   "source": [
    "rezultati={\"RFC1\":recall_rfc,\"KNN1\":recall_knn,\"SVC1\":recall_svc,\"RFC2\":recall_rfc_1,\"KNN2\":recall_knn_1,\"SVC2\":recall_svc_1}\n",
    "print(rezultati)"
   ]
  },
  {
   "cell_type": "code",
   "execution_count": 231,
   "metadata": {},
   "outputs": [
    {
     "data": {
      "text/plain": [
       "<Axes: >"
      ]
     },
     "execution_count": 231,
     "metadata": {},
     "output_type": "execute_result"
    },
    {
     "data": {
      "image/png": "[encoded data removed]",
      "text/plain": [
       "<Figure size 640x480 with 1 Axes>"
      ]
     },
     "metadata": {},
     "output_type": "display_data"
    }
   ],
   "source": [
    "import seaborn as sns\n",
    "imena_prej=[\"RFC\",\"KNN\",\"svc\"]\n",
    "prej=[recall_rfc,recall_knn,recall_svc]\n",
    "sns.barplot(x=prej,y=imena_prej)"
   ]
  },
  {
   "cell_type": "code",
   "execution_count": 232,
   "metadata": {},
   "outputs": [
    {
     "data": {
      "text/plain": [
       "<Axes: >"
      ]
     },
     "execution_count": 232,
     "metadata": {},
     "output_type": "execute_result"
    },
    {
     "data": {
      "image/png": "[encoded data removed]",
      "text/plain": [
       "<Figure size 640x480 with 1 Axes>"
      ]
     },
     "metadata": {},
     "output_type": "display_data"
    }
   ],
   "source": [
    "pol=[recall_rfc_1,recall_knn_1,recall_svc_1]\n",
    "sns.barplot(x=pol,y=imena_prej)"
   ]
  },
  {
   "cell_type": "code",
   "execution_count": 233,
   "metadata": {},
   "outputs": [
    {
     "data": {
      "text/plain": [
       "<Axes: >"
      ]
     },
     "execution_count": 233,
     "metadata": {},
     "output_type": "execute_result"
    },
    {
     "data": {
      "image/png": "[encoded data removed]",
      "text/plain": [
       "<Figure size 640x480 with 1 Axes>"
      ]
     },
     "metadata": {},
     "output_type": "display_data"
    }
   ],
   "source": [
    "imena_prej=[\"RFC\",\"KNN\",\"svc\",\"RFC_pol\",\"KNN_pol\",\"svc_pol\"]\n",
    "\n",
    "pol=[recall_rfc,recall_knn,recall_svc,recall_rfc_1,recall_knn_1,recall_svc_1]\n",
    "sns.barplot(x=pol,y=imena_prej)"
   ]
  },
  {
   "cell_type": "code",
   "execution_count": null,
   "metadata": {},
   "outputs": [],
   "source": [
    "#najslabsi je knn"
   ]
  },
  {
   "cell_type": "code",
   "execution_count": 234,
   "metadata": {},
   "outputs": [
    {
     "name": "stdout",
     "output_type": "stream",
     "text": [
      "{'algorithm': 'auto', 'n_neighbors': 3, 'p': 6} 0.6120689655172413\n"
     ]
    }
   ],
   "source": [
    "from sklearn.model_selection import GridSearchCV, StratifiedKFold\n",
    "x=dfKlasifikacija.drop([\"Course_No\",\"Course_Yes\",\"hobbies\",\"college mark\"],axis=1)\n",
    "y=dfKlasifikacija[\"Course_Yes\"]\n",
    "knn=KNeighborsClassifier()\n",
    "cv=StratifiedKFold(n_splits=4)\n",
    "params={\"n_neighbors\":[1,3,5],\n",
    "        \"p\": [2,4,6],\n",
    "        \"algorithm\":[\"auto\", \"ball_tree\", \"kd_tree\"]}\n",
    "\n",
    "grid_knn=GridSearchCV(knn,param_grid=params,cv=cv,scoring=\"accuracy\")\n",
    "grid_knn.fit(x,y)\n",
    "\n",
    "print(grid_knn.best_params_,grid_knn.best_score_)"
   ]
  },
  {
   "cell_type": "code",
   "execution_count": 235,
   "metadata": {},
   "outputs": [
    {
     "name": "stdout",
     "output_type": "stream",
     "text": [
      "Department              int32\n",
      "Height                float64\n",
      "Weight                float64\n",
      "hobbies                 int32\n",
      "salary expectation    float64\n",
      "pursue a career         int32\n",
      "social media            int32\n",
      "travelling time         int32\n",
      "stress level            int32\n",
      "financial status        int32\n",
      "10th Mark             float64\n",
      "12th Mark             float64\n",
      "college mark          float64\n",
      "daily studing time      int32\n",
      "study in                int32\n",
      "Gender_Female            bool\n",
      "Gender_Male              bool\n",
      "like degree_No           bool\n",
      "like degree_Yes          bool\n",
      "part-time job_No         bool\n",
      "part-time job_Yes        bool\n",
      "Course_No                bool\n",
      "Course_Yes               bool\n",
      "dtype: object\n"
     ]
    }
   ],
   "source": [
    "print(dfRegresija.dtypes)"
   ]
  },
  {
   "cell_type": "code",
   "execution_count": null,
   "metadata": {},
   "outputs": [],
   "source": [
    "df"
   ]
  },
  {
   "cell_type": "code",
   "execution_count": 241,
   "metadata": {},
   "outputs": [
    {
     "name": "stdout",
     "output_type": "stream",
     "text": [
      "629701619.7933533\n",
      "33606606.8970073\n"
     ]
    }
   ],
   "source": [
    "from sklearn.neighbors import KNeighborsRegressor\n",
    "from sklearn.ensemble import RandomForestRegressor\n",
    "from sklearn.metrics import mean_squared_error\n",
    "\n",
    "x=dfRegresija.drop([\"salary expectation\", \"Gender_Male\",\"Gender_Female\"],axis=1)\n",
    "y=dfRegresija[\"salary expectation\"]\n",
    "\n",
    "cv=StratifiedKFold(n_splits=6)\n",
    "knn=KNeighborsRegressor()\n",
    "rf=RandomForestRegressor()\n",
    "# nenajdem importa zdle\n",
    "grid_knn_r=GridSearchCV(knn,param_grid=params,cv=cv,scoring=\"accuracy\")\n",
    "rfc=GridSearchCV(rf,param_grid=params,cv=cv,scoring=\"accuracy\")\n",
    "x_train, x_test, y_train, y_test = train_test_split(x, y, test_size=0.25, random_state=123)\n",
    "knn.fit(x,y)\n",
    "pred=knn.predict(x_test)\n",
    "mean=mean_squared_error(y_test,pred)\n",
    "print(mean)\n",
    "\n",
    "rf.fit(x,y)\n",
    "pred=rf.predict(x_test)\n",
    "mean=mean_squared_error(y_test,pred)\n",
    "print(mean)"
   ]
  }
 ],
 "metadata": {
  "kernelspec": {
   "display_name": "base",
   "language": "python",
   "name": "python3"
  },
  "language_info": {
   "codemirror_mode": {
    "name": "ipython",
    "version": 3
   },
   "file_extension": ".py",
   "mimetype": "text/x-python",
   "name": "python",
   "nbconvert_exporter": "python",
   "pygments_lexer": "ipython3",
   "version": "3.11.5"
  }
 },
 "nbformat": 4,
 "nbformat_minor": 2
}
